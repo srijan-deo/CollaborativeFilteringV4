{
 "cells": [
  {
   "cell_type": "code",
   "id": "initial_id",
   "metadata": {
    "collapsed": true,
    "ExecuteTime": {
     "end_time": "2025-10-27T15:13:11.775203Z",
     "start_time": "2025-10-27T15:13:11.578153Z"
    }
   },
   "source": [
    "import pandas as pd\n",
    "import os"
   ],
   "outputs": [],
   "execution_count": 1
  },
  {
   "metadata": {},
   "cell_type": "markdown",
   "source": "### Active bidders preprocessing",
   "id": "d523abd58315329c"
  },
  {
   "metadata": {
    "ExecuteTime": {
     "end_time": "2025-10-27T15:15:27.813590Z",
     "start_time": "2025-10-27T15:15:25.692812Z"
    }
   },
   "cell_type": "code",
   "source": [
    "active_buyers = pd.read_csv('../data/raw/active_buyers.csv')\n",
    "active_buyers.head()"
   ],
   "id": "ec17017aeed779c9",
   "outputs": [
    {
     "data": {
      "text/plain": [
       "  mbr_lic_type mbr_state   lot_nbr  buyer_nbr                      mbr_email  \\\n",
       "0     Consumer        NV  66043575     720911             zdemian0@gmail.com   \n",
       "1       Dealer        SD  64790825      67677               swish@itctel.com   \n",
       "2     Consumer        AK  62290835     600349  dwightgrossnickle10@gmail.com   \n",
       "3       Dealer        NH  68126475     514361        allan_kouba@hotmail.com   \n",
       "4       Dealer        NH  65413175     219425             realdz1969@aol.com   \n",
       "\n",
       "   max_bid      inv_dt  lot_year lot_make_cd grp_model      acv  plug_lot_acv  \\\n",
       "0   1300.0  2025-08-08      2014        HYUN    SONATA    325.0        7350.0   \n",
       "1   2450.0  2025-08-18      2017        CHEV     CRUZE  13001.0       11000.0   \n",
       "2     20.0  2025-08-06      2016        CHEV   EQUINOX   7220.0        8550.0   \n",
       "3   9300.0  2025-09-11      2014         BMW        X5      0.0       10475.0   \n",
       "4    275.0  2025-09-02      2011        FORD    TAURUS   7022.0        5525.0   \n",
       "\n",
       "   repair_cost  total_unique_buyers_on_that_lot  \\\n",
       "0         0.00                               12   \n",
       "1     10252.00                                5   \n",
       "2      6849.00                                8   \n",
       "3         0.00                               10   \n",
       "4      7563.73                                4   \n",
       "\n",
       "   total_unique_lots_bid_by_buyers  \n",
       "0                                1  \n",
       "1                               20  \n",
       "2                              295  \n",
       "3                              946  \n",
       "4                             2798  "
      ],
      "text/html": [
       "<div>\n",
       "<style scoped>\n",
       "    .dataframe tbody tr th:only-of-type {\n",
       "        vertical-align: middle;\n",
       "    }\n",
       "\n",
       "    .dataframe tbody tr th {\n",
       "        vertical-align: top;\n",
       "    }\n",
       "\n",
       "    .dataframe thead th {\n",
       "        text-align: right;\n",
       "    }\n",
       "</style>\n",
       "<table border=\"1\" class=\"dataframe\">\n",
       "  <thead>\n",
       "    <tr style=\"text-align: right;\">\n",
       "      <th></th>\n",
       "      <th>mbr_lic_type</th>\n",
       "      <th>mbr_state</th>\n",
       "      <th>lot_nbr</th>\n",
       "      <th>buyer_nbr</th>\n",
       "      <th>mbr_email</th>\n",
       "      <th>max_bid</th>\n",
       "      <th>inv_dt</th>\n",
       "      <th>lot_year</th>\n",
       "      <th>lot_make_cd</th>\n",
       "      <th>grp_model</th>\n",
       "      <th>acv</th>\n",
       "      <th>plug_lot_acv</th>\n",
       "      <th>repair_cost</th>\n",
       "      <th>total_unique_buyers_on_that_lot</th>\n",
       "      <th>total_unique_lots_bid_by_buyers</th>\n",
       "    </tr>\n",
       "  </thead>\n",
       "  <tbody>\n",
       "    <tr>\n",
       "      <th>0</th>\n",
       "      <td>Consumer</td>\n",
       "      <td>NV</td>\n",
       "      <td>66043575</td>\n",
       "      <td>720911</td>\n",
       "      <td>zdemian0@gmail.com</td>\n",
       "      <td>1300.0</td>\n",
       "      <td>2025-08-08</td>\n",
       "      <td>2014</td>\n",
       "      <td>HYUN</td>\n",
       "      <td>SONATA</td>\n",
       "      <td>325.0</td>\n",
       "      <td>7350.0</td>\n",
       "      <td>0.00</td>\n",
       "      <td>12</td>\n",
       "      <td>1</td>\n",
       "    </tr>\n",
       "    <tr>\n",
       "      <th>1</th>\n",
       "      <td>Dealer</td>\n",
       "      <td>SD</td>\n",
       "      <td>64790825</td>\n",
       "      <td>67677</td>\n",
       "      <td>swish@itctel.com</td>\n",
       "      <td>2450.0</td>\n",
       "      <td>2025-08-18</td>\n",
       "      <td>2017</td>\n",
       "      <td>CHEV</td>\n",
       "      <td>CRUZE</td>\n",
       "      <td>13001.0</td>\n",
       "      <td>11000.0</td>\n",
       "      <td>10252.00</td>\n",
       "      <td>5</td>\n",
       "      <td>20</td>\n",
       "    </tr>\n",
       "    <tr>\n",
       "      <th>2</th>\n",
       "      <td>Consumer</td>\n",
       "      <td>AK</td>\n",
       "      <td>62290835</td>\n",
       "      <td>600349</td>\n",
       "      <td>dwightgrossnickle10@gmail.com</td>\n",
       "      <td>20.0</td>\n",
       "      <td>2025-08-06</td>\n",
       "      <td>2016</td>\n",
       "      <td>CHEV</td>\n",
       "      <td>EQUINOX</td>\n",
       "      <td>7220.0</td>\n",
       "      <td>8550.0</td>\n",
       "      <td>6849.00</td>\n",
       "      <td>8</td>\n",
       "      <td>295</td>\n",
       "    </tr>\n",
       "    <tr>\n",
       "      <th>3</th>\n",
       "      <td>Dealer</td>\n",
       "      <td>NH</td>\n",
       "      <td>68126475</td>\n",
       "      <td>514361</td>\n",
       "      <td>allan_kouba@hotmail.com</td>\n",
       "      <td>9300.0</td>\n",
       "      <td>2025-09-11</td>\n",
       "      <td>2014</td>\n",
       "      <td>BMW</td>\n",
       "      <td>X5</td>\n",
       "      <td>0.0</td>\n",
       "      <td>10475.0</td>\n",
       "      <td>0.00</td>\n",
       "      <td>10</td>\n",
       "      <td>946</td>\n",
       "    </tr>\n",
       "    <tr>\n",
       "      <th>4</th>\n",
       "      <td>Dealer</td>\n",
       "      <td>NH</td>\n",
       "      <td>65413175</td>\n",
       "      <td>219425</td>\n",
       "      <td>realdz1969@aol.com</td>\n",
       "      <td>275.0</td>\n",
       "      <td>2025-09-02</td>\n",
       "      <td>2011</td>\n",
       "      <td>FORD</td>\n",
       "      <td>TAURUS</td>\n",
       "      <td>7022.0</td>\n",
       "      <td>5525.0</td>\n",
       "      <td>7563.73</td>\n",
       "      <td>4</td>\n",
       "      <td>2798</td>\n",
       "    </tr>\n",
       "  </tbody>\n",
       "</table>\n",
       "</div>"
      ]
     },
     "execution_count": 13,
     "metadata": {},
     "output_type": "execute_result"
    }
   ],
   "execution_count": 13
  },
  {
   "metadata": {
    "ExecuteTime": {
     "end_time": "2025-10-27T15:15:28.606180Z",
     "start_time": "2025-10-27T15:15:28.603629Z"
    }
   },
   "cell_type": "code",
   "source": "active_buyers.shape",
   "id": "fc094eb8e56e7c6c",
   "outputs": [
    {
     "data": {
      "text/plain": [
       "(3833551, 15)"
      ]
     },
     "execution_count": 14,
     "metadata": {},
     "output_type": "execute_result"
    }
   ],
   "execution_count": 14
  },
  {
   "metadata": {
    "ExecuteTime": {
     "end_time": "2025-10-27T15:15:29.584106Z",
     "start_time": "2025-10-27T15:15:29.273809Z"
    }
   },
   "cell_type": "code",
   "source": "active_buyers.isnull().sum()",
   "id": "e4834466804f6aa6",
   "outputs": [
    {
     "data": {
      "text/plain": [
       "mbr_lic_type                        14377\n",
       "mbr_state                               0\n",
       "lot_nbr                                 0\n",
       "buyer_nbr                               0\n",
       "mbr_email                               0\n",
       "max_bid                                 0\n",
       "inv_dt                                  0\n",
       "lot_year                                0\n",
       "lot_make_cd                             0\n",
       "grp_model                          103716\n",
       "acv                                     0\n",
       "plug_lot_acv                            0\n",
       "repair_cost                             0\n",
       "total_unique_buyers_on_that_lot         0\n",
       "total_unique_lots_bid_by_buyers         0\n",
       "dtype: int64"
      ]
     },
     "execution_count": 15,
     "metadata": {},
     "output_type": "execute_result"
    }
   ],
   "execution_count": 15
  },
  {
   "metadata": {},
   "cell_type": "markdown",
   "source": [
    "### Missing value imputations based on:\n",
    "1. mbr lic type: Mode\n",
    "2. mbr state: Mode\n",
    "3. grp model : Mode within year and make"
   ],
   "id": "7badf72f04dca32f"
  },
  {
   "metadata": {
    "ExecuteTime": {
     "end_time": "2025-10-27T15:15:30.787134Z",
     "start_time": "2025-10-27T15:15:30.784539Z"
    }
   },
   "cell_type": "code",
   "source": [
    "def _fill_grp_model_year_make(group: pd.DataFrame) -> pd.DataFrame:\n",
    "    \"\"\"Helper: fill grp_model within (lot_year, lot_make_cd).\"\"\"\n",
    "    mode_val = group['grp_model'].mode()\n",
    "    if not mode_val.empty:\n",
    "        group['grp_model'] = group['grp_model'].fillna(mode_val[0])\n",
    "    return group\n",
    "\n",
    "def _fill_grp_model_make(group: pd.DataFrame) -> pd.DataFrame:\n",
    "    \"\"\"Helper: fill grp_model within lot_make_cd.\"\"\"\n",
    "    mode_val = group['grp_model'].mode()\n",
    "    if not mode_val.empty:\n",
    "        group['grp_model'] = group['grp_model'].fillna(mode_val[0])\n",
    "    return group\n",
    "\n",
    "def fill_missing_grp_model(df: pd.DataFrame) -> pd.DataFrame:\n",
    "    \"\"\"\n",
    "    Fill missing 'grp_model' using hierarchical mode logic:\n",
    "    1. Within (lot_year, lot_make_cd)\n",
    "    2. Within (lot_make_cd)\n",
    "    3. Drop remaining rows where grp_model is still NaN\n",
    "    \"\"\"\n",
    "    df = df.groupby(['lot_year', 'lot_make_cd'], group_keys=False).apply(_fill_grp_model_year_make)\n",
    "    df = df.groupby(['lot_make_cd'], group_keys=False).apply(_fill_grp_model_make)\n",
    "    df = df.dropna(subset=['grp_model'])\n",
    "    return df"
   ],
   "id": "a9fad903f5dfc797",
   "outputs": [],
   "execution_count": 16
  },
  {
   "metadata": {
    "ExecuteTime": {
     "end_time": "2025-10-27T15:15:30.988444Z",
     "start_time": "2025-10-27T15:15:30.986428Z"
    }
   },
   "cell_type": "code",
   "source": [
    "def clean_active_buyers(df: pd.DataFrame) -> pd.DataFrame:\n",
    "\n",
    "    df['mbr_lic_type'] = df['mbr_lic_type'].fillna(df['mbr_lic_type'].mode()[0])\n",
    "    df['mbr_state'] = df['mbr_state'].fillna(df['mbr_state'].mode()[0])\n",
    "    df['mbr_lic_type'] = df['mbr_lic_type'].replace('Automotive Related Business', 'General Business')\n",
    "\n",
    "    df = df.groupby(['lot_year', 'lot_make_cd'], group_keys=False).apply(_fill_grp_model_year_make)\n",
    "    df = df.groupby(['lot_make_cd'], group_keys=False).apply(_fill_grp_model_make)\n",
    "    df = df.dropna(subset=['grp_model'])\n",
    "\n",
    "    df['acv'] = df['acv'].mask(df['acv']<=0, df['plug_lot_acv'])\n",
    "\n",
    "    return df"
   ],
   "id": "cda01fd850df8bad",
   "outputs": [],
   "execution_count": 17
  },
  {
   "metadata": {
    "ExecuteTime": {
     "end_time": "2025-10-27T15:15:35.277702Z",
     "start_time": "2025-10-27T15:15:32.045070Z"
    }
   },
   "cell_type": "code",
   "source": "active_buyers = clean_active_buyers(active_buyers)",
   "id": "d36b6c09f58400f8",
   "outputs": [
    {
     "name": "stderr",
     "output_type": "stream",
     "text": [
      "/var/folders/jj/1fql_rw17h10wm_w98gwx9wm0000gq/T/ipykernel_84023/4247816291.py:7: DeprecationWarning: DataFrameGroupBy.apply operated on the grouping columns. This behavior is deprecated, and in a future version of pandas the grouping columns will be excluded from the operation. Either pass `include_groups=False` to exclude the groupings or explicitly select the grouping columns after groupby to silence this warning.\n",
      "  df = df.groupby(['lot_year', 'lot_make_cd'], group_keys=False).apply(_fill_grp_model_year_make)\n",
      "/var/folders/jj/1fql_rw17h10wm_w98gwx9wm0000gq/T/ipykernel_84023/4247816291.py:8: DeprecationWarning: DataFrameGroupBy.apply operated on the grouping columns. This behavior is deprecated, and in a future version of pandas the grouping columns will be excluded from the operation. Either pass `include_groups=False` to exclude the groupings or explicitly select the grouping columns after groupby to silence this warning.\n",
      "  df = df.groupby(['lot_make_cd'], group_keys=False).apply(_fill_grp_model_make)\n"
     ]
    }
   ],
   "execution_count": 18
  },
  {
   "metadata": {
    "ExecuteTime": {
     "end_time": "2025-10-27T15:15:36.041450Z",
     "start_time": "2025-10-27T15:15:36.034716Z"
    }
   },
   "cell_type": "code",
   "source": "active_buyers",
   "id": "df123b9bd271cb8e",
   "outputs": [
    {
     "data": {
      "text/plain": [
       "        mbr_lic_type mbr_state   lot_nbr  buyer_nbr  \\\n",
       "0           Consumer        NV  66043575     720911   \n",
       "1             Dealer        SD  64790825      67677   \n",
       "2           Consumer        AK  62290835     600349   \n",
       "3             Dealer        NH  68126475     514361   \n",
       "4             Dealer        NH  65413175     219425   \n",
       "...              ...       ...       ...        ...   \n",
       "3833546       Dealer        MA  59103975     396746   \n",
       "3833547   Dismantler        TN  65029795     764700   \n",
       "3833548   Dismantler        TN  70660125     489065   \n",
       "3833549   Dismantler        AL  80331235     506597   \n",
       "3833550   Dismantler        AL  70549705     380853   \n",
       "\n",
       "                                  mbr_email  max_bid      inv_dt  lot_year  \\\n",
       "0                        zdemian0@gmail.com   1300.0  2025-08-08      2014   \n",
       "1                          swish@itctel.com   2450.0  2025-08-18      2017   \n",
       "2             dwightgrossnickle10@gmail.com     20.0  2025-08-06      2016   \n",
       "3                   allan_kouba@hotmail.com   9300.0  2025-09-11      2014   \n",
       "4                        realdz1969@aol.com    275.0  2025-09-02      2011   \n",
       "...                                     ...      ...         ...       ...   \n",
       "3833546        phillip.messina577@gmail.com   4250.0  2025-08-19      2017   \n",
       "3833547  rhonda.colding@roadtestedparts.com   3100.0  2025-08-05      2013   \n",
       "3833548                   bobmcap@yahoo.com   1300.0  2025-10-06      2003   \n",
       "3833549        sabinomotors2015@hotmail.com    300.0  2025-09-22      2015   \n",
       "3833550               jdorris1977@gmail.com   3650.0  2025-10-02      2011   \n",
       "\n",
       "        lot_make_cd grp_model      acv  plug_lot_acv  repair_cost  \\\n",
       "0              HYUN    SONATA    325.0        7350.0         0.00   \n",
       "1              CHEV     CRUZE  13001.0       11000.0     10252.00   \n",
       "2              CHEV   EQUINOX   7220.0        8550.0      6849.00   \n",
       "3               BMW        X5  10475.0       10475.0         0.00   \n",
       "4              FORD    TAURUS   7022.0        5525.0      7563.73   \n",
       "...             ...       ...      ...           ...          ...   \n",
       "3833546         JEP  WRANGLER  19173.0       23200.0     14798.21   \n",
       "3833547         JEP  WRANGLER  13422.0       12775.0     12069.54   \n",
       "3833548         JEP  WRANGLER   6942.0           0.0      6772.00   \n",
       "3833549         JEP  WRANGLER  18277.0       13125.0     29417.39   \n",
       "3833550         JEP  WRANGLER   8286.0        8925.0      8743.58   \n",
       "\n",
       "         total_unique_buyers_on_that_lot  total_unique_lots_bid_by_buyers  \n",
       "0                                     12                                1  \n",
       "1                                      5                               20  \n",
       "2                                      8                              295  \n",
       "3                                     10                              946  \n",
       "4                                      4                             2798  \n",
       "...                                  ...                              ...  \n",
       "3833546                                7                              286  \n",
       "3833547                                4                             5445  \n",
       "3833548                                7                              191  \n",
       "3833549                                6                              287  \n",
       "3833550                                6                              219  \n",
       "\n",
       "[3831502 rows x 15 columns]"
      ],
      "text/html": [
       "<div>\n",
       "<style scoped>\n",
       "    .dataframe tbody tr th:only-of-type {\n",
       "        vertical-align: middle;\n",
       "    }\n",
       "\n",
       "    .dataframe tbody tr th {\n",
       "        vertical-align: top;\n",
       "    }\n",
       "\n",
       "    .dataframe thead th {\n",
       "        text-align: right;\n",
       "    }\n",
       "</style>\n",
       "<table border=\"1\" class=\"dataframe\">\n",
       "  <thead>\n",
       "    <tr style=\"text-align: right;\">\n",
       "      <th></th>\n",
       "      <th>mbr_lic_type</th>\n",
       "      <th>mbr_state</th>\n",
       "      <th>lot_nbr</th>\n",
       "      <th>buyer_nbr</th>\n",
       "      <th>mbr_email</th>\n",
       "      <th>max_bid</th>\n",
       "      <th>inv_dt</th>\n",
       "      <th>lot_year</th>\n",
       "      <th>lot_make_cd</th>\n",
       "      <th>grp_model</th>\n",
       "      <th>acv</th>\n",
       "      <th>plug_lot_acv</th>\n",
       "      <th>repair_cost</th>\n",
       "      <th>total_unique_buyers_on_that_lot</th>\n",
       "      <th>total_unique_lots_bid_by_buyers</th>\n",
       "    </tr>\n",
       "  </thead>\n",
       "  <tbody>\n",
       "    <tr>\n",
       "      <th>0</th>\n",
       "      <td>Consumer</td>\n",
       "      <td>NV</td>\n",
       "      <td>66043575</td>\n",
       "      <td>720911</td>\n",
       "      <td>zdemian0@gmail.com</td>\n",
       "      <td>1300.0</td>\n",
       "      <td>2025-08-08</td>\n",
       "      <td>2014</td>\n",
       "      <td>HYUN</td>\n",
       "      <td>SONATA</td>\n",
       "      <td>325.0</td>\n",
       "      <td>7350.0</td>\n",
       "      <td>0.00</td>\n",
       "      <td>12</td>\n",
       "      <td>1</td>\n",
       "    </tr>\n",
       "    <tr>\n",
       "      <th>1</th>\n",
       "      <td>Dealer</td>\n",
       "      <td>SD</td>\n",
       "      <td>64790825</td>\n",
       "      <td>67677</td>\n",
       "      <td>swish@itctel.com</td>\n",
       "      <td>2450.0</td>\n",
       "      <td>2025-08-18</td>\n",
       "      <td>2017</td>\n",
       "      <td>CHEV</td>\n",
       "      <td>CRUZE</td>\n",
       "      <td>13001.0</td>\n",
       "      <td>11000.0</td>\n",
       "      <td>10252.00</td>\n",
       "      <td>5</td>\n",
       "      <td>20</td>\n",
       "    </tr>\n",
       "    <tr>\n",
       "      <th>2</th>\n",
       "      <td>Consumer</td>\n",
       "      <td>AK</td>\n",
       "      <td>62290835</td>\n",
       "      <td>600349</td>\n",
       "      <td>dwightgrossnickle10@gmail.com</td>\n",
       "      <td>20.0</td>\n",
       "      <td>2025-08-06</td>\n",
       "      <td>2016</td>\n",
       "      <td>CHEV</td>\n",
       "      <td>EQUINOX</td>\n",
       "      <td>7220.0</td>\n",
       "      <td>8550.0</td>\n",
       "      <td>6849.00</td>\n",
       "      <td>8</td>\n",
       "      <td>295</td>\n",
       "    </tr>\n",
       "    <tr>\n",
       "      <th>3</th>\n",
       "      <td>Dealer</td>\n",
       "      <td>NH</td>\n",
       "      <td>68126475</td>\n",
       "      <td>514361</td>\n",
       "      <td>allan_kouba@hotmail.com</td>\n",
       "      <td>9300.0</td>\n",
       "      <td>2025-09-11</td>\n",
       "      <td>2014</td>\n",
       "      <td>BMW</td>\n",
       "      <td>X5</td>\n",
       "      <td>10475.0</td>\n",
       "      <td>10475.0</td>\n",
       "      <td>0.00</td>\n",
       "      <td>10</td>\n",
       "      <td>946</td>\n",
       "    </tr>\n",
       "    <tr>\n",
       "      <th>4</th>\n",
       "      <td>Dealer</td>\n",
       "      <td>NH</td>\n",
       "      <td>65413175</td>\n",
       "      <td>219425</td>\n",
       "      <td>realdz1969@aol.com</td>\n",
       "      <td>275.0</td>\n",
       "      <td>2025-09-02</td>\n",
       "      <td>2011</td>\n",
       "      <td>FORD</td>\n",
       "      <td>TAURUS</td>\n",
       "      <td>7022.0</td>\n",
       "      <td>5525.0</td>\n",
       "      <td>7563.73</td>\n",
       "      <td>4</td>\n",
       "      <td>2798</td>\n",
       "    </tr>\n",
       "    <tr>\n",
       "      <th>...</th>\n",
       "      <td>...</td>\n",
       "      <td>...</td>\n",
       "      <td>...</td>\n",
       "      <td>...</td>\n",
       "      <td>...</td>\n",
       "      <td>...</td>\n",
       "      <td>...</td>\n",
       "      <td>...</td>\n",
       "      <td>...</td>\n",
       "      <td>...</td>\n",
       "      <td>...</td>\n",
       "      <td>...</td>\n",
       "      <td>...</td>\n",
       "      <td>...</td>\n",
       "      <td>...</td>\n",
       "    </tr>\n",
       "    <tr>\n",
       "      <th>3833546</th>\n",
       "      <td>Dealer</td>\n",
       "      <td>MA</td>\n",
       "      <td>59103975</td>\n",
       "      <td>396746</td>\n",
       "      <td>phillip.messina577@gmail.com</td>\n",
       "      <td>4250.0</td>\n",
       "      <td>2025-08-19</td>\n",
       "      <td>2017</td>\n",
       "      <td>JEP</td>\n",
       "      <td>WRANGLER</td>\n",
       "      <td>19173.0</td>\n",
       "      <td>23200.0</td>\n",
       "      <td>14798.21</td>\n",
       "      <td>7</td>\n",
       "      <td>286</td>\n",
       "    </tr>\n",
       "    <tr>\n",
       "      <th>3833547</th>\n",
       "      <td>Dismantler</td>\n",
       "      <td>TN</td>\n",
       "      <td>65029795</td>\n",
       "      <td>764700</td>\n",
       "      <td>rhonda.colding@roadtestedparts.com</td>\n",
       "      <td>3100.0</td>\n",
       "      <td>2025-08-05</td>\n",
       "      <td>2013</td>\n",
       "      <td>JEP</td>\n",
       "      <td>WRANGLER</td>\n",
       "      <td>13422.0</td>\n",
       "      <td>12775.0</td>\n",
       "      <td>12069.54</td>\n",
       "      <td>4</td>\n",
       "      <td>5445</td>\n",
       "    </tr>\n",
       "    <tr>\n",
       "      <th>3833548</th>\n",
       "      <td>Dismantler</td>\n",
       "      <td>TN</td>\n",
       "      <td>70660125</td>\n",
       "      <td>489065</td>\n",
       "      <td>bobmcap@yahoo.com</td>\n",
       "      <td>1300.0</td>\n",
       "      <td>2025-10-06</td>\n",
       "      <td>2003</td>\n",
       "      <td>JEP</td>\n",
       "      <td>WRANGLER</td>\n",
       "      <td>6942.0</td>\n",
       "      <td>0.0</td>\n",
       "      <td>6772.00</td>\n",
       "      <td>7</td>\n",
       "      <td>191</td>\n",
       "    </tr>\n",
       "    <tr>\n",
       "      <th>3833549</th>\n",
       "      <td>Dismantler</td>\n",
       "      <td>AL</td>\n",
       "      <td>80331235</td>\n",
       "      <td>506597</td>\n",
       "      <td>sabinomotors2015@hotmail.com</td>\n",
       "      <td>300.0</td>\n",
       "      <td>2025-09-22</td>\n",
       "      <td>2015</td>\n",
       "      <td>JEP</td>\n",
       "      <td>WRANGLER</td>\n",
       "      <td>18277.0</td>\n",
       "      <td>13125.0</td>\n",
       "      <td>29417.39</td>\n",
       "      <td>6</td>\n",
       "      <td>287</td>\n",
       "    </tr>\n",
       "    <tr>\n",
       "      <th>3833550</th>\n",
       "      <td>Dismantler</td>\n",
       "      <td>AL</td>\n",
       "      <td>70549705</td>\n",
       "      <td>380853</td>\n",
       "      <td>jdorris1977@gmail.com</td>\n",
       "      <td>3650.0</td>\n",
       "      <td>2025-10-02</td>\n",
       "      <td>2011</td>\n",
       "      <td>JEP</td>\n",
       "      <td>WRANGLER</td>\n",
       "      <td>8286.0</td>\n",
       "      <td>8925.0</td>\n",
       "      <td>8743.58</td>\n",
       "      <td>6</td>\n",
       "      <td>219</td>\n",
       "    </tr>\n",
       "  </tbody>\n",
       "</table>\n",
       "<p>3831502 rows × 15 columns</p>\n",
       "</div>"
      ]
     },
     "execution_count": 19,
     "metadata": {},
     "output_type": "execute_result"
    }
   ],
   "execution_count": 19
  },
  {
   "metadata": {
    "ExecuteTime": {
     "end_time": "2025-10-27T15:15:37.473103Z",
     "start_time": "2025-10-27T15:15:37.173196Z"
    }
   },
   "cell_type": "code",
   "source": "active_buyers.isnull().sum()",
   "id": "3a105b05b885584d",
   "outputs": [
    {
     "data": {
      "text/plain": [
       "mbr_lic_type                       0\n",
       "mbr_state                          0\n",
       "lot_nbr                            0\n",
       "buyer_nbr                          0\n",
       "mbr_email                          0\n",
       "max_bid                            0\n",
       "inv_dt                             0\n",
       "lot_year                           0\n",
       "lot_make_cd                        0\n",
       "grp_model                          0\n",
       "acv                                0\n",
       "plug_lot_acv                       0\n",
       "repair_cost                        0\n",
       "total_unique_buyers_on_that_lot    0\n",
       "total_unique_lots_bid_by_buyers    0\n",
       "dtype: int64"
      ]
     },
     "execution_count": 20,
     "metadata": {},
     "output_type": "execute_result"
    }
   ],
   "execution_count": 20
  },
  {
   "metadata": {
    "ExecuteTime": {
     "end_time": "2025-10-27T15:15:38.457770Z",
     "start_time": "2025-10-27T15:15:38.439630Z"
    }
   },
   "cell_type": "code",
   "source": "active_buyers['buyer_nbr'].nunique()",
   "id": "520189a50df8aab8",
   "outputs": [
    {
     "data": {
      "text/plain": [
       "80757"
      ]
     },
     "execution_count": 21,
     "metadata": {},
     "output_type": "execute_result"
    }
   ],
   "execution_count": 21
  },
  {
   "metadata": {
    "ExecuteTime": {
     "end_time": "2025-10-27T15:15:50.031275Z",
     "start_time": "2025-10-27T15:15:41.833060Z"
    }
   },
   "cell_type": "code",
   "source": "active_buyers.to_csv('../data/processed/active_buyers.csv', index=False)",
   "id": "a32793897de21286",
   "outputs": [],
   "execution_count": 22
  },
  {
   "metadata": {},
   "cell_type": "markdown",
   "source": "### Non Active Bidders Preprocessing",
   "id": "3920432f913db009"
  },
  {
   "metadata": {
    "ExecuteTime": {
     "end_time": "2025-10-27T15:16:12.679050Z",
     "start_time": "2025-10-27T15:16:12.621651Z"
    }
   },
   "cell_type": "code",
   "source": [
    "non_active_buyers = pd.read_csv('../data/raw/non_active_buyers.csv')\n",
    "non_active_buyers.head()"
   ],
   "id": "4ab5d540bd7b2c00",
   "outputs": [
    {
     "data": {
      "text/plain": [
       "  mbr_lic_type mbr_state  mbr_nbr                     mbr_email\n",
       "0     Consumer        VT   773347  hybridepoxyfloors@icloud.com\n",
       "1     Consumer        DE   157710     travisbarron.tb@gmail.com\n",
       "2     Consumer        HI   819770         greg@athomehawaii.com\n",
       "3     Consumer        ME   119551           Bquimby20@gmail.com\n",
       "4     Consumer        DE   621209              info@dooillc.org"
      ],
      "text/html": [
       "<div>\n",
       "<style scoped>\n",
       "    .dataframe tbody tr th:only-of-type {\n",
       "        vertical-align: middle;\n",
       "    }\n",
       "\n",
       "    .dataframe tbody tr th {\n",
       "        vertical-align: top;\n",
       "    }\n",
       "\n",
       "    .dataframe thead th {\n",
       "        text-align: right;\n",
       "    }\n",
       "</style>\n",
       "<table border=\"1\" class=\"dataframe\">\n",
       "  <thead>\n",
       "    <tr style=\"text-align: right;\">\n",
       "      <th></th>\n",
       "      <th>mbr_lic_type</th>\n",
       "      <th>mbr_state</th>\n",
       "      <th>mbr_nbr</th>\n",
       "      <th>mbr_email</th>\n",
       "    </tr>\n",
       "  </thead>\n",
       "  <tbody>\n",
       "    <tr>\n",
       "      <th>0</th>\n",
       "      <td>Consumer</td>\n",
       "      <td>VT</td>\n",
       "      <td>773347</td>\n",
       "      <td>hybridepoxyfloors@icloud.com</td>\n",
       "    </tr>\n",
       "    <tr>\n",
       "      <th>1</th>\n",
       "      <td>Consumer</td>\n",
       "      <td>DE</td>\n",
       "      <td>157710</td>\n",
       "      <td>travisbarron.tb@gmail.com</td>\n",
       "    </tr>\n",
       "    <tr>\n",
       "      <th>2</th>\n",
       "      <td>Consumer</td>\n",
       "      <td>HI</td>\n",
       "      <td>819770</td>\n",
       "      <td>greg@athomehawaii.com</td>\n",
       "    </tr>\n",
       "    <tr>\n",
       "      <th>3</th>\n",
       "      <td>Consumer</td>\n",
       "      <td>ME</td>\n",
       "      <td>119551</td>\n",
       "      <td>Bquimby20@gmail.com</td>\n",
       "    </tr>\n",
       "    <tr>\n",
       "      <th>4</th>\n",
       "      <td>Consumer</td>\n",
       "      <td>DE</td>\n",
       "      <td>621209</td>\n",
       "      <td>info@dooillc.org</td>\n",
       "    </tr>\n",
       "  </tbody>\n",
       "</table>\n",
       "</div>"
      ]
     },
     "execution_count": 24,
     "metadata": {},
     "output_type": "execute_result"
    }
   ],
   "execution_count": 24
  },
  {
   "metadata": {
    "ExecuteTime": {
     "end_time": "2025-10-27T15:16:16.814093Z",
     "start_time": "2025-10-27T15:16:16.811451Z"
    }
   },
   "cell_type": "code",
   "source": [
    "def clean_non_active_buyers(df: pd.DataFrame) -> pd.DataFrame:\n",
    "\n",
    "    df['mbr_lic_type'] = df['mbr_lic_type'].fillna(df['mbr_lic_type'].mode()[0])\n",
    "    df['mbr_state'] = df['mbr_state'].fillna(df['mbr_state'].mode()[0])\n",
    "    df['mbr_lic_type'] = df['mbr_lic_type'].replace('Automotive Related Business', 'General Business')\n",
    "    df = df.rename(columns={'mbr_lic_type': 'buyer_type'})\n",
    "\n",
    "    return df"
   ],
   "id": "a9143129947ca7a4",
   "outputs": [],
   "execution_count": 25
  },
  {
   "metadata": {
    "ExecuteTime": {
     "end_time": "2025-10-27T15:16:17.839932Z",
     "start_time": "2025-10-27T15:16:17.812891Z"
    }
   },
   "cell_type": "code",
   "source": "non_active_buyers = clean_non_active_buyers(non_active_buyers)",
   "id": "ef878cf09c2fa125",
   "outputs": [],
   "execution_count": 26
  },
  {
   "metadata": {
    "ExecuteTime": {
     "end_time": "2025-10-27T15:16:18.107582Z",
     "start_time": "2025-10-27T15:16:18.104132Z"
    }
   },
   "cell_type": "code",
   "source": "non_active_buyers.head()",
   "id": "3e004e44ad4ba5a9",
   "outputs": [
    {
     "data": {
      "text/plain": [
       "  buyer_type mbr_state  mbr_nbr                     mbr_email\n",
       "0   Consumer        VT   773347  hybridepoxyfloors@icloud.com\n",
       "1   Consumer        DE   157710     travisbarron.tb@gmail.com\n",
       "2   Consumer        HI   819770         greg@athomehawaii.com\n",
       "3   Consumer        ME   119551           Bquimby20@gmail.com\n",
       "4   Consumer        DE   621209              info@dooillc.org"
      ],
      "text/html": [
       "<div>\n",
       "<style scoped>\n",
       "    .dataframe tbody tr th:only-of-type {\n",
       "        vertical-align: middle;\n",
       "    }\n",
       "\n",
       "    .dataframe tbody tr th {\n",
       "        vertical-align: top;\n",
       "    }\n",
       "\n",
       "    .dataframe thead th {\n",
       "        text-align: right;\n",
       "    }\n",
       "</style>\n",
       "<table border=\"1\" class=\"dataframe\">\n",
       "  <thead>\n",
       "    <tr style=\"text-align: right;\">\n",
       "      <th></th>\n",
       "      <th>buyer_type</th>\n",
       "      <th>mbr_state</th>\n",
       "      <th>mbr_nbr</th>\n",
       "      <th>mbr_email</th>\n",
       "    </tr>\n",
       "  </thead>\n",
       "  <tbody>\n",
       "    <tr>\n",
       "      <th>0</th>\n",
       "      <td>Consumer</td>\n",
       "      <td>VT</td>\n",
       "      <td>773347</td>\n",
       "      <td>hybridepoxyfloors@icloud.com</td>\n",
       "    </tr>\n",
       "    <tr>\n",
       "      <th>1</th>\n",
       "      <td>Consumer</td>\n",
       "      <td>DE</td>\n",
       "      <td>157710</td>\n",
       "      <td>travisbarron.tb@gmail.com</td>\n",
       "    </tr>\n",
       "    <tr>\n",
       "      <th>2</th>\n",
       "      <td>Consumer</td>\n",
       "      <td>HI</td>\n",
       "      <td>819770</td>\n",
       "      <td>greg@athomehawaii.com</td>\n",
       "    </tr>\n",
       "    <tr>\n",
       "      <th>3</th>\n",
       "      <td>Consumer</td>\n",
       "      <td>ME</td>\n",
       "      <td>119551</td>\n",
       "      <td>Bquimby20@gmail.com</td>\n",
       "    </tr>\n",
       "    <tr>\n",
       "      <th>4</th>\n",
       "      <td>Consumer</td>\n",
       "      <td>DE</td>\n",
       "      <td>621209</td>\n",
       "      <td>info@dooillc.org</td>\n",
       "    </tr>\n",
       "  </tbody>\n",
       "</table>\n",
       "</div>"
      ]
     },
     "execution_count": 27,
     "metadata": {},
     "output_type": "execute_result"
    }
   ],
   "execution_count": 27
  },
  {
   "metadata": {
    "ExecuteTime": {
     "end_time": "2025-10-27T15:16:18.982969Z",
     "start_time": "2025-10-27T15:16:18.977359Z"
    }
   },
   "cell_type": "code",
   "source": "non_active_buyers['buyer_type'].value_counts()",
   "id": "8cef377c210afad1",
   "outputs": [
    {
     "data": {
      "text/plain": [
       "buyer_type\n",
       "Consumer            130711\n",
       "Dealer                7238\n",
       "General Business      2825\n",
       "Dismantler            1204\n",
       "Export                 709\n",
       "Name: count, dtype: int64"
      ]
     },
     "execution_count": 28,
     "metadata": {},
     "output_type": "execute_result"
    }
   ],
   "execution_count": 28
  },
  {
   "metadata": {
    "ExecuteTime": {
     "end_time": "2025-10-27T15:16:19.235153Z",
     "start_time": "2025-10-27T15:16:19.226039Z"
    }
   },
   "cell_type": "code",
   "source": "non_active_buyers.isnull().sum()",
   "id": "214f38c25a65067d",
   "outputs": [
    {
     "data": {
      "text/plain": [
       "buyer_type    0\n",
       "mbr_state     0\n",
       "mbr_nbr       0\n",
       "mbr_email     0\n",
       "dtype: int64"
      ]
     },
     "execution_count": 29,
     "metadata": {},
     "output_type": "execute_result"
    }
   ],
   "execution_count": 29
  },
  {
   "metadata": {
    "ExecuteTime": {
     "end_time": "2025-10-27T15:16:20.048209Z",
     "start_time": "2025-10-27T15:16:20.043574Z"
    }
   },
   "cell_type": "code",
   "source": "non_active_buyers['mbr_nbr'].nunique()",
   "id": "2f3b5a9a6cec816a",
   "outputs": [
    {
     "data": {
      "text/plain": [
       "142687"
      ]
     },
     "execution_count": 30,
     "metadata": {},
     "output_type": "execute_result"
    }
   ],
   "execution_count": 30
  },
  {
   "metadata": {
    "ExecuteTime": {
     "end_time": "2025-10-27T15:16:22.170332Z",
     "start_time": "2025-10-27T15:16:22.087758Z"
    }
   },
   "cell_type": "code",
   "source": "non_active_buyers.to_csv('../data/processed/non_active_buyers.csv', index=False)",
   "id": "b6aa3c8df1b51a50",
   "outputs": [],
   "execution_count": 31
  },
  {
   "metadata": {},
   "cell_type": "markdown",
   "source": "### Popular Lots Preprocessing",
   "id": "333f327315622644"
  },
  {
   "metadata": {
    "ExecuteTime": {
     "end_time": "2025-10-27T15:16:23.600596Z",
     "start_time": "2025-10-27T15:16:23.595550Z"
    }
   },
   "cell_type": "code",
   "source": "popular_lots = pd.read_csv('../data/raw/popular_lots.csv')",
   "id": "57cb1f1e60c52f8b",
   "outputs": [],
   "execution_count": 32
  },
  {
   "metadata": {
    "ExecuteTime": {
     "end_time": "2025-10-27T15:16:24.423159Z",
     "start_time": "2025-10-27T15:16:24.419834Z"
    }
   },
   "cell_type": "code",
   "source": [
    "def clean_popular_lots(popular_df: pd.DataFrame) -> pd.DataFrame:\n",
    "    \"\"\"\n",
    "    Cleans and ranks popular lots data:\n",
    "    - Replace 'Automotive Related Business' → 'General Business'\n",
    "    - Fill missing buyer_type with mode\n",
    "    - Fill grp_model hierarchically\n",
    "    - Deduplicate and keep top 6 per (buyer_type, mbr_state)\n",
    "    \"\"\"\n",
    "    # Replace business type\n",
    "    popular_df['buyer_type'] = popular_df['buyer_type'].replace(\n",
    "        'Automotive Related Business', 'General Business'\n",
    "    )\n",
    "\n",
    "    # Fill buyer_type with mode\n",
    "    mode_val = popular_df['buyer_type'].mode()\n",
    "    if not mode_val.empty:\n",
    "        popular_df['buyer_type'] = popular_df['buyer_type'].fillna(mode_val[0])\n",
    "\n",
    "    # Fill grp_model using make-level mode\n",
    "    popular_df = popular_df.groupby('lot_make_cd', group_keys=False).apply(_fill_grp_model_make)\n",
    "\n",
    "    # Replace acv with plug_lot_acv where acv is 0 or negative\n",
    "    popular_df['median_acv'] = popular_df['median_acv'].mask(popular_df['median_acv']<=0, popular_df['median_plug_lot_acv'])\n",
    "\n",
    "    # Sort + deduplicate\n",
    "    popular_df_sorted = (\n",
    "        popular_df\n",
    "        .sort_values(['buyer_type', 'mbr_state', 'cnt'], ascending=[True, True, False])\n",
    "        .drop_duplicates(subset=['buyer_type', 'mbr_state', 'lot_make_cd', 'grp_model'])\n",
    "    )\n",
    "\n",
    "    # Rank within buyer_type + state\n",
    "    popular_df_sorted['rank_clean'] = (\n",
    "        popular_df_sorted.groupby(['buyer_type', 'mbr_state']).cumcount() + 1\n",
    "    )\n",
    "\n",
    "    # Keep only top 6\n",
    "    return popular_df_sorted[popular_df_sorted['rank_clean'] <= 6]"
   ],
   "id": "381f49e4c608f37e",
   "outputs": [],
   "execution_count": 33
  },
  {
   "metadata": {
    "ExecuteTime": {
     "end_time": "2025-10-27T15:16:25.274653Z",
     "start_time": "2025-10-27T15:16:25.258591Z"
    }
   },
   "cell_type": "code",
   "source": "popular_lots = clean_popular_lots(popular_lots)",
   "id": "a64ec6a9cd406440",
   "outputs": [
    {
     "name": "stderr",
     "output_type": "stream",
     "text": [
      "/var/folders/jj/1fql_rw17h10wm_w98gwx9wm0000gq/T/ipykernel_84023/823440013.py:20: DeprecationWarning: DataFrameGroupBy.apply operated on the grouping columns. This behavior is deprecated, and in a future version of pandas the grouping columns will be excluded from the operation. Either pass `include_groups=False` to exclude the groupings or explicitly select the grouping columns after groupby to silence this warning.\n",
      "  popular_df = popular_df.groupby('lot_make_cd', group_keys=False).apply(_fill_grp_model_make)\n"
     ]
    }
   ],
   "execution_count": 34
  },
  {
   "metadata": {
    "ExecuteTime": {
     "end_time": "2025-10-27T15:16:26.084420Z",
     "start_time": "2025-10-27T15:16:26.077521Z"
    }
   },
   "cell_type": "code",
   "source": "popular_lots",
   "id": "a1df858369734bf8",
   "outputs": [
    {
     "data": {
      "text/plain": [
       "            buyer_type mbr_state lot_make_cd  grp_model  cnt  median_acv  \\\n",
       "206           Consumer        AK         JEP   RENEGADE    6     6316.05   \n",
       "207           Consumer        AK         KIA       SOUL    4    14091.00   \n",
       "208           Consumer        AK         JEP    COMPASS    4    16089.00   \n",
       "209           Consumer        AK         JEP   CHEROKEE    3    13012.00   \n",
       "210           Consumer        AK         JEP   WRANGLER    3    24008.70   \n",
       "...                ...       ...         ...        ...  ...         ...   \n",
       "1059  General Business        WY        HOND        CRV    4    19349.00   \n",
       "1060  General Business        WY        TOYT    COROLLA    4    16219.00   \n",
       "1061  General Business        WY        TOYT       RAV4    2    23603.00   \n",
       "1062  General Business        WY        MITS  OUTLANDER    1    13952.00   \n",
       "1063  General Business        WY        TOYT     TACOMA    1    43640.00   \n",
       "\n",
       "      median_plug_lot_acv  median_repair_cost  model_rank  rank  rank_clean  \n",
       "206               10900.0              961.00           1     1           1  \n",
       "207               18400.0            14091.00           1     2           2  \n",
       "208               15175.0            20069.70           1     3           3  \n",
       "209               18725.0            13485.75           1     4           4  \n",
       "210               22725.0            16335.57           1     5           5  \n",
       "...                   ...                 ...         ...   ...         ...  \n",
       "1059              18525.0            15725.46           1     1           1  \n",
       "1060              12050.0            11816.03           1     2           2  \n",
       "1061              19725.0            17271.13           1     3           3  \n",
       "1062              13200.0            21315.89           1     4           4  \n",
       "1063              44575.0            22030.71           1     5           5  \n",
       "\n",
       "[1228 rows x 11 columns]"
      ],
      "text/html": [
       "<div>\n",
       "<style scoped>\n",
       "    .dataframe tbody tr th:only-of-type {\n",
       "        vertical-align: middle;\n",
       "    }\n",
       "\n",
       "    .dataframe tbody tr th {\n",
       "        vertical-align: top;\n",
       "    }\n",
       "\n",
       "    .dataframe thead th {\n",
       "        text-align: right;\n",
       "    }\n",
       "</style>\n",
       "<table border=\"1\" class=\"dataframe\">\n",
       "  <thead>\n",
       "    <tr style=\"text-align: right;\">\n",
       "      <th></th>\n",
       "      <th>buyer_type</th>\n",
       "      <th>mbr_state</th>\n",
       "      <th>lot_make_cd</th>\n",
       "      <th>grp_model</th>\n",
       "      <th>cnt</th>\n",
       "      <th>median_acv</th>\n",
       "      <th>median_plug_lot_acv</th>\n",
       "      <th>median_repair_cost</th>\n",
       "      <th>model_rank</th>\n",
       "      <th>rank</th>\n",
       "      <th>rank_clean</th>\n",
       "    </tr>\n",
       "  </thead>\n",
       "  <tbody>\n",
       "    <tr>\n",
       "      <th>206</th>\n",
       "      <td>Consumer</td>\n",
       "      <td>AK</td>\n",
       "      <td>JEP</td>\n",
       "      <td>RENEGADE</td>\n",
       "      <td>6</td>\n",
       "      <td>6316.05</td>\n",
       "      <td>10900.0</td>\n",
       "      <td>961.00</td>\n",
       "      <td>1</td>\n",
       "      <td>1</td>\n",
       "      <td>1</td>\n",
       "    </tr>\n",
       "    <tr>\n",
       "      <th>207</th>\n",
       "      <td>Consumer</td>\n",
       "      <td>AK</td>\n",
       "      <td>KIA</td>\n",
       "      <td>SOUL</td>\n",
       "      <td>4</td>\n",
       "      <td>14091.00</td>\n",
       "      <td>18400.0</td>\n",
       "      <td>14091.00</td>\n",
       "      <td>1</td>\n",
       "      <td>2</td>\n",
       "      <td>2</td>\n",
       "    </tr>\n",
       "    <tr>\n",
       "      <th>208</th>\n",
       "      <td>Consumer</td>\n",
       "      <td>AK</td>\n",
       "      <td>JEP</td>\n",
       "      <td>COMPASS</td>\n",
       "      <td>4</td>\n",
       "      <td>16089.00</td>\n",
       "      <td>15175.0</td>\n",
       "      <td>20069.70</td>\n",
       "      <td>1</td>\n",
       "      <td>3</td>\n",
       "      <td>3</td>\n",
       "    </tr>\n",
       "    <tr>\n",
       "      <th>209</th>\n",
       "      <td>Consumer</td>\n",
       "      <td>AK</td>\n",
       "      <td>JEP</td>\n",
       "      <td>CHEROKEE</td>\n",
       "      <td>3</td>\n",
       "      <td>13012.00</td>\n",
       "      <td>18725.0</td>\n",
       "      <td>13485.75</td>\n",
       "      <td>1</td>\n",
       "      <td>4</td>\n",
       "      <td>4</td>\n",
       "    </tr>\n",
       "    <tr>\n",
       "      <th>210</th>\n",
       "      <td>Consumer</td>\n",
       "      <td>AK</td>\n",
       "      <td>JEP</td>\n",
       "      <td>WRANGLER</td>\n",
       "      <td>3</td>\n",
       "      <td>24008.70</td>\n",
       "      <td>22725.0</td>\n",
       "      <td>16335.57</td>\n",
       "      <td>1</td>\n",
       "      <td>5</td>\n",
       "      <td>5</td>\n",
       "    </tr>\n",
       "    <tr>\n",
       "      <th>...</th>\n",
       "      <td>...</td>\n",
       "      <td>...</td>\n",
       "      <td>...</td>\n",
       "      <td>...</td>\n",
       "      <td>...</td>\n",
       "      <td>...</td>\n",
       "      <td>...</td>\n",
       "      <td>...</td>\n",
       "      <td>...</td>\n",
       "      <td>...</td>\n",
       "      <td>...</td>\n",
       "    </tr>\n",
       "    <tr>\n",
       "      <th>1059</th>\n",
       "      <td>General Business</td>\n",
       "      <td>WY</td>\n",
       "      <td>HOND</td>\n",
       "      <td>CRV</td>\n",
       "      <td>4</td>\n",
       "      <td>19349.00</td>\n",
       "      <td>18525.0</td>\n",
       "      <td>15725.46</td>\n",
       "      <td>1</td>\n",
       "      <td>1</td>\n",
       "      <td>1</td>\n",
       "    </tr>\n",
       "    <tr>\n",
       "      <th>1060</th>\n",
       "      <td>General Business</td>\n",
       "      <td>WY</td>\n",
       "      <td>TOYT</td>\n",
       "      <td>COROLLA</td>\n",
       "      <td>4</td>\n",
       "      <td>16219.00</td>\n",
       "      <td>12050.0</td>\n",
       "      <td>11816.03</td>\n",
       "      <td>1</td>\n",
       "      <td>2</td>\n",
       "      <td>2</td>\n",
       "    </tr>\n",
       "    <tr>\n",
       "      <th>1061</th>\n",
       "      <td>General Business</td>\n",
       "      <td>WY</td>\n",
       "      <td>TOYT</td>\n",
       "      <td>RAV4</td>\n",
       "      <td>2</td>\n",
       "      <td>23603.00</td>\n",
       "      <td>19725.0</td>\n",
       "      <td>17271.13</td>\n",
       "      <td>1</td>\n",
       "      <td>3</td>\n",
       "      <td>3</td>\n",
       "    </tr>\n",
       "    <tr>\n",
       "      <th>1062</th>\n",
       "      <td>General Business</td>\n",
       "      <td>WY</td>\n",
       "      <td>MITS</td>\n",
       "      <td>OUTLANDER</td>\n",
       "      <td>1</td>\n",
       "      <td>13952.00</td>\n",
       "      <td>13200.0</td>\n",
       "      <td>21315.89</td>\n",
       "      <td>1</td>\n",
       "      <td>4</td>\n",
       "      <td>4</td>\n",
       "    </tr>\n",
       "    <tr>\n",
       "      <th>1063</th>\n",
       "      <td>General Business</td>\n",
       "      <td>WY</td>\n",
       "      <td>TOYT</td>\n",
       "      <td>TACOMA</td>\n",
       "      <td>1</td>\n",
       "      <td>43640.00</td>\n",
       "      <td>44575.0</td>\n",
       "      <td>22030.71</td>\n",
       "      <td>1</td>\n",
       "      <td>5</td>\n",
       "      <td>5</td>\n",
       "    </tr>\n",
       "  </tbody>\n",
       "</table>\n",
       "<p>1228 rows × 11 columns</p>\n",
       "</div>"
      ]
     },
     "execution_count": 35,
     "metadata": {},
     "output_type": "execute_result"
    }
   ],
   "execution_count": 35
  },
  {
   "metadata": {
    "ExecuteTime": {
     "end_time": "2025-10-27T15:16:32.021477Z",
     "start_time": "2025-10-27T15:16:32.014466Z"
    }
   },
   "cell_type": "code",
   "source": "popular_lots[(popular_lots['buyer_type']=='Consumer') & (popular_lots['mbr_state']=='NJ')]",
   "id": "33c5789778c774a5",
   "outputs": [
    {
     "data": {
      "text/plain": [
       "    buyer_type mbr_state lot_make_cd grp_model  cnt  median_acv  \\\n",
       "174   Consumer        NJ         JEP  CHEROKEE   49    22400.00   \n",
       "175   Consumer        NJ        CHRY  PACIFICA   45    20221.00   \n",
       "176   Consumer        NJ        TOYT     CAMRY   37    18331.00   \n",
       "177   Consumer        NJ        TOYT      RAV4   35    24856.00   \n",
       "178   Consumer        NJ        HYUN   ELANTRA   32    15982.25   \n",
       "179   Consumer        NJ        TOYT   COROLLA   30    16238.00   \n",
       "\n",
       "     median_plug_lot_acv  median_repair_cost  model_rank  rank  rank_clean  \n",
       "174              23675.0            14613.98           1     1           1  \n",
       "175              23450.0            13979.88           1     2           2  \n",
       "176              22225.0            15069.26           1     3           3  \n",
       "177              30800.0            20315.00           1     4           4  \n",
       "178              20150.0            12584.77           1     5           5  \n",
       "179              22300.0            12868.07           1     6           6  "
      ],
      "text/html": [
       "<div>\n",
       "<style scoped>\n",
       "    .dataframe tbody tr th:only-of-type {\n",
       "        vertical-align: middle;\n",
       "    }\n",
       "\n",
       "    .dataframe tbody tr th {\n",
       "        vertical-align: top;\n",
       "    }\n",
       "\n",
       "    .dataframe thead th {\n",
       "        text-align: right;\n",
       "    }\n",
       "</style>\n",
       "<table border=\"1\" class=\"dataframe\">\n",
       "  <thead>\n",
       "    <tr style=\"text-align: right;\">\n",
       "      <th></th>\n",
       "      <th>buyer_type</th>\n",
       "      <th>mbr_state</th>\n",
       "      <th>lot_make_cd</th>\n",
       "      <th>grp_model</th>\n",
       "      <th>cnt</th>\n",
       "      <th>median_acv</th>\n",
       "      <th>median_plug_lot_acv</th>\n",
       "      <th>median_repair_cost</th>\n",
       "      <th>model_rank</th>\n",
       "      <th>rank</th>\n",
       "      <th>rank_clean</th>\n",
       "    </tr>\n",
       "  </thead>\n",
       "  <tbody>\n",
       "    <tr>\n",
       "      <th>174</th>\n",
       "      <td>Consumer</td>\n",
       "      <td>NJ</td>\n",
       "      <td>JEP</td>\n",
       "      <td>CHEROKEE</td>\n",
       "      <td>49</td>\n",
       "      <td>22400.00</td>\n",
       "      <td>23675.0</td>\n",
       "      <td>14613.98</td>\n",
       "      <td>1</td>\n",
       "      <td>1</td>\n",
       "      <td>1</td>\n",
       "    </tr>\n",
       "    <tr>\n",
       "      <th>175</th>\n",
       "      <td>Consumer</td>\n",
       "      <td>NJ</td>\n",
       "      <td>CHRY</td>\n",
       "      <td>PACIFICA</td>\n",
       "      <td>45</td>\n",
       "      <td>20221.00</td>\n",
       "      <td>23450.0</td>\n",
       "      <td>13979.88</td>\n",
       "      <td>1</td>\n",
       "      <td>2</td>\n",
       "      <td>2</td>\n",
       "    </tr>\n",
       "    <tr>\n",
       "      <th>176</th>\n",
       "      <td>Consumer</td>\n",
       "      <td>NJ</td>\n",
       "      <td>TOYT</td>\n",
       "      <td>CAMRY</td>\n",
       "      <td>37</td>\n",
       "      <td>18331.00</td>\n",
       "      <td>22225.0</td>\n",
       "      <td>15069.26</td>\n",
       "      <td>1</td>\n",
       "      <td>3</td>\n",
       "      <td>3</td>\n",
       "    </tr>\n",
       "    <tr>\n",
       "      <th>177</th>\n",
       "      <td>Consumer</td>\n",
       "      <td>NJ</td>\n",
       "      <td>TOYT</td>\n",
       "      <td>RAV4</td>\n",
       "      <td>35</td>\n",
       "      <td>24856.00</td>\n",
       "      <td>30800.0</td>\n",
       "      <td>20315.00</td>\n",
       "      <td>1</td>\n",
       "      <td>4</td>\n",
       "      <td>4</td>\n",
       "    </tr>\n",
       "    <tr>\n",
       "      <th>178</th>\n",
       "      <td>Consumer</td>\n",
       "      <td>NJ</td>\n",
       "      <td>HYUN</td>\n",
       "      <td>ELANTRA</td>\n",
       "      <td>32</td>\n",
       "      <td>15982.25</td>\n",
       "      <td>20150.0</td>\n",
       "      <td>12584.77</td>\n",
       "      <td>1</td>\n",
       "      <td>5</td>\n",
       "      <td>5</td>\n",
       "    </tr>\n",
       "    <tr>\n",
       "      <th>179</th>\n",
       "      <td>Consumer</td>\n",
       "      <td>NJ</td>\n",
       "      <td>TOYT</td>\n",
       "      <td>COROLLA</td>\n",
       "      <td>30</td>\n",
       "      <td>16238.00</td>\n",
       "      <td>22300.0</td>\n",
       "      <td>12868.07</td>\n",
       "      <td>1</td>\n",
       "      <td>6</td>\n",
       "      <td>6</td>\n",
       "    </tr>\n",
       "  </tbody>\n",
       "</table>\n",
       "</div>"
      ]
     },
     "execution_count": 36,
     "metadata": {},
     "output_type": "execute_result"
    }
   ],
   "execution_count": 36
  },
  {
   "metadata": {
    "ExecuteTime": {
     "end_time": "2025-10-27T15:16:37.497358Z",
     "start_time": "2025-10-27T15:16:37.492934Z"
    }
   },
   "cell_type": "code",
   "source": "popular_lots.isnull().sum()",
   "id": "f967a32e9c30b070",
   "outputs": [
    {
     "data": {
      "text/plain": [
       "buyer_type             0\n",
       "mbr_state              0\n",
       "lot_make_cd            0\n",
       "grp_model              0\n",
       "cnt                    0\n",
       "median_acv             0\n",
       "median_plug_lot_acv    0\n",
       "median_repair_cost     0\n",
       "model_rank             0\n",
       "rank                   0\n",
       "rank_clean             0\n",
       "dtype: int64"
      ]
     },
     "execution_count": 37,
     "metadata": {},
     "output_type": "execute_result"
    }
   ],
   "execution_count": 37
  },
  {
   "metadata": {
    "ExecuteTime": {
     "end_time": "2025-10-27T15:16:38.665519Z",
     "start_time": "2025-10-27T15:16:38.657833Z"
    }
   },
   "cell_type": "code",
   "source": "popular_lots.to_csv('../data/processed/popular_lots.csv', index=False)",
   "id": "4bc0b385de2d496e",
   "outputs": [],
   "execution_count": 38
  },
  {
   "metadata": {},
   "cell_type": "markdown",
   "source": "### Upcoming Lots Preprocessing",
   "id": "6384bd24acec9fd5"
  },
  {
   "metadata": {
    "ExecuteTime": {
     "end_time": "2025-10-27T15:17:23.142215Z",
     "start_time": "2025-10-27T15:17:23.111389Z"
    }
   },
   "cell_type": "code",
   "source": "upcoming_lots = pd.read_csv('../data/raw/upcoming_lots.csv')",
   "id": "29a0927167981ab8",
   "outputs": [],
   "execution_count": 41
  },
  {
   "metadata": {
    "ExecuteTime": {
     "end_time": "2025-10-27T15:17:25.246437Z",
     "start_time": "2025-10-27T15:17:25.243536Z"
    }
   },
   "cell_type": "code",
   "source": [
    "def clean_upcoming_lots(df: pd.DataFrame) -> pd.DataFrame:\n",
    "\n",
    "    mode_val = df['damage_type_desc'].mode()\n",
    "    if not mode_val.empty:\n",
    "        df['damage_type_desc'] = df['damage_type_desc'].fillna(mode_val[0])\n",
    "\n",
    "    df = df.groupby(['lot_year', 'lot_make_cd'], group_keys=False).apply(_fill_grp_model_year_make)\n",
    "    df = df.groupby(['lot_make_cd'], group_keys=False).apply(_fill_grp_model_make)\n",
    "    df = df.dropna(subset=['grp_model'])\n",
    "\n",
    "    df['acv'] = df['acv'].mask(df['acv']<=0, df['plug_lot_acv'])\n",
    "\n",
    "    return df"
   ],
   "id": "2e61a411dbdee73f",
   "outputs": [],
   "execution_count": 42
  },
  {
   "metadata": {
    "ExecuteTime": {
     "end_time": "2025-10-27T15:17:25.773094Z",
     "start_time": "2025-10-27T15:17:25.621870Z"
    }
   },
   "cell_type": "code",
   "source": "upcoming_lots = clean_upcoming_lots(upcoming_lots)",
   "id": "e78aa59d8301264",
   "outputs": [
    {
     "name": "stderr",
     "output_type": "stream",
     "text": [
      "/var/folders/jj/1fql_rw17h10wm_w98gwx9wm0000gq/T/ipykernel_84023/1667625631.py:7: DeprecationWarning: DataFrameGroupBy.apply operated on the grouping columns. This behavior is deprecated, and in a future version of pandas the grouping columns will be excluded from the operation. Either pass `include_groups=False` to exclude the groupings or explicitly select the grouping columns after groupby to silence this warning.\n",
      "  df = df.groupby(['lot_year', 'lot_make_cd'], group_keys=False).apply(_fill_grp_model_year_make)\n",
      "/var/folders/jj/1fql_rw17h10wm_w98gwx9wm0000gq/T/ipykernel_84023/1667625631.py:8: DeprecationWarning: DataFrameGroupBy.apply operated on the grouping columns. This behavior is deprecated, and in a future version of pandas the grouping columns will be excluded from the operation. Either pass `include_groups=False` to exclude the groupings or explicitly select the grouping columns after groupby to silence this warning.\n",
      "  df = df.groupby(['lot_make_cd'], group_keys=False).apply(_fill_grp_model_make)\n"
     ]
    }
   ],
   "execution_count": 43
  },
  {
   "metadata": {
    "ExecuteTime": {
     "end_time": "2025-10-27T15:17:26.685958Z",
     "start_time": "2025-10-27T15:17:26.678442Z"
    }
   },
   "cell_type": "code",
   "source": "upcoming_lots.isnull().sum()",
   "id": "c04b9878dac0504e",
   "outputs": [
    {
     "data": {
      "text/plain": [
       "lot_nbr             0\n",
       "lot_year            0\n",
       "lot_make_cd         0\n",
       "grp_model           0\n",
       "damage_type_desc    0\n",
       "repair_cost         0\n",
       "acv                 0\n",
       "plug_lot_acv        0\n",
       "auc_dt              0\n",
       "proquote_amt        0\n",
       "dtype: int64"
      ]
     },
     "execution_count": 44,
     "metadata": {},
     "output_type": "execute_result"
    }
   ],
   "execution_count": 44
  },
  {
   "metadata": {
    "ExecuteTime": {
     "end_time": "2025-10-27T15:17:37.660589Z",
     "start_time": "2025-10-27T15:17:29.210553Z"
    }
   },
   "cell_type": "code",
   "source": [
    "upcoming_lots.to_csv('../data/processed/upcoming_lots.csv', index=False)\n",
    "active_buyers.to_csv('../data/processed/active_buyers.csv', index=False)\n",
    "popular_lots.to_csv('../data/processed/popular_lots.csv', index=False)\n",
    "non_active_buyers.to_csv('../data/processed/non_active_buyers.csv', index=False)"
   ],
   "id": "eb114e87bbf39fe9",
   "outputs": [],
   "execution_count": 45
  },
  {
   "metadata": {},
   "cell_type": "markdown",
   "source": "### Dividing in groups , Collaborative vs one-to-one",
   "id": "51416fa8694ce734"
  },
  {
   "metadata": {
    "ExecuteTime": {
     "end_time": "2025-10-27T15:17:38.844718Z",
     "start_time": "2025-10-27T15:17:38.842771Z"
    }
   },
   "cell_type": "code",
   "source": [
    "def divide_in_groups(df: pd.DataFrame) -> tuple[pd.DataFrame, pd.DataFrame]:\n",
    "    \"\"\"\n",
    "    This function split the data frame into Collaborative and 1-1 filtering groups\n",
    "    \"\"\"\n",
    "    data_high = df[df['total_unique_lots_bid_by_buyers']>=7]\n",
    "    data_low = df[df['total_unique_lots_bid_by_buyers']<7]\n",
    "\n",
    "    return data_high, data_low"
   ],
   "id": "325b99b6219425eb",
   "outputs": [],
   "execution_count": 46
  },
  {
   "metadata": {},
   "cell_type": "markdown",
   "source": "### Splitting in odd(test) and even(holdout)",
   "id": "57faf904f603b486"
  },
  {
   "metadata": {
    "ExecuteTime": {
     "end_time": "2025-10-27T15:17:39.833473Z",
     "start_time": "2025-10-27T15:17:39.831503Z"
    }
   },
   "cell_type": "code",
   "source": [
    "def odd_even_split(df: pd.DataFrame, buyer_col) -> tuple[pd.DataFrame, pd.DataFrame]:\n",
    "    \"\"\"\n",
    "    This function split the data frame into Test and Holdout groups based on odd and even buyer numbers\n",
    "    \"\"\"\n",
    "    df = df.copy()\n",
    "    df['last_digit'] = df[buyer_col] % 10\n",
    "    holdout_df = df[df['last_digit'] % 2 == 0].drop(columns='last_digit')\n",
    "    test_df = df[df['last_digit'] % 2 != 0].drop(columns='last_digit')\n",
    "\n",
    "    return holdout_df, test_df"
   ],
   "id": "ffa58439db19d1e1",
   "outputs": [],
   "execution_count": 47
  },
  {
   "metadata": {
    "ExecuteTime": {
     "end_time": "2025-10-27T15:17:40.701518Z",
     "start_time": "2025-10-27T15:17:40.699587Z"
    }
   },
   "cell_type": "code",
   "source": [
    "def save_split_data(df: pd.DataFrame, output_path: str) -> None:\n",
    "    \"\"\"This function will save the split data into csv files\"\"\"\n",
    "    os.makedirs(os.path.dirname(output_path), exist_ok=True)\n",
    "    df.to_csv(output_path, index=False)\n",
    "    print(f\" Saved: {output_path} ({len(df):,} rows)\")\n"
   ],
   "id": "cdfcb79a803c1f45",
   "outputs": [],
   "execution_count": 48
  },
  {
   "metadata": {
    "ExecuteTime": {
     "end_time": "2025-10-27T15:17:43.198757Z",
     "start_time": "2025-10-27T15:17:40.915847Z"
    }
   },
   "cell_type": "code",
   "source": [
    "active_buyers = pd.read_csv('../data/processed/active_buyers.csv')\n",
    "nonactive_buyers = pd.read_csv('../data/processed/non_active_buyers.csv')"
   ],
   "id": "b671d94962ce7de9",
   "outputs": [],
   "execution_count": 49
  },
  {
   "metadata": {
    "ExecuteTime": {
     "end_time": "2025-10-27T15:17:44.506007Z",
     "start_time": "2025-10-27T15:17:43.942289Z"
    }
   },
   "cell_type": "code",
   "source": [
    "print(f\"Number of active buyers: {active_buyers['buyer_nbr'].nunique()}\")\n",
    "\n",
    "## Group split\n",
    "data_high, data_low = divide_in_groups(active_buyers)\n",
    "print(f\"Number of active buyers in CF: {data_high['buyer_nbr'].nunique()}\")\n",
    "print(f\"Number of active buyers in one-to-one: {data_low['buyer_nbr'].nunique()}\")\n",
    "\n",
    "## Test vs Holdout split\n",
    "holdout_df_cf, test_df_cf = odd_even_split(data_high, buyer_col='buyer_nbr')\n",
    "print(f\"Number of CF buyers in Test: {test_df_cf['buyer_nbr'].nunique()}\")\n",
    "print(f\"Number of CF buyers in Control: {holdout_df_cf['buyer_nbr'].nunique()}\")\n",
    "\n",
    "holdout_df_onetoone, test_df_onetoone = odd_even_split(data_low, buyer_col='buyer_nbr')\n",
    "print(f\"Number of one-to-one buyers in Test: {test_df_onetoone['buyer_nbr'].nunique()}\")\n",
    "print(f\"Number of one-to-one buyers in Control: {holdout_df_onetoone['buyer_nbr'].nunique()}\")\n",
    "## Non-active buyers\n",
    "print(f\"Number of non-active buyers: {nonactive_buyers['mbr_nbr'].nunique()}\")\n",
    "holdout_df_nonactive, test_df_nonactive = odd_even_split(nonactive_buyers, buyer_col='mbr_nbr')\n",
    "print(f\"Number of non-active buyers in Test: {test_df_nonactive['mbr_nbr'].nunique()}\")\n",
    "print(f\"Number of non-active buyers in Control: {holdout_df_nonactive['mbr_nbr'].nunique()}\")"
   ],
   "id": "6a7595ef0b40e7d2",
   "outputs": [
    {
     "name": "stdout",
     "output_type": "stream",
     "text": [
      "Number of active buyers: 80757\n",
      "Number of active buyers in CF: 33179\n",
      "Number of active buyers in one-to-one: 47578\n",
      "Number of CF buyers in Test: 16486\n",
      "Number of CF buyers in Control: 16693\n",
      "Number of one-to-one buyers in Test: 23702\n",
      "Number of one-to-one buyers in Control: 23876\n",
      "Number of non-active buyers: 142687\n",
      "Number of non-active buyers in Test: 71327\n",
      "Number of non-active buyers in Control: 71360\n"
     ]
    }
   ],
   "execution_count": 50
  },
  {
   "metadata": {
    "ExecuteTime": {
     "end_time": "2025-10-27T15:18:17.807723Z",
     "start_time": "2025-10-27T15:18:09.599203Z"
    }
   },
   "cell_type": "code",
   "source": [
    "test_df_nonactive.to_csv('../data/split/nonactive_test.csv', index=False)\n",
    "holdout_df_nonactive.to_csv('../data/split/nonactive_holdout.csv', index=False)\n",
    "\n",
    "test_df_cf.to_csv('../data/split/cf_test.csv', index=False)\n",
    "holdout_df_cf.to_csv('../data/split/cf_holdout.csv', index=False)\n",
    "\n",
    "test_df_onetoone.to_csv('../data/split/one_to_one_test.csv', index=False)\n",
    "holdout_df_onetoone.to_csv('../data/split/one_to_one_holdout.csv', index=False)"
   ],
   "id": "b6c156d7c61d3ba1",
   "outputs": [],
   "execution_count": 51
  },
  {
   "metadata": {},
   "cell_type": "code",
   "outputs": [],
   "execution_count": null,
   "source": "",
   "id": "3e62ba4976112ea2"
  },
  {
   "metadata": {
    "ExecuteTime": {
     "end_time": "2025-10-23T22:01:44.388240Z",
     "start_time": "2025-10-23T22:01:44.381758Z"
    }
   },
   "cell_type": "code",
   "source": "holdout_df_cf.head()",
   "id": "3e34be816875178f",
   "outputs": [
    {
     "data": {
      "text/plain": [
       "  mbr_lic_type mbr_state   lot_nbr  buyer_nbr                    mbr_email  \\\n",
       "0       Dealer        WA  71511795     504922      21ramirezcars@gmail.com   \n",
       "2     Consumer        NY  60592415     634574       americanu961@yahoo.com   \n",
       "4   Dismantler        TX  62463125      34736           chavas1428@msn.com   \n",
       "5   Dismantler        NY  62464515     549138    RICK.WILBERT@WILBERTS.COM   \n",
       "6   Dismantler        MN  62474775      62636  elite-autoparts@hotmail.com   \n",
       "\n",
       "   max_bid      inv_dt  lot_year lot_make_cd  grp_model      acv  \\\n",
       "0   3300.0  2025-09-23      2016        AUDI         A3  13561.0   \n",
       "2   3000.0  2025-07-17      2020         BMW         X3  24637.0   \n",
       "4   1850.0  2025-08-06      2016        BUIC    ENCLAVE  13241.0   \n",
       "5   1900.0  2025-07-14      2016         BMW   2 SERIES  19121.0   \n",
       "6   1200.0  2025-08-04      1989        CADI  ALL OTHER   4985.0   \n",
       "\n",
       "   plug_lot_acv  repair_cost  total_unique_buyers_on_that_lot  \\\n",
       "0       10650.0     15542.18                                8   \n",
       "2       22275.0     14269.97                                3   \n",
       "4       11150.0     11016.75                               15   \n",
       "5       14475.0     16830.37                                5   \n",
       "6           0.0      3067.21                                8   \n",
       "\n",
       "   total_unique_lots_bid_by_buyers  \n",
       "0                              121  \n",
       "2                              495  \n",
       "4                               56  \n",
       "5                             1477  \n",
       "6                                7  "
      ],
      "text/html": [
       "<div>\n",
       "<style scoped>\n",
       "    .dataframe tbody tr th:only-of-type {\n",
       "        vertical-align: middle;\n",
       "    }\n",
       "\n",
       "    .dataframe tbody tr th {\n",
       "        vertical-align: top;\n",
       "    }\n",
       "\n",
       "    .dataframe thead th {\n",
       "        text-align: right;\n",
       "    }\n",
       "</style>\n",
       "<table border=\"1\" class=\"dataframe\">\n",
       "  <thead>\n",
       "    <tr style=\"text-align: right;\">\n",
       "      <th></th>\n",
       "      <th>mbr_lic_type</th>\n",
       "      <th>mbr_state</th>\n",
       "      <th>lot_nbr</th>\n",
       "      <th>buyer_nbr</th>\n",
       "      <th>mbr_email</th>\n",
       "      <th>max_bid</th>\n",
       "      <th>inv_dt</th>\n",
       "      <th>lot_year</th>\n",
       "      <th>lot_make_cd</th>\n",
       "      <th>grp_model</th>\n",
       "      <th>acv</th>\n",
       "      <th>plug_lot_acv</th>\n",
       "      <th>repair_cost</th>\n",
       "      <th>total_unique_buyers_on_that_lot</th>\n",
       "      <th>total_unique_lots_bid_by_buyers</th>\n",
       "    </tr>\n",
       "  </thead>\n",
       "  <tbody>\n",
       "    <tr>\n",
       "      <th>0</th>\n",
       "      <td>Dealer</td>\n",
       "      <td>WA</td>\n",
       "      <td>71511795</td>\n",
       "      <td>504922</td>\n",
       "      <td>21ramirezcars@gmail.com</td>\n",
       "      <td>3300.0</td>\n",
       "      <td>2025-09-23</td>\n",
       "      <td>2016</td>\n",
       "      <td>AUDI</td>\n",
       "      <td>A3</td>\n",
       "      <td>13561.0</td>\n",
       "      <td>10650.0</td>\n",
       "      <td>15542.18</td>\n",
       "      <td>8</td>\n",
       "      <td>121</td>\n",
       "    </tr>\n",
       "    <tr>\n",
       "      <th>2</th>\n",
       "      <td>Consumer</td>\n",
       "      <td>NY</td>\n",
       "      <td>60592415</td>\n",
       "      <td>634574</td>\n",
       "      <td>americanu961@yahoo.com</td>\n",
       "      <td>3000.0</td>\n",
       "      <td>2025-07-17</td>\n",
       "      <td>2020</td>\n",
       "      <td>BMW</td>\n",
       "      <td>X3</td>\n",
       "      <td>24637.0</td>\n",
       "      <td>22275.0</td>\n",
       "      <td>14269.97</td>\n",
       "      <td>3</td>\n",
       "      <td>495</td>\n",
       "    </tr>\n",
       "    <tr>\n",
       "      <th>4</th>\n",
       "      <td>Dismantler</td>\n",
       "      <td>TX</td>\n",
       "      <td>62463125</td>\n",
       "      <td>34736</td>\n",
       "      <td>chavas1428@msn.com</td>\n",
       "      <td>1850.0</td>\n",
       "      <td>2025-08-06</td>\n",
       "      <td>2016</td>\n",
       "      <td>BUIC</td>\n",
       "      <td>ENCLAVE</td>\n",
       "      <td>13241.0</td>\n",
       "      <td>11150.0</td>\n",
       "      <td>11016.75</td>\n",
       "      <td>15</td>\n",
       "      <td>56</td>\n",
       "    </tr>\n",
       "    <tr>\n",
       "      <th>5</th>\n",
       "      <td>Dismantler</td>\n",
       "      <td>NY</td>\n",
       "      <td>62464515</td>\n",
       "      <td>549138</td>\n",
       "      <td>RICK.WILBERT@WILBERTS.COM</td>\n",
       "      <td>1900.0</td>\n",
       "      <td>2025-07-14</td>\n",
       "      <td>2016</td>\n",
       "      <td>BMW</td>\n",
       "      <td>2 SERIES</td>\n",
       "      <td>19121.0</td>\n",
       "      <td>14475.0</td>\n",
       "      <td>16830.37</td>\n",
       "      <td>5</td>\n",
       "      <td>1477</td>\n",
       "    </tr>\n",
       "    <tr>\n",
       "      <th>6</th>\n",
       "      <td>Dismantler</td>\n",
       "      <td>MN</td>\n",
       "      <td>62474775</td>\n",
       "      <td>62636</td>\n",
       "      <td>elite-autoparts@hotmail.com</td>\n",
       "      <td>1200.0</td>\n",
       "      <td>2025-08-04</td>\n",
       "      <td>1989</td>\n",
       "      <td>CADI</td>\n",
       "      <td>ALL OTHER</td>\n",
       "      <td>4985.0</td>\n",
       "      <td>0.0</td>\n",
       "      <td>3067.21</td>\n",
       "      <td>8</td>\n",
       "      <td>7</td>\n",
       "    </tr>\n",
       "  </tbody>\n",
       "</table>\n",
       "</div>"
      ]
     },
     "execution_count": 123,
     "metadata": {},
     "output_type": "execute_result"
    }
   ],
   "execution_count": 123
  },
  {
   "metadata": {
    "ExecuteTime": {
     "end_time": "2025-10-23T22:01:44.877844Z",
     "start_time": "2025-10-23T22:01:44.873217Z"
    }
   },
   "cell_type": "code",
   "source": "holdout_df_cf[holdout_df_cf['buyer_nbr']==9484]",
   "id": "b2a9646a64051a08",
   "outputs": [
    {
     "data": {
      "text/plain": [
       "         mbr_lic_type mbr_state   lot_nbr  buyer_nbr  \\\n",
       "277  General Business        AK  89401545       9484   \n",
       "\n",
       "                      mbr_email  max_bid      inv_dt  lot_year lot_make_cd  \\\n",
       "277  vitaliy.bocharov@yahoo.com    175.0  2025-07-15      2018         KIA   \n",
       "\n",
       "    grp_model      acv  plug_lot_acv  repair_cost  \\\n",
       "277      SOUL  12054.0       12750.0     11650.29   \n",
       "\n",
       "     total_unique_buyers_on_that_lot  total_unique_lots_bid_by_buyers  \n",
       "277                                4                               91  "
      ],
      "text/html": [
       "<div>\n",
       "<style scoped>\n",
       "    .dataframe tbody tr th:only-of-type {\n",
       "        vertical-align: middle;\n",
       "    }\n",
       "\n",
       "    .dataframe tbody tr th {\n",
       "        vertical-align: top;\n",
       "    }\n",
       "\n",
       "    .dataframe thead th {\n",
       "        text-align: right;\n",
       "    }\n",
       "</style>\n",
       "<table border=\"1\" class=\"dataframe\">\n",
       "  <thead>\n",
       "    <tr style=\"text-align: right;\">\n",
       "      <th></th>\n",
       "      <th>mbr_lic_type</th>\n",
       "      <th>mbr_state</th>\n",
       "      <th>lot_nbr</th>\n",
       "      <th>buyer_nbr</th>\n",
       "      <th>mbr_email</th>\n",
       "      <th>max_bid</th>\n",
       "      <th>inv_dt</th>\n",
       "      <th>lot_year</th>\n",
       "      <th>lot_make_cd</th>\n",
       "      <th>grp_model</th>\n",
       "      <th>acv</th>\n",
       "      <th>plug_lot_acv</th>\n",
       "      <th>repair_cost</th>\n",
       "      <th>total_unique_buyers_on_that_lot</th>\n",
       "      <th>total_unique_lots_bid_by_buyers</th>\n",
       "    </tr>\n",
       "  </thead>\n",
       "  <tbody>\n",
       "    <tr>\n",
       "      <th>277</th>\n",
       "      <td>General Business</td>\n",
       "      <td>AK</td>\n",
       "      <td>89401545</td>\n",
       "      <td>9484</td>\n",
       "      <td>vitaliy.bocharov@yahoo.com</td>\n",
       "      <td>175.0</td>\n",
       "      <td>2025-07-15</td>\n",
       "      <td>2018</td>\n",
       "      <td>KIA</td>\n",
       "      <td>SOUL</td>\n",
       "      <td>12054.0</td>\n",
       "      <td>12750.0</td>\n",
       "      <td>11650.29</td>\n",
       "      <td>4</td>\n",
       "      <td>91</td>\n",
       "    </tr>\n",
       "  </tbody>\n",
       "</table>\n",
       "</div>"
      ]
     },
     "execution_count": 124,
     "metadata": {},
     "output_type": "execute_result"
    }
   ],
   "execution_count": 124
  },
  {
   "metadata": {
    "ExecuteTime": {
     "end_time": "2025-10-23T22:02:47.832204Z",
     "start_time": "2025-10-23T22:02:47.827779Z"
    }
   },
   "cell_type": "code",
   "source": "popular_lots[(popular_lots['buyer_type']=='General Business') & (popular_lots['mbr_state']=='AK')]",
   "id": "f79ef48591b3d575",
   "outputs": [
    {
     "data": {
      "text/plain": [
       "            buyer_type mbr_state lot_make_cd  grp_model  cnt  median_acv  \\\n",
       "1056  General Business        AK         JEP   CHEROKEE    4    21150.00   \n",
       "1057  General Business        AK         KIA   SPORTAGE    3    14698.59   \n",
       "1058  General Business        AK        CHEV  SILVERADO    3    32394.26   \n",
       "1059  General Business        AK         KIA       SOUL    3    10160.00   \n",
       "1060  General Business        AK        FORD       F150    3    25991.88   \n",
       "1061  General Business        AK         RAM       1500    3    20625.00   \n",
       "\n",
       "      median_plug_lot_acv  median_repair_cost  model_rank  rank  rank_clean  \n",
       "1056              21150.0                0.00           1     1           1  \n",
       "1057              19450.0                0.00           1     2           2  \n",
       "1058              36925.0            13008.31           1     3           3  \n",
       "1059              12750.0             4796.00           1     4           4  \n",
       "1060              31750.0            11984.00           1     5           5  \n",
       "1061              20625.0                0.00           1     6           6  "
      ],
      "text/html": [
       "<div>\n",
       "<style scoped>\n",
       "    .dataframe tbody tr th:only-of-type {\n",
       "        vertical-align: middle;\n",
       "    }\n",
       "\n",
       "    .dataframe tbody tr th {\n",
       "        vertical-align: top;\n",
       "    }\n",
       "\n",
       "    .dataframe thead th {\n",
       "        text-align: right;\n",
       "    }\n",
       "</style>\n",
       "<table border=\"1\" class=\"dataframe\">\n",
       "  <thead>\n",
       "    <tr style=\"text-align: right;\">\n",
       "      <th></th>\n",
       "      <th>buyer_type</th>\n",
       "      <th>mbr_state</th>\n",
       "      <th>lot_make_cd</th>\n",
       "      <th>grp_model</th>\n",
       "      <th>cnt</th>\n",
       "      <th>median_acv</th>\n",
       "      <th>median_plug_lot_acv</th>\n",
       "      <th>median_repair_cost</th>\n",
       "      <th>model_rank</th>\n",
       "      <th>rank</th>\n",
       "      <th>rank_clean</th>\n",
       "    </tr>\n",
       "  </thead>\n",
       "  <tbody>\n",
       "    <tr>\n",
       "      <th>1056</th>\n",
       "      <td>General Business</td>\n",
       "      <td>AK</td>\n",
       "      <td>JEP</td>\n",
       "      <td>CHEROKEE</td>\n",
       "      <td>4</td>\n",
       "      <td>21150.00</td>\n",
       "      <td>21150.0</td>\n",
       "      <td>0.00</td>\n",
       "      <td>1</td>\n",
       "      <td>1</td>\n",
       "      <td>1</td>\n",
       "    </tr>\n",
       "    <tr>\n",
       "      <th>1057</th>\n",
       "      <td>General Business</td>\n",
       "      <td>AK</td>\n",
       "      <td>KIA</td>\n",
       "      <td>SPORTAGE</td>\n",
       "      <td>3</td>\n",
       "      <td>14698.59</td>\n",
       "      <td>19450.0</td>\n",
       "      <td>0.00</td>\n",
       "      <td>1</td>\n",
       "      <td>2</td>\n",
       "      <td>2</td>\n",
       "    </tr>\n",
       "    <tr>\n",
       "      <th>1058</th>\n",
       "      <td>General Business</td>\n",
       "      <td>AK</td>\n",
       "      <td>CHEV</td>\n",
       "      <td>SILVERADO</td>\n",
       "      <td>3</td>\n",
       "      <td>32394.26</td>\n",
       "      <td>36925.0</td>\n",
       "      <td>13008.31</td>\n",
       "      <td>1</td>\n",
       "      <td>3</td>\n",
       "      <td>3</td>\n",
       "    </tr>\n",
       "    <tr>\n",
       "      <th>1059</th>\n",
       "      <td>General Business</td>\n",
       "      <td>AK</td>\n",
       "      <td>KIA</td>\n",
       "      <td>SOUL</td>\n",
       "      <td>3</td>\n",
       "      <td>10160.00</td>\n",
       "      <td>12750.0</td>\n",
       "      <td>4796.00</td>\n",
       "      <td>1</td>\n",
       "      <td>4</td>\n",
       "      <td>4</td>\n",
       "    </tr>\n",
       "    <tr>\n",
       "      <th>1060</th>\n",
       "      <td>General Business</td>\n",
       "      <td>AK</td>\n",
       "      <td>FORD</td>\n",
       "      <td>F150</td>\n",
       "      <td>3</td>\n",
       "      <td>25991.88</td>\n",
       "      <td>31750.0</td>\n",
       "      <td>11984.00</td>\n",
       "      <td>1</td>\n",
       "      <td>5</td>\n",
       "      <td>5</td>\n",
       "    </tr>\n",
       "    <tr>\n",
       "      <th>1061</th>\n",
       "      <td>General Business</td>\n",
       "      <td>AK</td>\n",
       "      <td>RAM</td>\n",
       "      <td>1500</td>\n",
       "      <td>3</td>\n",
       "      <td>20625.00</td>\n",
       "      <td>20625.0</td>\n",
       "      <td>0.00</td>\n",
       "      <td>1</td>\n",
       "      <td>6</td>\n",
       "      <td>6</td>\n",
       "    </tr>\n",
       "  </tbody>\n",
       "</table>\n",
       "</div>"
      ]
     },
     "execution_count": 128,
     "metadata": {},
     "output_type": "execute_result"
    }
   ],
   "execution_count": 128
  },
  {
   "metadata": {},
   "cell_type": "code",
   "outputs": [],
   "execution_count": null,
   "source": "",
   "id": "da4b42ad32f66f0a"
  },
  {
   "metadata": {},
   "cell_type": "code",
   "outputs": [],
   "execution_count": null,
   "source": "",
   "id": "3bf21b934b543a6e"
  },
  {
   "metadata": {},
   "cell_type": "markdown",
   "source": "### Westlake",
   "id": "2c12428d9bfa05c1"
  },
  {
   "metadata": {
    "ExecuteTime": {
     "end_time": "2025-10-16T18:03:56.300225Z",
     "start_time": "2025-10-16T18:03:56.296861Z"
    }
   },
   "cell_type": "code",
   "source": [
    "import pandas as pd\n",
    "df_wl = pd.read_csv('data/raw/wl_lots.csv')"
   ],
   "id": "1e633bfe4f72faf3",
   "outputs": [],
   "execution_count": 25
  },
  {
   "metadata": {
    "ExecuteTime": {
     "end_time": "2025-10-16T18:03:56.622561Z",
     "start_time": "2025-10-16T18:03:56.617905Z"
    }
   },
   "cell_type": "code",
   "source": "df_wl.head()",
   "id": "3c2e5f14b3ea7b60",
   "outputs": [
    {
     "data": {
      "text/plain": [
       "    lot_nbr  lot_stg  lot_year lot_make_cd   grp_model damage_type_desc  \\\n",
       "0  80762855       40      2017        MERZ     C-CLASS      NORMAL WEAR   \n",
       "1  85948435       40      2012         GMC     TERRAIN        FRONT END   \n",
       "2  85654195       40      2011        HOND       CIVIC      NORMAL WEAR   \n",
       "3  80588215       50      2011         GMC      SIERRA       MECHANICAL   \n",
       "4  86334335       40      2017        TOYT  HIGHLANDER             SIDE   \n",
       "\n",
       "   repair_cost      acv  plug_lot_acv auc_dt  proquote_amt  \n",
       "0       7261.0  13220.0       15850.0    NaN          0.00  \n",
       "1       2783.0   5260.0        6250.0    NaN          0.00  \n",
       "2       8092.0   6900.0        7975.0    NaN        879.94  \n",
       "3      11315.0   7440.0        8625.0    NaN       1012.41  \n",
       "4      30808.0  17100.0       20850.0    NaN       5008.09  "
      ],
      "text/html": [
       "<div>\n",
       "<style scoped>\n",
       "    .dataframe tbody tr th:only-of-type {\n",
       "        vertical-align: middle;\n",
       "    }\n",
       "\n",
       "    .dataframe tbody tr th {\n",
       "        vertical-align: top;\n",
       "    }\n",
       "\n",
       "    .dataframe thead th {\n",
       "        text-align: right;\n",
       "    }\n",
       "</style>\n",
       "<table border=\"1\" class=\"dataframe\">\n",
       "  <thead>\n",
       "    <tr style=\"text-align: right;\">\n",
       "      <th></th>\n",
       "      <th>lot_nbr</th>\n",
       "      <th>lot_stg</th>\n",
       "      <th>lot_year</th>\n",
       "      <th>lot_make_cd</th>\n",
       "      <th>grp_model</th>\n",
       "      <th>damage_type_desc</th>\n",
       "      <th>repair_cost</th>\n",
       "      <th>acv</th>\n",
       "      <th>plug_lot_acv</th>\n",
       "      <th>auc_dt</th>\n",
       "      <th>proquote_amt</th>\n",
       "    </tr>\n",
       "  </thead>\n",
       "  <tbody>\n",
       "    <tr>\n",
       "      <th>0</th>\n",
       "      <td>80762855</td>\n",
       "      <td>40</td>\n",
       "      <td>2017</td>\n",
       "      <td>MERZ</td>\n",
       "      <td>C-CLASS</td>\n",
       "      <td>NORMAL WEAR</td>\n",
       "      <td>7261.0</td>\n",
       "      <td>13220.0</td>\n",
       "      <td>15850.0</td>\n",
       "      <td>NaN</td>\n",
       "      <td>0.00</td>\n",
       "    </tr>\n",
       "    <tr>\n",
       "      <th>1</th>\n",
       "      <td>85948435</td>\n",
       "      <td>40</td>\n",
       "      <td>2012</td>\n",
       "      <td>GMC</td>\n",
       "      <td>TERRAIN</td>\n",
       "      <td>FRONT END</td>\n",
       "      <td>2783.0</td>\n",
       "      <td>5260.0</td>\n",
       "      <td>6250.0</td>\n",
       "      <td>NaN</td>\n",
       "      <td>0.00</td>\n",
       "    </tr>\n",
       "    <tr>\n",
       "      <th>2</th>\n",
       "      <td>85654195</td>\n",
       "      <td>40</td>\n",
       "      <td>2011</td>\n",
       "      <td>HOND</td>\n",
       "      <td>CIVIC</td>\n",
       "      <td>NORMAL WEAR</td>\n",
       "      <td>8092.0</td>\n",
       "      <td>6900.0</td>\n",
       "      <td>7975.0</td>\n",
       "      <td>NaN</td>\n",
       "      <td>879.94</td>\n",
       "    </tr>\n",
       "    <tr>\n",
       "      <th>3</th>\n",
       "      <td>80588215</td>\n",
       "      <td>50</td>\n",
       "      <td>2011</td>\n",
       "      <td>GMC</td>\n",
       "      <td>SIERRA</td>\n",
       "      <td>MECHANICAL</td>\n",
       "      <td>11315.0</td>\n",
       "      <td>7440.0</td>\n",
       "      <td>8625.0</td>\n",
       "      <td>NaN</td>\n",
       "      <td>1012.41</td>\n",
       "    </tr>\n",
       "    <tr>\n",
       "      <th>4</th>\n",
       "      <td>86334335</td>\n",
       "      <td>40</td>\n",
       "      <td>2017</td>\n",
       "      <td>TOYT</td>\n",
       "      <td>HIGHLANDER</td>\n",
       "      <td>SIDE</td>\n",
       "      <td>30808.0</td>\n",
       "      <td>17100.0</td>\n",
       "      <td>20850.0</td>\n",
       "      <td>NaN</td>\n",
       "      <td>5008.09</td>\n",
       "    </tr>\n",
       "  </tbody>\n",
       "</table>\n",
       "</div>"
      ]
     },
     "execution_count": 26,
     "metadata": {},
     "output_type": "execute_result"
    }
   ],
   "execution_count": 26
  },
  {
   "metadata": {
    "ExecuteTime": {
     "end_time": "2025-10-16T18:03:57.448831Z",
     "start_time": "2025-10-16T18:03:57.445595Z"
    }
   },
   "cell_type": "code",
   "source": "df_wl.isnull().sum()",
   "id": "63b0692ab1ff4c1c",
   "outputs": [
    {
     "data": {
      "text/plain": [
       "lot_nbr               0\n",
       "lot_stg               0\n",
       "lot_year              0\n",
       "lot_make_cd           0\n",
       "grp_model             0\n",
       "damage_type_desc      0\n",
       "repair_cost           0\n",
       "acv                   0\n",
       "plug_lot_acv          0\n",
       "auc_dt              320\n",
       "proquote_amt          0\n",
       "dtype: int64"
      ]
     },
     "execution_count": 27,
     "metadata": {},
     "output_type": "execute_result"
    }
   ],
   "execution_count": 27
  },
  {
   "metadata": {
    "ExecuteTime": {
     "end_time": "2025-10-14T20:21:11.799815Z",
     "start_time": "2025-10-14T20:21:11.796778Z"
    }
   },
   "cell_type": "code",
   "source": "df_wl['grp_model'] = df_wl['grp_model'].fillna(df_wl['grp_model'].mode()[0])",
   "id": "90a5c4d340605181",
   "outputs": [],
   "execution_count": 6
  },
  {
   "metadata": {
    "ExecuteTime": {
     "end_time": "2025-10-16T18:04:02.745955Z",
     "start_time": "2025-10-16T18:04:02.740827Z"
    }
   },
   "cell_type": "code",
   "source": "df_wl.to_csv('data/interim/wl_lots.csv',index=False)",
   "id": "f08b17aeaf5193d",
   "outputs": [],
   "execution_count": 28
  },
  {
   "metadata": {},
   "cell_type": "code",
   "outputs": [],
   "execution_count": null,
   "source": "",
   "id": "3aaf818bdefba92b"
  }
 ],
 "metadata": {
  "kernelspec": {
   "display_name": "Python 3",
   "language": "python",
   "name": "python3"
  },
  "language_info": {
   "codemirror_mode": {
    "name": "ipython",
    "version": 2
   },
   "file_extension": ".py",
   "mimetype": "text/x-python",
   "name": "python",
   "nbconvert_exporter": "python",
   "pygments_lexer": "ipython2",
   "version": "2.7.6"
  }
 },
 "nbformat": 4,
 "nbformat_minor": 5
}

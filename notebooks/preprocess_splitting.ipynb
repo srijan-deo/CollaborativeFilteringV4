{
 "cells": [
  {
   "cell_type": "code",
   "id": "initial_id",
   "metadata": {
    "collapsed": true,
    "ExecuteTime": {
     "end_time": "2025-10-10T19:42:21.179358Z",
     "start_time": "2025-10-10T19:42:21.173646Z"
    }
   },
   "source": "import pandas as pd",
   "outputs": [],
   "execution_count": 89
  },
  {
   "metadata": {},
   "cell_type": "markdown",
   "source": "### Active buyers preprocessing",
   "id": "d523abd58315329c"
  },
  {
   "metadata": {
    "ExecuteTime": {
     "end_time": "2025-10-13T23:16:57.314150Z",
     "start_time": "2025-10-13T23:16:57.256942Z"
    }
   },
   "cell_type": "code",
   "source": [
    "active_buyers = pd.read_csv('data/raw/active_buyers.csv')\n",
    "active_buyers.head()"
   ],
   "id": "ec17017aeed779c9",
   "outputs": [
    {
     "ename": "NameError",
     "evalue": "name 'pd' is not defined",
     "output_type": "error",
     "traceback": [
      "\u001B[31m---------------------------------------------------------------------------\u001B[39m",
      "\u001B[31mNameError\u001B[39m                                 Traceback (most recent call last)",
      "\u001B[36mCell\u001B[39m\u001B[36m \u001B[39m\u001B[32mIn[1]\u001B[39m\u001B[32m, line 1\u001B[39m\n\u001B[32m----> \u001B[39m\u001B[32m1\u001B[39m active_bidders = \u001B[43mpd\u001B[49m.read_csv(\u001B[33m'\u001B[39m\u001B[33mdata/raw/active_bidders.csv\u001B[39m\u001B[33m'\u001B[39m)\n\u001B[32m      2\u001B[39m active_bidders.head()\n",
      "\u001B[31mNameError\u001B[39m: name 'pd' is not defined"
     ]
    }
   ],
   "execution_count": 1
  },
  {
   "metadata": {
    "ExecuteTime": {
     "end_time": "2025-10-13T15:09:32.454840Z",
     "start_time": "2025-10-13T15:09:32.451133Z"
    }
   },
   "cell_type": "code",
   "source": "active_buyers.shape",
   "id": "fc094eb8e56e7c6c",
   "outputs": [
    {
     "data": {
      "text/plain": [
       "(3848023, 14)"
      ]
     },
     "execution_count": 140,
     "metadata": {},
     "output_type": "execute_result"
    }
   ],
   "execution_count": 140
  },
  {
   "metadata": {
    "ExecuteTime": {
     "end_time": "2025-10-13T15:09:33.720654Z",
     "start_time": "2025-10-13T15:09:33.427468Z"
    }
   },
   "cell_type": "code",
   "source": "active_buyers.isnull().sum()",
   "id": "e4834466804f6aa6",
   "outputs": [
    {
     "data": {
      "text/plain": [
       "mbr_lic_type                        14688\n",
       "mbr_state                               0\n",
       "lot_nbr                                 0\n",
       "buyer_nbr                               0\n",
       "mbr_email                               0\n",
       "max_bid                                 0\n",
       "inv_dt                                  0\n",
       "lot_year                                0\n",
       "lot_make_cd                             0\n",
       "grp_model                          103036\n",
       "acv                                     0\n",
       "repair_cost                             0\n",
       "total_unique_buyers_on_that_lot         0\n",
       "total_unique_lots_bid_by_buyers         0\n",
       "dtype: int64"
      ]
     },
     "execution_count": 141,
     "metadata": {},
     "output_type": "execute_result"
    }
   ],
   "execution_count": 141
  },
  {
   "metadata": {},
   "cell_type": "markdown",
   "source": [
    "### Missing value imputations based on:\n",
    "1. mbr lic type: Mode\n",
    "2. mbr state: Mode\n",
    "3. grp model : Mode within year and make"
   ],
   "id": "7badf72f04dca32f"
  },
  {
   "metadata": {
    "ExecuteTime": {
     "end_time": "2025-10-13T15:09:39.349621Z",
     "start_time": "2025-10-13T15:09:39.007951Z"
    }
   },
   "cell_type": "code",
   "source": [
    "active_buyers['mbr_lic_type'] = active_buyers['mbr_lic_type'].fillna(active_buyers['mbr_lic_type'].mode()[0])\n",
    "active_buyers['mbr_state'] = active_buyers['mbr_state'].fillna(active_buyers['mbr_state'].mode()[0])"
   ],
   "id": "cda01fd850df8bad",
   "outputs": [],
   "execution_count": 142
  },
  {
   "metadata": {
    "ExecuteTime": {
     "end_time": "2025-10-13T15:09:39.947703Z",
     "start_time": "2025-10-13T15:09:39.879106Z"
    }
   },
   "cell_type": "code",
   "source": [
    "## Grp model missing impute\n",
    "active_buyers[active_buyers['grp_model'].isna()]"
   ],
   "id": "e1f474e03603fc99",
   "outputs": [
    {
     "data": {
      "text/plain": [
       "        mbr_lic_type mbr_state   lot_nbr  buyer_nbr  \\\n",
       "48596         Export        DE  71856465      96045   \n",
       "48664       Consumer        NV  82087935     341672   \n",
       "48676     Dismantler        NV  66676435      39955   \n",
       "48707         Export        DE  53662215      96045   \n",
       "48864     Dismantler        NV  64113785      39955   \n",
       "...              ...       ...       ...        ...   \n",
       "3727644       Dealer        WI  67201425     580353   \n",
       "3727658       Export        WI  67966295     634787   \n",
       "3727672       Export        WI  65513095     706229   \n",
       "3727685       Dealer        WI  65502855     824620   \n",
       "3727692       Dealer        WI  56632505      67723   \n",
       "\n",
       "                                                 mbr_email  max_bid  \\\n",
       "48596                                  mohamed@edfa3ly.com  10700.0   \n",
       "48664                              randyscott404@gmail.com   2050.0   \n",
       "48676                                       luke@nvpap.com    125.0   \n",
       "48707                                  mohamed@edfa3ly.com   5400.0   \n",
       "48864                                       luke@nvpap.com    125.0   \n",
       "...                                                    ...      ...   \n",
       "3727644                               cgilroy121@gmail.com    275.0   \n",
       "3727658  43678707-MSTRBDR-83993959-1957-4718-ad43-fc7d6...  46500.0   \n",
       "3727672  127264-MSTRBDR-32763034-9843-4609-af28-0814596...  12100.0   \n",
       "3727685                         prestigeauto6767@gmail.com   6600.0   \n",
       "3727692                                  j_stemper@msn.com    175.0   \n",
       "\n",
       "             inv_dt  lot_year lot_make_cd grp_model       acv  repair_cost  \\\n",
       "48596    2025-09-15      2024        NISS       NaN  22404.00         0.00   \n",
       "48664    2025-09-29      2023        PLSR       NaN  26977.00     18310.20   \n",
       "48676    2025-08-06      2024        NISS       NaN  21611.00         0.00   \n",
       "48707    2025-07-15      2023         KIA       NaN  20891.00     12267.51   \n",
       "48864    2025-09-12      2025        TOYT       NaN  29425.00     34401.83   \n",
       "...             ...       ...         ...       ...       ...          ...   \n",
       "3727644  2025-08-19      2025        NISS       NaN      0.00         0.00   \n",
       "3727658  2025-09-10      2024        LEXS       NaN  63746.00     47418.51   \n",
       "3727672  2025-08-11      2022        VOLV       NaN  40361.00     36174.17   \n",
       "3727685  2025-08-14      2024        FORD       NaN  29586.00     27449.16   \n",
       "3727692  2025-07-29      2022        CHEV       NaN  26925.71     20972.56   \n",
       "\n",
       "         total_unique_buyers_on_that_lot  total_unique_lots_bid_by_buyers  \n",
       "48596                                 19                              191  \n",
       "48664                                  3                                9  \n",
       "48676                                  5                             5421  \n",
       "48707                                  7                              191  \n",
       "48864                                  6                             5421  \n",
       "...                                  ...                              ...  \n",
       "3727644                               10                             3093  \n",
       "3727658                                9                             1337  \n",
       "3727672                                3                             2000  \n",
       "3727685                                5                             1157  \n",
       "3727692                               10                               99  \n",
       "\n",
       "[103036 rows x 14 columns]"
      ],
      "text/html": [
       "<div>\n",
       "<style scoped>\n",
       "    .dataframe tbody tr th:only-of-type {\n",
       "        vertical-align: middle;\n",
       "    }\n",
       "\n",
       "    .dataframe tbody tr th {\n",
       "        vertical-align: top;\n",
       "    }\n",
       "\n",
       "    .dataframe thead th {\n",
       "        text-align: right;\n",
       "    }\n",
       "</style>\n",
       "<table border=\"1\" class=\"dataframe\">\n",
       "  <thead>\n",
       "    <tr style=\"text-align: right;\">\n",
       "      <th></th>\n",
       "      <th>mbr_lic_type</th>\n",
       "      <th>mbr_state</th>\n",
       "      <th>lot_nbr</th>\n",
       "      <th>buyer_nbr</th>\n",
       "      <th>mbr_email</th>\n",
       "      <th>max_bid</th>\n",
       "      <th>inv_dt</th>\n",
       "      <th>lot_year</th>\n",
       "      <th>lot_make_cd</th>\n",
       "      <th>grp_model</th>\n",
       "      <th>acv</th>\n",
       "      <th>repair_cost</th>\n",
       "      <th>total_unique_buyers_on_that_lot</th>\n",
       "      <th>total_unique_lots_bid_by_buyers</th>\n",
       "    </tr>\n",
       "  </thead>\n",
       "  <tbody>\n",
       "    <tr>\n",
       "      <th>48596</th>\n",
       "      <td>Export</td>\n",
       "      <td>DE</td>\n",
       "      <td>71856465</td>\n",
       "      <td>96045</td>\n",
       "      <td>mohamed@edfa3ly.com</td>\n",
       "      <td>10700.0</td>\n",
       "      <td>2025-09-15</td>\n",
       "      <td>2024</td>\n",
       "      <td>NISS</td>\n",
       "      <td>NaN</td>\n",
       "      <td>22404.00</td>\n",
       "      <td>0.00</td>\n",
       "      <td>19</td>\n",
       "      <td>191</td>\n",
       "    </tr>\n",
       "    <tr>\n",
       "      <th>48664</th>\n",
       "      <td>Consumer</td>\n",
       "      <td>NV</td>\n",
       "      <td>82087935</td>\n",
       "      <td>341672</td>\n",
       "      <td>randyscott404@gmail.com</td>\n",
       "      <td>2050.0</td>\n",
       "      <td>2025-09-29</td>\n",
       "      <td>2023</td>\n",
       "      <td>PLSR</td>\n",
       "      <td>NaN</td>\n",
       "      <td>26977.00</td>\n",
       "      <td>18310.20</td>\n",
       "      <td>3</td>\n",
       "      <td>9</td>\n",
       "    </tr>\n",
       "    <tr>\n",
       "      <th>48676</th>\n",
       "      <td>Dismantler</td>\n",
       "      <td>NV</td>\n",
       "      <td>66676435</td>\n",
       "      <td>39955</td>\n",
       "      <td>luke@nvpap.com</td>\n",
       "      <td>125.0</td>\n",
       "      <td>2025-08-06</td>\n",
       "      <td>2024</td>\n",
       "      <td>NISS</td>\n",
       "      <td>NaN</td>\n",
       "      <td>21611.00</td>\n",
       "      <td>0.00</td>\n",
       "      <td>5</td>\n",
       "      <td>5421</td>\n",
       "    </tr>\n",
       "    <tr>\n",
       "      <th>48707</th>\n",
       "      <td>Export</td>\n",
       "      <td>DE</td>\n",
       "      <td>53662215</td>\n",
       "      <td>96045</td>\n",
       "      <td>mohamed@edfa3ly.com</td>\n",
       "      <td>5400.0</td>\n",
       "      <td>2025-07-15</td>\n",
       "      <td>2023</td>\n",
       "      <td>KIA</td>\n",
       "      <td>NaN</td>\n",
       "      <td>20891.00</td>\n",
       "      <td>12267.51</td>\n",
       "      <td>7</td>\n",
       "      <td>191</td>\n",
       "    </tr>\n",
       "    <tr>\n",
       "      <th>48864</th>\n",
       "      <td>Dismantler</td>\n",
       "      <td>NV</td>\n",
       "      <td>64113785</td>\n",
       "      <td>39955</td>\n",
       "      <td>luke@nvpap.com</td>\n",
       "      <td>125.0</td>\n",
       "      <td>2025-09-12</td>\n",
       "      <td>2025</td>\n",
       "      <td>TOYT</td>\n",
       "      <td>NaN</td>\n",
       "      <td>29425.00</td>\n",
       "      <td>34401.83</td>\n",
       "      <td>6</td>\n",
       "      <td>5421</td>\n",
       "    </tr>\n",
       "    <tr>\n",
       "      <th>...</th>\n",
       "      <td>...</td>\n",
       "      <td>...</td>\n",
       "      <td>...</td>\n",
       "      <td>...</td>\n",
       "      <td>...</td>\n",
       "      <td>...</td>\n",
       "      <td>...</td>\n",
       "      <td>...</td>\n",
       "      <td>...</td>\n",
       "      <td>...</td>\n",
       "      <td>...</td>\n",
       "      <td>...</td>\n",
       "      <td>...</td>\n",
       "      <td>...</td>\n",
       "    </tr>\n",
       "    <tr>\n",
       "      <th>3727644</th>\n",
       "      <td>Dealer</td>\n",
       "      <td>WI</td>\n",
       "      <td>67201425</td>\n",
       "      <td>580353</td>\n",
       "      <td>cgilroy121@gmail.com</td>\n",
       "      <td>275.0</td>\n",
       "      <td>2025-08-19</td>\n",
       "      <td>2025</td>\n",
       "      <td>NISS</td>\n",
       "      <td>NaN</td>\n",
       "      <td>0.00</td>\n",
       "      <td>0.00</td>\n",
       "      <td>10</td>\n",
       "      <td>3093</td>\n",
       "    </tr>\n",
       "    <tr>\n",
       "      <th>3727658</th>\n",
       "      <td>Export</td>\n",
       "      <td>WI</td>\n",
       "      <td>67966295</td>\n",
       "      <td>634787</td>\n",
       "      <td>43678707-MSTRBDR-83993959-1957-4718-ad43-fc7d6...</td>\n",
       "      <td>46500.0</td>\n",
       "      <td>2025-09-10</td>\n",
       "      <td>2024</td>\n",
       "      <td>LEXS</td>\n",
       "      <td>NaN</td>\n",
       "      <td>63746.00</td>\n",
       "      <td>47418.51</td>\n",
       "      <td>9</td>\n",
       "      <td>1337</td>\n",
       "    </tr>\n",
       "    <tr>\n",
       "      <th>3727672</th>\n",
       "      <td>Export</td>\n",
       "      <td>WI</td>\n",
       "      <td>65513095</td>\n",
       "      <td>706229</td>\n",
       "      <td>127264-MSTRBDR-32763034-9843-4609-af28-0814596...</td>\n",
       "      <td>12100.0</td>\n",
       "      <td>2025-08-11</td>\n",
       "      <td>2022</td>\n",
       "      <td>VOLV</td>\n",
       "      <td>NaN</td>\n",
       "      <td>40361.00</td>\n",
       "      <td>36174.17</td>\n",
       "      <td>3</td>\n",
       "      <td>2000</td>\n",
       "    </tr>\n",
       "    <tr>\n",
       "      <th>3727685</th>\n",
       "      <td>Dealer</td>\n",
       "      <td>WI</td>\n",
       "      <td>65502855</td>\n",
       "      <td>824620</td>\n",
       "      <td>prestigeauto6767@gmail.com</td>\n",
       "      <td>6600.0</td>\n",
       "      <td>2025-08-14</td>\n",
       "      <td>2024</td>\n",
       "      <td>FORD</td>\n",
       "      <td>NaN</td>\n",
       "      <td>29586.00</td>\n",
       "      <td>27449.16</td>\n",
       "      <td>5</td>\n",
       "      <td>1157</td>\n",
       "    </tr>\n",
       "    <tr>\n",
       "      <th>3727692</th>\n",
       "      <td>Dealer</td>\n",
       "      <td>WI</td>\n",
       "      <td>56632505</td>\n",
       "      <td>67723</td>\n",
       "      <td>j_stemper@msn.com</td>\n",
       "      <td>175.0</td>\n",
       "      <td>2025-07-29</td>\n",
       "      <td>2022</td>\n",
       "      <td>CHEV</td>\n",
       "      <td>NaN</td>\n",
       "      <td>26925.71</td>\n",
       "      <td>20972.56</td>\n",
       "      <td>10</td>\n",
       "      <td>99</td>\n",
       "    </tr>\n",
       "  </tbody>\n",
       "</table>\n",
       "<p>103036 rows × 14 columns</p>\n",
       "</div>"
      ]
     },
     "execution_count": 143,
     "metadata": {},
     "output_type": "execute_result"
    }
   ],
   "execution_count": 143
  },
  {
   "metadata": {
    "ExecuteTime": {
     "end_time": "2025-10-13T15:09:43.663670Z",
     "start_time": "2025-10-13T15:09:41.123164Z"
    }
   },
   "cell_type": "code",
   "source": [
    "# Step 1: Fill missing grp_model using mode within (lot_year, lot_make_cd)\n",
    "def fill_grp_model_year_make(group):\n",
    "    mode_val = group['grp_model'].mode()\n",
    "    if not mode_val.empty:\n",
    "        group['grp_model'] = group['grp_model'].fillna(mode_val[0])\n",
    "    return group\n",
    "\n",
    "active_buyers = active_buyers.groupby(['lot_year', 'lot_make_cd'], group_keys=False).apply(fill_grp_model_year_make)\n",
    "\n",
    "# Step 2: Fill remaining missing grp_model using mode within lot_make_cd only\n",
    "def fill_grp_model_make(group):\n",
    "    mode_val = group['grp_model'].mode()\n",
    "    if not mode_val.empty:\n",
    "        group['grp_model'] = group['grp_model'].fillna(mode_val[0])\n",
    "    return group\n",
    "\n",
    "active_buyers = active_buyers.groupby('lot_make_cd', group_keys=False).apply(fill_grp_model_make)\n"
   ],
   "id": "d7189ac90ced39b6",
   "outputs": [
    {
     "name": "stderr",
     "output_type": "stream",
     "text": [
      "/var/folders/jj/1fql_rw17h10wm_w98gwx9wm0000gq/T/ipykernel_22311/2787800539.py:8: DeprecationWarning: DataFrameGroupBy.apply operated on the grouping columns. This behavior is deprecated, and in a future version of pandas the grouping columns will be excluded from the operation. Either pass `include_groups=False` to exclude the groupings or explicitly select the grouping columns after groupby to silence this warning.\n",
      "  active_bidders = active_bidders.groupby(['lot_year', 'lot_make_cd'], group_keys=False).apply(fill_grp_model_year_make)\n",
      "/var/folders/jj/1fql_rw17h10wm_w98gwx9wm0000gq/T/ipykernel_22311/2787800539.py:17: DeprecationWarning: DataFrameGroupBy.apply operated on the grouping columns. This behavior is deprecated, and in a future version of pandas the grouping columns will be excluded from the operation. Either pass `include_groups=False` to exclude the groupings or explicitly select the grouping columns after groupby to silence this warning.\n",
      "  active_bidders = active_bidders.groupby('lot_make_cd', group_keys=False).apply(fill_grp_model_make)\n"
     ]
    }
   ],
   "execution_count": 144
  },
  {
   "metadata": {
    "ExecuteTime": {
     "end_time": "2025-10-13T15:09:44.832475Z",
     "start_time": "2025-10-13T15:09:44.535465Z"
    }
   },
   "cell_type": "code",
   "source": "active_buyers.isnull().sum()",
   "id": "9baf9cb4269594c6",
   "outputs": [
    {
     "data": {
      "text/plain": [
       "mbr_lic_type                          0\n",
       "mbr_state                             0\n",
       "lot_nbr                               0\n",
       "buyer_nbr                             0\n",
       "mbr_email                             0\n",
       "max_bid                               0\n",
       "inv_dt                                0\n",
       "lot_year                              0\n",
       "lot_make_cd                           0\n",
       "grp_model                          2020\n",
       "acv                                   0\n",
       "repair_cost                           0\n",
       "total_unique_buyers_on_that_lot       0\n",
       "total_unique_lots_bid_by_buyers       0\n",
       "dtype: int64"
      ]
     },
     "execution_count": 145,
     "metadata": {},
     "output_type": "execute_result"
    }
   ],
   "execution_count": 145
  },
  {
   "metadata": {
    "ExecuteTime": {
     "end_time": "2025-10-13T15:09:46.038281Z",
     "start_time": "2025-10-13T15:09:45.980608Z"
    }
   },
   "cell_type": "code",
   "source": "active_buyers[active_buyers['grp_model'].isna()]",
   "id": "113a64e17f8e8402",
   "outputs": [
    {
     "data": {
      "text/plain": [
       "             mbr_lic_type mbr_state   lot_nbr  buyer_nbr  \\\n",
       "48664            Consumer        NV  82087935     341672   \n",
       "49122              Dealer        DE  64814695       6088   \n",
       "58987              Dealer        NH  53683435     527331   \n",
       "66879    General Business        NV  59657985     177825   \n",
       "92759              Dealer        NV  53683435      36692   \n",
       "...                   ...       ...       ...        ...   \n",
       "3716304            Dealer        WI  57598465     179180   \n",
       "3726216            Dealer        WI  70345045     580353   \n",
       "3726693          Consumer        WI  57997725     653753   \n",
       "3726829            Export        WI  59595425     634787   \n",
       "3727620            Export        WI  65766275     706229   \n",
       "\n",
       "                                                 mbr_email  max_bid  \\\n",
       "48664                              randyscott404@gmail.com   2050.0   \n",
       "49122                                info@ram-shipping.com   6200.0   \n",
       "58987                              MYPLATINUMCAR@GMAIL.COM  19800.0   \n",
       "66879                                   urusciuc@yahoo.com   1950.0   \n",
       "92759                                  bguido1@hotmail.com   8500.0   \n",
       "...                                                    ...      ...   \n",
       "3716304                         euroresourceauto@gmail.com  12600.0   \n",
       "3726216                               cgilroy121@gmail.com    225.0   \n",
       "3726693  20016525-MSTRBDR-e246d791-0af5-439f-83fc-926d0...   3650.0   \n",
       "3726829  43678707-MSTRBDR-83993959-1957-4718-ad43-fc7d6...   7100.0   \n",
       "3727620  127264-MSTRBDR-32763034-9843-4609-af28-0814596...   2750.0   \n",
       "\n",
       "             inv_dt  lot_year lot_make_cd grp_model       acv  repair_cost  \\\n",
       "48664    2025-09-29      2023        PLSR       NaN  26977.00     18310.20   \n",
       "49122    2025-10-02      2024        VNFS       NaN  31542.00     12815.62   \n",
       "58987    2025-07-17      2023        RIVA       NaN  81175.66         0.00   \n",
       "66879    2025-08-12      2022        LUCI       NaN  66285.00     71210.06   \n",
       "92759    2025-07-17      2023        RIVA       NaN  81175.66         0.00   \n",
       "...             ...       ...         ...       ...       ...          ...   \n",
       "3716304  2025-08-15      2023        RIVA       NaN  75252.00         0.00   \n",
       "3726216  2025-09-23      2024        MAHI       NaN  26033.00     18544.45   \n",
       "3726693  2025-08-12      2023        PLSR       NaN  34754.00     40700.10   \n",
       "3726829  2025-08-15      2023        LUCI       NaN  56920.00     56920.00   \n",
       "3727620  2025-08-06      2023        PLSR       NaN  23595.00     76704.30   \n",
       "\n",
       "         total_unique_buyers_on_that_lot  total_unique_lots_bid_by_buyers  \n",
       "48664                                  3                                9  \n",
       "49122                                  6                              769  \n",
       "58987                                 15                              333  \n",
       "66879                                 11                                2  \n",
       "92759                                 15                               51  \n",
       "...                                  ...                              ...  \n",
       "3716304                                9                             1033  \n",
       "3726216                               11                             3093  \n",
       "3726693                                3                              250  \n",
       "3726829                               14                             1337  \n",
       "3727620                                5                             2000  \n",
       "\n",
       "[2020 rows x 14 columns]"
      ],
      "text/html": [
       "<div>\n",
       "<style scoped>\n",
       "    .dataframe tbody tr th:only-of-type {\n",
       "        vertical-align: middle;\n",
       "    }\n",
       "\n",
       "    .dataframe tbody tr th {\n",
       "        vertical-align: top;\n",
       "    }\n",
       "\n",
       "    .dataframe thead th {\n",
       "        text-align: right;\n",
       "    }\n",
       "</style>\n",
       "<table border=\"1\" class=\"dataframe\">\n",
       "  <thead>\n",
       "    <tr style=\"text-align: right;\">\n",
       "      <th></th>\n",
       "      <th>mbr_lic_type</th>\n",
       "      <th>mbr_state</th>\n",
       "      <th>lot_nbr</th>\n",
       "      <th>buyer_nbr</th>\n",
       "      <th>mbr_email</th>\n",
       "      <th>max_bid</th>\n",
       "      <th>inv_dt</th>\n",
       "      <th>lot_year</th>\n",
       "      <th>lot_make_cd</th>\n",
       "      <th>grp_model</th>\n",
       "      <th>acv</th>\n",
       "      <th>repair_cost</th>\n",
       "      <th>total_unique_buyers_on_that_lot</th>\n",
       "      <th>total_unique_lots_bid_by_buyers</th>\n",
       "    </tr>\n",
       "  </thead>\n",
       "  <tbody>\n",
       "    <tr>\n",
       "      <th>48664</th>\n",
       "      <td>Consumer</td>\n",
       "      <td>NV</td>\n",
       "      <td>82087935</td>\n",
       "      <td>341672</td>\n",
       "      <td>randyscott404@gmail.com</td>\n",
       "      <td>2050.0</td>\n",
       "      <td>2025-09-29</td>\n",
       "      <td>2023</td>\n",
       "      <td>PLSR</td>\n",
       "      <td>NaN</td>\n",
       "      <td>26977.00</td>\n",
       "      <td>18310.20</td>\n",
       "      <td>3</td>\n",
       "      <td>9</td>\n",
       "    </tr>\n",
       "    <tr>\n",
       "      <th>49122</th>\n",
       "      <td>Dealer</td>\n",
       "      <td>DE</td>\n",
       "      <td>64814695</td>\n",
       "      <td>6088</td>\n",
       "      <td>info@ram-shipping.com</td>\n",
       "      <td>6200.0</td>\n",
       "      <td>2025-10-02</td>\n",
       "      <td>2024</td>\n",
       "      <td>VNFS</td>\n",
       "      <td>NaN</td>\n",
       "      <td>31542.00</td>\n",
       "      <td>12815.62</td>\n",
       "      <td>6</td>\n",
       "      <td>769</td>\n",
       "    </tr>\n",
       "    <tr>\n",
       "      <th>58987</th>\n",
       "      <td>Dealer</td>\n",
       "      <td>NH</td>\n",
       "      <td>53683435</td>\n",
       "      <td>527331</td>\n",
       "      <td>MYPLATINUMCAR@GMAIL.COM</td>\n",
       "      <td>19800.0</td>\n",
       "      <td>2025-07-17</td>\n",
       "      <td>2023</td>\n",
       "      <td>RIVA</td>\n",
       "      <td>NaN</td>\n",
       "      <td>81175.66</td>\n",
       "      <td>0.00</td>\n",
       "      <td>15</td>\n",
       "      <td>333</td>\n",
       "    </tr>\n",
       "    <tr>\n",
       "      <th>66879</th>\n",
       "      <td>General Business</td>\n",
       "      <td>NV</td>\n",
       "      <td>59657985</td>\n",
       "      <td>177825</td>\n",
       "      <td>urusciuc@yahoo.com</td>\n",
       "      <td>1950.0</td>\n",
       "      <td>2025-08-12</td>\n",
       "      <td>2022</td>\n",
       "      <td>LUCI</td>\n",
       "      <td>NaN</td>\n",
       "      <td>66285.00</td>\n",
       "      <td>71210.06</td>\n",
       "      <td>11</td>\n",
       "      <td>2</td>\n",
       "    </tr>\n",
       "    <tr>\n",
       "      <th>92759</th>\n",
       "      <td>Dealer</td>\n",
       "      <td>NV</td>\n",
       "      <td>53683435</td>\n",
       "      <td>36692</td>\n",
       "      <td>bguido1@hotmail.com</td>\n",
       "      <td>8500.0</td>\n",
       "      <td>2025-07-17</td>\n",
       "      <td>2023</td>\n",
       "      <td>RIVA</td>\n",
       "      <td>NaN</td>\n",
       "      <td>81175.66</td>\n",
       "      <td>0.00</td>\n",
       "      <td>15</td>\n",
       "      <td>51</td>\n",
       "    </tr>\n",
       "    <tr>\n",
       "      <th>...</th>\n",
       "      <td>...</td>\n",
       "      <td>...</td>\n",
       "      <td>...</td>\n",
       "      <td>...</td>\n",
       "      <td>...</td>\n",
       "      <td>...</td>\n",
       "      <td>...</td>\n",
       "      <td>...</td>\n",
       "      <td>...</td>\n",
       "      <td>...</td>\n",
       "      <td>...</td>\n",
       "      <td>...</td>\n",
       "      <td>...</td>\n",
       "      <td>...</td>\n",
       "    </tr>\n",
       "    <tr>\n",
       "      <th>3716304</th>\n",
       "      <td>Dealer</td>\n",
       "      <td>WI</td>\n",
       "      <td>57598465</td>\n",
       "      <td>179180</td>\n",
       "      <td>euroresourceauto@gmail.com</td>\n",
       "      <td>12600.0</td>\n",
       "      <td>2025-08-15</td>\n",
       "      <td>2023</td>\n",
       "      <td>RIVA</td>\n",
       "      <td>NaN</td>\n",
       "      <td>75252.00</td>\n",
       "      <td>0.00</td>\n",
       "      <td>9</td>\n",
       "      <td>1033</td>\n",
       "    </tr>\n",
       "    <tr>\n",
       "      <th>3726216</th>\n",
       "      <td>Dealer</td>\n",
       "      <td>WI</td>\n",
       "      <td>70345045</td>\n",
       "      <td>580353</td>\n",
       "      <td>cgilroy121@gmail.com</td>\n",
       "      <td>225.0</td>\n",
       "      <td>2025-09-23</td>\n",
       "      <td>2024</td>\n",
       "      <td>MAHI</td>\n",
       "      <td>NaN</td>\n",
       "      <td>26033.00</td>\n",
       "      <td>18544.45</td>\n",
       "      <td>11</td>\n",
       "      <td>3093</td>\n",
       "    </tr>\n",
       "    <tr>\n",
       "      <th>3726693</th>\n",
       "      <td>Consumer</td>\n",
       "      <td>WI</td>\n",
       "      <td>57997725</td>\n",
       "      <td>653753</td>\n",
       "      <td>20016525-MSTRBDR-e246d791-0af5-439f-83fc-926d0...</td>\n",
       "      <td>3650.0</td>\n",
       "      <td>2025-08-12</td>\n",
       "      <td>2023</td>\n",
       "      <td>PLSR</td>\n",
       "      <td>NaN</td>\n",
       "      <td>34754.00</td>\n",
       "      <td>40700.10</td>\n",
       "      <td>3</td>\n",
       "      <td>250</td>\n",
       "    </tr>\n",
       "    <tr>\n",
       "      <th>3726829</th>\n",
       "      <td>Export</td>\n",
       "      <td>WI</td>\n",
       "      <td>59595425</td>\n",
       "      <td>634787</td>\n",
       "      <td>43678707-MSTRBDR-83993959-1957-4718-ad43-fc7d6...</td>\n",
       "      <td>7100.0</td>\n",
       "      <td>2025-08-15</td>\n",
       "      <td>2023</td>\n",
       "      <td>LUCI</td>\n",
       "      <td>NaN</td>\n",
       "      <td>56920.00</td>\n",
       "      <td>56920.00</td>\n",
       "      <td>14</td>\n",
       "      <td>1337</td>\n",
       "    </tr>\n",
       "    <tr>\n",
       "      <th>3727620</th>\n",
       "      <td>Export</td>\n",
       "      <td>WI</td>\n",
       "      <td>65766275</td>\n",
       "      <td>706229</td>\n",
       "      <td>127264-MSTRBDR-32763034-9843-4609-af28-0814596...</td>\n",
       "      <td>2750.0</td>\n",
       "      <td>2025-08-06</td>\n",
       "      <td>2023</td>\n",
       "      <td>PLSR</td>\n",
       "      <td>NaN</td>\n",
       "      <td>23595.00</td>\n",
       "      <td>76704.30</td>\n",
       "      <td>5</td>\n",
       "      <td>2000</td>\n",
       "    </tr>\n",
       "  </tbody>\n",
       "</table>\n",
       "<p>2020 rows × 14 columns</p>\n",
       "</div>"
      ]
     },
     "execution_count": 146,
     "metadata": {},
     "output_type": "execute_result"
    }
   ],
   "execution_count": 146
  },
  {
   "metadata": {
    "ExecuteTime": {
     "end_time": "2025-10-13T15:09:47.852883Z",
     "start_time": "2025-10-13T15:09:47.621986Z"
    }
   },
   "cell_type": "code",
   "source": [
    "## drop these lots with missing lot make\n",
    "active_buyers.dropna(subset=['grp_model'], inplace=True)"
   ],
   "id": "97ce5f155383f58",
   "outputs": [],
   "execution_count": 147
  },
  {
   "metadata": {
    "ExecuteTime": {
     "end_time": "2025-10-13T15:09:49.154452Z",
     "start_time": "2025-10-13T15:09:48.844016Z"
    }
   },
   "cell_type": "code",
   "source": "active_buyers.isnull().sum()",
   "id": "73fe84ef901f9a40",
   "outputs": [
    {
     "data": {
      "text/plain": [
       "mbr_lic_type                       0\n",
       "mbr_state                          0\n",
       "lot_nbr                            0\n",
       "buyer_nbr                          0\n",
       "mbr_email                          0\n",
       "max_bid                            0\n",
       "inv_dt                             0\n",
       "lot_year                           0\n",
       "lot_make_cd                        0\n",
       "grp_model                          0\n",
       "acv                                0\n",
       "repair_cost                        0\n",
       "total_unique_buyers_on_that_lot    0\n",
       "total_unique_lots_bid_by_buyers    0\n",
       "dtype: int64"
      ]
     },
     "execution_count": 148,
     "metadata": {},
     "output_type": "execute_result"
    }
   ],
   "execution_count": 148
  },
  {
   "metadata": {
    "ExecuteTime": {
     "end_time": "2025-10-13T15:09:51.188186Z",
     "start_time": "2025-10-13T15:09:51.168910Z"
    }
   },
   "cell_type": "code",
   "source": "active_buyers['buyer_nbr'].nunique()",
   "id": "8b4d48dc5973d5b7",
   "outputs": [
    {
     "data": {
      "text/plain": [
       "80863"
      ]
     },
     "execution_count": 149,
     "metadata": {},
     "output_type": "execute_result"
    }
   ],
   "execution_count": 149
  },
  {
   "metadata": {},
   "cell_type": "markdown",
   "source": "### Splitting <7 and >=7",
   "id": "57faf904f603b486"
  },
  {
   "metadata": {
    "ExecuteTime": {
     "end_time": "2025-10-13T15:10:36.740976Z",
     "start_time": "2025-10-13T15:10:36.362021Z"
    }
   },
   "cell_type": "code",
   "source": [
    "data_high = active_buyers[active_buyers['total_unique_lots_bid_by_buyers']>=7]\n",
    "data_low = active_buyers[active_buyers['total_unique_lots_bid_by_buyers']<7]\n",
    "print(data_high['buyer_nbr'].nunique())\n",
    "print(data_low['buyer_nbr'].nunique())"
   ],
   "id": "ffa58439db19d1e1",
   "outputs": [
    {
     "name": "stdout",
     "output_type": "stream",
     "text": [
      "33242\n",
      "47621\n"
     ]
    }
   ],
   "execution_count": 150
  },
  {
   "metadata": {
    "ExecuteTime": {
     "end_time": "2025-10-13T15:11:41.334674Z",
     "start_time": "2025-10-13T15:11:40.576966Z"
    }
   },
   "cell_type": "code",
   "source": [
    "def even_odd_split_df(df, buyer_col='buyer_nbr'):\n",
    "    # Extract last digit\n",
    "    df = df.copy()\n",
    "    df['last_digit'] = df[buyer_col] % 10\n",
    "\n",
    "    # Split based on even-odd\n",
    "    holdout_df = df[df['last_digit'] % 2 == 0].drop(columns='last_digit')\n",
    "    test_df = df[df['last_digit'] % 2 != 0].drop(columns='last_digit')\n",
    "\n",
    "    return holdout_df, test_df\n",
    "\n",
    "# Apply to both dataframes\n",
    "data_high_holdout, data_high_test = even_odd_split_df(data_high)\n",
    "data_low_holdout, data_low_test = even_odd_split_df(data_low)\n",
    "\n",
    "# Optional: Check counts\n",
    "print(f\"High Holdout Buyers: {data_high_holdout['buyer_nbr'].nunique()}\")\n",
    "print(f\"High Test Buyers: {data_high_test['buyer_nbr'].nunique()}\")\n",
    "print(f\"Low Holdout Buyers: {data_low_holdout['buyer_nbr'].nunique()}\")\n",
    "print(f\"Low Test Buyers: {data_low_test['buyer_nbr'].nunique()}\")"
   ],
   "id": "b0c9e60d0a5ad693",
   "outputs": [
    {
     "name": "stdout",
     "output_type": "stream",
     "text": [
      "High Holdout Buyers: 16733\n",
      "High Test Buyers: 16509\n",
      "Low Holdout Buyers: 23883\n",
      "Low Test Buyers: 23738\n"
     ]
    }
   ],
   "execution_count": 151
  },
  {
   "metadata": {
    "ExecuteTime": {
     "end_time": "2025-10-13T15:11:49.566551Z",
     "start_time": "2025-10-13T15:11:42.429073Z"
    }
   },
   "cell_type": "code",
   "source": [
    "data_low_holdout.to_csv('data/interim/data_low_holdout.csv',index=False)\n",
    "data_high_holdout.to_csv('data/interim/data_high_holdout.csv',index=False)\n",
    "\n",
    "data_high_test.to_csv('data/interim/data_high_test.csv',index=False)\n",
    "data_low_test.to_csv('data/interim/data_low_test.csv',index=False)"
   ],
   "id": "dbec7cd1fbfac795",
   "outputs": [],
   "execution_count": 152
  },
  {
   "metadata": {},
   "cell_type": "markdown",
   "source": "### Not Active buyers preprocessing",
   "id": "eb53122ab58d8f19"
  },
  {
   "metadata": {
    "ExecuteTime": {
     "end_time": "2025-10-13T15:12:12.225250Z",
     "start_time": "2025-10-13T15:12:12.162939Z"
    }
   },
   "cell_type": "code",
   "source": [
    "not_active_buyers = pd.read_csv('data/raw/not_active_buyers.csv')\n",
    "not_active_buyers.head()"
   ],
   "id": "e1074836792bec4f",
   "outputs": [
    {
     "data": {
      "text/plain": [
       "  mbr_lic_type mbr_state  mbr_nbr                 mbr_email\n",
       "0     Consumer        SD   825681   jamestoney3@hotmail.com\n",
       "1     Consumer        DE   645351       Rockdjr316m@aol.com\n",
       "2     Consumer        AK   517624        zephy907@gmail.com\n",
       "3     Consumer        NH   776575  suroyanehemiah@gmail.com\n",
       "4       Export        PR   591581    cfuentes1091@gmail.com"
      ],
      "text/html": [
       "<div>\n",
       "<style scoped>\n",
       "    .dataframe tbody tr th:only-of-type {\n",
       "        vertical-align: middle;\n",
       "    }\n",
       "\n",
       "    .dataframe tbody tr th {\n",
       "        vertical-align: top;\n",
       "    }\n",
       "\n",
       "    .dataframe thead th {\n",
       "        text-align: right;\n",
       "    }\n",
       "</style>\n",
       "<table border=\"1\" class=\"dataframe\">\n",
       "  <thead>\n",
       "    <tr style=\"text-align: right;\">\n",
       "      <th></th>\n",
       "      <th>mbr_lic_type</th>\n",
       "      <th>mbr_state</th>\n",
       "      <th>mbr_nbr</th>\n",
       "      <th>mbr_email</th>\n",
       "    </tr>\n",
       "  </thead>\n",
       "  <tbody>\n",
       "    <tr>\n",
       "      <th>0</th>\n",
       "      <td>Consumer</td>\n",
       "      <td>SD</td>\n",
       "      <td>825681</td>\n",
       "      <td>jamestoney3@hotmail.com</td>\n",
       "    </tr>\n",
       "    <tr>\n",
       "      <th>1</th>\n",
       "      <td>Consumer</td>\n",
       "      <td>DE</td>\n",
       "      <td>645351</td>\n",
       "      <td>Rockdjr316m@aol.com</td>\n",
       "    </tr>\n",
       "    <tr>\n",
       "      <th>2</th>\n",
       "      <td>Consumer</td>\n",
       "      <td>AK</td>\n",
       "      <td>517624</td>\n",
       "      <td>zephy907@gmail.com</td>\n",
       "    </tr>\n",
       "    <tr>\n",
       "      <th>3</th>\n",
       "      <td>Consumer</td>\n",
       "      <td>NH</td>\n",
       "      <td>776575</td>\n",
       "      <td>suroyanehemiah@gmail.com</td>\n",
       "    </tr>\n",
       "    <tr>\n",
       "      <th>4</th>\n",
       "      <td>Export</td>\n",
       "      <td>PR</td>\n",
       "      <td>591581</td>\n",
       "      <td>cfuentes1091@gmail.com</td>\n",
       "    </tr>\n",
       "  </tbody>\n",
       "</table>\n",
       "</div>"
      ]
     },
     "execution_count": 153,
     "metadata": {},
     "output_type": "execute_result"
    }
   ],
   "execution_count": 153
  },
  {
   "metadata": {
    "ExecuteTime": {
     "end_time": "2025-10-13T15:12:13.100189Z",
     "start_time": "2025-10-13T15:12:13.087233Z"
    }
   },
   "cell_type": "code",
   "source": "not_active_buyers.isnull().sum()",
   "id": "5ece56cd6ee39b6b",
   "outputs": [
    {
     "data": {
      "text/plain": [
       "mbr_lic_type    878\n",
       "mbr_state         0\n",
       "mbr_nbr           0\n",
       "mbr_email         0\n",
       "dtype: int64"
      ]
     },
     "execution_count": 154,
     "metadata": {},
     "output_type": "execute_result"
    }
   ],
   "execution_count": 154
  },
  {
   "metadata": {
    "ExecuteTime": {
     "end_time": "2025-10-13T15:12:14.781655Z",
     "start_time": "2025-10-13T15:12:14.768872Z"
    }
   },
   "cell_type": "code",
   "source": "not_active_buyers['mbr_lic_type'].fillna(not_active_buyers['mbr_lic_type'].mode()[0], inplace=True)",
   "id": "fcfad6f15b88b02a",
   "outputs": [
    {
     "name": "stderr",
     "output_type": "stream",
     "text": [
      "/var/folders/jj/1fql_rw17h10wm_w98gwx9wm0000gq/T/ipykernel_22311/3566338129.py:1: FutureWarning: A value is trying to be set on a copy of a DataFrame or Series through chained assignment using an inplace method.\n",
      "The behavior will change in pandas 3.0. This inplace method will never work because the intermediate object on which we are setting values always behaves as a copy.\n",
      "\n",
      "For example, when doing 'df[col].method(value, inplace=True)', try using 'df.method({col: value}, inplace=True)' or df[col] = df[col].method(value) instead, to perform the operation inplace on the original object.\n",
      "\n",
      "\n",
      "  not_active_bidders['mbr_lic_type'].fillna(not_active_bidders['mbr_lic_type'].mode()[0], inplace=True)\n"
     ]
    }
   ],
   "execution_count": 155
  },
  {
   "metadata": {
    "ExecuteTime": {
     "end_time": "2025-10-13T15:12:15.687456Z",
     "start_time": "2025-10-13T15:12:15.675183Z"
    }
   },
   "cell_type": "code",
   "source": "not_active_buyers.isnull().sum()",
   "id": "da3014aaaca63f82",
   "outputs": [
    {
     "data": {
      "text/plain": [
       "mbr_lic_type    0\n",
       "mbr_state       0\n",
       "mbr_nbr         0\n",
       "mbr_email       0\n",
       "dtype: int64"
      ]
     },
     "execution_count": 156,
     "metadata": {},
     "output_type": "execute_result"
    }
   ],
   "execution_count": 156
  },
  {
   "metadata": {
    "ExecuteTime": {
     "end_time": "2025-10-13T15:12:16.478013Z",
     "start_time": "2025-10-13T15:12:16.471734Z"
    }
   },
   "cell_type": "code",
   "source": "not_active_buyers['mbr_nbr'].nunique()",
   "id": "e98650dfb89a6e41",
   "outputs": [
    {
     "data": {
      "text/plain": [
       "145395"
      ]
     },
     "execution_count": 157,
     "metadata": {},
     "output_type": "execute_result"
    }
   ],
   "execution_count": 157
  },
  {
   "metadata": {
    "ExecuteTime": {
     "end_time": "2025-10-13T15:12:29.705417Z",
     "start_time": "2025-10-13T15:12:29.703620Z"
    }
   },
   "cell_type": "code",
   "source": [
    "def even_odd_split_df(df, buyer_col='mbr_nbr'):\n",
    "    # Extract last digit\n",
    "    df = df.copy()\n",
    "    df['last_digit'] = df[buyer_col] % 10\n",
    "\n",
    "    # Split based on even-odd\n",
    "    holdout_df = df[df['last_digit'] % 2 == 0].drop(columns='last_digit')\n",
    "    test_df = df[df['last_digit'] % 2 != 0].drop(columns='last_digit')\n",
    "\n",
    "    return holdout_df, test_df"
   ],
   "id": "1e4d0d70933635eb",
   "outputs": [],
   "execution_count": 158
  },
  {
   "metadata": {
    "ExecuteTime": {
     "end_time": "2025-10-13T15:12:30.290248Z",
     "start_time": "2025-10-13T15:12:30.260346Z"
    }
   },
   "cell_type": "code",
   "source": "not_active_buyers_holdout, not_active_buyers_test = even_odd_split_df(not_active_buyers)",
   "id": "12b4a0a650a0bb9",
   "outputs": [],
   "execution_count": 159
  },
  {
   "metadata": {
    "ExecuteTime": {
     "end_time": "2025-10-13T15:12:30.587418Z",
     "start_time": "2025-10-13T15:12:30.585212Z"
    }
   },
   "cell_type": "code",
   "source": [
    "print(f\"Group 1 shape: {not_active_buyers_test.shape}\")\n",
    "print(f\"Group 2 shape: {not_active_buyers_holdout.shape}\")"
   ],
   "id": "eb357a2b73f3710f",
   "outputs": [
    {
     "name": "stdout",
     "output_type": "stream",
     "text": [
      "Group 1 shape: (72732, 4)\n",
      "Group 2 shape: (72663, 4)\n"
     ]
    }
   ],
   "execution_count": 160
  },
  {
   "metadata": {
    "ExecuteTime": {
     "end_time": "2025-10-13T15:12:49.944221Z",
     "start_time": "2025-10-13T15:12:49.939271Z"
    }
   },
   "cell_type": "code",
   "source": "not_active_buyers_test['mbr_nbr'].nunique()",
   "id": "ecda7548b724168d",
   "outputs": [
    {
     "data": {
      "text/plain": [
       "72732"
      ]
     },
     "execution_count": 161,
     "metadata": {},
     "output_type": "execute_result"
    }
   ],
   "execution_count": 161
  },
  {
   "metadata": {
    "ExecuteTime": {
     "end_time": "2025-10-13T15:12:54.326659Z",
     "start_time": "2025-10-13T15:12:54.233852Z"
    }
   },
   "cell_type": "code",
   "source": [
    "not_active_buyers_holdout.to_csv('data/interim/not_active_buyers_holdout.csv',index=False)\n",
    "not_active_buyers_test.to_csv('data/interim/not_active_buyers_test.csv',index=False)"
   ],
   "id": "49643fe1884747f0",
   "outputs": [],
   "execution_count": 162
  },
  {
   "metadata": {},
   "cell_type": "markdown",
   "source": "### Popular lots preprocess",
   "id": "7e797ca71eb59907"
  },
  {
   "metadata": {
    "ExecuteTime": {
     "end_time": "2025-10-13T15:12:56.001928Z",
     "start_time": "2025-10-13T15:12:55.998174Z"
    }
   },
   "cell_type": "code",
   "source": "popular_lots = pd.read_csv('data/raw/popular_lots.csv')",
   "id": "10ab8745f04933c1",
   "outputs": [],
   "execution_count": 163
  },
  {
   "metadata": {
    "ExecuteTime": {
     "end_time": "2025-10-13T15:12:57.525804Z",
     "start_time": "2025-10-13T15:12:57.522219Z"
    }
   },
   "cell_type": "code",
   "source": "popular_lots.head()",
   "id": "5a73b11e08d10518",
   "outputs": [
    {
     "data": {
      "text/plain": [
       "  buyer_type mbr_state lot_make_cd grp_model  cnt  median_acv  \\\n",
       "0        NaN        TX        NISS    SENTRA    4    12869.00   \n",
       "1        NaN        TX         JEP  WRANGLER    2    26515.11   \n",
       "2        NaN        TX         BMW  4 SERIES    1    26481.00   \n",
       "3        NaN        TX        HOND       CRV    1    38924.00   \n",
       "4        NaN        TX        FORD     FOCUS    1     7519.00   \n",
       "\n",
       "   median_repair_cost  model_rank  rank  \n",
       "0                0.00           1     1  \n",
       "1            11974.95           1     2  \n",
       "2            25033.87           1     3  \n",
       "3                0.00           1     4  \n",
       "4             6124.27           1     5  "
      ],
      "text/html": [
       "<div>\n",
       "<style scoped>\n",
       "    .dataframe tbody tr th:only-of-type {\n",
       "        vertical-align: middle;\n",
       "    }\n",
       "\n",
       "    .dataframe tbody tr th {\n",
       "        vertical-align: top;\n",
       "    }\n",
       "\n",
       "    .dataframe thead th {\n",
       "        text-align: right;\n",
       "    }\n",
       "</style>\n",
       "<table border=\"1\" class=\"dataframe\">\n",
       "  <thead>\n",
       "    <tr style=\"text-align: right;\">\n",
       "      <th></th>\n",
       "      <th>buyer_type</th>\n",
       "      <th>mbr_state</th>\n",
       "      <th>lot_make_cd</th>\n",
       "      <th>grp_model</th>\n",
       "      <th>cnt</th>\n",
       "      <th>median_acv</th>\n",
       "      <th>median_repair_cost</th>\n",
       "      <th>model_rank</th>\n",
       "      <th>rank</th>\n",
       "    </tr>\n",
       "  </thead>\n",
       "  <tbody>\n",
       "    <tr>\n",
       "      <th>0</th>\n",
       "      <td>NaN</td>\n",
       "      <td>TX</td>\n",
       "      <td>NISS</td>\n",
       "      <td>SENTRA</td>\n",
       "      <td>4</td>\n",
       "      <td>12869.00</td>\n",
       "      <td>0.00</td>\n",
       "      <td>1</td>\n",
       "      <td>1</td>\n",
       "    </tr>\n",
       "    <tr>\n",
       "      <th>1</th>\n",
       "      <td>NaN</td>\n",
       "      <td>TX</td>\n",
       "      <td>JEP</td>\n",
       "      <td>WRANGLER</td>\n",
       "      <td>2</td>\n",
       "      <td>26515.11</td>\n",
       "      <td>11974.95</td>\n",
       "      <td>1</td>\n",
       "      <td>2</td>\n",
       "    </tr>\n",
       "    <tr>\n",
       "      <th>2</th>\n",
       "      <td>NaN</td>\n",
       "      <td>TX</td>\n",
       "      <td>BMW</td>\n",
       "      <td>4 SERIES</td>\n",
       "      <td>1</td>\n",
       "      <td>26481.00</td>\n",
       "      <td>25033.87</td>\n",
       "      <td>1</td>\n",
       "      <td>3</td>\n",
       "    </tr>\n",
       "    <tr>\n",
       "      <th>3</th>\n",
       "      <td>NaN</td>\n",
       "      <td>TX</td>\n",
       "      <td>HOND</td>\n",
       "      <td>CRV</td>\n",
       "      <td>1</td>\n",
       "      <td>38924.00</td>\n",
       "      <td>0.00</td>\n",
       "      <td>1</td>\n",
       "      <td>4</td>\n",
       "    </tr>\n",
       "    <tr>\n",
       "      <th>4</th>\n",
       "      <td>NaN</td>\n",
       "      <td>TX</td>\n",
       "      <td>FORD</td>\n",
       "      <td>FOCUS</td>\n",
       "      <td>1</td>\n",
       "      <td>7519.00</td>\n",
       "      <td>6124.27</td>\n",
       "      <td>1</td>\n",
       "      <td>5</td>\n",
       "    </tr>\n",
       "  </tbody>\n",
       "</table>\n",
       "</div>"
      ]
     },
     "execution_count": 164,
     "metadata": {},
     "output_type": "execute_result"
    }
   ],
   "execution_count": 164
  },
  {
   "metadata": {
    "ExecuteTime": {
     "end_time": "2025-10-13T15:12:58.306982Z",
     "start_time": "2025-10-13T15:12:58.304343Z"
    }
   },
   "cell_type": "code",
   "source": "popular_lots['buyer_type'].value_counts()",
   "id": "ffebe285b44c2da",
   "outputs": [
    {
     "data": {
      "text/plain": [
       "buyer_type\n",
       "Dealer                         306\n",
       "Consumer                       294\n",
       "Dismantler                     269\n",
       "General Business               199\n",
       "Export                         160\n",
       "Automotive Related Business     48\n",
       "Name: count, dtype: int64"
      ]
     },
     "execution_count": 165,
     "metadata": {},
     "output_type": "execute_result"
    }
   ],
   "execution_count": 165
  },
  {
   "metadata": {
    "ExecuteTime": {
     "end_time": "2025-10-13T15:13:00.225996Z",
     "start_time": "2025-10-13T15:13:00.223893Z"
    }
   },
   "cell_type": "code",
   "source": "popular_lots['buyer_type'] = popular_lots['buyer_type'].replace('Automotive Related Business', 'General Business')",
   "id": "669b68f99ea6d29",
   "outputs": [],
   "execution_count": 166
  },
  {
   "metadata": {
    "ExecuteTime": {
     "end_time": "2025-10-13T15:13:00.504384Z",
     "start_time": "2025-10-13T15:13:00.501651Z"
    }
   },
   "cell_type": "code",
   "source": "popular_lots['buyer_type'].value_counts()",
   "id": "37895d8785694021",
   "outputs": [
    {
     "data": {
      "text/plain": [
       "buyer_type\n",
       "Dealer              306\n",
       "Consumer            294\n",
       "Dismantler          269\n",
       "General Business    247\n",
       "Export              160\n",
       "Name: count, dtype: int64"
      ]
     },
     "execution_count": 167,
     "metadata": {},
     "output_type": "execute_result"
    }
   ],
   "execution_count": 167
  },
  {
   "metadata": {
    "ExecuteTime": {
     "end_time": "2025-10-13T15:13:01.914587Z",
     "start_time": "2025-10-13T15:13:01.911371Z"
    }
   },
   "cell_type": "code",
   "source": "popular_lots.isnull().sum()",
   "id": "d01eab2bc2a15e34",
   "outputs": [
    {
     "data": {
      "text/plain": [
       "buyer_type            42\n",
       "mbr_state              0\n",
       "lot_make_cd            0\n",
       "grp_model             27\n",
       "cnt                    0\n",
       "median_acv             0\n",
       "median_repair_cost     0\n",
       "model_rank             0\n",
       "rank                   0\n",
       "dtype: int64"
      ]
     },
     "execution_count": 168,
     "metadata": {},
     "output_type": "execute_result"
    }
   ],
   "execution_count": 168
  },
  {
   "metadata": {
    "ExecuteTime": {
     "end_time": "2025-10-13T15:13:03.571709Z",
     "start_time": "2025-10-13T15:13:03.569310Z"
    }
   },
   "cell_type": "code",
   "source": "popular_lots['buyer_type'] = popular_lots['buyer_type'].fillna(popular_lots['buyer_type'].mode()[0])",
   "id": "9f87c4fc3da920e2",
   "outputs": [],
   "execution_count": 169
  },
  {
   "metadata": {
    "ExecuteTime": {
     "end_time": "2025-10-13T15:13:03.814691Z",
     "start_time": "2025-10-13T15:13:03.805690Z"
    }
   },
   "cell_type": "code",
   "source": "popular_lots = popular_lots.groupby('lot_make_cd', group_keys=False).apply(fill_grp_model_make)\n",
   "id": "1f2d7700e7507c8c",
   "outputs": [
    {
     "name": "stderr",
     "output_type": "stream",
     "text": [
      "/var/folders/jj/1fql_rw17h10wm_w98gwx9wm0000gq/T/ipykernel_22311/3628516480.py:1: DeprecationWarning: DataFrameGroupBy.apply operated on the grouping columns. This behavior is deprecated, and in a future version of pandas the grouping columns will be excluded from the operation. Either pass `include_groups=False` to exclude the groupings or explicitly select the grouping columns after groupby to silence this warning.\n",
      "  popular_lots = popular_lots.groupby('lot_make_cd', group_keys=False).apply(fill_grp_model_make)\n"
     ]
    }
   ],
   "execution_count": 170
  },
  {
   "metadata": {
    "ExecuteTime": {
     "end_time": "2025-10-13T15:13:05.248610Z",
     "start_time": "2025-10-13T15:13:05.245522Z"
    }
   },
   "cell_type": "code",
   "source": "popular_lots.isnull().sum()",
   "id": "92f3fddb0b71f74b",
   "outputs": [
    {
     "data": {
      "text/plain": [
       "buyer_type            0\n",
       "mbr_state             0\n",
       "lot_make_cd           0\n",
       "grp_model             1\n",
       "cnt                   0\n",
       "median_acv            0\n",
       "median_repair_cost    0\n",
       "model_rank            0\n",
       "rank                  0\n",
       "dtype: int64"
      ]
     },
     "execution_count": 171,
     "metadata": {},
     "output_type": "execute_result"
    }
   ],
   "execution_count": 171
  },
  {
   "metadata": {
    "ExecuteTime": {
     "end_time": "2025-10-13T15:13:08.701637Z",
     "start_time": "2025-10-13T15:13:08.698722Z"
    }
   },
   "cell_type": "code",
   "source": "popular_lots.dropna(subset=['grp_model'], inplace=True)",
   "id": "92c071b3850b3e41",
   "outputs": [],
   "execution_count": 172
  },
  {
   "metadata": {
    "ExecuteTime": {
     "end_time": "2025-10-13T15:13:09.300567Z",
     "start_time": "2025-10-13T15:13:09.296879Z"
    }
   },
   "cell_type": "code",
   "source": "popular_lots.isnull().sum()",
   "id": "b7a86d2296a8d38a",
   "outputs": [
    {
     "data": {
      "text/plain": [
       "buyer_type            0\n",
       "mbr_state             0\n",
       "lot_make_cd           0\n",
       "grp_model             0\n",
       "cnt                   0\n",
       "median_acv            0\n",
       "median_repair_cost    0\n",
       "model_rank            0\n",
       "rank                  0\n",
       "dtype: int64"
      ]
     },
     "execution_count": 173,
     "metadata": {},
     "output_type": "execute_result"
    }
   ],
   "execution_count": 173
  },
  {
   "metadata": {
    "ExecuteTime": {
     "end_time": "2025-10-13T15:13:11.543645Z",
     "start_time": "2025-10-13T15:13:11.539130Z"
    }
   },
   "cell_type": "code",
   "source": "popular_lots[(popular_lots['buyer_type']=='Dealer') & (popular_lots['mbr_state']=='TX')]",
   "id": "9d5b8274164ec7e1",
   "outputs": [
    {
     "data": {
      "text/plain": [
       "    buyer_type mbr_state lot_make_cd  grp_model  cnt  median_acv  \\\n",
       "0       Dealer        TX        NISS     SENTRA    4    12869.00   \n",
       "1       Dealer        TX         JEP   WRANGLER    2    26515.11   \n",
       "2       Dealer        TX         BMW   4 SERIES    1    26481.00   \n",
       "3       Dealer        TX        HOND        CRV    1    38924.00   \n",
       "4       Dealer        TX        FORD      FOCUS    1     7519.00   \n",
       "5       Dealer        TX        AUDI         Q7    1        0.00   \n",
       "330     Dealer        TX        CHEV  SILVERADO  561    28425.00   \n",
       "331     Dealer        TX        NISS     SENTRA  424    14330.00   \n",
       "332     Dealer        TX        TOYT      CAMRY  418    20105.50   \n",
       "333     Dealer        TX        CHEV     MALIBU  377    13438.97   \n",
       "334     Dealer        TX        TOYT    COROLLA  365    16164.00   \n",
       "335     Dealer        TX        FORD       F150  356    23214.00   \n",
       "\n",
       "     median_repair_cost  model_rank  rank  \n",
       "0                  0.00           1     1  \n",
       "1              11974.95           1     2  \n",
       "2              25033.87           1     3  \n",
       "3                  0.00           1     4  \n",
       "4               6124.27           1     5  \n",
       "5                  0.00           1     6  \n",
       "330            18017.62           1     1  \n",
       "331             8758.49           1     2  \n",
       "332            12140.35           1     3  \n",
       "333             7603.00           1     4  \n",
       "334            10561.79           1     5  \n",
       "335            16271.60           1     6  "
      ],
      "text/html": [
       "<div>\n",
       "<style scoped>\n",
       "    .dataframe tbody tr th:only-of-type {\n",
       "        vertical-align: middle;\n",
       "    }\n",
       "\n",
       "    .dataframe tbody tr th {\n",
       "        vertical-align: top;\n",
       "    }\n",
       "\n",
       "    .dataframe thead th {\n",
       "        text-align: right;\n",
       "    }\n",
       "</style>\n",
       "<table border=\"1\" class=\"dataframe\">\n",
       "  <thead>\n",
       "    <tr style=\"text-align: right;\">\n",
       "      <th></th>\n",
       "      <th>buyer_type</th>\n",
       "      <th>mbr_state</th>\n",
       "      <th>lot_make_cd</th>\n",
       "      <th>grp_model</th>\n",
       "      <th>cnt</th>\n",
       "      <th>median_acv</th>\n",
       "      <th>median_repair_cost</th>\n",
       "      <th>model_rank</th>\n",
       "      <th>rank</th>\n",
       "    </tr>\n",
       "  </thead>\n",
       "  <tbody>\n",
       "    <tr>\n",
       "      <th>0</th>\n",
       "      <td>Dealer</td>\n",
       "      <td>TX</td>\n",
       "      <td>NISS</td>\n",
       "      <td>SENTRA</td>\n",
       "      <td>4</td>\n",
       "      <td>12869.00</td>\n",
       "      <td>0.00</td>\n",
       "      <td>1</td>\n",
       "      <td>1</td>\n",
       "    </tr>\n",
       "    <tr>\n",
       "      <th>1</th>\n",
       "      <td>Dealer</td>\n",
       "      <td>TX</td>\n",
       "      <td>JEP</td>\n",
       "      <td>WRANGLER</td>\n",
       "      <td>2</td>\n",
       "      <td>26515.11</td>\n",
       "      <td>11974.95</td>\n",
       "      <td>1</td>\n",
       "      <td>2</td>\n",
       "    </tr>\n",
       "    <tr>\n",
       "      <th>2</th>\n",
       "      <td>Dealer</td>\n",
       "      <td>TX</td>\n",
       "      <td>BMW</td>\n",
       "      <td>4 SERIES</td>\n",
       "      <td>1</td>\n",
       "      <td>26481.00</td>\n",
       "      <td>25033.87</td>\n",
       "      <td>1</td>\n",
       "      <td>3</td>\n",
       "    </tr>\n",
       "    <tr>\n",
       "      <th>3</th>\n",
       "      <td>Dealer</td>\n",
       "      <td>TX</td>\n",
       "      <td>HOND</td>\n",
       "      <td>CRV</td>\n",
       "      <td>1</td>\n",
       "      <td>38924.00</td>\n",
       "      <td>0.00</td>\n",
       "      <td>1</td>\n",
       "      <td>4</td>\n",
       "    </tr>\n",
       "    <tr>\n",
       "      <th>4</th>\n",
       "      <td>Dealer</td>\n",
       "      <td>TX</td>\n",
       "      <td>FORD</td>\n",
       "      <td>FOCUS</td>\n",
       "      <td>1</td>\n",
       "      <td>7519.00</td>\n",
       "      <td>6124.27</td>\n",
       "      <td>1</td>\n",
       "      <td>5</td>\n",
       "    </tr>\n",
       "    <tr>\n",
       "      <th>5</th>\n",
       "      <td>Dealer</td>\n",
       "      <td>TX</td>\n",
       "      <td>AUDI</td>\n",
       "      <td>Q7</td>\n",
       "      <td>1</td>\n",
       "      <td>0.00</td>\n",
       "      <td>0.00</td>\n",
       "      <td>1</td>\n",
       "      <td>6</td>\n",
       "    </tr>\n",
       "    <tr>\n",
       "      <th>330</th>\n",
       "      <td>Dealer</td>\n",
       "      <td>TX</td>\n",
       "      <td>CHEV</td>\n",
       "      <td>SILVERADO</td>\n",
       "      <td>561</td>\n",
       "      <td>28425.00</td>\n",
       "      <td>18017.62</td>\n",
       "      <td>1</td>\n",
       "      <td>1</td>\n",
       "    </tr>\n",
       "    <tr>\n",
       "      <th>331</th>\n",
       "      <td>Dealer</td>\n",
       "      <td>TX</td>\n",
       "      <td>NISS</td>\n",
       "      <td>SENTRA</td>\n",
       "      <td>424</td>\n",
       "      <td>14330.00</td>\n",
       "      <td>8758.49</td>\n",
       "      <td>1</td>\n",
       "      <td>2</td>\n",
       "    </tr>\n",
       "    <tr>\n",
       "      <th>332</th>\n",
       "      <td>Dealer</td>\n",
       "      <td>TX</td>\n",
       "      <td>TOYT</td>\n",
       "      <td>CAMRY</td>\n",
       "      <td>418</td>\n",
       "      <td>20105.50</td>\n",
       "      <td>12140.35</td>\n",
       "      <td>1</td>\n",
       "      <td>3</td>\n",
       "    </tr>\n",
       "    <tr>\n",
       "      <th>333</th>\n",
       "      <td>Dealer</td>\n",
       "      <td>TX</td>\n",
       "      <td>CHEV</td>\n",
       "      <td>MALIBU</td>\n",
       "      <td>377</td>\n",
       "      <td>13438.97</td>\n",
       "      <td>7603.00</td>\n",
       "      <td>1</td>\n",
       "      <td>4</td>\n",
       "    </tr>\n",
       "    <tr>\n",
       "      <th>334</th>\n",
       "      <td>Dealer</td>\n",
       "      <td>TX</td>\n",
       "      <td>TOYT</td>\n",
       "      <td>COROLLA</td>\n",
       "      <td>365</td>\n",
       "      <td>16164.00</td>\n",
       "      <td>10561.79</td>\n",
       "      <td>1</td>\n",
       "      <td>5</td>\n",
       "    </tr>\n",
       "    <tr>\n",
       "      <th>335</th>\n",
       "      <td>Dealer</td>\n",
       "      <td>TX</td>\n",
       "      <td>FORD</td>\n",
       "      <td>F150</td>\n",
       "      <td>356</td>\n",
       "      <td>23214.00</td>\n",
       "      <td>16271.60</td>\n",
       "      <td>1</td>\n",
       "      <td>6</td>\n",
       "    </tr>\n",
       "  </tbody>\n",
       "</table>\n",
       "</div>"
      ]
     },
     "execution_count": 174,
     "metadata": {},
     "output_type": "execute_result"
    }
   ],
   "execution_count": 174
  },
  {
   "metadata": {
    "ExecuteTime": {
     "end_time": "2025-10-13T15:13:11.774031Z",
     "start_time": "2025-10-13T15:13:11.772061Z"
    }
   },
   "cell_type": "code",
   "source": "popular_lots = popular_lots[popular_lots['rank']<=6]",
   "id": "241fc069d121000d",
   "outputs": [],
   "execution_count": 175
  },
  {
   "metadata": {
    "ExecuteTime": {
     "end_time": "2025-10-13T15:13:13.781987Z",
     "start_time": "2025-10-13T15:13:13.776279Z"
    }
   },
   "cell_type": "code",
   "source": "popular_lots[(popular_lots['buyer_type']=='Dealer') & (popular_lots['mbr_state']=='TX')]",
   "id": "e49a73528c57d48e",
   "outputs": [
    {
     "data": {
      "text/plain": [
       "    buyer_type mbr_state lot_make_cd  grp_model  cnt  median_acv  \\\n",
       "0       Dealer        TX        NISS     SENTRA    4    12869.00   \n",
       "1       Dealer        TX         JEP   WRANGLER    2    26515.11   \n",
       "2       Dealer        TX         BMW   4 SERIES    1    26481.00   \n",
       "3       Dealer        TX        HOND        CRV    1    38924.00   \n",
       "4       Dealer        TX        FORD      FOCUS    1     7519.00   \n",
       "5       Dealer        TX        AUDI         Q7    1        0.00   \n",
       "330     Dealer        TX        CHEV  SILVERADO  561    28425.00   \n",
       "331     Dealer        TX        NISS     SENTRA  424    14330.00   \n",
       "332     Dealer        TX        TOYT      CAMRY  418    20105.50   \n",
       "333     Dealer        TX        CHEV     MALIBU  377    13438.97   \n",
       "334     Dealer        TX        TOYT    COROLLA  365    16164.00   \n",
       "335     Dealer        TX        FORD       F150  356    23214.00   \n",
       "\n",
       "     median_repair_cost  model_rank  rank  \n",
       "0                  0.00           1     1  \n",
       "1              11974.95           1     2  \n",
       "2              25033.87           1     3  \n",
       "3                  0.00           1     4  \n",
       "4               6124.27           1     5  \n",
       "5                  0.00           1     6  \n",
       "330            18017.62           1     1  \n",
       "331             8758.49           1     2  \n",
       "332            12140.35           1     3  \n",
       "333             7603.00           1     4  \n",
       "334            10561.79           1     5  \n",
       "335            16271.60           1     6  "
      ],
      "text/html": [
       "<div>\n",
       "<style scoped>\n",
       "    .dataframe tbody tr th:only-of-type {\n",
       "        vertical-align: middle;\n",
       "    }\n",
       "\n",
       "    .dataframe tbody tr th {\n",
       "        vertical-align: top;\n",
       "    }\n",
       "\n",
       "    .dataframe thead th {\n",
       "        text-align: right;\n",
       "    }\n",
       "</style>\n",
       "<table border=\"1\" class=\"dataframe\">\n",
       "  <thead>\n",
       "    <tr style=\"text-align: right;\">\n",
       "      <th></th>\n",
       "      <th>buyer_type</th>\n",
       "      <th>mbr_state</th>\n",
       "      <th>lot_make_cd</th>\n",
       "      <th>grp_model</th>\n",
       "      <th>cnt</th>\n",
       "      <th>median_acv</th>\n",
       "      <th>median_repair_cost</th>\n",
       "      <th>model_rank</th>\n",
       "      <th>rank</th>\n",
       "    </tr>\n",
       "  </thead>\n",
       "  <tbody>\n",
       "    <tr>\n",
       "      <th>0</th>\n",
       "      <td>Dealer</td>\n",
       "      <td>TX</td>\n",
       "      <td>NISS</td>\n",
       "      <td>SENTRA</td>\n",
       "      <td>4</td>\n",
       "      <td>12869.00</td>\n",
       "      <td>0.00</td>\n",
       "      <td>1</td>\n",
       "      <td>1</td>\n",
       "    </tr>\n",
       "    <tr>\n",
       "      <th>1</th>\n",
       "      <td>Dealer</td>\n",
       "      <td>TX</td>\n",
       "      <td>JEP</td>\n",
       "      <td>WRANGLER</td>\n",
       "      <td>2</td>\n",
       "      <td>26515.11</td>\n",
       "      <td>11974.95</td>\n",
       "      <td>1</td>\n",
       "      <td>2</td>\n",
       "    </tr>\n",
       "    <tr>\n",
       "      <th>2</th>\n",
       "      <td>Dealer</td>\n",
       "      <td>TX</td>\n",
       "      <td>BMW</td>\n",
       "      <td>4 SERIES</td>\n",
       "      <td>1</td>\n",
       "      <td>26481.00</td>\n",
       "      <td>25033.87</td>\n",
       "      <td>1</td>\n",
       "      <td>3</td>\n",
       "    </tr>\n",
       "    <tr>\n",
       "      <th>3</th>\n",
       "      <td>Dealer</td>\n",
       "      <td>TX</td>\n",
       "      <td>HOND</td>\n",
       "      <td>CRV</td>\n",
       "      <td>1</td>\n",
       "      <td>38924.00</td>\n",
       "      <td>0.00</td>\n",
       "      <td>1</td>\n",
       "      <td>4</td>\n",
       "    </tr>\n",
       "    <tr>\n",
       "      <th>4</th>\n",
       "      <td>Dealer</td>\n",
       "      <td>TX</td>\n",
       "      <td>FORD</td>\n",
       "      <td>FOCUS</td>\n",
       "      <td>1</td>\n",
       "      <td>7519.00</td>\n",
       "      <td>6124.27</td>\n",
       "      <td>1</td>\n",
       "      <td>5</td>\n",
       "    </tr>\n",
       "    <tr>\n",
       "      <th>5</th>\n",
       "      <td>Dealer</td>\n",
       "      <td>TX</td>\n",
       "      <td>AUDI</td>\n",
       "      <td>Q7</td>\n",
       "      <td>1</td>\n",
       "      <td>0.00</td>\n",
       "      <td>0.00</td>\n",
       "      <td>1</td>\n",
       "      <td>6</td>\n",
       "    </tr>\n",
       "    <tr>\n",
       "      <th>330</th>\n",
       "      <td>Dealer</td>\n",
       "      <td>TX</td>\n",
       "      <td>CHEV</td>\n",
       "      <td>SILVERADO</td>\n",
       "      <td>561</td>\n",
       "      <td>28425.00</td>\n",
       "      <td>18017.62</td>\n",
       "      <td>1</td>\n",
       "      <td>1</td>\n",
       "    </tr>\n",
       "    <tr>\n",
       "      <th>331</th>\n",
       "      <td>Dealer</td>\n",
       "      <td>TX</td>\n",
       "      <td>NISS</td>\n",
       "      <td>SENTRA</td>\n",
       "      <td>424</td>\n",
       "      <td>14330.00</td>\n",
       "      <td>8758.49</td>\n",
       "      <td>1</td>\n",
       "      <td>2</td>\n",
       "    </tr>\n",
       "    <tr>\n",
       "      <th>332</th>\n",
       "      <td>Dealer</td>\n",
       "      <td>TX</td>\n",
       "      <td>TOYT</td>\n",
       "      <td>CAMRY</td>\n",
       "      <td>418</td>\n",
       "      <td>20105.50</td>\n",
       "      <td>12140.35</td>\n",
       "      <td>1</td>\n",
       "      <td>3</td>\n",
       "    </tr>\n",
       "    <tr>\n",
       "      <th>333</th>\n",
       "      <td>Dealer</td>\n",
       "      <td>TX</td>\n",
       "      <td>CHEV</td>\n",
       "      <td>MALIBU</td>\n",
       "      <td>377</td>\n",
       "      <td>13438.97</td>\n",
       "      <td>7603.00</td>\n",
       "      <td>1</td>\n",
       "      <td>4</td>\n",
       "    </tr>\n",
       "    <tr>\n",
       "      <th>334</th>\n",
       "      <td>Dealer</td>\n",
       "      <td>TX</td>\n",
       "      <td>TOYT</td>\n",
       "      <td>COROLLA</td>\n",
       "      <td>365</td>\n",
       "      <td>16164.00</td>\n",
       "      <td>10561.79</td>\n",
       "      <td>1</td>\n",
       "      <td>5</td>\n",
       "    </tr>\n",
       "    <tr>\n",
       "      <th>335</th>\n",
       "      <td>Dealer</td>\n",
       "      <td>TX</td>\n",
       "      <td>FORD</td>\n",
       "      <td>F150</td>\n",
       "      <td>356</td>\n",
       "      <td>23214.00</td>\n",
       "      <td>16271.60</td>\n",
       "      <td>1</td>\n",
       "      <td>6</td>\n",
       "    </tr>\n",
       "  </tbody>\n",
       "</table>\n",
       "</div>"
      ]
     },
     "execution_count": 176,
     "metadata": {},
     "output_type": "execute_result"
    }
   ],
   "execution_count": 176
  },
  {
   "metadata": {
    "ExecuteTime": {
     "end_time": "2025-10-13T15:13:15.251951Z",
     "start_time": "2025-10-13T15:13:15.247150Z"
    }
   },
   "cell_type": "code",
   "source": "popular_lots.to_csv('data/interim/popular_lots.csv',index=False)",
   "id": "b95678ebdc8027cb",
   "outputs": [],
   "execution_count": 177
  },
  {
   "metadata": {
    "ExecuteTime": {
     "end_time": "2025-10-13T15:13:16.437854Z",
     "start_time": "2025-10-13T15:13:16.436536Z"
    }
   },
   "cell_type": "code",
   "source": "",
   "id": "cdfcb79a803c1f45",
   "outputs": [],
   "execution_count": null
  },
  {
   "metadata": {},
   "cell_type": "markdown",
   "source": "### Upcoming lots",
   "id": "fcc61294a4b306c3"
  },
  {
   "metadata": {
    "ExecuteTime": {
     "end_time": "2025-10-13T15:13:16.969486Z",
     "start_time": "2025-10-13T15:13:16.950241Z"
    }
   },
   "cell_type": "code",
   "source": "future_lots = pd.read_csv('data/raw/future_lots.csv')",
   "id": "f8dc71c9ff68d4d6",
   "outputs": [],
   "execution_count": 178
  },
  {
   "metadata": {
    "ExecuteTime": {
     "end_time": "2025-10-13T15:13:17.377461Z",
     "start_time": "2025-10-13T15:13:17.373341Z"
    }
   },
   "cell_type": "code",
   "source": "future_lots.head()",
   "id": "4ee7b4335ddb344d",
   "outputs": [
    {
     "data": {
      "text/plain": [
       "    lot_nbr  lot_year lot_make_cd  grp_model damage_type_desc  repair_cost  \\\n",
       "0  71239515      2017        VOLK     PASSAT        FRONT END      9251.75   \n",
       "1  81929665      2013        HYUN   VELOSTER        FRONT END         0.00   \n",
       "2  67987075      2016        SUBA  CROSSTREK     FRAME DAMAGE      6898.95   \n",
       "3  81834465      2012        CADI        CTS        FRONT END         0.00   \n",
       "4  65324015      2014        CHEV      SONIC        FRONT END      3261.53   \n",
       "\n",
       "       acv      auc_dt  proquote_amt  \n",
       "0  9841.73  2025-10-14       2544.05  \n",
       "1  4250.00  2025-10-14       1225.38  \n",
       "2  7043.00  2025-10-15       1722.39  \n",
       "3   608.00  2025-10-16        503.58  \n",
       "4  3927.00  2025-10-15        679.09  "
      ],
      "text/html": [
       "<div>\n",
       "<style scoped>\n",
       "    .dataframe tbody tr th:only-of-type {\n",
       "        vertical-align: middle;\n",
       "    }\n",
       "\n",
       "    .dataframe tbody tr th {\n",
       "        vertical-align: top;\n",
       "    }\n",
       "\n",
       "    .dataframe thead th {\n",
       "        text-align: right;\n",
       "    }\n",
       "</style>\n",
       "<table border=\"1\" class=\"dataframe\">\n",
       "  <thead>\n",
       "    <tr style=\"text-align: right;\">\n",
       "      <th></th>\n",
       "      <th>lot_nbr</th>\n",
       "      <th>lot_year</th>\n",
       "      <th>lot_make_cd</th>\n",
       "      <th>grp_model</th>\n",
       "      <th>damage_type_desc</th>\n",
       "      <th>repair_cost</th>\n",
       "      <th>acv</th>\n",
       "      <th>auc_dt</th>\n",
       "      <th>proquote_amt</th>\n",
       "    </tr>\n",
       "  </thead>\n",
       "  <tbody>\n",
       "    <tr>\n",
       "      <th>0</th>\n",
       "      <td>71239515</td>\n",
       "      <td>2017</td>\n",
       "      <td>VOLK</td>\n",
       "      <td>PASSAT</td>\n",
       "      <td>FRONT END</td>\n",
       "      <td>9251.75</td>\n",
       "      <td>9841.73</td>\n",
       "      <td>2025-10-14</td>\n",
       "      <td>2544.05</td>\n",
       "    </tr>\n",
       "    <tr>\n",
       "      <th>1</th>\n",
       "      <td>81929665</td>\n",
       "      <td>2013</td>\n",
       "      <td>HYUN</td>\n",
       "      <td>VELOSTER</td>\n",
       "      <td>FRONT END</td>\n",
       "      <td>0.00</td>\n",
       "      <td>4250.00</td>\n",
       "      <td>2025-10-14</td>\n",
       "      <td>1225.38</td>\n",
       "    </tr>\n",
       "    <tr>\n",
       "      <th>2</th>\n",
       "      <td>67987075</td>\n",
       "      <td>2016</td>\n",
       "      <td>SUBA</td>\n",
       "      <td>CROSSTREK</td>\n",
       "      <td>FRAME DAMAGE</td>\n",
       "      <td>6898.95</td>\n",
       "      <td>7043.00</td>\n",
       "      <td>2025-10-15</td>\n",
       "      <td>1722.39</td>\n",
       "    </tr>\n",
       "    <tr>\n",
       "      <th>3</th>\n",
       "      <td>81834465</td>\n",
       "      <td>2012</td>\n",
       "      <td>CADI</td>\n",
       "      <td>CTS</td>\n",
       "      <td>FRONT END</td>\n",
       "      <td>0.00</td>\n",
       "      <td>608.00</td>\n",
       "      <td>2025-10-16</td>\n",
       "      <td>503.58</td>\n",
       "    </tr>\n",
       "    <tr>\n",
       "      <th>4</th>\n",
       "      <td>65324015</td>\n",
       "      <td>2014</td>\n",
       "      <td>CHEV</td>\n",
       "      <td>SONIC</td>\n",
       "      <td>FRONT END</td>\n",
       "      <td>3261.53</td>\n",
       "      <td>3927.00</td>\n",
       "      <td>2025-10-15</td>\n",
       "      <td>679.09</td>\n",
       "    </tr>\n",
       "  </tbody>\n",
       "</table>\n",
       "</div>"
      ]
     },
     "execution_count": 179,
     "metadata": {},
     "output_type": "execute_result"
    }
   ],
   "execution_count": 179
  },
  {
   "metadata": {
    "ExecuteTime": {
     "end_time": "2025-10-13T15:13:18.855936Z",
     "start_time": "2025-10-13T15:13:18.850138Z"
    }
   },
   "cell_type": "code",
   "source": "future_lots.isnull().sum()",
   "id": "ec37d53e60d03541",
   "outputs": [
    {
     "data": {
      "text/plain": [
       "lot_nbr               0\n",
       "lot_year              0\n",
       "lot_make_cd           0\n",
       "grp_model           967\n",
       "damage_type_desc      1\n",
       "repair_cost           0\n",
       "acv                   0\n",
       "auc_dt                0\n",
       "proquote_amt          0\n",
       "dtype: int64"
      ]
     },
     "execution_count": 180,
     "metadata": {},
     "output_type": "execute_result"
    }
   ],
   "execution_count": 180
  },
  {
   "metadata": {
    "ExecuteTime": {
     "end_time": "2025-10-13T15:13:19.669712Z",
     "start_time": "2025-10-13T15:13:19.663079Z"
    }
   },
   "cell_type": "code",
   "source": "future_lots['damage_type_desc'] = future_lots['damage_type_desc'].fillna(future_lots['damage_type_desc'].mode()[0])",
   "id": "765e5391af6ea7a6",
   "outputs": [],
   "execution_count": 181
  },
  {
   "metadata": {
    "ExecuteTime": {
     "end_time": "2025-10-13T15:13:20.249939Z",
     "start_time": "2025-10-13T15:13:20.051466Z"
    }
   },
   "cell_type": "code",
   "source": [
    "future_lots = future_lots.groupby(['lot_year', 'lot_make_cd'], group_keys=False).apply(fill_grp_model_year_make)\n",
    "\n",
    "\n",
    "future_lots = future_lots.groupby('lot_make_cd', group_keys=False).apply(fill_grp_model_make)\n"
   ],
   "id": "fa3ce6d0fd339de8",
   "outputs": [
    {
     "name": "stderr",
     "output_type": "stream",
     "text": [
      "/var/folders/jj/1fql_rw17h10wm_w98gwx9wm0000gq/T/ipykernel_22311/42068045.py:1: DeprecationWarning: DataFrameGroupBy.apply operated on the grouping columns. This behavior is deprecated, and in a future version of pandas the grouping columns will be excluded from the operation. Either pass `include_groups=False` to exclude the groupings or explicitly select the grouping columns after groupby to silence this warning.\n",
      "  future_lots = future_lots.groupby(['lot_year', 'lot_make_cd'], group_keys=False).apply(fill_grp_model_year_make)\n",
      "/var/folders/jj/1fql_rw17h10wm_w98gwx9wm0000gq/T/ipykernel_22311/42068045.py:4: DeprecationWarning: DataFrameGroupBy.apply operated on the grouping columns. This behavior is deprecated, and in a future version of pandas the grouping columns will be excluded from the operation. Either pass `include_groups=False` to exclude the groupings or explicitly select the grouping columns after groupby to silence this warning.\n",
      "  future_lots = future_lots.groupby('lot_make_cd', group_keys=False).apply(fill_grp_model_make)\n"
     ]
    }
   ],
   "execution_count": 182
  },
  {
   "metadata": {
    "ExecuteTime": {
     "end_time": "2025-10-13T15:13:21.488350Z",
     "start_time": "2025-10-13T15:13:21.481936Z"
    }
   },
   "cell_type": "code",
   "source": "future_lots.isnull().sum()",
   "id": "4e0cdd299ac07ea",
   "outputs": [
    {
     "data": {
      "text/plain": [
       "lot_nbr              0\n",
       "lot_year             0\n",
       "lot_make_cd          0\n",
       "grp_model           27\n",
       "damage_type_desc     0\n",
       "repair_cost          0\n",
       "acv                  0\n",
       "auc_dt               0\n",
       "proquote_amt         0\n",
       "dtype: int64"
      ]
     },
     "execution_count": 183,
     "metadata": {},
     "output_type": "execute_result"
    }
   ],
   "execution_count": 183
  },
  {
   "metadata": {
    "ExecuteTime": {
     "end_time": "2025-10-13T15:13:22.825269Z",
     "start_time": "2025-10-13T15:13:22.820442Z"
    }
   },
   "cell_type": "code",
   "source": "future_lots.dropna(subset=['grp_model'], inplace=True)",
   "id": "9a5358d76ab1e626",
   "outputs": [],
   "execution_count": 184
  },
  {
   "metadata": {
    "ExecuteTime": {
     "end_time": "2025-10-13T15:13:23.077771Z",
     "start_time": "2025-10-13T15:13:23.069270Z"
    }
   },
   "cell_type": "code",
   "source": "future_lots.isnull().sum()",
   "id": "399ff328dead713c",
   "outputs": [
    {
     "data": {
      "text/plain": [
       "lot_nbr             0\n",
       "lot_year            0\n",
       "lot_make_cd         0\n",
       "grp_model           0\n",
       "damage_type_desc    0\n",
       "repair_cost         0\n",
       "acv                 0\n",
       "auc_dt              0\n",
       "proquote_amt        0\n",
       "dtype: int64"
      ]
     },
     "execution_count": 185,
     "metadata": {},
     "output_type": "execute_result"
    }
   ],
   "execution_count": 185
  },
  {
   "metadata": {
    "ExecuteTime": {
     "end_time": "2025-10-13T15:13:24.830761Z",
     "start_time": "2025-10-13T15:13:24.758465Z"
    }
   },
   "cell_type": "code",
   "source": "future_lots.to_csv('data/interim/future_lots.csv',index=False)",
   "id": "b0310c1186877dfd",
   "outputs": [],
   "execution_count": 186
  },
  {
   "metadata": {},
   "cell_type": "code",
   "outputs": [],
   "execution_count": null,
   "source": "",
   "id": "6a7595ef0b40e7d2"
  }
 ],
 "metadata": {
  "kernelspec": {
   "display_name": "Python 3",
   "language": "python",
   "name": "python3"
  },
  "language_info": {
   "codemirror_mode": {
    "name": "ipython",
    "version": 2
   },
   "file_extension": ".py",
   "mimetype": "text/x-python",
   "name": "python",
   "nbconvert_exporter": "python",
   "pygments_lexer": "ipython2",
   "version": "2.7.6"
  }
 },
 "nbformat": 4,
 "nbformat_minor": 5
}

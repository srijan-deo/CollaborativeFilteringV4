{
 "cells": [
  {
   "cell_type": "code",
   "id": "initial_id",
   "metadata": {
    "collapsed": true,
    "ExecuteTime": {
     "end_time": "2025-10-30T16:23:30.839669Z",
     "start_time": "2025-10-30T16:23:30.837824Z"
    }
   },
   "source": [
    "import pandas as pd\n",
    "import os"
   ],
   "outputs": [],
   "execution_count": 57
  },
  {
   "metadata": {},
   "cell_type": "markdown",
   "source": "### Active bidders preprocessing",
   "id": "d523abd58315329c"
  },
  {
   "metadata": {
    "ExecuteTime": {
     "end_time": "2025-10-30T16:23:32.056365Z",
     "start_time": "2025-10-30T16:23:31.491600Z"
    }
   },
   "cell_type": "code",
   "source": [
    "active_buyers = pd.read_csv('../data/raw/active_buyers.csv')\n",
    "active_buyers.head()"
   ],
   "id": "ec17017aeed779c9",
   "outputs": [
    {
     "data": {
      "text/plain": [
       "  mbr_lic_type mbr_state   lot_nbr  buyer_nbr  \\\n",
       "0     Consumer        TN  71973155     496756   \n",
       "1     Consumer        TN  84613455     307472   \n",
       "2   Dismantler        CA  84636425     648809   \n",
       "3   Dismantler        AL  81820645     418252   \n",
       "4     Consumer        TX  70296175     865646   \n",
       "\n",
       "                                           mbr_email  max_bid      inv_dt  \\\n",
       "0  774468-MSTRBDR-41de7231-2f92-41ec-afe2-9236d15...   7300.0  2025-10-23   \n",
       "1  307472cprt_dmmy_MASTERBDR_774468_309348@copart...   1750.0  2025-10-22   \n",
       "2                                      info@cps.bike     90.0  2025-10-22   \n",
       "3                                duartedlm@gmail.com    450.0  2025-10-23   \n",
       "4                                 lg954932@gmail.com    175.0  2025-10-24   \n",
       "\n",
       "   lot_year lot_make_cd grp_model       acv  plug_lot_acv  repair_cost  \\\n",
       "0      2023        CADI       XT6  36434.00       38925.0         0.00   \n",
       "1      2017        CADI       XTS  16824.00       13225.0     15591.11   \n",
       "2      2025        HYUN     VENUE  21000.00       23000.0      6836.00   \n",
       "3      2016        ACUR       TLX  19085.00       14475.0     15839.00   \n",
       "4      2004        MAZD         6   4715.72           0.0      4715.72   \n",
       "\n",
       "   total_unique_buyers_on_that_lot  total_unique_lots_bid_by_buyers  \n",
       "0                                7                             3965  \n",
       "1                                9                             3618  \n",
       "2                                5                             1008  \n",
       "3                                3                              141  \n",
       "4                                4                                2  "
      ],
      "text/html": [
       "<div>\n",
       "<style scoped>\n",
       "    .dataframe tbody tr th:only-of-type {\n",
       "        vertical-align: middle;\n",
       "    }\n",
       "\n",
       "    .dataframe tbody tr th {\n",
       "        vertical-align: top;\n",
       "    }\n",
       "\n",
       "    .dataframe thead th {\n",
       "        text-align: right;\n",
       "    }\n",
       "</style>\n",
       "<table border=\"1\" class=\"dataframe\">\n",
       "  <thead>\n",
       "    <tr style=\"text-align: right;\">\n",
       "      <th></th>\n",
       "      <th>mbr_lic_type</th>\n",
       "      <th>mbr_state</th>\n",
       "      <th>lot_nbr</th>\n",
       "      <th>buyer_nbr</th>\n",
       "      <th>mbr_email</th>\n",
       "      <th>max_bid</th>\n",
       "      <th>inv_dt</th>\n",
       "      <th>lot_year</th>\n",
       "      <th>lot_make_cd</th>\n",
       "      <th>grp_model</th>\n",
       "      <th>acv</th>\n",
       "      <th>plug_lot_acv</th>\n",
       "      <th>repair_cost</th>\n",
       "      <th>total_unique_buyers_on_that_lot</th>\n",
       "      <th>total_unique_lots_bid_by_buyers</th>\n",
       "    </tr>\n",
       "  </thead>\n",
       "  <tbody>\n",
       "    <tr>\n",
       "      <th>0</th>\n",
       "      <td>Consumer</td>\n",
       "      <td>TN</td>\n",
       "      <td>71973155</td>\n",
       "      <td>496756</td>\n",
       "      <td>774468-MSTRBDR-41de7231-2f92-41ec-afe2-9236d15...</td>\n",
       "      <td>7300.0</td>\n",
       "      <td>2025-10-23</td>\n",
       "      <td>2023</td>\n",
       "      <td>CADI</td>\n",
       "      <td>XT6</td>\n",
       "      <td>36434.00</td>\n",
       "      <td>38925.0</td>\n",
       "      <td>0.00</td>\n",
       "      <td>7</td>\n",
       "      <td>3965</td>\n",
       "    </tr>\n",
       "    <tr>\n",
       "      <th>1</th>\n",
       "      <td>Consumer</td>\n",
       "      <td>TN</td>\n",
       "      <td>84613455</td>\n",
       "      <td>307472</td>\n",
       "      <td>307472cprt_dmmy_MASTERBDR_774468_309348@copart...</td>\n",
       "      <td>1750.0</td>\n",
       "      <td>2025-10-22</td>\n",
       "      <td>2017</td>\n",
       "      <td>CADI</td>\n",
       "      <td>XTS</td>\n",
       "      <td>16824.00</td>\n",
       "      <td>13225.0</td>\n",
       "      <td>15591.11</td>\n",
       "      <td>9</td>\n",
       "      <td>3618</td>\n",
       "    </tr>\n",
       "    <tr>\n",
       "      <th>2</th>\n",
       "      <td>Dismantler</td>\n",
       "      <td>CA</td>\n",
       "      <td>84636425</td>\n",
       "      <td>648809</td>\n",
       "      <td>info@cps.bike</td>\n",
       "      <td>90.0</td>\n",
       "      <td>2025-10-22</td>\n",
       "      <td>2025</td>\n",
       "      <td>HYUN</td>\n",
       "      <td>VENUE</td>\n",
       "      <td>21000.00</td>\n",
       "      <td>23000.0</td>\n",
       "      <td>6836.00</td>\n",
       "      <td>5</td>\n",
       "      <td>1008</td>\n",
       "    </tr>\n",
       "    <tr>\n",
       "      <th>3</th>\n",
       "      <td>Dismantler</td>\n",
       "      <td>AL</td>\n",
       "      <td>81820645</td>\n",
       "      <td>418252</td>\n",
       "      <td>duartedlm@gmail.com</td>\n",
       "      <td>450.0</td>\n",
       "      <td>2025-10-23</td>\n",
       "      <td>2016</td>\n",
       "      <td>ACUR</td>\n",
       "      <td>TLX</td>\n",
       "      <td>19085.00</td>\n",
       "      <td>14475.0</td>\n",
       "      <td>15839.00</td>\n",
       "      <td>3</td>\n",
       "      <td>141</td>\n",
       "    </tr>\n",
       "    <tr>\n",
       "      <th>4</th>\n",
       "      <td>Consumer</td>\n",
       "      <td>TX</td>\n",
       "      <td>70296175</td>\n",
       "      <td>865646</td>\n",
       "      <td>lg954932@gmail.com</td>\n",
       "      <td>175.0</td>\n",
       "      <td>2025-10-24</td>\n",
       "      <td>2004</td>\n",
       "      <td>MAZD</td>\n",
       "      <td>6</td>\n",
       "      <td>4715.72</td>\n",
       "      <td>0.0</td>\n",
       "      <td>4715.72</td>\n",
       "      <td>4</td>\n",
       "      <td>2</td>\n",
       "    </tr>\n",
       "  </tbody>\n",
       "</table>\n",
       "</div>"
      ]
     },
     "execution_count": 58,
     "metadata": {},
     "output_type": "execute_result"
    }
   ],
   "execution_count": 58
  },
  {
   "metadata": {
    "ExecuteTime": {
     "end_time": "2025-10-30T16:23:33.301364Z",
     "start_time": "2025-10-30T16:23:33.298587Z"
    }
   },
   "cell_type": "code",
   "source": "active_buyers.shape",
   "id": "fc094eb8e56e7c6c",
   "outputs": [
    {
     "data": {
      "text/plain": [
       "(315231, 15)"
      ]
     },
     "execution_count": 59,
     "metadata": {},
     "output_type": "execute_result"
    }
   ],
   "execution_count": 59
  },
  {
   "metadata": {
    "ExecuteTime": {
     "end_time": "2025-10-30T16:23:33.873310Z",
     "start_time": "2025-10-30T16:23:33.841304Z"
    }
   },
   "cell_type": "code",
   "source": "active_buyers.isnull().sum()",
   "id": "e4834466804f6aa6",
   "outputs": [
    {
     "data": {
      "text/plain": [
       "mbr_lic_type                        842\n",
       "mbr_state                             0\n",
       "lot_nbr                               0\n",
       "buyer_nbr                             0\n",
       "mbr_email                             0\n",
       "max_bid                               0\n",
       "inv_dt                                0\n",
       "lot_year                              0\n",
       "lot_make_cd                           0\n",
       "grp_model                          9044\n",
       "acv                                   0\n",
       "plug_lot_acv                          0\n",
       "repair_cost                           0\n",
       "total_unique_buyers_on_that_lot       0\n",
       "total_unique_lots_bid_by_buyers       0\n",
       "dtype: int64"
      ]
     },
     "execution_count": 60,
     "metadata": {},
     "output_type": "execute_result"
    }
   ],
   "execution_count": 60
  },
  {
   "metadata": {},
   "cell_type": "markdown",
   "source": [
    "### Missing value imputations based on:\n",
    "1. mbr lic type: Mode\n",
    "2. mbr state: Mode\n",
    "3. grp model : Mode within year and make"
   ],
   "id": "7badf72f04dca32f"
  },
  {
   "metadata": {
    "ExecuteTime": {
     "end_time": "2025-10-30T16:23:35.007434Z",
     "start_time": "2025-10-30T16:23:35.004162Z"
    }
   },
   "cell_type": "code",
   "source": [
    "def _fill_grp_model_year_make(group: pd.DataFrame) -> pd.DataFrame:\n",
    "    \"\"\"Helper: fill grp_model within (lot_year, lot_make_cd).\"\"\"\n",
    "    mode_val = group['grp_model'].mode()\n",
    "    if not mode_val.empty:\n",
    "        group['grp_model'] = group['grp_model'].fillna(mode_val[0])\n",
    "    return group\n",
    "\n",
    "def _fill_grp_model_make(group: pd.DataFrame) -> pd.DataFrame:\n",
    "    \"\"\"Helper: fill grp_model within lot_make_cd.\"\"\"\n",
    "    mode_val = group['grp_model'].mode()\n",
    "    if not mode_val.empty:\n",
    "        group['grp_model'] = group['grp_model'].fillna(mode_val[0])\n",
    "    return group\n",
    "\n",
    "def fill_missing_grp_model(df: pd.DataFrame) -> pd.DataFrame:\n",
    "    \"\"\"\n",
    "    Fill missing 'grp_model' using hierarchical mode logic:\n",
    "    1. Within (lot_year, lot_make_cd)\n",
    "    2. Within (lot_make_cd)\n",
    "    3. Drop remaining rows where grp_model is still NaN\n",
    "    \"\"\"\n",
    "    df = df.groupby(['lot_year', 'lot_make_cd'], group_keys=False).apply(_fill_grp_model_year_make)\n",
    "    df = df.groupby(['lot_make_cd'], group_keys=False).apply(_fill_grp_model_make)\n",
    "    df = df.dropna(subset=['grp_model'])\n",
    "    return df"
   ],
   "id": "a9fad903f5dfc797",
   "outputs": [],
   "execution_count": 61
  },
  {
   "metadata": {
    "ExecuteTime": {
     "end_time": "2025-10-30T16:23:35.296182Z",
     "start_time": "2025-10-30T16:23:35.292924Z"
    }
   },
   "cell_type": "code",
   "source": [
    "def clean_active_buyers(df: pd.DataFrame) -> pd.DataFrame:\n",
    "\n",
    "    df['mbr_lic_type'] = df['mbr_lic_type'].fillna(df['mbr_lic_type'].mode()[0])\n",
    "    df['mbr_state'] = df['mbr_state'].fillna(df['mbr_state'].mode()[0])\n",
    "    df['mbr_lic_type'] = df['mbr_lic_type'].replace('Automotive Related Business', 'General Business')\n",
    "\n",
    "    df = df.groupby(['lot_year', 'lot_make_cd'], group_keys=False).apply(_fill_grp_model_year_make)\n",
    "    df = df.groupby(['lot_make_cd'], group_keys=False).apply(_fill_grp_model_make)\n",
    "    df = df.dropna(subset=['grp_model'])\n",
    "\n",
    "    df['acv'] = df['acv'].mask(df['acv']<=0, df['plug_lot_acv'])\n",
    "\n",
    "    return df"
   ],
   "id": "cda01fd850df8bad",
   "outputs": [],
   "execution_count": 62
  },
  {
   "metadata": {
    "ExecuteTime": {
     "end_time": "2025-10-30T16:23:35.953448Z",
     "start_time": "2025-10-30T16:23:35.555870Z"
    }
   },
   "cell_type": "code",
   "source": "active_buyers = clean_active_buyers(active_buyers)",
   "id": "d36b6c09f58400f8",
   "outputs": [
    {
     "name": "stderr",
     "output_type": "stream",
     "text": [
      "/var/folders/jj/1fql_rw17h10wm_w98gwx9wm0000gq/T/ipykernel_84023/4247816291.py:7: DeprecationWarning: DataFrameGroupBy.apply operated on the grouping columns. This behavior is deprecated, and in a future version of pandas the grouping columns will be excluded from the operation. Either pass `include_groups=False` to exclude the groupings or explicitly select the grouping columns after groupby to silence this warning.\n",
      "  df = df.groupby(['lot_year', 'lot_make_cd'], group_keys=False).apply(_fill_grp_model_year_make)\n",
      "/var/folders/jj/1fql_rw17h10wm_w98gwx9wm0000gq/T/ipykernel_84023/4247816291.py:8: DeprecationWarning: DataFrameGroupBy.apply operated on the grouping columns. This behavior is deprecated, and in a future version of pandas the grouping columns will be excluded from the operation. Either pass `include_groups=False` to exclude the groupings or explicitly select the grouping columns after groupby to silence this warning.\n",
      "  df = df.groupby(['lot_make_cd'], group_keys=False).apply(_fill_grp_model_make)\n"
     ]
    }
   ],
   "execution_count": 63
  },
  {
   "metadata": {
    "ExecuteTime": {
     "end_time": "2025-10-30T16:23:36.419382Z",
     "start_time": "2025-10-30T16:23:36.410393Z"
    }
   },
   "cell_type": "code",
   "source": "active_buyers",
   "id": "df123b9bd271cb8e",
   "outputs": [
    {
     "data": {
      "text/plain": [
       "            mbr_lic_type mbr_state   lot_nbr  buyer_nbr  \\\n",
       "0               Consumer        TN  71973155     496756   \n",
       "1               Consumer        TN  84613455     307472   \n",
       "2             Dismantler        CA  84636425     648809   \n",
       "3             Dismantler        AL  81820645     418252   \n",
       "4               Consumer        TX  70296175     865646   \n",
       "...                  ...       ...       ...        ...   \n",
       "315226  General Business        AR  61362375     807902   \n",
       "315227        Dismantler        TN  81744215     489065   \n",
       "315228            Dealer        FL  67261295     115359   \n",
       "315229            Dealer        GA  89850035     445680   \n",
       "315230  General Business        GA  80992525     238066   \n",
       "\n",
       "                                                mbr_email  max_bid  \\\n",
       "0       774468-MSTRBDR-41de7231-2f92-41ec-afe2-9236d15...   7300.0   \n",
       "1       307472cprt_dmmy_MASTERBDR_774468_309348@copart...   1750.0   \n",
       "2                                           info@cps.bike     90.0   \n",
       "3                                     duartedlm@gmail.com    450.0   \n",
       "4                                      lg954932@gmail.com    175.0   \n",
       "...                                                   ...      ...   \n",
       "315226                         elvillaautosales@gmail.com     30.0   \n",
       "315227                                  bobmcap@yahoo.com   2150.0   \n",
       "315228                             masterbidllc@gmail.com   2800.0   \n",
       "315229                                 iamg2022@yahoo.com   7400.0   \n",
       "315230                   accounts@blackrock-recycling.com   2500.0   \n",
       "\n",
       "            inv_dt  lot_year lot_make_cd grp_model       acv  plug_lot_acv  \\\n",
       "0       2025-10-23      2023        CADI       XT6  36434.00       38925.0   \n",
       "1       2025-10-22      2017        CADI       XTS  16824.00       13225.0   \n",
       "2       2025-10-22      2025        HYUN     VENUE  21000.00       23000.0   \n",
       "3       2025-10-23      2016        ACUR       TLX  19085.00       14475.0   \n",
       "4       2025-10-24      2004        MAZD         6   4715.72           0.0   \n",
       "...            ...       ...         ...       ...       ...           ...   \n",
       "315226  2025-10-27      2009         JEP  WRANGLER   4141.00        7850.0   \n",
       "315227  2025-10-24      2004         JEP  WRANGLER   9465.20           0.0   \n",
       "315228  2025-10-22      2008         JEP  WRANGLER  11200.00        8400.0   \n",
       "315229  2025-10-24      2014         JEP  WRANGLER  12350.00       12350.0   \n",
       "315230  2025-10-27      2015         JEP  WRANGLER  21948.00       21050.0   \n",
       "\n",
       "        repair_cost  total_unique_buyers_on_that_lot  \\\n",
       "0              0.00                                7   \n",
       "1          15591.11                                9   \n",
       "2           6836.00                                5   \n",
       "3          15839.00                                3   \n",
       "4           4715.72                                4   \n",
       "...             ...                              ...   \n",
       "315226      8825.67                                8   \n",
       "315227      9465.20                                9   \n",
       "315228         0.00                               15   \n",
       "315229         0.00                                2   \n",
       "315230     18617.82                               11   \n",
       "\n",
       "        total_unique_lots_bid_by_buyers  \n",
       "0                                  3965  \n",
       "1                                  3618  \n",
       "2                                  1008  \n",
       "3                                   141  \n",
       "4                                     2  \n",
       "...                                 ...  \n",
       "315226                                5  \n",
       "315227                               23  \n",
       "315228                              135  \n",
       "315229                               32  \n",
       "315230                               10  \n",
       "\n",
       "[315038 rows x 15 columns]"
      ],
      "text/html": [
       "<div>\n",
       "<style scoped>\n",
       "    .dataframe tbody tr th:only-of-type {\n",
       "        vertical-align: middle;\n",
       "    }\n",
       "\n",
       "    .dataframe tbody tr th {\n",
       "        vertical-align: top;\n",
       "    }\n",
       "\n",
       "    .dataframe thead th {\n",
       "        text-align: right;\n",
       "    }\n",
       "</style>\n",
       "<table border=\"1\" class=\"dataframe\">\n",
       "  <thead>\n",
       "    <tr style=\"text-align: right;\">\n",
       "      <th></th>\n",
       "      <th>mbr_lic_type</th>\n",
       "      <th>mbr_state</th>\n",
       "      <th>lot_nbr</th>\n",
       "      <th>buyer_nbr</th>\n",
       "      <th>mbr_email</th>\n",
       "      <th>max_bid</th>\n",
       "      <th>inv_dt</th>\n",
       "      <th>lot_year</th>\n",
       "      <th>lot_make_cd</th>\n",
       "      <th>grp_model</th>\n",
       "      <th>acv</th>\n",
       "      <th>plug_lot_acv</th>\n",
       "      <th>repair_cost</th>\n",
       "      <th>total_unique_buyers_on_that_lot</th>\n",
       "      <th>total_unique_lots_bid_by_buyers</th>\n",
       "    </tr>\n",
       "  </thead>\n",
       "  <tbody>\n",
       "    <tr>\n",
       "      <th>0</th>\n",
       "      <td>Consumer</td>\n",
       "      <td>TN</td>\n",
       "      <td>71973155</td>\n",
       "      <td>496756</td>\n",
       "      <td>774468-MSTRBDR-41de7231-2f92-41ec-afe2-9236d15...</td>\n",
       "      <td>7300.0</td>\n",
       "      <td>2025-10-23</td>\n",
       "      <td>2023</td>\n",
       "      <td>CADI</td>\n",
       "      <td>XT6</td>\n",
       "      <td>36434.00</td>\n",
       "      <td>38925.0</td>\n",
       "      <td>0.00</td>\n",
       "      <td>7</td>\n",
       "      <td>3965</td>\n",
       "    </tr>\n",
       "    <tr>\n",
       "      <th>1</th>\n",
       "      <td>Consumer</td>\n",
       "      <td>TN</td>\n",
       "      <td>84613455</td>\n",
       "      <td>307472</td>\n",
       "      <td>307472cprt_dmmy_MASTERBDR_774468_309348@copart...</td>\n",
       "      <td>1750.0</td>\n",
       "      <td>2025-10-22</td>\n",
       "      <td>2017</td>\n",
       "      <td>CADI</td>\n",
       "      <td>XTS</td>\n",
       "      <td>16824.00</td>\n",
       "      <td>13225.0</td>\n",
       "      <td>15591.11</td>\n",
       "      <td>9</td>\n",
       "      <td>3618</td>\n",
       "    </tr>\n",
       "    <tr>\n",
       "      <th>2</th>\n",
       "      <td>Dismantler</td>\n",
       "      <td>CA</td>\n",
       "      <td>84636425</td>\n",
       "      <td>648809</td>\n",
       "      <td>info@cps.bike</td>\n",
       "      <td>90.0</td>\n",
       "      <td>2025-10-22</td>\n",
       "      <td>2025</td>\n",
       "      <td>HYUN</td>\n",
       "      <td>VENUE</td>\n",
       "      <td>21000.00</td>\n",
       "      <td>23000.0</td>\n",
       "      <td>6836.00</td>\n",
       "      <td>5</td>\n",
       "      <td>1008</td>\n",
       "    </tr>\n",
       "    <tr>\n",
       "      <th>3</th>\n",
       "      <td>Dismantler</td>\n",
       "      <td>AL</td>\n",
       "      <td>81820645</td>\n",
       "      <td>418252</td>\n",
       "      <td>duartedlm@gmail.com</td>\n",
       "      <td>450.0</td>\n",
       "      <td>2025-10-23</td>\n",
       "      <td>2016</td>\n",
       "      <td>ACUR</td>\n",
       "      <td>TLX</td>\n",
       "      <td>19085.00</td>\n",
       "      <td>14475.0</td>\n",
       "      <td>15839.00</td>\n",
       "      <td>3</td>\n",
       "      <td>141</td>\n",
       "    </tr>\n",
       "    <tr>\n",
       "      <th>4</th>\n",
       "      <td>Consumer</td>\n",
       "      <td>TX</td>\n",
       "      <td>70296175</td>\n",
       "      <td>865646</td>\n",
       "      <td>lg954932@gmail.com</td>\n",
       "      <td>175.0</td>\n",
       "      <td>2025-10-24</td>\n",
       "      <td>2004</td>\n",
       "      <td>MAZD</td>\n",
       "      <td>6</td>\n",
       "      <td>4715.72</td>\n",
       "      <td>0.0</td>\n",
       "      <td>4715.72</td>\n",
       "      <td>4</td>\n",
       "      <td>2</td>\n",
       "    </tr>\n",
       "    <tr>\n",
       "      <th>...</th>\n",
       "      <td>...</td>\n",
       "      <td>...</td>\n",
       "      <td>...</td>\n",
       "      <td>...</td>\n",
       "      <td>...</td>\n",
       "      <td>...</td>\n",
       "      <td>...</td>\n",
       "      <td>...</td>\n",
       "      <td>...</td>\n",
       "      <td>...</td>\n",
       "      <td>...</td>\n",
       "      <td>...</td>\n",
       "      <td>...</td>\n",
       "      <td>...</td>\n",
       "      <td>...</td>\n",
       "    </tr>\n",
       "    <tr>\n",
       "      <th>315226</th>\n",
       "      <td>General Business</td>\n",
       "      <td>AR</td>\n",
       "      <td>61362375</td>\n",
       "      <td>807902</td>\n",
       "      <td>elvillaautosales@gmail.com</td>\n",
       "      <td>30.0</td>\n",
       "      <td>2025-10-27</td>\n",
       "      <td>2009</td>\n",
       "      <td>JEP</td>\n",
       "      <td>WRANGLER</td>\n",
       "      <td>4141.00</td>\n",
       "      <td>7850.0</td>\n",
       "      <td>8825.67</td>\n",
       "      <td>8</td>\n",
       "      <td>5</td>\n",
       "    </tr>\n",
       "    <tr>\n",
       "      <th>315227</th>\n",
       "      <td>Dismantler</td>\n",
       "      <td>TN</td>\n",
       "      <td>81744215</td>\n",
       "      <td>489065</td>\n",
       "      <td>bobmcap@yahoo.com</td>\n",
       "      <td>2150.0</td>\n",
       "      <td>2025-10-24</td>\n",
       "      <td>2004</td>\n",
       "      <td>JEP</td>\n",
       "      <td>WRANGLER</td>\n",
       "      <td>9465.20</td>\n",
       "      <td>0.0</td>\n",
       "      <td>9465.20</td>\n",
       "      <td>9</td>\n",
       "      <td>23</td>\n",
       "    </tr>\n",
       "    <tr>\n",
       "      <th>315228</th>\n",
       "      <td>Dealer</td>\n",
       "      <td>FL</td>\n",
       "      <td>67261295</td>\n",
       "      <td>115359</td>\n",
       "      <td>masterbidllc@gmail.com</td>\n",
       "      <td>2800.0</td>\n",
       "      <td>2025-10-22</td>\n",
       "      <td>2008</td>\n",
       "      <td>JEP</td>\n",
       "      <td>WRANGLER</td>\n",
       "      <td>11200.00</td>\n",
       "      <td>8400.0</td>\n",
       "      <td>0.00</td>\n",
       "      <td>15</td>\n",
       "      <td>135</td>\n",
       "    </tr>\n",
       "    <tr>\n",
       "      <th>315229</th>\n",
       "      <td>Dealer</td>\n",
       "      <td>GA</td>\n",
       "      <td>89850035</td>\n",
       "      <td>445680</td>\n",
       "      <td>iamg2022@yahoo.com</td>\n",
       "      <td>7400.0</td>\n",
       "      <td>2025-10-24</td>\n",
       "      <td>2014</td>\n",
       "      <td>JEP</td>\n",
       "      <td>WRANGLER</td>\n",
       "      <td>12350.00</td>\n",
       "      <td>12350.0</td>\n",
       "      <td>0.00</td>\n",
       "      <td>2</td>\n",
       "      <td>32</td>\n",
       "    </tr>\n",
       "    <tr>\n",
       "      <th>315230</th>\n",
       "      <td>General Business</td>\n",
       "      <td>GA</td>\n",
       "      <td>80992525</td>\n",
       "      <td>238066</td>\n",
       "      <td>accounts@blackrock-recycling.com</td>\n",
       "      <td>2500.0</td>\n",
       "      <td>2025-10-27</td>\n",
       "      <td>2015</td>\n",
       "      <td>JEP</td>\n",
       "      <td>WRANGLER</td>\n",
       "      <td>21948.00</td>\n",
       "      <td>21050.0</td>\n",
       "      <td>18617.82</td>\n",
       "      <td>11</td>\n",
       "      <td>10</td>\n",
       "    </tr>\n",
       "  </tbody>\n",
       "</table>\n",
       "<p>315038 rows × 15 columns</p>\n",
       "</div>"
      ]
     },
     "execution_count": 64,
     "metadata": {},
     "output_type": "execute_result"
    }
   ],
   "execution_count": 64
  },
  {
   "metadata": {
    "ExecuteTime": {
     "end_time": "2025-10-30T16:23:37.121333Z",
     "start_time": "2025-10-30T16:23:37.093431Z"
    }
   },
   "cell_type": "code",
   "source": "active_buyers.isnull().sum()",
   "id": "3a105b05b885584d",
   "outputs": [
    {
     "data": {
      "text/plain": [
       "mbr_lic_type                       0\n",
       "mbr_state                          0\n",
       "lot_nbr                            0\n",
       "buyer_nbr                          0\n",
       "mbr_email                          0\n",
       "max_bid                            0\n",
       "inv_dt                             0\n",
       "lot_year                           0\n",
       "lot_make_cd                        0\n",
       "grp_model                          0\n",
       "acv                                0\n",
       "plug_lot_acv                       0\n",
       "repair_cost                        0\n",
       "total_unique_buyers_on_that_lot    0\n",
       "total_unique_lots_bid_by_buyers    0\n",
       "dtype: int64"
      ]
     },
     "execution_count": 65,
     "metadata": {},
     "output_type": "execute_result"
    }
   ],
   "execution_count": 65
  },
  {
   "metadata": {
    "ExecuteTime": {
     "end_time": "2025-10-30T16:23:37.989715Z",
     "start_time": "2025-10-30T16:23:37.986393Z"
    }
   },
   "cell_type": "code",
   "source": "active_buyers['buyer_nbr'].nunique()",
   "id": "520189a50df8aab8",
   "outputs": [
    {
     "data": {
      "text/plain": [
       "29820"
      ]
     },
     "execution_count": 66,
     "metadata": {},
     "output_type": "execute_result"
    }
   ],
   "execution_count": 66
  },
  {
   "metadata": {
    "ExecuteTime": {
     "end_time": "2025-10-30T16:23:43.999194Z",
     "start_time": "2025-10-30T16:23:43.269038Z"
    }
   },
   "cell_type": "code",
   "source": "active_buyers.to_csv('../data/processed/active_buyers.csv', index=False)",
   "id": "a32793897de21286",
   "outputs": [],
   "execution_count": 67
  },
  {
   "metadata": {},
   "cell_type": "markdown",
   "source": "### Non Active Bidders Preprocessing",
   "id": "3920432f913db009"
  },
  {
   "metadata": {
    "ExecuteTime": {
     "end_time": "2025-10-30T16:23:46.359659Z",
     "start_time": "2025-10-30T16:23:46.285386Z"
    }
   },
   "cell_type": "code",
   "source": [
    "non_active_buyers = pd.read_csv('../data/raw/non_active_buyers.csv')\n",
    "non_active_buyers.head()"
   ],
   "id": "4ab5d540bd7b2c00",
   "outputs": [
    {
     "data": {
      "text/plain": [
       "       mbr_lic_type mbr_state  mbr_nbr                        mbr_email\n",
       "0  General Business        HI   813714        misterrozayroze@gmail.com\n",
       "1          Consumer        AK   683392              dnkampong@gmail.com\n",
       "2          Consumer        ME   688950  mecawilliam1981agosto@gmail.com\n",
       "3  General Business        AK   916734           jon.boehmler@gmail.com\n",
       "4          Consumer        HI   932785       tavaressunnee845@gmail.com"
      ],
      "text/html": [
       "<div>\n",
       "<style scoped>\n",
       "    .dataframe tbody tr th:only-of-type {\n",
       "        vertical-align: middle;\n",
       "    }\n",
       "\n",
       "    .dataframe tbody tr th {\n",
       "        vertical-align: top;\n",
       "    }\n",
       "\n",
       "    .dataframe thead th {\n",
       "        text-align: right;\n",
       "    }\n",
       "</style>\n",
       "<table border=\"1\" class=\"dataframe\">\n",
       "  <thead>\n",
       "    <tr style=\"text-align: right;\">\n",
       "      <th></th>\n",
       "      <th>mbr_lic_type</th>\n",
       "      <th>mbr_state</th>\n",
       "      <th>mbr_nbr</th>\n",
       "      <th>mbr_email</th>\n",
       "    </tr>\n",
       "  </thead>\n",
       "  <tbody>\n",
       "    <tr>\n",
       "      <th>0</th>\n",
       "      <td>General Business</td>\n",
       "      <td>HI</td>\n",
       "      <td>813714</td>\n",
       "      <td>misterrozayroze@gmail.com</td>\n",
       "    </tr>\n",
       "    <tr>\n",
       "      <th>1</th>\n",
       "      <td>Consumer</td>\n",
       "      <td>AK</td>\n",
       "      <td>683392</td>\n",
       "      <td>dnkampong@gmail.com</td>\n",
       "    </tr>\n",
       "    <tr>\n",
       "      <th>2</th>\n",
       "      <td>Consumer</td>\n",
       "      <td>ME</td>\n",
       "      <td>688950</td>\n",
       "      <td>mecawilliam1981agosto@gmail.com</td>\n",
       "    </tr>\n",
       "    <tr>\n",
       "      <th>3</th>\n",
       "      <td>General Business</td>\n",
       "      <td>AK</td>\n",
       "      <td>916734</td>\n",
       "      <td>jon.boehmler@gmail.com</td>\n",
       "    </tr>\n",
       "    <tr>\n",
       "      <th>4</th>\n",
       "      <td>Consumer</td>\n",
       "      <td>HI</td>\n",
       "      <td>932785</td>\n",
       "      <td>tavaressunnee845@gmail.com</td>\n",
       "    </tr>\n",
       "  </tbody>\n",
       "</table>\n",
       "</div>"
      ]
     },
     "execution_count": 68,
     "metadata": {},
     "output_type": "execute_result"
    }
   ],
   "execution_count": 68
  },
  {
   "metadata": {
    "ExecuteTime": {
     "end_time": "2025-10-30T16:23:46.535603Z",
     "start_time": "2025-10-30T16:23:46.533538Z"
    }
   },
   "cell_type": "code",
   "source": [
    "def clean_non_active_buyers(df: pd.DataFrame) -> pd.DataFrame:\n",
    "\n",
    "    df['mbr_lic_type'] = df['mbr_lic_type'].fillna(df['mbr_lic_type'].mode()[0])\n",
    "    df['mbr_state'] = df['mbr_state'].fillna(df['mbr_state'].mode()[0])\n",
    "    df['mbr_lic_type'] = df['mbr_lic_type'].replace('Automotive Related Business', 'General Business')\n",
    "    df = df.rename(columns={'mbr_lic_type': 'buyer_type'})\n",
    "\n",
    "    return df"
   ],
   "id": "a9143129947ca7a4",
   "outputs": [],
   "execution_count": 69
  },
  {
   "metadata": {
    "ExecuteTime": {
     "end_time": "2025-10-30T16:23:46.833411Z",
     "start_time": "2025-10-30T16:23:46.799230Z"
    }
   },
   "cell_type": "code",
   "source": "non_active_buyers = clean_non_active_buyers(non_active_buyers)",
   "id": "ef878cf09c2fa125",
   "outputs": [],
   "execution_count": 70
  },
  {
   "metadata": {
    "ExecuteTime": {
     "end_time": "2025-10-30T16:23:47.036567Z",
     "start_time": "2025-10-30T16:23:47.032911Z"
    }
   },
   "cell_type": "code",
   "source": "non_active_buyers.head()",
   "id": "3e004e44ad4ba5a9",
   "outputs": [
    {
     "data": {
      "text/plain": [
       "         buyer_type mbr_state  mbr_nbr                        mbr_email\n",
       "0  General Business        HI   813714        misterrozayroze@gmail.com\n",
       "1          Consumer        AK   683392              dnkampong@gmail.com\n",
       "2          Consumer        ME   688950  mecawilliam1981agosto@gmail.com\n",
       "3  General Business        AK   916734           jon.boehmler@gmail.com\n",
       "4          Consumer        HI   932785       tavaressunnee845@gmail.com"
      ],
      "text/html": [
       "<div>\n",
       "<style scoped>\n",
       "    .dataframe tbody tr th:only-of-type {\n",
       "        vertical-align: middle;\n",
       "    }\n",
       "\n",
       "    .dataframe tbody tr th {\n",
       "        vertical-align: top;\n",
       "    }\n",
       "\n",
       "    .dataframe thead th {\n",
       "        text-align: right;\n",
       "    }\n",
       "</style>\n",
       "<table border=\"1\" class=\"dataframe\">\n",
       "  <thead>\n",
       "    <tr style=\"text-align: right;\">\n",
       "      <th></th>\n",
       "      <th>buyer_type</th>\n",
       "      <th>mbr_state</th>\n",
       "      <th>mbr_nbr</th>\n",
       "      <th>mbr_email</th>\n",
       "    </tr>\n",
       "  </thead>\n",
       "  <tbody>\n",
       "    <tr>\n",
       "      <th>0</th>\n",
       "      <td>General Business</td>\n",
       "      <td>HI</td>\n",
       "      <td>813714</td>\n",
       "      <td>misterrozayroze@gmail.com</td>\n",
       "    </tr>\n",
       "    <tr>\n",
       "      <th>1</th>\n",
       "      <td>Consumer</td>\n",
       "      <td>AK</td>\n",
       "      <td>683392</td>\n",
       "      <td>dnkampong@gmail.com</td>\n",
       "    </tr>\n",
       "    <tr>\n",
       "      <th>2</th>\n",
       "      <td>Consumer</td>\n",
       "      <td>ME</td>\n",
       "      <td>688950</td>\n",
       "      <td>mecawilliam1981agosto@gmail.com</td>\n",
       "    </tr>\n",
       "    <tr>\n",
       "      <th>3</th>\n",
       "      <td>General Business</td>\n",
       "      <td>AK</td>\n",
       "      <td>916734</td>\n",
       "      <td>jon.boehmler@gmail.com</td>\n",
       "    </tr>\n",
       "    <tr>\n",
       "      <th>4</th>\n",
       "      <td>Consumer</td>\n",
       "      <td>HI</td>\n",
       "      <td>932785</td>\n",
       "      <td>tavaressunnee845@gmail.com</td>\n",
       "    </tr>\n",
       "  </tbody>\n",
       "</table>\n",
       "</div>"
      ]
     },
     "execution_count": 71,
     "metadata": {},
     "output_type": "execute_result"
    }
   ],
   "execution_count": 71
  },
  {
   "metadata": {
    "ExecuteTime": {
     "end_time": "2025-10-30T16:23:47.276586Z",
     "start_time": "2025-10-30T16:23:47.270280Z"
    }
   },
   "cell_type": "code",
   "source": "non_active_buyers['buyer_type'].value_counts()",
   "id": "8cef377c210afad1",
   "outputs": [
    {
     "data": {
      "text/plain": [
       "buyer_type\n",
       "Consumer            174083\n",
       "Dealer               13978\n",
       "General Business      4358\n",
       "Dismantler            2664\n",
       "Export                1329\n",
       "Name: count, dtype: int64"
      ]
     },
     "execution_count": 72,
     "metadata": {},
     "output_type": "execute_result"
    }
   ],
   "execution_count": 72
  },
  {
   "metadata": {
    "ExecuteTime": {
     "end_time": "2025-10-30T16:23:47.505881Z",
     "start_time": "2025-10-30T16:23:47.493568Z"
    }
   },
   "cell_type": "code",
   "source": "non_active_buyers.isnull().sum()",
   "id": "214f38c25a65067d",
   "outputs": [
    {
     "data": {
      "text/plain": [
       "buyer_type    0\n",
       "mbr_state     0\n",
       "mbr_nbr       0\n",
       "mbr_email     0\n",
       "dtype: int64"
      ]
     },
     "execution_count": 73,
     "metadata": {},
     "output_type": "execute_result"
    }
   ],
   "execution_count": 73
  },
  {
   "metadata": {
    "ExecuteTime": {
     "end_time": "2025-10-30T16:23:47.929582Z",
     "start_time": "2025-10-30T16:23:47.924137Z"
    }
   },
   "cell_type": "code",
   "source": "non_active_buyers['mbr_nbr'].nunique()",
   "id": "2f3b5a9a6cec816a",
   "outputs": [
    {
     "data": {
      "text/plain": [
       "196412"
      ]
     },
     "execution_count": 74,
     "metadata": {},
     "output_type": "execute_result"
    }
   ],
   "execution_count": 74
  },
  {
   "metadata": {
    "ExecuteTime": {
     "end_time": "2025-10-30T16:23:48.479527Z",
     "start_time": "2025-10-30T16:23:48.369106Z"
    }
   },
   "cell_type": "code",
   "source": "non_active_buyers.to_csv('../data/processed/non_active_buyers.csv', index=False)",
   "id": "b6aa3c8df1b51a50",
   "outputs": [],
   "execution_count": 75
  },
  {
   "metadata": {},
   "cell_type": "markdown",
   "source": "### Popular Lots Preprocessing",
   "id": "333f327315622644"
  },
  {
   "metadata": {
    "ExecuteTime": {
     "end_time": "2025-10-30T16:28:22.553386Z",
     "start_time": "2025-10-30T16:28:22.549684Z"
    }
   },
   "cell_type": "code",
   "source": "popular_lots = pd.read_csv('../data/raw/popular_lots.csv')",
   "id": "57cb1f1e60c52f8b",
   "outputs": [],
   "execution_count": 92
  },
  {
   "metadata": {
    "ExecuteTime": {
     "end_time": "2025-10-30T16:28:22.831491Z",
     "start_time": "2025-10-30T16:28:22.828094Z"
    }
   },
   "cell_type": "code",
   "source": [
    "def clean_popular_lots(popular_df: pd.DataFrame) -> pd.DataFrame:\n",
    "    \"\"\"\n",
    "    Cleans and ranks popular lots data:\n",
    "    - Replace 'Automotive Related Business' → 'General Business'\n",
    "    - Fill missing buyer_type with mode\n",
    "    - Fill grp_model hierarchically\n",
    "    - Deduplicate and keep top 6 per (buyer_type, mbr_state)\n",
    "    \"\"\"\n",
    "    # Replace business type\n",
    "    popular_df['buyer_type'] = popular_df['buyer_type'].replace(\n",
    "        'Automotive Related Business', 'General Business'\n",
    "    )\n",
    "\n",
    "    # Fill buyer_type with mode\n",
    "    mode_val = popular_df['buyer_type'].mode()\n",
    "    if not mode_val.empty:\n",
    "        popular_df['buyer_type'] = popular_df['buyer_type'].fillna(mode_val[0])\n",
    "\n",
    "    # Fill grp_model using make-level mode\n",
    "    popular_df = popular_df.groupby('grp_model', group_keys=False).apply(_fill_grp_model_make)\n",
    "\n",
    "    # Replace acv with plug_lot_acv where acv is 0 or negative\n",
    "    popular_df['median_acv'] = popular_df['median_acv'].mask(popular_df['median_acv']<=0, popular_df['median_plug_lot_acv'])\n",
    "\n",
    "    # Sort + deduplicate\n",
    "    popular_df_sorted = (\n",
    "        popular_df\n",
    "        .sort_values(['buyer_type', 'mbr_state', 'cnt'], ascending=[True, True, False])\n",
    "        .drop_duplicates(subset=['buyer_type', 'mbr_state', 'lot_make_cd', 'grp_model'])\n",
    "    )\n",
    "\n",
    "    # Rank within buyer_type + state\n",
    "    popular_df_sorted['rank_clean'] = (\n",
    "        popular_df_sorted.groupby(['buyer_type', 'mbr_state']).cumcount() + 1\n",
    "    )\n",
    "\n",
    "    # Keep only top 6\n",
    "    return popular_df_sorted[popular_df_sorted['rank_clean'] <= 6]"
   ],
   "id": "381f49e4c608f37e",
   "outputs": [],
   "execution_count": 93
  },
  {
   "metadata": {
    "ExecuteTime": {
     "end_time": "2025-10-30T16:28:23.871970Z",
     "start_time": "2025-10-30T16:28:23.847009Z"
    }
   },
   "cell_type": "code",
   "source": "popular_lots = clean_popular_lots(popular_lots)",
   "id": "a64ec6a9cd406440",
   "outputs": [
    {
     "name": "stderr",
     "output_type": "stream",
     "text": [
      "/var/folders/jj/1fql_rw17h10wm_w98gwx9wm0000gq/T/ipykernel_84023/2682998329.py:20: DeprecationWarning: DataFrameGroupBy.apply operated on the grouping columns. This behavior is deprecated, and in a future version of pandas the grouping columns will be excluded from the operation. Either pass `include_groups=False` to exclude the groupings or explicitly select the grouping columns after groupby to silence this warning.\n",
      "  popular_df = popular_df.groupby('grp_model', group_keys=False).apply(_fill_grp_model_make)\n"
     ]
    }
   ],
   "execution_count": 94
  },
  {
   "metadata": {
    "ExecuteTime": {
     "end_time": "2025-10-30T16:28:24.729596Z",
     "start_time": "2025-10-30T16:28:24.724639Z"
    }
   },
   "cell_type": "code",
   "source": "popular_lots",
   "id": "a1df858369734bf8",
   "outputs": [
    {
     "data": {
      "text/plain": [
       "           buyer_type mbr_state lot_make_cd  grp_model  cnt  median_acv  \\\n",
       "180          Consumer        AK         JEP    COMPASS    1    16089.00   \n",
       "181          Consumer        AK        CHEV    EQUINOX    1    14942.00   \n",
       "182          Consumer        AK        HOND  RIDGELINE    1    33517.00   \n",
       "183          Consumer        AK        NISS      ROGUE    1    14197.89   \n",
       "184          Consumer        AK         JEP   RENEGADE    1    13625.00   \n",
       "..                ...       ...         ...        ...  ...         ...   \n",
       "865  General Business        TX        NISS      VERSA    1    14552.00   \n",
       "474  General Business        VA        TOYT    COROLLA    3    16431.00   \n",
       "588  General Business        WA        CHRY   PACIFICA    1    17982.00   \n",
       "589  General Business        WA        HOND        FIT    1    14224.00   \n",
       "519  General Business        WY        TOYT    COROLLA    1    16219.00   \n",
       "\n",
       "     median_plug_lot_acv  median_repair_cost  model_rank  rank  rank_clean  \n",
       "180              12825.0            17984.54           1     1           1  \n",
       "181              16325.0            14463.44           1     2           2  \n",
       "182              35600.0            31893.54           1     3           3  \n",
       "183              14325.0            14197.89           1     4           4  \n",
       "184              13625.0                0.00           1     5           5  \n",
       "..                   ...                 ...         ...   ...         ...  \n",
       "865              14550.0             7337.38           1     6           6  \n",
       "474              16950.0            16376.31           1     1           1  \n",
       "588              25050.0            15576.33           1     1           1  \n",
       "589              14300.0            18035.98           1     2           2  \n",
       "519              12050.0             9389.33           1     1           1  \n",
       "\n",
       "[923 rows x 11 columns]"
      ],
      "text/html": [
       "<div>\n",
       "<style scoped>\n",
       "    .dataframe tbody tr th:only-of-type {\n",
       "        vertical-align: middle;\n",
       "    }\n",
       "\n",
       "    .dataframe tbody tr th {\n",
       "        vertical-align: top;\n",
       "    }\n",
       "\n",
       "    .dataframe thead th {\n",
       "        text-align: right;\n",
       "    }\n",
       "</style>\n",
       "<table border=\"1\" class=\"dataframe\">\n",
       "  <thead>\n",
       "    <tr style=\"text-align: right;\">\n",
       "      <th></th>\n",
       "      <th>buyer_type</th>\n",
       "      <th>mbr_state</th>\n",
       "      <th>lot_make_cd</th>\n",
       "      <th>grp_model</th>\n",
       "      <th>cnt</th>\n",
       "      <th>median_acv</th>\n",
       "      <th>median_plug_lot_acv</th>\n",
       "      <th>median_repair_cost</th>\n",
       "      <th>model_rank</th>\n",
       "      <th>rank</th>\n",
       "      <th>rank_clean</th>\n",
       "    </tr>\n",
       "  </thead>\n",
       "  <tbody>\n",
       "    <tr>\n",
       "      <th>180</th>\n",
       "      <td>Consumer</td>\n",
       "      <td>AK</td>\n",
       "      <td>JEP</td>\n",
       "      <td>COMPASS</td>\n",
       "      <td>1</td>\n",
       "      <td>16089.00</td>\n",
       "      <td>12825.0</td>\n",
       "      <td>17984.54</td>\n",
       "      <td>1</td>\n",
       "      <td>1</td>\n",
       "      <td>1</td>\n",
       "    </tr>\n",
       "    <tr>\n",
       "      <th>181</th>\n",
       "      <td>Consumer</td>\n",
       "      <td>AK</td>\n",
       "      <td>CHEV</td>\n",
       "      <td>EQUINOX</td>\n",
       "      <td>1</td>\n",
       "      <td>14942.00</td>\n",
       "      <td>16325.0</td>\n",
       "      <td>14463.44</td>\n",
       "      <td>1</td>\n",
       "      <td>2</td>\n",
       "      <td>2</td>\n",
       "    </tr>\n",
       "    <tr>\n",
       "      <th>182</th>\n",
       "      <td>Consumer</td>\n",
       "      <td>AK</td>\n",
       "      <td>HOND</td>\n",
       "      <td>RIDGELINE</td>\n",
       "      <td>1</td>\n",
       "      <td>33517.00</td>\n",
       "      <td>35600.0</td>\n",
       "      <td>31893.54</td>\n",
       "      <td>1</td>\n",
       "      <td>3</td>\n",
       "      <td>3</td>\n",
       "    </tr>\n",
       "    <tr>\n",
       "      <th>183</th>\n",
       "      <td>Consumer</td>\n",
       "      <td>AK</td>\n",
       "      <td>NISS</td>\n",
       "      <td>ROGUE</td>\n",
       "      <td>1</td>\n",
       "      <td>14197.89</td>\n",
       "      <td>14325.0</td>\n",
       "      <td>14197.89</td>\n",
       "      <td>1</td>\n",
       "      <td>4</td>\n",
       "      <td>4</td>\n",
       "    </tr>\n",
       "    <tr>\n",
       "      <th>184</th>\n",
       "      <td>Consumer</td>\n",
       "      <td>AK</td>\n",
       "      <td>JEP</td>\n",
       "      <td>RENEGADE</td>\n",
       "      <td>1</td>\n",
       "      <td>13625.00</td>\n",
       "      <td>13625.0</td>\n",
       "      <td>0.00</td>\n",
       "      <td>1</td>\n",
       "      <td>5</td>\n",
       "      <td>5</td>\n",
       "    </tr>\n",
       "    <tr>\n",
       "      <th>...</th>\n",
       "      <td>...</td>\n",
       "      <td>...</td>\n",
       "      <td>...</td>\n",
       "      <td>...</td>\n",
       "      <td>...</td>\n",
       "      <td>...</td>\n",
       "      <td>...</td>\n",
       "      <td>...</td>\n",
       "      <td>...</td>\n",
       "      <td>...</td>\n",
       "      <td>...</td>\n",
       "    </tr>\n",
       "    <tr>\n",
       "      <th>865</th>\n",
       "      <td>General Business</td>\n",
       "      <td>TX</td>\n",
       "      <td>NISS</td>\n",
       "      <td>VERSA</td>\n",
       "      <td>1</td>\n",
       "      <td>14552.00</td>\n",
       "      <td>14550.0</td>\n",
       "      <td>7337.38</td>\n",
       "      <td>1</td>\n",
       "      <td>6</td>\n",
       "      <td>6</td>\n",
       "    </tr>\n",
       "    <tr>\n",
       "      <th>474</th>\n",
       "      <td>General Business</td>\n",
       "      <td>VA</td>\n",
       "      <td>TOYT</td>\n",
       "      <td>COROLLA</td>\n",
       "      <td>3</td>\n",
       "      <td>16431.00</td>\n",
       "      <td>16950.0</td>\n",
       "      <td>16376.31</td>\n",
       "      <td>1</td>\n",
       "      <td>1</td>\n",
       "      <td>1</td>\n",
       "    </tr>\n",
       "    <tr>\n",
       "      <th>588</th>\n",
       "      <td>General Business</td>\n",
       "      <td>WA</td>\n",
       "      <td>CHRY</td>\n",
       "      <td>PACIFICA</td>\n",
       "      <td>1</td>\n",
       "      <td>17982.00</td>\n",
       "      <td>25050.0</td>\n",
       "      <td>15576.33</td>\n",
       "      <td>1</td>\n",
       "      <td>1</td>\n",
       "      <td>1</td>\n",
       "    </tr>\n",
       "    <tr>\n",
       "      <th>589</th>\n",
       "      <td>General Business</td>\n",
       "      <td>WA</td>\n",
       "      <td>HOND</td>\n",
       "      <td>FIT</td>\n",
       "      <td>1</td>\n",
       "      <td>14224.00</td>\n",
       "      <td>14300.0</td>\n",
       "      <td>18035.98</td>\n",
       "      <td>1</td>\n",
       "      <td>2</td>\n",
       "      <td>2</td>\n",
       "    </tr>\n",
       "    <tr>\n",
       "      <th>519</th>\n",
       "      <td>General Business</td>\n",
       "      <td>WY</td>\n",
       "      <td>TOYT</td>\n",
       "      <td>COROLLA</td>\n",
       "      <td>1</td>\n",
       "      <td>16219.00</td>\n",
       "      <td>12050.0</td>\n",
       "      <td>9389.33</td>\n",
       "      <td>1</td>\n",
       "      <td>1</td>\n",
       "      <td>1</td>\n",
       "    </tr>\n",
       "  </tbody>\n",
       "</table>\n",
       "<p>923 rows × 11 columns</p>\n",
       "</div>"
      ]
     },
     "execution_count": 95,
     "metadata": {},
     "output_type": "execute_result"
    }
   ],
   "execution_count": 95
  },
  {
   "metadata": {
    "ExecuteTime": {
     "end_time": "2025-10-30T16:28:25.628239Z",
     "start_time": "2025-10-30T16:28:25.622976Z"
    }
   },
   "cell_type": "code",
   "source": "popular_lots[(popular_lots['buyer_type']=='Consumer') & (popular_lots['mbr_state']=='NJ')]",
   "id": "33c5789778c774a5",
   "outputs": [
    {
     "data": {
      "text/plain": [
       "    buyer_type mbr_state lot_make_cd grp_model  cnt  median_acv  \\\n",
       "209   Consumer        NJ        FORD   MUSTANG    7     21931.0   \n",
       "210   Consumer        NJ        HOND       CRV    5     33115.0   \n",
       "211   Consumer        NJ        NISS    SENTRA    5     19097.0   \n",
       "212   Consumer        NJ        TOYT     CAMRY    5     22745.0   \n",
       "213   Consumer        NJ        SUBA  FORESTER    4     14807.0   \n",
       "214   Consumer        NJ        TOYT   COROLLA    4     19121.0   \n",
       "\n",
       "     median_plug_lot_acv  median_repair_cost  model_rank  rank  rank_clean  \n",
       "209              28175.0            18924.64           1     1           1  \n",
       "210              32650.0                0.00           1     2           2  \n",
       "211              22700.0            17159.33           1     3           3  \n",
       "212              27150.0            18632.89           1     4           4  \n",
       "213              22925.0            15394.49           1     5           5  \n",
       "214              20075.0            13365.99           1     6           6  "
      ],
      "text/html": [
       "<div>\n",
       "<style scoped>\n",
       "    .dataframe tbody tr th:only-of-type {\n",
       "        vertical-align: middle;\n",
       "    }\n",
       "\n",
       "    .dataframe tbody tr th {\n",
       "        vertical-align: top;\n",
       "    }\n",
       "\n",
       "    .dataframe thead th {\n",
       "        text-align: right;\n",
       "    }\n",
       "</style>\n",
       "<table border=\"1\" class=\"dataframe\">\n",
       "  <thead>\n",
       "    <tr style=\"text-align: right;\">\n",
       "      <th></th>\n",
       "      <th>buyer_type</th>\n",
       "      <th>mbr_state</th>\n",
       "      <th>lot_make_cd</th>\n",
       "      <th>grp_model</th>\n",
       "      <th>cnt</th>\n",
       "      <th>median_acv</th>\n",
       "      <th>median_plug_lot_acv</th>\n",
       "      <th>median_repair_cost</th>\n",
       "      <th>model_rank</th>\n",
       "      <th>rank</th>\n",
       "      <th>rank_clean</th>\n",
       "    </tr>\n",
       "  </thead>\n",
       "  <tbody>\n",
       "    <tr>\n",
       "      <th>209</th>\n",
       "      <td>Consumer</td>\n",
       "      <td>NJ</td>\n",
       "      <td>FORD</td>\n",
       "      <td>MUSTANG</td>\n",
       "      <td>7</td>\n",
       "      <td>21931.0</td>\n",
       "      <td>28175.0</td>\n",
       "      <td>18924.64</td>\n",
       "      <td>1</td>\n",
       "      <td>1</td>\n",
       "      <td>1</td>\n",
       "    </tr>\n",
       "    <tr>\n",
       "      <th>210</th>\n",
       "      <td>Consumer</td>\n",
       "      <td>NJ</td>\n",
       "      <td>HOND</td>\n",
       "      <td>CRV</td>\n",
       "      <td>5</td>\n",
       "      <td>33115.0</td>\n",
       "      <td>32650.0</td>\n",
       "      <td>0.00</td>\n",
       "      <td>1</td>\n",
       "      <td>2</td>\n",
       "      <td>2</td>\n",
       "    </tr>\n",
       "    <tr>\n",
       "      <th>211</th>\n",
       "      <td>Consumer</td>\n",
       "      <td>NJ</td>\n",
       "      <td>NISS</td>\n",
       "      <td>SENTRA</td>\n",
       "      <td>5</td>\n",
       "      <td>19097.0</td>\n",
       "      <td>22700.0</td>\n",
       "      <td>17159.33</td>\n",
       "      <td>1</td>\n",
       "      <td>3</td>\n",
       "      <td>3</td>\n",
       "    </tr>\n",
       "    <tr>\n",
       "      <th>212</th>\n",
       "      <td>Consumer</td>\n",
       "      <td>NJ</td>\n",
       "      <td>TOYT</td>\n",
       "      <td>CAMRY</td>\n",
       "      <td>5</td>\n",
       "      <td>22745.0</td>\n",
       "      <td>27150.0</td>\n",
       "      <td>18632.89</td>\n",
       "      <td>1</td>\n",
       "      <td>4</td>\n",
       "      <td>4</td>\n",
       "    </tr>\n",
       "    <tr>\n",
       "      <th>213</th>\n",
       "      <td>Consumer</td>\n",
       "      <td>NJ</td>\n",
       "      <td>SUBA</td>\n",
       "      <td>FORESTER</td>\n",
       "      <td>4</td>\n",
       "      <td>14807.0</td>\n",
       "      <td>22925.0</td>\n",
       "      <td>15394.49</td>\n",
       "      <td>1</td>\n",
       "      <td>5</td>\n",
       "      <td>5</td>\n",
       "    </tr>\n",
       "    <tr>\n",
       "      <th>214</th>\n",
       "      <td>Consumer</td>\n",
       "      <td>NJ</td>\n",
       "      <td>TOYT</td>\n",
       "      <td>COROLLA</td>\n",
       "      <td>4</td>\n",
       "      <td>19121.0</td>\n",
       "      <td>20075.0</td>\n",
       "      <td>13365.99</td>\n",
       "      <td>1</td>\n",
       "      <td>6</td>\n",
       "      <td>6</td>\n",
       "    </tr>\n",
       "  </tbody>\n",
       "</table>\n",
       "</div>"
      ]
     },
     "execution_count": 96,
     "metadata": {},
     "output_type": "execute_result"
    }
   ],
   "execution_count": 96
  },
  {
   "metadata": {
    "ExecuteTime": {
     "end_time": "2025-10-30T16:28:26.134697Z",
     "start_time": "2025-10-30T16:28:26.132003Z"
    }
   },
   "cell_type": "code",
   "source": "popular_lots.isnull().sum()",
   "id": "f967a32e9c30b070",
   "outputs": [
    {
     "data": {
      "text/plain": [
       "buyer_type             0\n",
       "mbr_state              0\n",
       "lot_make_cd            0\n",
       "grp_model              0\n",
       "cnt                    0\n",
       "median_acv             0\n",
       "median_plug_lot_acv    0\n",
       "median_repair_cost     0\n",
       "model_rank             0\n",
       "rank                   0\n",
       "rank_clean             0\n",
       "dtype: int64"
      ]
     },
     "execution_count": 97,
     "metadata": {},
     "output_type": "execute_result"
    }
   ],
   "execution_count": 97
  },
  {
   "metadata": {
    "ExecuteTime": {
     "end_time": "2025-10-30T16:28:39.335651Z",
     "start_time": "2025-10-30T16:28:39.330486Z"
    }
   },
   "cell_type": "code",
   "source": "popular_lots.to_csv('../data/processed/popular_lots.csv', index=False)",
   "id": "4bc0b385de2d496e",
   "outputs": [],
   "execution_count": 98
  },
  {
   "metadata": {},
   "cell_type": "markdown",
   "source": "### Upcoming Lots Preprocessing",
   "id": "6384bd24acec9fd5"
  },
  {
   "metadata": {
    "ExecuteTime": {
     "end_time": "2025-10-30T16:28:41.027641Z",
     "start_time": "2025-10-30T16:28:41.001683Z"
    }
   },
   "cell_type": "code",
   "source": "upcoming_lots = pd.read_csv('../data/raw/upcoming_lots.csv')",
   "id": "29a0927167981ab8",
   "outputs": [],
   "execution_count": 99
  },
  {
   "metadata": {
    "ExecuteTime": {
     "end_time": "2025-10-30T16:28:42.844597Z",
     "start_time": "2025-10-30T16:28:42.842465Z"
    }
   },
   "cell_type": "code",
   "source": [
    "def clean_upcoming_lots(df: pd.DataFrame) -> pd.DataFrame:\n",
    "\n",
    "    mode_val = df['damage_type_desc'].mode()\n",
    "    if not mode_val.empty:\n",
    "        df['damage_type_desc'] = df['damage_type_desc'].fillna(mode_val[0])\n",
    "\n",
    "    df = df.groupby(['lot_year', 'lot_make_cd'], group_keys=False).apply(_fill_grp_model_year_make)\n",
    "    df = df.groupby(['lot_make_cd'], group_keys=False).apply(_fill_grp_model_make)\n",
    "    df = df.dropna(subset=['grp_model'])\n",
    "\n",
    "    df['acv'] = df['acv'].mask(df['acv']<=0, df['plug_lot_acv'])\n",
    "\n",
    "    return df"
   ],
   "id": "2e61a411dbdee73f",
   "outputs": [],
   "execution_count": 100
  },
  {
   "metadata": {
    "ExecuteTime": {
     "end_time": "2025-10-30T16:28:43.357676Z",
     "start_time": "2025-10-30T16:28:43.148394Z"
    }
   },
   "cell_type": "code",
   "source": "upcoming_lots = clean_upcoming_lots(upcoming_lots)",
   "id": "e78aa59d8301264",
   "outputs": [
    {
     "name": "stderr",
     "output_type": "stream",
     "text": [
      "/var/folders/jj/1fql_rw17h10wm_w98gwx9wm0000gq/T/ipykernel_84023/1667625631.py:7: DeprecationWarning: DataFrameGroupBy.apply operated on the grouping columns. This behavior is deprecated, and in a future version of pandas the grouping columns will be excluded from the operation. Either pass `include_groups=False` to exclude the groupings or explicitly select the grouping columns after groupby to silence this warning.\n",
      "  df = df.groupby(['lot_year', 'lot_make_cd'], group_keys=False).apply(_fill_grp_model_year_make)\n",
      "/var/folders/jj/1fql_rw17h10wm_w98gwx9wm0000gq/T/ipykernel_84023/1667625631.py:8: DeprecationWarning: DataFrameGroupBy.apply operated on the grouping columns. This behavior is deprecated, and in a future version of pandas the grouping columns will be excluded from the operation. Either pass `include_groups=False` to exclude the groupings or explicitly select the grouping columns after groupby to silence this warning.\n",
      "  df = df.groupby(['lot_make_cd'], group_keys=False).apply(_fill_grp_model_make)\n"
     ]
    }
   ],
   "execution_count": 101
  },
  {
   "metadata": {
    "ExecuteTime": {
     "end_time": "2025-10-30T16:28:44.460175Z",
     "start_time": "2025-10-30T16:28:44.452557Z"
    }
   },
   "cell_type": "code",
   "source": "upcoming_lots.isnull().sum()",
   "id": "c04b9878dac0504e",
   "outputs": [
    {
     "data": {
      "text/plain": [
       "lot_nbr             0\n",
       "lot_year            0\n",
       "lot_make_cd         0\n",
       "grp_model           0\n",
       "damage_type_desc    0\n",
       "repair_cost         0\n",
       "acv                 0\n",
       "plug_lot_acv        0\n",
       "auc_dt              0\n",
       "proquote_amt        0\n",
       "dtype: int64"
      ]
     },
     "execution_count": 102,
     "metadata": {},
     "output_type": "execute_result"
    }
   ],
   "execution_count": 102
  },
  {
   "metadata": {
    "ExecuteTime": {
     "end_time": "2025-10-30T16:28:48.857357Z",
     "start_time": "2025-10-30T16:28:47.974655Z"
    }
   },
   "cell_type": "code",
   "source": [
    "upcoming_lots.to_csv('../data/processed/upcoming_lots.csv', index=False)\n",
    "active_buyers.to_csv('../data/processed/active_buyers.csv', index=False)\n",
    "popular_lots.to_csv('../data/processed/popular_lots.csv', index=False)\n",
    "non_active_buyers.to_csv('../data/processed/non_active_buyers.csv', index=False)"
   ],
   "id": "eb114e87bbf39fe9",
   "outputs": [],
   "execution_count": 103
  },
  {
   "metadata": {},
   "cell_type": "markdown",
   "source": "### Dividing in groups , Collaborative vs one-to-one",
   "id": "51416fa8694ce734"
  },
  {
   "metadata": {
    "ExecuteTime": {
     "end_time": "2025-10-30T16:28:51.763296Z",
     "start_time": "2025-10-30T16:28:51.761500Z"
    }
   },
   "cell_type": "code",
   "source": [
    "def divide_in_groups(df: pd.DataFrame) -> tuple[pd.DataFrame, pd.DataFrame]:\n",
    "    \"\"\"\n",
    "    This function split the data frame into Collaborative and 1-1 filtering groups\n",
    "    \"\"\"\n",
    "    data_high = df[df['total_unique_lots_bid_by_buyers']>=7]\n",
    "    data_low = df[df['total_unique_lots_bid_by_buyers']<7]\n",
    "\n",
    "    return data_high, data_low"
   ],
   "id": "325b99b6219425eb",
   "outputs": [],
   "execution_count": 104
  },
  {
   "metadata": {},
   "cell_type": "markdown",
   "source": "### Splitting in odd(test) and even(holdout)",
   "id": "57faf904f603b486"
  },
  {
   "metadata": {
    "ExecuteTime": {
     "end_time": "2025-10-30T16:28:52.451617Z",
     "start_time": "2025-10-30T16:28:52.449293Z"
    }
   },
   "cell_type": "code",
   "source": [
    "def odd_even_split(df: pd.DataFrame, buyer_col) -> tuple[pd.DataFrame, pd.DataFrame]:\n",
    "    \"\"\"\n",
    "    This function split the data frame into Test and Holdout groups based on odd and even buyer numbers\n",
    "    \"\"\"\n",
    "    df = df.copy()\n",
    "    df['last_digit'] = df[buyer_col] % 10\n",
    "    holdout_df = df[df['last_digit'] % 2 == 0].drop(columns='last_digit')\n",
    "    test_df = df[df['last_digit'] % 2 != 0].drop(columns='last_digit')\n",
    "\n",
    "    return holdout_df, test_df"
   ],
   "id": "ffa58439db19d1e1",
   "outputs": [],
   "execution_count": 105
  },
  {
   "metadata": {
    "ExecuteTime": {
     "end_time": "2025-10-30T16:28:53.556740Z",
     "start_time": "2025-10-30T16:28:53.554880Z"
    }
   },
   "cell_type": "code",
   "source": [
    "def save_split_data(df: pd.DataFrame, output_path: str) -> None:\n",
    "    \"\"\"This function will save the split data into csv files\"\"\"\n",
    "    os.makedirs(os.path.dirname(output_path), exist_ok=True)\n",
    "    df.to_csv(output_path, index=False)\n",
    "    print(f\" Saved: {output_path} ({len(df):,} rows)\")\n"
   ],
   "id": "cdfcb79a803c1f45",
   "outputs": [],
   "execution_count": 106
  },
  {
   "metadata": {
    "ExecuteTime": {
     "end_time": "2025-10-30T16:28:56.246520Z",
     "start_time": "2025-10-30T16:28:55.979138Z"
    }
   },
   "cell_type": "code",
   "source": [
    "active_buyers = pd.read_csv('../data/processed/active_buyers.csv')\n",
    "nonactive_buyers = pd.read_csv('../data/processed/non_active_buyers.csv')"
   ],
   "id": "b671d94962ce7de9",
   "outputs": [],
   "execution_count": 107
  },
  {
   "metadata": {
    "ExecuteTime": {
     "end_time": "2025-10-30T16:28:57.945079Z",
     "start_time": "2025-10-30T16:28:57.357302Z"
    }
   },
   "cell_type": "code",
   "source": [
    "print(f\"Number of active buyers: {active_buyers['buyer_nbr'].nunique()}\")\n",
    "\n",
    "## Group split\n",
    "data_high, data_low = divide_in_groups(active_buyers)\n",
    "print(f\"Number of active buyers in CF: {data_high['buyer_nbr'].nunique()}\")\n",
    "print(f\"Number of active buyers in one-to-one: {data_low['buyer_nbr'].nunique()}\")\n",
    "\n",
    "## Test vs Holdout split\n",
    "holdout_df_cf, test_df_cf = odd_even_split(data_high, buyer_col='buyer_nbr')\n",
    "print(f\"Number of CF buyers in Test: {test_df_cf['buyer_nbr'].nunique()}\")\n",
    "print(f\"Number of CF buyers in Control: {holdout_df_cf['buyer_nbr'].nunique()}\")\n",
    "\n",
    "holdout_df_onetoone, test_df_onetoone = odd_even_split(data_low, buyer_col='buyer_nbr')\n",
    "print(f\"Number of one-to-one buyers in Test: {test_df_onetoone['buyer_nbr'].nunique()}\")\n",
    "print(f\"Number of one-to-one buyers in Control: {holdout_df_onetoone['buyer_nbr'].nunique()}\")\n",
    "## Non-active buyers\n",
    "print(f\"Number of non-active buyers: {nonactive_buyers['mbr_nbr'].nunique()}\")\n",
    "holdout_df_nonactive, test_df_nonactive = odd_even_split(nonactive_buyers, buyer_col='mbr_nbr')\n",
    "print(f\"Number of non-active buyers in Test: {test_df_nonactive['mbr_nbr'].nunique()}\")\n",
    "print(f\"Number of non-active buyers in Control: {holdout_df_nonactive['mbr_nbr'].nunique()}\")"
   ],
   "id": "6a7595ef0b40e7d2",
   "outputs": [
    {
     "name": "stdout",
     "output_type": "stream",
     "text": [
      "Number of active buyers: 29820\n",
      "Number of active buyers in CF: 7312\n",
      "Number of active buyers in one-to-one: 22508\n",
      "Number of CF buyers in Test: 3618\n",
      "Number of CF buyers in Control: 3694\n",
      "Number of one-to-one buyers in Test: 11250\n",
      "Number of one-to-one buyers in Control: 11258\n",
      "Number of non-active buyers: 196412\n",
      "Number of non-active buyers in Test: 98100\n",
      "Number of non-active buyers in Control: 98312\n"
     ]
    }
   ],
   "execution_count": 108
  },
  {
   "metadata": {
    "ExecuteTime": {
     "end_time": "2025-10-30T16:29:02.062537Z",
     "start_time": "2025-10-30T16:29:01.244886Z"
    }
   },
   "cell_type": "code",
   "source": [
    "test_df_nonactive.to_csv('../data/split/nonactive_test.csv', index=False)\n",
    "holdout_df_nonactive.to_csv('../data/split/nonactive_holdout.csv', index=False)\n",
    "\n",
    "test_df_cf.to_csv('../data/split/cf_test.csv', index=False)\n",
    "holdout_df_cf.to_csv('../data/split/cf_holdout.csv', index=False)\n",
    "\n",
    "test_df_onetoone.to_csv('../data/split/one_to_one_test.csv', index=False)\n",
    "holdout_df_onetoone.to_csv('../data/split/one_to_one_holdout.csv', index=False)"
   ],
   "id": "b6c156d7c61d3ba1",
   "outputs": [],
   "execution_count": 109
  },
  {
   "metadata": {},
   "cell_type": "code",
   "outputs": [],
   "execution_count": null,
   "source": "",
   "id": "3bf21b934b543a6e"
  },
  {
   "metadata": {},
   "cell_type": "markdown",
   "source": "### Westlake",
   "id": "2c12428d9bfa05c1"
  },
  {
   "metadata": {
    "ExecuteTime": {
     "end_time": "2025-10-30T15:54:30.662132Z",
     "start_time": "2025-10-30T15:54:30.658493Z"
    }
   },
   "cell_type": "code",
   "source": [
    "import pandas as pd\n",
    "df_wl = pd.read_csv('../data/westlake/wl_lots.csv')"
   ],
   "id": "1e633bfe4f72faf3",
   "outputs": [],
   "execution_count": 52
  },
  {
   "metadata": {
    "ExecuteTime": {
     "end_time": "2025-10-30T15:54:31.314542Z",
     "start_time": "2025-10-30T15:54:31.309911Z"
    }
   },
   "cell_type": "code",
   "source": "df_wl.head()",
   "id": "3c2e5f14b3ea7b60",
   "outputs": [
    {
     "data": {
      "text/plain": [
       "    lot_nbr  lot_stg  lot_year lot_make_cd grp_model      damage_type_desc  \\\n",
       "0  84820275       50      2023        DODG   CHARGER             FRONT END   \n",
       "1  87468275       40      2017        HYUN    SONATA  MINOR DENT/SCRATCHES   \n",
       "2  89514045       40      2014         GMC    SIERRA  MINOR DENT/SCRATCHES   \n",
       "3  86683585       50      2010         GMC     YUKON            MECHANICAL   \n",
       "4  89451755       40      2014         RAM      1500           NORMAL WEAR   \n",
       "\n",
       "   repair_cost      acv  plug_lot_acv auc_dt  proquote_amt  \n",
       "0       7776.0  24820.0       29250.0    NaN       9558.85  \n",
       "1       3218.0   8600.0       10400.0    NaN          0.00  \n",
       "2      15422.0  10060.0       13025.0    NaN       2683.11  \n",
       "3      18297.0   7920.0        8250.0    NaN        886.33  \n",
       "4          0.0  12920.0       16600.0    NaN          0.00  "
      ],
      "text/html": [
       "<div>\n",
       "<style scoped>\n",
       "    .dataframe tbody tr th:only-of-type {\n",
       "        vertical-align: middle;\n",
       "    }\n",
       "\n",
       "    .dataframe tbody tr th {\n",
       "        vertical-align: top;\n",
       "    }\n",
       "\n",
       "    .dataframe thead th {\n",
       "        text-align: right;\n",
       "    }\n",
       "</style>\n",
       "<table border=\"1\" class=\"dataframe\">\n",
       "  <thead>\n",
       "    <tr style=\"text-align: right;\">\n",
       "      <th></th>\n",
       "      <th>lot_nbr</th>\n",
       "      <th>lot_stg</th>\n",
       "      <th>lot_year</th>\n",
       "      <th>lot_make_cd</th>\n",
       "      <th>grp_model</th>\n",
       "      <th>damage_type_desc</th>\n",
       "      <th>repair_cost</th>\n",
       "      <th>acv</th>\n",
       "      <th>plug_lot_acv</th>\n",
       "      <th>auc_dt</th>\n",
       "      <th>proquote_amt</th>\n",
       "    </tr>\n",
       "  </thead>\n",
       "  <tbody>\n",
       "    <tr>\n",
       "      <th>0</th>\n",
       "      <td>84820275</td>\n",
       "      <td>50</td>\n",
       "      <td>2023</td>\n",
       "      <td>DODG</td>\n",
       "      <td>CHARGER</td>\n",
       "      <td>FRONT END</td>\n",
       "      <td>7776.0</td>\n",
       "      <td>24820.0</td>\n",
       "      <td>29250.0</td>\n",
       "      <td>NaN</td>\n",
       "      <td>9558.85</td>\n",
       "    </tr>\n",
       "    <tr>\n",
       "      <th>1</th>\n",
       "      <td>87468275</td>\n",
       "      <td>40</td>\n",
       "      <td>2017</td>\n",
       "      <td>HYUN</td>\n",
       "      <td>SONATA</td>\n",
       "      <td>MINOR DENT/SCRATCHES</td>\n",
       "      <td>3218.0</td>\n",
       "      <td>8600.0</td>\n",
       "      <td>10400.0</td>\n",
       "      <td>NaN</td>\n",
       "      <td>0.00</td>\n",
       "    </tr>\n",
       "    <tr>\n",
       "      <th>2</th>\n",
       "      <td>89514045</td>\n",
       "      <td>40</td>\n",
       "      <td>2014</td>\n",
       "      <td>GMC</td>\n",
       "      <td>SIERRA</td>\n",
       "      <td>MINOR DENT/SCRATCHES</td>\n",
       "      <td>15422.0</td>\n",
       "      <td>10060.0</td>\n",
       "      <td>13025.0</td>\n",
       "      <td>NaN</td>\n",
       "      <td>2683.11</td>\n",
       "    </tr>\n",
       "    <tr>\n",
       "      <th>3</th>\n",
       "      <td>86683585</td>\n",
       "      <td>50</td>\n",
       "      <td>2010</td>\n",
       "      <td>GMC</td>\n",
       "      <td>YUKON</td>\n",
       "      <td>MECHANICAL</td>\n",
       "      <td>18297.0</td>\n",
       "      <td>7920.0</td>\n",
       "      <td>8250.0</td>\n",
       "      <td>NaN</td>\n",
       "      <td>886.33</td>\n",
       "    </tr>\n",
       "    <tr>\n",
       "      <th>4</th>\n",
       "      <td>89451755</td>\n",
       "      <td>40</td>\n",
       "      <td>2014</td>\n",
       "      <td>RAM</td>\n",
       "      <td>1500</td>\n",
       "      <td>NORMAL WEAR</td>\n",
       "      <td>0.0</td>\n",
       "      <td>12920.0</td>\n",
       "      <td>16600.0</td>\n",
       "      <td>NaN</td>\n",
       "      <td>0.00</td>\n",
       "    </tr>\n",
       "  </tbody>\n",
       "</table>\n",
       "</div>"
      ]
     },
     "execution_count": 53,
     "metadata": {},
     "output_type": "execute_result"
    }
   ],
   "execution_count": 53
  },
  {
   "metadata": {
    "ExecuteTime": {
     "end_time": "2025-10-30T15:54:33.151587Z",
     "start_time": "2025-10-30T15:54:33.147464Z"
    }
   },
   "cell_type": "code",
   "source": "df_wl.isnull().sum()",
   "id": "63b0692ab1ff4c1c",
   "outputs": [
    {
     "data": {
      "text/plain": [
       "lot_nbr               0\n",
       "lot_stg               0\n",
       "lot_year              0\n",
       "lot_make_cd           0\n",
       "grp_model             1\n",
       "damage_type_desc      0\n",
       "repair_cost           0\n",
       "acv                   0\n",
       "plug_lot_acv          0\n",
       "auc_dt              222\n",
       "proquote_amt          0\n",
       "dtype: int64"
      ]
     },
     "execution_count": 54,
     "metadata": {},
     "output_type": "execute_result"
    }
   ],
   "execution_count": 54
  },
  {
   "metadata": {
    "ExecuteTime": {
     "end_time": "2025-10-30T15:54:38.597347Z",
     "start_time": "2025-10-30T15:54:38.595236Z"
    }
   },
   "cell_type": "code",
   "source": "df_wl['grp_model'] = df_wl['grp_model'].fillna(df_wl['grp_model'].mode()[0])",
   "id": "90a5c4d340605181",
   "outputs": [],
   "execution_count": 55
  },
  {
   "metadata": {
    "ExecuteTime": {
     "end_time": "2025-10-30T15:55:01.464789Z",
     "start_time": "2025-10-30T15:55:01.460639Z"
    }
   },
   "cell_type": "code",
   "source": "df_wl.to_csv('../data/westlake/wl_lots_cleaned.csv',index=False)",
   "id": "f08b17aeaf5193d",
   "outputs": [],
   "execution_count": 56
  },
  {
   "metadata": {},
   "cell_type": "code",
   "outputs": [],
   "execution_count": null,
   "source": "",
   "id": "3aaf818bdefba92b"
  }
 ],
 "metadata": {
  "kernelspec": {
   "display_name": "Python 3",
   "language": "python",
   "name": "python3"
  },
  "language_info": {
   "codemirror_mode": {
    "name": "ipython",
    "version": 2
   },
   "file_extension": ".py",
   "mimetype": "text/x-python",
   "name": "python",
   "nbconvert_exporter": "python",
   "pygments_lexer": "ipython2",
   "version": "2.7.6"
  }
 },
 "nbformat": 4,
 "nbformat_minor": 5
}

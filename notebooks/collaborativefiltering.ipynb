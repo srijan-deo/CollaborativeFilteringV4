{
 "cells": [
  {
   "cell_type": "code",
   "id": "initial_id",
   "metadata": {
    "collapsed": true,
    "ExecuteTime": {
     "end_time": "2025-10-10T19:49:29.530498Z",
     "start_time": "2025-10-10T19:49:29.527942Z"
    }
   },
   "source": [
    "import pandas as pd\n",
    "import numpy as np"
   ],
   "outputs": [],
   "execution_count": 167
  },
  {
   "metadata": {
    "ExecuteTime": {
     "end_time": "2025-10-13T23:16:25.355531Z",
     "start_time": "2025-10-13T23:16:24.363926Z"
    }
   },
   "cell_type": "code",
   "source": [
    "data_high_test = pd.read_csv('data/interim/data_high_test.csv')\n",
    "print(data_high_test['buyer_nbr'].nunique())\n",
    "print(data_high_test['lot_nbr'].nunique())"
   ],
   "id": "8aa33a4a5af21f45",
   "outputs": [
    {
     "name": "stdout",
     "output_type": "stream",
     "text": [
      "16509\n",
      "681838\n"
     ]
    }
   ],
   "execution_count": 8
  },
  {
   "metadata": {
    "ExecuteTime": {
     "end_time": "2025-10-13T23:16:30.058804Z",
     "start_time": "2025-10-13T23:16:30.050869Z"
    }
   },
   "cell_type": "code",
   "source": "data_high_test",
   "id": "5303629c5be7ba22",
   "outputs": [
    {
     "data": {
      "text/plain": [
       "             mbr_lic_type mbr_state   lot_nbr  buyer_nbr  \\\n",
       "0                Consumer        TN  60112235     307475   \n",
       "1                Consumer        PA  81847425     649757   \n",
       "2                  Dealer        NJ  65945235     889115   \n",
       "3              Dismantler        WA  69214205     163219   \n",
       "4              Dismantler        FL  59312325     311841   \n",
       "...                   ...       ...       ...        ...   \n",
       "1872707        Dismantler        TX  64282385      85333   \n",
       "1872708  General Business        AK  64856955      25997   \n",
       "1872709        Dismantler        GA  70167765      90195   \n",
       "1872710          Consumer        KY  60941985      86729   \n",
       "1872711          Consumer        FL  68889025     645763   \n",
       "\n",
       "                                                 mbr_email  max_bid  \\\n",
       "0        307475cprt_dmmy_MASTERBDR_774468_468903@copart...    525.0   \n",
       "1                                  Narciso1967jb@gmail.com    150.0   \n",
       "2                                jimotorsllc2020@gmail.com   3000.0   \n",
       "3                                      mark@go2upullit.com    125.0   \n",
       "4                                 qualityautousa@gmail.com  23600.0   \n",
       "...                                                    ...      ...   \n",
       "1872707                             susiedavis1956@msn.com   4250.0   \n",
       "1872708                       canwetradetogether@gmail.com   5800.0   \n",
       "1872709                               alsalahat1@gmail.com   3100.0   \n",
       "1872710   86729cprt_dmmy_MASTERBDR_75225_344013@copart.com   3000.0   \n",
       "1872711  251973-MSTRBDR-0bf4ba67-6ac0-4be5-9c08-fbc056e...   3500.0   \n",
       "\n",
       "             inv_dt  lot_year lot_make_cd grp_model       acv  repair_cost  \\\n",
       "0        2025-08-26      2013        BUIC    VERANO   6225.00      6328.59   \n",
       "1        2025-10-07      2007        HYUN  VERACRUZ   4525.00         0.00   \n",
       "2        2025-09-30      2022        ACUR       TLX  32572.56     26578.75   \n",
       "3        2025-08-27      2013        DODG   AVENGER   4013.00      4311.90   \n",
       "4        2025-08-07      2021         BMW        M5  78939.46     51102.44   \n",
       "...             ...       ...         ...       ...       ...          ...   \n",
       "1872707  2025-09-25      2020         JEP  WRANGLER  28180.00         0.00   \n",
       "1872708  2025-09-25      2020         JEP  WRANGLER  28637.00     16335.57   \n",
       "1872709  2025-09-19      2011         JEP  WRANGLER      0.00         0.00   \n",
       "1872710  2025-08-19      2010         JEP  WRANGLER  16826.00         0.00   \n",
       "1872711  2025-08-21      2014         JEP  WRANGLER  18000.00         0.00   \n",
       "\n",
       "         total_unique_buyers_on_that_lot  total_unique_lots_bid_by_buyers  \n",
       "0                                      4                            53416  \n",
       "1                                      2                               28  \n",
       "2                                     15                              105  \n",
       "3                                      4                             1829  \n",
       "4                                     17                             1626  \n",
       "...                                  ...                              ...  \n",
       "1872707                               16                               56  \n",
       "1872708                                9                              127  \n",
       "1872709                               11                             2448  \n",
       "1872710                               16                               51  \n",
       "1872711                                5                                7  \n",
       "\n",
       "[1872712 rows x 14 columns]"
      ],
      "text/html": [
       "<div>\n",
       "<style scoped>\n",
       "    .dataframe tbody tr th:only-of-type {\n",
       "        vertical-align: middle;\n",
       "    }\n",
       "\n",
       "    .dataframe tbody tr th {\n",
       "        vertical-align: top;\n",
       "    }\n",
       "\n",
       "    .dataframe thead th {\n",
       "        text-align: right;\n",
       "    }\n",
       "</style>\n",
       "<table border=\"1\" class=\"dataframe\">\n",
       "  <thead>\n",
       "    <tr style=\"text-align: right;\">\n",
       "      <th></th>\n",
       "      <th>mbr_lic_type</th>\n",
       "      <th>mbr_state</th>\n",
       "      <th>lot_nbr</th>\n",
       "      <th>buyer_nbr</th>\n",
       "      <th>mbr_email</th>\n",
       "      <th>max_bid</th>\n",
       "      <th>inv_dt</th>\n",
       "      <th>lot_year</th>\n",
       "      <th>lot_make_cd</th>\n",
       "      <th>grp_model</th>\n",
       "      <th>acv</th>\n",
       "      <th>repair_cost</th>\n",
       "      <th>total_unique_buyers_on_that_lot</th>\n",
       "      <th>total_unique_lots_bid_by_buyers</th>\n",
       "    </tr>\n",
       "  </thead>\n",
       "  <tbody>\n",
       "    <tr>\n",
       "      <th>0</th>\n",
       "      <td>Consumer</td>\n",
       "      <td>TN</td>\n",
       "      <td>60112235</td>\n",
       "      <td>307475</td>\n",
       "      <td>307475cprt_dmmy_MASTERBDR_774468_468903@copart...</td>\n",
       "      <td>525.0</td>\n",
       "      <td>2025-08-26</td>\n",
       "      <td>2013</td>\n",
       "      <td>BUIC</td>\n",
       "      <td>VERANO</td>\n",
       "      <td>6225.00</td>\n",
       "      <td>6328.59</td>\n",
       "      <td>4</td>\n",
       "      <td>53416</td>\n",
       "    </tr>\n",
       "    <tr>\n",
       "      <th>1</th>\n",
       "      <td>Consumer</td>\n",
       "      <td>PA</td>\n",
       "      <td>81847425</td>\n",
       "      <td>649757</td>\n",
       "      <td>Narciso1967jb@gmail.com</td>\n",
       "      <td>150.0</td>\n",
       "      <td>2025-10-07</td>\n",
       "      <td>2007</td>\n",
       "      <td>HYUN</td>\n",
       "      <td>VERACRUZ</td>\n",
       "      <td>4525.00</td>\n",
       "      <td>0.00</td>\n",
       "      <td>2</td>\n",
       "      <td>28</td>\n",
       "    </tr>\n",
       "    <tr>\n",
       "      <th>2</th>\n",
       "      <td>Dealer</td>\n",
       "      <td>NJ</td>\n",
       "      <td>65945235</td>\n",
       "      <td>889115</td>\n",
       "      <td>jimotorsllc2020@gmail.com</td>\n",
       "      <td>3000.0</td>\n",
       "      <td>2025-09-30</td>\n",
       "      <td>2022</td>\n",
       "      <td>ACUR</td>\n",
       "      <td>TLX</td>\n",
       "      <td>32572.56</td>\n",
       "      <td>26578.75</td>\n",
       "      <td>15</td>\n",
       "      <td>105</td>\n",
       "    </tr>\n",
       "    <tr>\n",
       "      <th>3</th>\n",
       "      <td>Dismantler</td>\n",
       "      <td>WA</td>\n",
       "      <td>69214205</td>\n",
       "      <td>163219</td>\n",
       "      <td>mark@go2upullit.com</td>\n",
       "      <td>125.0</td>\n",
       "      <td>2025-08-27</td>\n",
       "      <td>2013</td>\n",
       "      <td>DODG</td>\n",
       "      <td>AVENGER</td>\n",
       "      <td>4013.00</td>\n",
       "      <td>4311.90</td>\n",
       "      <td>4</td>\n",
       "      <td>1829</td>\n",
       "    </tr>\n",
       "    <tr>\n",
       "      <th>4</th>\n",
       "      <td>Dismantler</td>\n",
       "      <td>FL</td>\n",
       "      <td>59312325</td>\n",
       "      <td>311841</td>\n",
       "      <td>qualityautousa@gmail.com</td>\n",
       "      <td>23600.0</td>\n",
       "      <td>2025-08-07</td>\n",
       "      <td>2021</td>\n",
       "      <td>BMW</td>\n",
       "      <td>M5</td>\n",
       "      <td>78939.46</td>\n",
       "      <td>51102.44</td>\n",
       "      <td>17</td>\n",
       "      <td>1626</td>\n",
       "    </tr>\n",
       "    <tr>\n",
       "      <th>...</th>\n",
       "      <td>...</td>\n",
       "      <td>...</td>\n",
       "      <td>...</td>\n",
       "      <td>...</td>\n",
       "      <td>...</td>\n",
       "      <td>...</td>\n",
       "      <td>...</td>\n",
       "      <td>...</td>\n",
       "      <td>...</td>\n",
       "      <td>...</td>\n",
       "      <td>...</td>\n",
       "      <td>...</td>\n",
       "      <td>...</td>\n",
       "      <td>...</td>\n",
       "    </tr>\n",
       "    <tr>\n",
       "      <th>1872707</th>\n",
       "      <td>Dismantler</td>\n",
       "      <td>TX</td>\n",
       "      <td>64282385</td>\n",
       "      <td>85333</td>\n",
       "      <td>susiedavis1956@msn.com</td>\n",
       "      <td>4250.0</td>\n",
       "      <td>2025-09-25</td>\n",
       "      <td>2020</td>\n",
       "      <td>JEP</td>\n",
       "      <td>WRANGLER</td>\n",
       "      <td>28180.00</td>\n",
       "      <td>0.00</td>\n",
       "      <td>16</td>\n",
       "      <td>56</td>\n",
       "    </tr>\n",
       "    <tr>\n",
       "      <th>1872708</th>\n",
       "      <td>General Business</td>\n",
       "      <td>AK</td>\n",
       "      <td>64856955</td>\n",
       "      <td>25997</td>\n",
       "      <td>canwetradetogether@gmail.com</td>\n",
       "      <td>5800.0</td>\n",
       "      <td>2025-09-25</td>\n",
       "      <td>2020</td>\n",
       "      <td>JEP</td>\n",
       "      <td>WRANGLER</td>\n",
       "      <td>28637.00</td>\n",
       "      <td>16335.57</td>\n",
       "      <td>9</td>\n",
       "      <td>127</td>\n",
       "    </tr>\n",
       "    <tr>\n",
       "      <th>1872709</th>\n",
       "      <td>Dismantler</td>\n",
       "      <td>GA</td>\n",
       "      <td>70167765</td>\n",
       "      <td>90195</td>\n",
       "      <td>alsalahat1@gmail.com</td>\n",
       "      <td>3100.0</td>\n",
       "      <td>2025-09-19</td>\n",
       "      <td>2011</td>\n",
       "      <td>JEP</td>\n",
       "      <td>WRANGLER</td>\n",
       "      <td>0.00</td>\n",
       "      <td>0.00</td>\n",
       "      <td>11</td>\n",
       "      <td>2448</td>\n",
       "    </tr>\n",
       "    <tr>\n",
       "      <th>1872710</th>\n",
       "      <td>Consumer</td>\n",
       "      <td>KY</td>\n",
       "      <td>60941985</td>\n",
       "      <td>86729</td>\n",
       "      <td>86729cprt_dmmy_MASTERBDR_75225_344013@copart.com</td>\n",
       "      <td>3000.0</td>\n",
       "      <td>2025-08-19</td>\n",
       "      <td>2010</td>\n",
       "      <td>JEP</td>\n",
       "      <td>WRANGLER</td>\n",
       "      <td>16826.00</td>\n",
       "      <td>0.00</td>\n",
       "      <td>16</td>\n",
       "      <td>51</td>\n",
       "    </tr>\n",
       "    <tr>\n",
       "      <th>1872711</th>\n",
       "      <td>Consumer</td>\n",
       "      <td>FL</td>\n",
       "      <td>68889025</td>\n",
       "      <td>645763</td>\n",
       "      <td>251973-MSTRBDR-0bf4ba67-6ac0-4be5-9c08-fbc056e...</td>\n",
       "      <td>3500.0</td>\n",
       "      <td>2025-08-21</td>\n",
       "      <td>2014</td>\n",
       "      <td>JEP</td>\n",
       "      <td>WRANGLER</td>\n",
       "      <td>18000.00</td>\n",
       "      <td>0.00</td>\n",
       "      <td>5</td>\n",
       "      <td>7</td>\n",
       "    </tr>\n",
       "  </tbody>\n",
       "</table>\n",
       "<p>1872712 rows × 14 columns</p>\n",
       "</div>"
      ]
     },
     "execution_count": 9,
     "metadata": {},
     "output_type": "execute_result"
    }
   ],
   "execution_count": 9
  },
  {
   "metadata": {
    "ExecuteTime": {
     "end_time": "2025-10-13T23:16:40.273369Z",
     "start_time": "2025-10-13T23:16:40.265992Z"
    }
   },
   "cell_type": "code",
   "source": "data_high_test[data_high_test['buyer_nbr']==1345]",
   "id": "839676d8cb26411f",
   "outputs": [
    {
     "data": {
      "text/plain": [
       "        mbr_lic_type mbr_state   lot_nbr  buyer_nbr                 mbr_email  \\\n",
       "406925      Consumer        FL  59554675       1345  villarrealjoxi@gmail.com   \n",
       "415929      Consumer        FL  63744905       1345  villarrealjoxi@gmail.com   \n",
       "419842      Consumer        FL  57780675       1345  villarrealjoxi@gmail.com   \n",
       "746330      Consumer        FL  61644155       1345  villarrealjoxi@gmail.com   \n",
       "830528      Consumer        FL  54437645       1345  villarrealjoxi@gmail.com   \n",
       "852378      Consumer        FL  59912645       1345  villarrealjoxi@gmail.com   \n",
       "967580      Consumer        FL  61754435       1345  villarrealjoxi@gmail.com   \n",
       "1237887     Consumer        FL  61191185       1345  villarrealjoxi@gmail.com   \n",
       "1250246     Consumer        FL  62986045       1345  villarrealjoxi@gmail.com   \n",
       "1350249     Consumer        FL  63264125       1345  villarrealjoxi@gmail.com   \n",
       "1809305     Consumer        FL  58588555       1345  villarrealjoxi@gmail.com   \n",
       "\n",
       "         max_bid      inv_dt  lot_year lot_make_cd grp_model       acv  \\\n",
       "406925    2000.0  2025-07-14      2025        TOYT     CAMRY  34238.00   \n",
       "415929    1550.0  2025-07-22      2017        TOYT   COROLLA  12701.00   \n",
       "419842    4050.0  2025-07-31      2020        TOYT   COROLLA  11877.00   \n",
       "746330    2550.0  2025-07-21      2017        HOND    ACCORD  14119.00   \n",
       "830528    5600.0  2025-07-22      2023        TOYT     CAMRY  24113.00   \n",
       "852378    1000.0  2025-07-15      2013        TOYT     CAMRY  10315.00   \n",
       "967580    1000.0  2025-07-28      2018        TOYT     CAMRY  20256.00   \n",
       "1237887   2150.0  2025-07-22      2021        TOYT   COROLLA  15296.00   \n",
       "1250246   3000.0  2025-07-24      2020        TOYT   COROLLA   8448.00   \n",
       "1350249   2550.0  2025-07-22      2020        FORD      F150  28902.00   \n",
       "1809305   4950.0  2025-07-15      2024        TOYT    TACOMA  36311.83   \n",
       "\n",
       "         repair_cost  total_unique_buyers_on_that_lot  \\\n",
       "406925      34238.00                                3   \n",
       "415929       9753.26                                7   \n",
       "419842       9828.12                               20   \n",
       "746330       9168.44                                6   \n",
       "830528      13529.60                               13   \n",
       "852378       7515.70                               11   \n",
       "967580      15149.04                               14   \n",
       "1237887     14989.10                                5   \n",
       "1250246         0.00                                8   \n",
       "1350249     16342.72                               15   \n",
       "1809305     17751.95                               14   \n",
       "\n",
       "         total_unique_lots_bid_by_buyers  \n",
       "406925                                11  \n",
       "415929                                11  \n",
       "419842                                11  \n",
       "746330                                11  \n",
       "830528                                11  \n",
       "852378                                11  \n",
       "967580                                11  \n",
       "1237887                               11  \n",
       "1250246                               11  \n",
       "1350249                               11  \n",
       "1809305                               11  "
      ],
      "text/html": [
       "<div>\n",
       "<style scoped>\n",
       "    .dataframe tbody tr th:only-of-type {\n",
       "        vertical-align: middle;\n",
       "    }\n",
       "\n",
       "    .dataframe tbody tr th {\n",
       "        vertical-align: top;\n",
       "    }\n",
       "\n",
       "    .dataframe thead th {\n",
       "        text-align: right;\n",
       "    }\n",
       "</style>\n",
       "<table border=\"1\" class=\"dataframe\">\n",
       "  <thead>\n",
       "    <tr style=\"text-align: right;\">\n",
       "      <th></th>\n",
       "      <th>mbr_lic_type</th>\n",
       "      <th>mbr_state</th>\n",
       "      <th>lot_nbr</th>\n",
       "      <th>buyer_nbr</th>\n",
       "      <th>mbr_email</th>\n",
       "      <th>max_bid</th>\n",
       "      <th>inv_dt</th>\n",
       "      <th>lot_year</th>\n",
       "      <th>lot_make_cd</th>\n",
       "      <th>grp_model</th>\n",
       "      <th>acv</th>\n",
       "      <th>repair_cost</th>\n",
       "      <th>total_unique_buyers_on_that_lot</th>\n",
       "      <th>total_unique_lots_bid_by_buyers</th>\n",
       "    </tr>\n",
       "  </thead>\n",
       "  <tbody>\n",
       "    <tr>\n",
       "      <th>406925</th>\n",
       "      <td>Consumer</td>\n",
       "      <td>FL</td>\n",
       "      <td>59554675</td>\n",
       "      <td>1345</td>\n",
       "      <td>villarrealjoxi@gmail.com</td>\n",
       "      <td>2000.0</td>\n",
       "      <td>2025-07-14</td>\n",
       "      <td>2025</td>\n",
       "      <td>TOYT</td>\n",
       "      <td>CAMRY</td>\n",
       "      <td>34238.00</td>\n",
       "      <td>34238.00</td>\n",
       "      <td>3</td>\n",
       "      <td>11</td>\n",
       "    </tr>\n",
       "    <tr>\n",
       "      <th>415929</th>\n",
       "      <td>Consumer</td>\n",
       "      <td>FL</td>\n",
       "      <td>63744905</td>\n",
       "      <td>1345</td>\n",
       "      <td>villarrealjoxi@gmail.com</td>\n",
       "      <td>1550.0</td>\n",
       "      <td>2025-07-22</td>\n",
       "      <td>2017</td>\n",
       "      <td>TOYT</td>\n",
       "      <td>COROLLA</td>\n",
       "      <td>12701.00</td>\n",
       "      <td>9753.26</td>\n",
       "      <td>7</td>\n",
       "      <td>11</td>\n",
       "    </tr>\n",
       "    <tr>\n",
       "      <th>419842</th>\n",
       "      <td>Consumer</td>\n",
       "      <td>FL</td>\n",
       "      <td>57780675</td>\n",
       "      <td>1345</td>\n",
       "      <td>villarrealjoxi@gmail.com</td>\n",
       "      <td>4050.0</td>\n",
       "      <td>2025-07-31</td>\n",
       "      <td>2020</td>\n",
       "      <td>TOYT</td>\n",
       "      <td>COROLLA</td>\n",
       "      <td>11877.00</td>\n",
       "      <td>9828.12</td>\n",
       "      <td>20</td>\n",
       "      <td>11</td>\n",
       "    </tr>\n",
       "    <tr>\n",
       "      <th>746330</th>\n",
       "      <td>Consumer</td>\n",
       "      <td>FL</td>\n",
       "      <td>61644155</td>\n",
       "      <td>1345</td>\n",
       "      <td>villarrealjoxi@gmail.com</td>\n",
       "      <td>2550.0</td>\n",
       "      <td>2025-07-21</td>\n",
       "      <td>2017</td>\n",
       "      <td>HOND</td>\n",
       "      <td>ACCORD</td>\n",
       "      <td>14119.00</td>\n",
       "      <td>9168.44</td>\n",
       "      <td>6</td>\n",
       "      <td>11</td>\n",
       "    </tr>\n",
       "    <tr>\n",
       "      <th>830528</th>\n",
       "      <td>Consumer</td>\n",
       "      <td>FL</td>\n",
       "      <td>54437645</td>\n",
       "      <td>1345</td>\n",
       "      <td>villarrealjoxi@gmail.com</td>\n",
       "      <td>5600.0</td>\n",
       "      <td>2025-07-22</td>\n",
       "      <td>2023</td>\n",
       "      <td>TOYT</td>\n",
       "      <td>CAMRY</td>\n",
       "      <td>24113.00</td>\n",
       "      <td>13529.60</td>\n",
       "      <td>13</td>\n",
       "      <td>11</td>\n",
       "    </tr>\n",
       "    <tr>\n",
       "      <th>852378</th>\n",
       "      <td>Consumer</td>\n",
       "      <td>FL</td>\n",
       "      <td>59912645</td>\n",
       "      <td>1345</td>\n",
       "      <td>villarrealjoxi@gmail.com</td>\n",
       "      <td>1000.0</td>\n",
       "      <td>2025-07-15</td>\n",
       "      <td>2013</td>\n",
       "      <td>TOYT</td>\n",
       "      <td>CAMRY</td>\n",
       "      <td>10315.00</td>\n",
       "      <td>7515.70</td>\n",
       "      <td>11</td>\n",
       "      <td>11</td>\n",
       "    </tr>\n",
       "    <tr>\n",
       "      <th>967580</th>\n",
       "      <td>Consumer</td>\n",
       "      <td>FL</td>\n",
       "      <td>61754435</td>\n",
       "      <td>1345</td>\n",
       "      <td>villarrealjoxi@gmail.com</td>\n",
       "      <td>1000.0</td>\n",
       "      <td>2025-07-28</td>\n",
       "      <td>2018</td>\n",
       "      <td>TOYT</td>\n",
       "      <td>CAMRY</td>\n",
       "      <td>20256.00</td>\n",
       "      <td>15149.04</td>\n",
       "      <td>14</td>\n",
       "      <td>11</td>\n",
       "    </tr>\n",
       "    <tr>\n",
       "      <th>1237887</th>\n",
       "      <td>Consumer</td>\n",
       "      <td>FL</td>\n",
       "      <td>61191185</td>\n",
       "      <td>1345</td>\n",
       "      <td>villarrealjoxi@gmail.com</td>\n",
       "      <td>2150.0</td>\n",
       "      <td>2025-07-22</td>\n",
       "      <td>2021</td>\n",
       "      <td>TOYT</td>\n",
       "      <td>COROLLA</td>\n",
       "      <td>15296.00</td>\n",
       "      <td>14989.10</td>\n",
       "      <td>5</td>\n",
       "      <td>11</td>\n",
       "    </tr>\n",
       "    <tr>\n",
       "      <th>1250246</th>\n",
       "      <td>Consumer</td>\n",
       "      <td>FL</td>\n",
       "      <td>62986045</td>\n",
       "      <td>1345</td>\n",
       "      <td>villarrealjoxi@gmail.com</td>\n",
       "      <td>3000.0</td>\n",
       "      <td>2025-07-24</td>\n",
       "      <td>2020</td>\n",
       "      <td>TOYT</td>\n",
       "      <td>COROLLA</td>\n",
       "      <td>8448.00</td>\n",
       "      <td>0.00</td>\n",
       "      <td>8</td>\n",
       "      <td>11</td>\n",
       "    </tr>\n",
       "    <tr>\n",
       "      <th>1350249</th>\n",
       "      <td>Consumer</td>\n",
       "      <td>FL</td>\n",
       "      <td>63264125</td>\n",
       "      <td>1345</td>\n",
       "      <td>villarrealjoxi@gmail.com</td>\n",
       "      <td>2550.0</td>\n",
       "      <td>2025-07-22</td>\n",
       "      <td>2020</td>\n",
       "      <td>FORD</td>\n",
       "      <td>F150</td>\n",
       "      <td>28902.00</td>\n",
       "      <td>16342.72</td>\n",
       "      <td>15</td>\n",
       "      <td>11</td>\n",
       "    </tr>\n",
       "    <tr>\n",
       "      <th>1809305</th>\n",
       "      <td>Consumer</td>\n",
       "      <td>FL</td>\n",
       "      <td>58588555</td>\n",
       "      <td>1345</td>\n",
       "      <td>villarrealjoxi@gmail.com</td>\n",
       "      <td>4950.0</td>\n",
       "      <td>2025-07-15</td>\n",
       "      <td>2024</td>\n",
       "      <td>TOYT</td>\n",
       "      <td>TACOMA</td>\n",
       "      <td>36311.83</td>\n",
       "      <td>17751.95</td>\n",
       "      <td>14</td>\n",
       "      <td>11</td>\n",
       "    </tr>\n",
       "  </tbody>\n",
       "</table>\n",
       "</div>"
      ]
     },
     "execution_count": 10,
     "metadata": {},
     "output_type": "execute_result"
    }
   ],
   "execution_count": 10
  },
  {
   "metadata": {
    "ExecuteTime": {
     "end_time": "2025-10-13T23:17:04.234542Z",
     "start_time": "2025-10-13T23:17:04.078911Z"
    }
   },
   "cell_type": "code",
   "source": "data_high_test.isnull().sum()",
   "id": "fd71fe1205eed543",
   "outputs": [
    {
     "data": {
      "text/plain": [
       "mbr_lic_type                       0\n",
       "mbr_state                          0\n",
       "lot_nbr                            0\n",
       "buyer_nbr                          0\n",
       "mbr_email                          0\n",
       "max_bid                            0\n",
       "inv_dt                             0\n",
       "lot_year                           0\n",
       "lot_make_cd                        0\n",
       "grp_model                          0\n",
       "acv                                0\n",
       "repair_cost                        0\n",
       "total_unique_buyers_on_that_lot    0\n",
       "total_unique_lots_bid_by_buyers    0\n",
       "dtype: int64"
      ]
     },
     "execution_count": 11,
     "metadata": {},
     "output_type": "execute_result"
    }
   ],
   "execution_count": 11
  },
  {
   "metadata": {
    "ExecuteTime": {
     "end_time": "2025-10-13T23:17:04.644910Z",
     "start_time": "2025-10-13T23:17:04.643227Z"
    }
   },
   "cell_type": "code",
   "source": "",
   "id": "cc2a10113cff93e5",
   "outputs": [],
   "execution_count": null
  },
  {
   "metadata": {
    "ExecuteTime": {
     "end_time": "2025-10-13T23:17:04.969747Z",
     "start_time": "2025-10-13T23:17:04.933798Z"
    }
   },
   "cell_type": "code",
   "source": [
    "### To include only popular lots\n",
    "#data_high_test = data_high_test[(data_high_test['total_unique_buyers_on_that_lot']>=10)]\n",
    "print(data_high_test['buyer_nbr'].nunique())\n",
    "print(data_high_test['lot_nbr'].nunique())"
   ],
   "id": "c0d11952b2370bda",
   "outputs": [
    {
     "name": "stdout",
     "output_type": "stream",
     "text": [
      "16509\n",
      "681838\n"
     ]
    }
   ],
   "execution_count": 12
  },
  {
   "metadata": {
    "ExecuteTime": {
     "end_time": "2025-10-13T23:17:05.504871Z",
     "start_time": "2025-10-13T23:17:05.502738Z"
    }
   },
   "cell_type": "code",
   "source": [
    "### Build the buyer-lot matrix\n",
    "#buyer_lot_matrix = data_high.pivot_table(\n",
    "#    index='buyer_nbr',\n",
    "#    columns='lot_nbr',\n",
    "#    values='max_bid',\n",
    "#    fill_value=0\n",
    "#)\n",
    "\n",
    "#buyer_lot_matrix = buyer_lot_matrix.astype(int)\n",
    "#buyer_lot_matrix\n",
    "\n",
    "### Traditional matrix will not be optimal. Hence creating CSR matrix"
   ],
   "id": "6f224c90e0631000",
   "outputs": [],
   "execution_count": 13
  },
  {
   "metadata": {
    "ExecuteTime": {
     "end_time": "2025-10-13T23:17:07.909254Z",
     "start_time": "2025-10-13T23:17:05.925149Z"
    }
   },
   "cell_type": "code",
   "source": [
    "### CSR matrix\n",
    "\n",
    "from scipy.sparse import csr_matrix\n",
    "from sklearn.preprocessing import LabelEncoder\n",
    "\n",
    "buyer_encoder = LabelEncoder()\n",
    "lot_encoder = LabelEncoder()\n",
    "\n",
    "buyer_ids = buyer_encoder.fit_transform(data_high_test['buyer_nbr'])\n",
    "lot_ids = lot_encoder.fit_transform(data_high_test['lot_nbr'])\n",
    "\n",
    "# Max bid values for matrix\n",
    "max_bid_values = data_high_test['max_bid'].fillna(0).astype(float)\n",
    "\n",
    "# Create CSR matrix (buyers as rows, lots as columns)\n",
    "n_buyers = len(buyer_encoder.classes_)\n",
    "n_lots = len(lot_encoder.classes_)\n",
    "\n",
    "buyer_lot_max_bid_sparse = csr_matrix(\n",
    "    (max_bid_values, (buyer_ids, lot_ids)),\n",
    "    shape=(n_buyers, n_lots)\n",
    ")\n",
    "\n",
    "print(buyer_lot_max_bid_sparse.shape)\n"
   ],
   "id": "445b30005c4df6ea",
   "outputs": [
    {
     "name": "stdout",
     "output_type": "stream",
     "text": [
      "(16509, 681838)\n"
     ]
    }
   ],
   "execution_count": 14
  },
  {
   "metadata": {
    "ExecuteTime": {
     "end_time": "2025-10-13T23:17:08.090338Z",
     "start_time": "2025-10-13T23:17:07.980169Z"
    }
   },
   "cell_type": "code",
   "source": "from implicit.als import AlternatingLeastSquares",
   "id": "46874d04180ab8fc",
   "outputs": [
    {
     "name": "stderr",
     "output_type": "stream",
     "text": [
      "/Library/Frameworks/Python.framework/Versions/3.13/lib/python3.13/site-packages/tqdm/auto.py:21: TqdmWarning: IProgress not found. Please update jupyter and ipywidgets. See https://ipywidgets.readthedocs.io/en/stable/user_install.html\n",
      "  from .autonotebook import tqdm as notebook_tqdm\n"
     ]
    }
   ],
   "execution_count": 15
  },
  {
   "metadata": {
    "ExecuteTime": {
     "end_time": "2025-10-13T23:17:25.234573Z",
     "start_time": "2025-10-13T23:17:09.165091Z"
    }
   },
   "cell_type": "code",
   "source": [
    "als_model = AlternatingLeastSquares(\n",
    "    factors=32,         # Embedding dimension\n",
    "    regularization=0.5, # Controls overfitting\n",
    "    iterations=30,      # Number of ALS training iterations\n",
    "    use_gpu=False       # Set to True if you want to use GPU\n",
    ")\n",
    "\n",
    "# ALS expects (items x users), so transpose\n",
    "# Implicit also assumes higher values = higher confidence\n",
    "als_model.fit(buyer_lot_max_bid_sparse)"
   ],
   "id": "b1736f6db5885065",
   "outputs": [
    {
     "name": "stderr",
     "output_type": "stream",
     "text": [
      "100%|██████████| 30/30 [00:15<00:00,  1.88it/s]\n"
     ]
    }
   ],
   "execution_count": 16
  },
  {
   "metadata": {
    "ExecuteTime": {
     "end_time": "2025-10-13T23:17:28.668995Z",
     "start_time": "2025-10-13T23:17:28.512688Z"
    }
   },
   "cell_type": "code",
   "source": [
    "import faiss\n",
    "import numpy as np\n",
    "\n",
    "# Step 1: Normalize buyer embeddings\n",
    "buyer_embeddings = als_model.user_factors.astype('float32')  # shape (n_buyers, dim)\n",
    "lot_embeddings = als_model.item_factors.astype('float32')  # shape: (n_lots, dim)\n",
    "\n",
    "# Step 2: Normalize both embeddings for cosine similarity\n",
    "faiss.normalize_L2(buyer_embeddings)  # in-place normalization\n",
    "faiss.normalize_L2(lot_embeddings)    # normalize lots too!\n",
    "\n",
    "# Step 2: Create FAISS index (cosine similarity is L2 on normalized vectors)\n",
    "faiss_index = faiss.IndexFlatIP(buyer_embeddings.shape[1])  # IP = inner product\n",
    "faiss_index.add(buyer_embeddings)  # Add all buyer vectors to index"
   ],
   "id": "e2769ce96717ba9f",
   "outputs": [],
   "execution_count": 17
  },
  {
   "metadata": {},
   "cell_type": "markdown",
   "source": "#### Get similar buyers",
   "id": "23bccae1aef547f4"
  },
  {
   "metadata": {
    "ExecuteTime": {
     "end_time": "2025-10-13T23:17:30.042049Z",
     "start_time": "2025-10-13T23:17:30.039581Z"
    }
   },
   "cell_type": "code",
   "source": [
    "def get_similar_buyers_faiss(input_buyer_id, top_k=5):\n",
    "    if input_buyer_id not in buyer_encoder.classes_:\n",
    "        raise ValueError(\"Buyer not in training data\")\n",
    "\n",
    "    internal_buyer_id = buyer_encoder.transform([input_buyer_id])[0]\n",
    "\n",
    "    # Step 1: Get embedding of input buyer\n",
    "    query_vec = als_model.user_factors[internal_buyer_id].astype('float32').reshape(1, -1)\n",
    "    faiss.normalize_L2(query_vec)  # normalize for cosine\n",
    "\n",
    "    # Step 2: Search FAISS index\n",
    "    distances, indices = faiss_index.search(query_vec, top_k + 1)  # +1 to exclude self\n",
    "    similar_ids = indices[0]\n",
    "\n",
    "    # Step 3: Remove the buyer themselves if present\n",
    "    similar_ids = [i for i in similar_ids if i != internal_buyer_id][:top_k]\n",
    "\n",
    "    # Decode to original buyer_nbrs\n",
    "    similar_buyers = buyer_encoder.inverse_transform(similar_ids)\n",
    "\n",
    "    return similar_buyers\n"
   ],
   "id": "250c31d6df913468",
   "outputs": [],
   "execution_count": 18
  },
  {
   "metadata": {
    "ExecuteTime": {
     "end_time": "2025-10-13T23:17:32.394815Z",
     "start_time": "2025-10-13T23:17:32.388368Z"
    }
   },
   "cell_type": "code",
   "source": "similar_buyers = get_similar_buyers_faiss(75, top_k=5)",
   "id": "ced9b3aa63895766",
   "outputs": [],
   "execution_count": 19
  },
  {
   "metadata": {
    "ExecuteTime": {
     "end_time": "2025-10-13T23:17:32.695107Z",
     "start_time": "2025-10-13T23:17:32.691969Z"
    }
   },
   "cell_type": "code",
   "source": "similar_buyers",
   "id": "b802f20fc17e3eee",
   "outputs": [
    {
     "data": {
      "text/plain": [
       "array([833355, 125863, 193427, 643247, 739205])"
      ]
     },
     "execution_count": 20,
     "metadata": {},
     "output_type": "execute_result"
    }
   ],
   "execution_count": 20
  },
  {
   "metadata": {
    "ExecuteTime": {
     "end_time": "2025-10-13T23:17:33.073332Z",
     "start_time": "2025-10-13T23:17:33.069820Z"
    }
   },
   "cell_type": "code",
   "source": [
    "import numpy as np\n",
    "import pandas as pd\n",
    "\n",
    "def recommend_lots_cosine_from_similar_buyers(input_buyer_id, top_k_buyers=5, top_k_lots=6):\n",
    "    # Step 1: Get similar buyers\n",
    "    similar_buyers = get_similar_buyers_faiss(input_buyer_id, top_k=top_k_buyers)\n",
    "\n",
    "    # Step 2: Get lots interacted by similar buyers\n",
    "    sim_buyer_lots = data_high_test[data_high_test['buyer_nbr'].isin(similar_buyers)]\n",
    "    candidate_lot_ids = sim_buyer_lots['lot_nbr'].unique()\n",
    "\n",
    "    # Step 3: Remove lots already interacted by the input buyer\n",
    "    input_buyer_lot_ids = data_high_test[data_high_test['buyer_nbr'] == input_buyer_id]['lot_nbr'].unique()\n",
    "    candidate_lot_ids = list(set(candidate_lot_ids) - set(input_buyer_lot_ids))\n",
    "\n",
    "    if not candidate_lot_ids:\n",
    "        return pd.DataFrame()  # No candidates to recommend\n",
    "\n",
    "   # Step 4: Get buyer and lot embeddings (already normalized)\n",
    "    input_buyer_idx = buyer_encoder.transform([input_buyer_id])[0]\n",
    "    buyer_vec = buyer_embeddings[input_buyer_idx].reshape(1, -1)\n",
    "    lot_indices = lot_encoder.transform(candidate_lot_ids)\n",
    "    lot_vecs = lot_embeddings[lot_indices]\n",
    "\n",
    "    # Step 5: Cosine similarity = dot product of normalized vectors\n",
    "    cosine_scores = np.dot(lot_vecs, buyer_vec.T).flatten()\n",
    "\n",
    "    # Step 6: Select top N lots with highest cosine score\n",
    "    top_indices = np.argsort(-cosine_scores)[:top_k_lots]\n",
    "    top_lot_ids = [candidate_lot_ids[i] for i in top_indices]\n",
    "    top_scores = cosine_scores[top_indices]\n",
    "\n",
    "    # Step 7: Build output\n",
    "    top_rows = []\n",
    "    for lot_id, score in zip(top_lot_ids, top_scores):\n",
    "        row = data_high_test[data_high_test['lot_nbr'] == lot_id].iloc[0]\n",
    "        top_rows.append({\n",
    "            'input_buyer_nbr': input_buyer_id,\n",
    "            'mbr_email': row['mbr_email'],\n",
    "            'recommended_lot': lot_id,\n",
    "            'lot_year': row['lot_year'],\n",
    "            'lot_make_cd': row['lot_make_cd'],\n",
    "            'grp_model': row['grp_model'],\n",
    "            'acv': row['acv'],\n",
    "            'repair_cost': row['repair_cost'],\n",
    "            'cosine_similarity': score\n",
    "        })\n",
    "\n",
    "    return pd.DataFrame(top_rows)"
   ],
   "id": "e1a1803c327de9f4",
   "outputs": [],
   "execution_count": 21
  },
  {
   "metadata": {
    "ExecuteTime": {
     "end_time": "2025-10-13T23:24:56.405962Z",
     "start_time": "2025-10-13T23:17:34.271664Z"
    }
   },
   "cell_type": "code",
   "source": [
    "from tqdm import tqdm\n",
    "\n",
    "all_buyers = data_high_test['buyer_nbr'].unique()\n",
    "all_recos = []\n",
    "\n",
    "for buyer in tqdm(all_buyers):\n",
    "    try:\n",
    "        df = recommend_lots_cosine_from_similar_buyers(buyer)\n",
    "        all_recos.append(df)\n",
    "    except Exception as e:\n",
    "        print(f\"⚠️ Error for buyer {buyer}: {e}\")\n",
    "\n",
    "recommendations_df = pd.concat(all_recos, ignore_index=True)"
   ],
   "id": "7914bcd3780f9344",
   "outputs": [
    {
     "name": "stderr",
     "output_type": "stream",
     "text": [
      "100%|██████████| 16509/16509 [07:21<00:00, 37.38it/s]\n"
     ]
    }
   ],
   "execution_count": 22
  },
  {
   "metadata": {
    "ExecuteTime": {
     "end_time": "2025-10-14T00:52:50.414875Z",
     "start_time": "2025-10-14T00:52:50.408368Z"
    }
   },
   "cell_type": "code",
   "source": "recommendations_df_copy = recommendations_df.copy()",
   "id": "cbfe71021650e06e",
   "outputs": [],
   "execution_count": 23
  },
  {
   "metadata": {
    "ExecuteTime": {
     "end_time": "2025-10-14T00:52:51.444587Z",
     "start_time": "2025-10-14T00:52:51.438901Z"
    }
   },
   "cell_type": "code",
   "source": "recommendations_df_copy",
   "id": "b57dfae3b851236f",
   "outputs": [
    {
     "data": {
      "text/plain": [
       "       input_buyer_nbr                                          mbr_email  \\\n",
       "0               307475  13603075-MSTRBDR-13eff8bb-4dff-46a2-a429-d0dcb...   \n",
       "1               307475  13603075-MSTRBDR-13eff8bb-4dff-46a2-a429-d0dcb...   \n",
       "2               307475  13603075-MSTRBDR-13eff8bb-4dff-46a2-a429-d0dcb...   \n",
       "3               307475  13603075-MSTRBDR-13eff8bb-4dff-46a2-a429-d0dcb...   \n",
       "4               307475                             riversidestl@yahoo.com   \n",
       "...                ...                                                ...   \n",
       "99049           158785                                  poporai@yahoo.com   \n",
       "99050           158785                         eliteautoflorida@gmail.com   \n",
       "99051           158785                        chapinesautosales@gmail.com   \n",
       "99052           158785                             ariasefra123@gmail.com   \n",
       "99053           158785                               mafeauto@hotmail.com   \n",
       "\n",
       "       recommended_lot  lot_year lot_make_cd grp_model       acv  repair_cost  \\\n",
       "0             48149305      2017        DODG   CARAVAN   9086.41         0.00   \n",
       "1             86422104      2005        CHRY   MINIVAN   1048.00      6146.25   \n",
       "2             62759345      2005        HOND    ACCORD      0.00         0.00   \n",
       "3             80197745      2007        PONT      VIBE   3179.87      5438.43   \n",
       "4             64953595      2007        FORD     FOCUS   3114.41      3114.41   \n",
       "...                ...       ...         ...       ...       ...          ...   \n",
       "99049         67091135      2009        HOND       FIT   4208.00         0.00   \n",
       "99050         58541835      2014         KIA      SOUL   7522.00      6220.39   \n",
       "99051         66402515      2008         JEP  WRANGLER  14352.00      9629.90   \n",
       "99052         62202005      2018         KIA  SPORTAGE  10559.00     15668.46   \n",
       "99053         81025775      2012        SUBA   IMPREZA   1495.00         0.00   \n",
       "\n",
       "       cosine_similarity  \n",
       "0               0.928769  \n",
       "1               0.926297  \n",
       "2               0.926297  \n",
       "3               0.926297  \n",
       "4               0.926276  \n",
       "...                  ...  \n",
       "99049           0.826939  \n",
       "99050           0.825459  \n",
       "99051           0.803930  \n",
       "99052           0.802559  \n",
       "99053           0.801895  \n",
       "\n",
       "[99054 rows x 9 columns]"
      ],
      "text/html": [
       "<div>\n",
       "<style scoped>\n",
       "    .dataframe tbody tr th:only-of-type {\n",
       "        vertical-align: middle;\n",
       "    }\n",
       "\n",
       "    .dataframe tbody tr th {\n",
       "        vertical-align: top;\n",
       "    }\n",
       "\n",
       "    .dataframe thead th {\n",
       "        text-align: right;\n",
       "    }\n",
       "</style>\n",
       "<table border=\"1\" class=\"dataframe\">\n",
       "  <thead>\n",
       "    <tr style=\"text-align: right;\">\n",
       "      <th></th>\n",
       "      <th>input_buyer_nbr</th>\n",
       "      <th>mbr_email</th>\n",
       "      <th>recommended_lot</th>\n",
       "      <th>lot_year</th>\n",
       "      <th>lot_make_cd</th>\n",
       "      <th>grp_model</th>\n",
       "      <th>acv</th>\n",
       "      <th>repair_cost</th>\n",
       "      <th>cosine_similarity</th>\n",
       "    </tr>\n",
       "  </thead>\n",
       "  <tbody>\n",
       "    <tr>\n",
       "      <th>0</th>\n",
       "      <td>307475</td>\n",
       "      <td>13603075-MSTRBDR-13eff8bb-4dff-46a2-a429-d0dcb...</td>\n",
       "      <td>48149305</td>\n",
       "      <td>2017</td>\n",
       "      <td>DODG</td>\n",
       "      <td>CARAVAN</td>\n",
       "      <td>9086.41</td>\n",
       "      <td>0.00</td>\n",
       "      <td>0.928769</td>\n",
       "    </tr>\n",
       "    <tr>\n",
       "      <th>1</th>\n",
       "      <td>307475</td>\n",
       "      <td>13603075-MSTRBDR-13eff8bb-4dff-46a2-a429-d0dcb...</td>\n",
       "      <td>86422104</td>\n",
       "      <td>2005</td>\n",
       "      <td>CHRY</td>\n",
       "      <td>MINIVAN</td>\n",
       "      <td>1048.00</td>\n",
       "      <td>6146.25</td>\n",
       "      <td>0.926297</td>\n",
       "    </tr>\n",
       "    <tr>\n",
       "      <th>2</th>\n",
       "      <td>307475</td>\n",
       "      <td>13603075-MSTRBDR-13eff8bb-4dff-46a2-a429-d0dcb...</td>\n",
       "      <td>62759345</td>\n",
       "      <td>2005</td>\n",
       "      <td>HOND</td>\n",
       "      <td>ACCORD</td>\n",
       "      <td>0.00</td>\n",
       "      <td>0.00</td>\n",
       "      <td>0.926297</td>\n",
       "    </tr>\n",
       "    <tr>\n",
       "      <th>3</th>\n",
       "      <td>307475</td>\n",
       "      <td>13603075-MSTRBDR-13eff8bb-4dff-46a2-a429-d0dcb...</td>\n",
       "      <td>80197745</td>\n",
       "      <td>2007</td>\n",
       "      <td>PONT</td>\n",
       "      <td>VIBE</td>\n",
       "      <td>3179.87</td>\n",
       "      <td>5438.43</td>\n",
       "      <td>0.926297</td>\n",
       "    </tr>\n",
       "    <tr>\n",
       "      <th>4</th>\n",
       "      <td>307475</td>\n",
       "      <td>riversidestl@yahoo.com</td>\n",
       "      <td>64953595</td>\n",
       "      <td>2007</td>\n",
       "      <td>FORD</td>\n",
       "      <td>FOCUS</td>\n",
       "      <td>3114.41</td>\n",
       "      <td>3114.41</td>\n",
       "      <td>0.926276</td>\n",
       "    </tr>\n",
       "    <tr>\n",
       "      <th>...</th>\n",
       "      <td>...</td>\n",
       "      <td>...</td>\n",
       "      <td>...</td>\n",
       "      <td>...</td>\n",
       "      <td>...</td>\n",
       "      <td>...</td>\n",
       "      <td>...</td>\n",
       "      <td>...</td>\n",
       "      <td>...</td>\n",
       "    </tr>\n",
       "    <tr>\n",
       "      <th>99049</th>\n",
       "      <td>158785</td>\n",
       "      <td>poporai@yahoo.com</td>\n",
       "      <td>67091135</td>\n",
       "      <td>2009</td>\n",
       "      <td>HOND</td>\n",
       "      <td>FIT</td>\n",
       "      <td>4208.00</td>\n",
       "      <td>0.00</td>\n",
       "      <td>0.826939</td>\n",
       "    </tr>\n",
       "    <tr>\n",
       "      <th>99050</th>\n",
       "      <td>158785</td>\n",
       "      <td>eliteautoflorida@gmail.com</td>\n",
       "      <td>58541835</td>\n",
       "      <td>2014</td>\n",
       "      <td>KIA</td>\n",
       "      <td>SOUL</td>\n",
       "      <td>7522.00</td>\n",
       "      <td>6220.39</td>\n",
       "      <td>0.825459</td>\n",
       "    </tr>\n",
       "    <tr>\n",
       "      <th>99051</th>\n",
       "      <td>158785</td>\n",
       "      <td>chapinesautosales@gmail.com</td>\n",
       "      <td>66402515</td>\n",
       "      <td>2008</td>\n",
       "      <td>JEP</td>\n",
       "      <td>WRANGLER</td>\n",
       "      <td>14352.00</td>\n",
       "      <td>9629.90</td>\n",
       "      <td>0.803930</td>\n",
       "    </tr>\n",
       "    <tr>\n",
       "      <th>99052</th>\n",
       "      <td>158785</td>\n",
       "      <td>ariasefra123@gmail.com</td>\n",
       "      <td>62202005</td>\n",
       "      <td>2018</td>\n",
       "      <td>KIA</td>\n",
       "      <td>SPORTAGE</td>\n",
       "      <td>10559.00</td>\n",
       "      <td>15668.46</td>\n",
       "      <td>0.802559</td>\n",
       "    </tr>\n",
       "    <tr>\n",
       "      <th>99053</th>\n",
       "      <td>158785</td>\n",
       "      <td>mafeauto@hotmail.com</td>\n",
       "      <td>81025775</td>\n",
       "      <td>2012</td>\n",
       "      <td>SUBA</td>\n",
       "      <td>IMPREZA</td>\n",
       "      <td>1495.00</td>\n",
       "      <td>0.00</td>\n",
       "      <td>0.801895</td>\n",
       "    </tr>\n",
       "  </tbody>\n",
       "</table>\n",
       "<p>99054 rows × 9 columns</p>\n",
       "</div>"
      ]
     },
     "execution_count": 24,
     "metadata": {},
     "output_type": "execute_result"
    }
   ],
   "execution_count": 24
  },
  {
   "metadata": {
    "ExecuteTime": {
     "end_time": "2025-10-14T02:43:52.371554Z",
     "start_time": "2025-10-14T02:43:52.368111Z"
    }
   },
   "cell_type": "code",
   "source": "recommendations_df_copy[recommendations_df_copy['input_buyer_nbr']==16882]",
   "id": "8c4e388a93f03770",
   "outputs": [
    {
     "data": {
      "text/plain": [
       "Empty DataFrame\n",
       "Columns: [input_buyer_nbr, mbr_email, recommended_lot, lot_year, lot_make_cd, grp_model, acv, repair_cost, cosine_similarity]\n",
       "Index: []"
      ],
      "text/html": [
       "<div>\n",
       "<style scoped>\n",
       "    .dataframe tbody tr th:only-of-type {\n",
       "        vertical-align: middle;\n",
       "    }\n",
       "\n",
       "    .dataframe tbody tr th {\n",
       "        vertical-align: top;\n",
       "    }\n",
       "\n",
       "    .dataframe thead th {\n",
       "        text-align: right;\n",
       "    }\n",
       "</style>\n",
       "<table border=\"1\" class=\"dataframe\">\n",
       "  <thead>\n",
       "    <tr style=\"text-align: right;\">\n",
       "      <th></th>\n",
       "      <th>input_buyer_nbr</th>\n",
       "      <th>mbr_email</th>\n",
       "      <th>recommended_lot</th>\n",
       "      <th>lot_year</th>\n",
       "      <th>lot_make_cd</th>\n",
       "      <th>grp_model</th>\n",
       "      <th>acv</th>\n",
       "      <th>repair_cost</th>\n",
       "      <th>cosine_similarity</th>\n",
       "    </tr>\n",
       "  </thead>\n",
       "  <tbody>\n",
       "  </tbody>\n",
       "</table>\n",
       "</div>"
      ]
     },
     "execution_count": 37,
     "metadata": {},
     "output_type": "execute_result"
    }
   ],
   "execution_count": 37
  },
  {
   "metadata": {
    "ExecuteTime": {
     "end_time": "2025-10-14T00:53:14.796209Z",
     "start_time": "2025-10-14T00:53:14.794351Z"
    }
   },
   "cell_type": "code",
   "source": "",
   "id": "1ca36de6d45dcf0a",
   "outputs": [],
   "execution_count": null
  },
  {
   "metadata": {
    "ExecuteTime": {
     "end_time": "2025-10-14T00:53:15.142425Z",
     "start_time": "2025-10-14T00:53:15.138938Z"
    }
   },
   "cell_type": "code",
   "source": "recommendations_df_copy['input_buyer_nbr'].nunique()",
   "id": "1f1b518b4e0d14ab",
   "outputs": [
    {
     "data": {
      "text/plain": [
       "16509"
      ]
     },
     "execution_count": 26,
     "metadata": {},
     "output_type": "execute_result"
    }
   ],
   "execution_count": 26
  },
  {
   "metadata": {
    "ExecuteTime": {
     "end_time": "2025-10-13T15:22:40.226868Z",
     "start_time": "2025-10-13T15:22:40.223139Z"
    }
   },
   "cell_type": "code",
   "source": [
    "import numpy as np\n",
    "from sklearn.metrics import mean_squared_error\n",
    "\n",
    "def calculate_rmse(als_model, interaction_matrix, sample_size=100_000, random_state=42):\n",
    "    # nonzero entries (buyer, lot, true value)\n",
    "    users, items = interaction_matrix.nonzero()\n",
    "    vals = interaction_matrix.data.astype(np.float64)\n",
    "    n = len(vals)\n",
    "    if n == 0:\n",
    "        raise ValueError(\"interaction_matrix has no non-zero entries\")\n",
    "\n",
    "    # sample for speed\n",
    "    rng = np.random.default_rng(random_state)\n",
    "    if sample_size and sample_size < n:\n",
    "        idx = rng.choice(n, size=sample_size, replace=False)\n",
    "    else:\n",
    "        idx = np.arange(n)\n",
    "\n",
    "    u_idx = users[idx]\n",
    "    i_idx = items[idx]\n",
    "    y_true = vals[idx]\n",
    "\n",
    "    # ALS predictions = dot(user_vec, item_vec)\n",
    "    u_vecs = als_model.user_factors[u_idx]\n",
    "    i_vecs = als_model.item_factors[i_idx]\n",
    "    y_pred = np.einsum(\"ij,ij->i\", u_vecs, i_vecs)\n",
    "\n",
    "    # sklearn-compatible RMSE (works on old/new versions)\n",
    "    try:\n",
    "        # new sklearn\n",
    "        rmse = mean_squared_error(y_true, y_pred, squared=False)\n",
    "    except TypeError:\n",
    "        # old sklearn\n",
    "        rmse = np.sqrt(mean_squared_error(y_true, y_pred))\n",
    "\n",
    "    return float(rmse)\n"
   ],
   "id": "4ed6d9e4cbb27e1b",
   "outputs": [],
   "execution_count": 241
  },
  {
   "metadata": {
    "ExecuteTime": {
     "end_time": "2025-10-13T15:22:40.885125Z",
     "start_time": "2025-10-13T15:22:40.864789Z"
    }
   },
   "cell_type": "code",
   "source": [
    "rmse_value = calculate_rmse(als_model, buyer_lot_max_bid_sparse, sample_size=50000)\n",
    "print(f\"ALS RMSE: {rmse_value:.4f}\")\n"
   ],
   "id": "b6e37785e1c3dd78",
   "outputs": [
    {
     "name": "stdout",
     "output_type": "stream",
     "text": [
      "ALS RMSE: 6120.7087\n"
     ]
    }
   ],
   "execution_count": 242
  },
  {
   "metadata": {},
   "cell_type": "markdown",
   "source": "#### Future lots",
   "id": "8be7a2ab464940b7"
  },
  {
   "metadata": {
    "ExecuteTime": {
     "end_time": "2025-10-14T00:53:19.456868Z",
     "start_time": "2025-10-14T00:53:19.436130Z"
    }
   },
   "cell_type": "code",
   "source": "data2 = pd.read_csv('data/interim/future_lots.csv')",
   "id": "ce912dea5123e8cd",
   "outputs": [],
   "execution_count": 27
  },
  {
   "metadata": {
    "ExecuteTime": {
     "end_time": "2025-10-14T00:53:19.922429Z",
     "start_time": "2025-10-14T00:53:19.916212Z"
    }
   },
   "cell_type": "code",
   "source": "data2",
   "id": "35b717dfeee701b8",
   "outputs": [
    {
     "data": {
      "text/plain": [
       "        lot_nbr  lot_year lot_make_cd  grp_model damage_type_desc  \\\n",
       "0      71239515      2017        VOLK     PASSAT        FRONT END   \n",
       "1      81929665      2013        HYUN   VELOSTER        FRONT END   \n",
       "2      67987075      2016        SUBA  CROSSTREK     FRAME DAMAGE   \n",
       "3      81834465      2012        CADI        CTS        FRONT END   \n",
       "4      65324015      2014        CHEV      SONIC        FRONT END   \n",
       "...         ...       ...         ...        ...              ...   \n",
       "44707  84478595      2017         JEP   WRANGLER         REAR END   \n",
       "44708  69480705      2019         JEP   WRANGLER  REJECTED REPAIR   \n",
       "44709  67549015      1998         JEP   WRANGLER             SIDE   \n",
       "44710  81210975      2019         JEP   WRANGLER             SIDE   \n",
       "44711  81143085      2010         JEP   WRANGLER        VANDALISM   \n",
       "\n",
       "       repair_cost       acv      auc_dt  proquote_amt  \n",
       "0          9251.75   9841.73  2025-10-14       2544.05  \n",
       "1             0.00   4250.00  2025-10-14       1225.38  \n",
       "2          6898.95   7043.00  2025-10-15       1722.39  \n",
       "3             0.00    608.00  2025-10-16        503.58  \n",
       "4          3261.53   3927.00  2025-10-15        679.09  \n",
       "...            ...       ...         ...           ...  \n",
       "44707         0.00      0.00  2025-10-14      10884.31  \n",
       "44708     15088.55  19247.00  2025-10-14       9896.34  \n",
       "44709     10316.37   8457.48  2025-10-17       1334.83  \n",
       "44710     28172.36  33560.00  2025-10-17      13111.74  \n",
       "44711         0.00  10958.00  2025-10-16       3732.20  \n",
       "\n",
       "[44712 rows x 9 columns]"
      ],
      "text/html": [
       "<div>\n",
       "<style scoped>\n",
       "    .dataframe tbody tr th:only-of-type {\n",
       "        vertical-align: middle;\n",
       "    }\n",
       "\n",
       "    .dataframe tbody tr th {\n",
       "        vertical-align: top;\n",
       "    }\n",
       "\n",
       "    .dataframe thead th {\n",
       "        text-align: right;\n",
       "    }\n",
       "</style>\n",
       "<table border=\"1\" class=\"dataframe\">\n",
       "  <thead>\n",
       "    <tr style=\"text-align: right;\">\n",
       "      <th></th>\n",
       "      <th>lot_nbr</th>\n",
       "      <th>lot_year</th>\n",
       "      <th>lot_make_cd</th>\n",
       "      <th>grp_model</th>\n",
       "      <th>damage_type_desc</th>\n",
       "      <th>repair_cost</th>\n",
       "      <th>acv</th>\n",
       "      <th>auc_dt</th>\n",
       "      <th>proquote_amt</th>\n",
       "    </tr>\n",
       "  </thead>\n",
       "  <tbody>\n",
       "    <tr>\n",
       "      <th>0</th>\n",
       "      <td>71239515</td>\n",
       "      <td>2017</td>\n",
       "      <td>VOLK</td>\n",
       "      <td>PASSAT</td>\n",
       "      <td>FRONT END</td>\n",
       "      <td>9251.75</td>\n",
       "      <td>9841.73</td>\n",
       "      <td>2025-10-14</td>\n",
       "      <td>2544.05</td>\n",
       "    </tr>\n",
       "    <tr>\n",
       "      <th>1</th>\n",
       "      <td>81929665</td>\n",
       "      <td>2013</td>\n",
       "      <td>HYUN</td>\n",
       "      <td>VELOSTER</td>\n",
       "      <td>FRONT END</td>\n",
       "      <td>0.00</td>\n",
       "      <td>4250.00</td>\n",
       "      <td>2025-10-14</td>\n",
       "      <td>1225.38</td>\n",
       "    </tr>\n",
       "    <tr>\n",
       "      <th>2</th>\n",
       "      <td>67987075</td>\n",
       "      <td>2016</td>\n",
       "      <td>SUBA</td>\n",
       "      <td>CROSSTREK</td>\n",
       "      <td>FRAME DAMAGE</td>\n",
       "      <td>6898.95</td>\n",
       "      <td>7043.00</td>\n",
       "      <td>2025-10-15</td>\n",
       "      <td>1722.39</td>\n",
       "    </tr>\n",
       "    <tr>\n",
       "      <th>3</th>\n",
       "      <td>81834465</td>\n",
       "      <td>2012</td>\n",
       "      <td>CADI</td>\n",
       "      <td>CTS</td>\n",
       "      <td>FRONT END</td>\n",
       "      <td>0.00</td>\n",
       "      <td>608.00</td>\n",
       "      <td>2025-10-16</td>\n",
       "      <td>503.58</td>\n",
       "    </tr>\n",
       "    <tr>\n",
       "      <th>4</th>\n",
       "      <td>65324015</td>\n",
       "      <td>2014</td>\n",
       "      <td>CHEV</td>\n",
       "      <td>SONIC</td>\n",
       "      <td>FRONT END</td>\n",
       "      <td>3261.53</td>\n",
       "      <td>3927.00</td>\n",
       "      <td>2025-10-15</td>\n",
       "      <td>679.09</td>\n",
       "    </tr>\n",
       "    <tr>\n",
       "      <th>...</th>\n",
       "      <td>...</td>\n",
       "      <td>...</td>\n",
       "      <td>...</td>\n",
       "      <td>...</td>\n",
       "      <td>...</td>\n",
       "      <td>...</td>\n",
       "      <td>...</td>\n",
       "      <td>...</td>\n",
       "      <td>...</td>\n",
       "    </tr>\n",
       "    <tr>\n",
       "      <th>44707</th>\n",
       "      <td>84478595</td>\n",
       "      <td>2017</td>\n",
       "      <td>JEP</td>\n",
       "      <td>WRANGLER</td>\n",
       "      <td>REAR END</td>\n",
       "      <td>0.00</td>\n",
       "      <td>0.00</td>\n",
       "      <td>2025-10-14</td>\n",
       "      <td>10884.31</td>\n",
       "    </tr>\n",
       "    <tr>\n",
       "      <th>44708</th>\n",
       "      <td>69480705</td>\n",
       "      <td>2019</td>\n",
       "      <td>JEP</td>\n",
       "      <td>WRANGLER</td>\n",
       "      <td>REJECTED REPAIR</td>\n",
       "      <td>15088.55</td>\n",
       "      <td>19247.00</td>\n",
       "      <td>2025-10-14</td>\n",
       "      <td>9896.34</td>\n",
       "    </tr>\n",
       "    <tr>\n",
       "      <th>44709</th>\n",
       "      <td>67549015</td>\n",
       "      <td>1998</td>\n",
       "      <td>JEP</td>\n",
       "      <td>WRANGLER</td>\n",
       "      <td>SIDE</td>\n",
       "      <td>10316.37</td>\n",
       "      <td>8457.48</td>\n",
       "      <td>2025-10-17</td>\n",
       "      <td>1334.83</td>\n",
       "    </tr>\n",
       "    <tr>\n",
       "      <th>44710</th>\n",
       "      <td>81210975</td>\n",
       "      <td>2019</td>\n",
       "      <td>JEP</td>\n",
       "      <td>WRANGLER</td>\n",
       "      <td>SIDE</td>\n",
       "      <td>28172.36</td>\n",
       "      <td>33560.00</td>\n",
       "      <td>2025-10-17</td>\n",
       "      <td>13111.74</td>\n",
       "    </tr>\n",
       "    <tr>\n",
       "      <th>44711</th>\n",
       "      <td>81143085</td>\n",
       "      <td>2010</td>\n",
       "      <td>JEP</td>\n",
       "      <td>WRANGLER</td>\n",
       "      <td>VANDALISM</td>\n",
       "      <td>0.00</td>\n",
       "      <td>10958.00</td>\n",
       "      <td>2025-10-16</td>\n",
       "      <td>3732.20</td>\n",
       "    </tr>\n",
       "  </tbody>\n",
       "</table>\n",
       "<p>44712 rows × 9 columns</p>\n",
       "</div>"
      ]
     },
     "execution_count": 28,
     "metadata": {},
     "output_type": "execute_result"
    }
   ],
   "execution_count": 28
  },
  {
   "metadata": {
    "ExecuteTime": {
     "end_time": "2025-10-14T00:53:21.105447Z",
     "start_time": "2025-10-14T00:53:21.100171Z"
    }
   },
   "cell_type": "code",
   "source": "data2.isnull().sum()",
   "id": "552bf8c7e7b732e0",
   "outputs": [
    {
     "data": {
      "text/plain": [
       "lot_nbr             0\n",
       "lot_year            0\n",
       "lot_make_cd         0\n",
       "grp_model           0\n",
       "damage_type_desc    0\n",
       "repair_cost         0\n",
       "acv                 0\n",
       "auc_dt              0\n",
       "proquote_amt        0\n",
       "dtype: int64"
      ]
     },
     "execution_count": 29,
     "metadata": {},
     "output_type": "execute_result"
    }
   ],
   "execution_count": 29
  },
  {
   "metadata": {
    "ExecuteTime": {
     "end_time": "2025-10-14T00:53:23.818586Z",
     "start_time": "2025-10-14T00:53:23.578997Z"
    }
   },
   "cell_type": "code",
   "source": [
    "from sklearn.metrics.pairwise import manhattan_distances\n",
    "from concurrent.futures import ThreadPoolExecutor, as_completed\n",
    "import pandas as pd\n",
    "import numpy as np\n",
    "\n",
    "# --- Step 1: Define per-row function\n",
    "def process_row(row_dict, data2_df):\n",
    "    year, make, model = row_dict['lot_year'], row_dict['lot_make_cd'], row_dict['grp_model']\n",
    "    acv, repair = row_dict['acv'], row_dict['repair_cost']\n",
    "    input_vec = np.array([[acv, repair]])\n",
    "\n",
    "    # Step 1: Try YMM match\n",
    "    ymm_match = data2_df[\n",
    "        (data2_df['lot_year'] == year) &\n",
    "        (data2_df['lot_make_cd'] == make) &\n",
    "        (data2_df['grp_model'] == model)\n",
    "    ]\n",
    "\n",
    "    candidates = ymm_match.copy() if not ymm_match.empty else data2_df.copy()\n",
    "    candidate_vecs = candidates[['acv', 'repair_cost']].values\n",
    "    candidates['manhattan_dist'] = manhattan_distances(candidate_vecs, input_vec).flatten()\n",
    "    best_match = candidates.sort_values('manhattan_dist').iloc[0]\n",
    "\n",
    "    return {\n",
    "        'input_buyer_nbr': row_dict['input_buyer_nbr'],\n",
    "        'original_lot': row_dict['recommended_lot'],\n",
    "        'recommended_lot': best_match['lot_nbr'],\n",
    "        'manhattan_distance': best_match['manhattan_dist']\n",
    "    }\n"
   ],
   "id": "c3c6c3541df28bdb",
   "outputs": [],
   "execution_count": 30
  },
  {
   "metadata": {
    "ExecuteTime": {
     "end_time": "2025-10-14T00:53:23.898241Z",
     "start_time": "2025-10-14T00:53:23.896074Z"
    }
   },
   "cell_type": "code",
   "source": [
    "from tqdm import tqdm\n",
    "\n",
    "def refine_recommendations_parallel(reco_df, data2_df, max_workers=4):\n",
    "    results = []\n",
    "    futures = []\n",
    "\n",
    "    # Convert rows to dictionaries\n",
    "    row_dicts = reco_df.to_dict(orient='records')\n",
    "\n",
    "    with ThreadPoolExecutor(max_workers=max_workers) as executor:\n",
    "        for row in row_dicts:\n",
    "            futures.append(executor.submit(process_row, row, data2_df))\n",
    "\n",
    "        for f in tqdm(as_completed(futures), total=len(futures), desc=\"Refining recos\"):\n",
    "            try:\n",
    "                results.append(f.result())\n",
    "            except Exception as e:\n",
    "                print(f\"⚠️ Skipped one row due to: {e}\")\n",
    "\n",
    "    return pd.DataFrame(results)\n"
   ],
   "id": "313549c68820544c",
   "outputs": [],
   "execution_count": 31
  },
  {
   "metadata": {
    "ExecuteTime": {
     "end_time": "2025-10-14T00:56:50.363245Z",
     "start_time": "2025-10-14T00:53:25.505063Z"
    }
   },
   "cell_type": "code",
   "source": "recommended_upcoming_df_gt6 = refine_recommendations_parallel(recommendations_df_copy, data2, max_workers=6)\n",
   "id": "98b0dc0c4f34a1f1",
   "outputs": [
    {
     "name": "stderr",
     "output_type": "stream",
     "text": [
      "Refining recos: 100%|██████████| 99054/99054 [03:23<00:00, 486.23it/s]\n"
     ]
    }
   ],
   "execution_count": 32
  },
  {
   "metadata": {
    "ExecuteTime": {
     "end_time": "2025-10-14T00:56:51.428438Z",
     "start_time": "2025-10-14T00:56:51.423387Z"
    }
   },
   "cell_type": "code",
   "source": "recommended_upcoming_df_gt6",
   "id": "3e9288eacdc9b3f6",
   "outputs": [
    {
     "data": {
      "text/plain": [
       "       input_buyer_nbr  original_lot  recommended_lot  manhattan_distance\n",
       "0               649757      60636065         84830185             5675.00\n",
       "1               899609      64392515         84652505             2802.82\n",
       "2                23161      69325025         80529805             7603.50\n",
       "3                17489      65848055         85109305             2354.89\n",
       "4               163219      71311065         62193925              390.00\n",
       "...                ...           ...              ...                 ...\n",
       "99049           158785      62202005         81586785             3124.03\n",
       "99050           158785      64753575         58865395              393.00\n",
       "99051           158785      81025775         86291895             1190.00\n",
       "99052           485249      60280545         81660015               39.00\n",
       "99053           470235      66217935         80049965                0.00\n",
       "\n",
       "[99054 rows x 4 columns]"
      ],
      "text/html": [
       "<div>\n",
       "<style scoped>\n",
       "    .dataframe tbody tr th:only-of-type {\n",
       "        vertical-align: middle;\n",
       "    }\n",
       "\n",
       "    .dataframe tbody tr th {\n",
       "        vertical-align: top;\n",
       "    }\n",
       "\n",
       "    .dataframe thead th {\n",
       "        text-align: right;\n",
       "    }\n",
       "</style>\n",
       "<table border=\"1\" class=\"dataframe\">\n",
       "  <thead>\n",
       "    <tr style=\"text-align: right;\">\n",
       "      <th></th>\n",
       "      <th>input_buyer_nbr</th>\n",
       "      <th>original_lot</th>\n",
       "      <th>recommended_lot</th>\n",
       "      <th>manhattan_distance</th>\n",
       "    </tr>\n",
       "  </thead>\n",
       "  <tbody>\n",
       "    <tr>\n",
       "      <th>0</th>\n",
       "      <td>649757</td>\n",
       "      <td>60636065</td>\n",
       "      <td>84830185</td>\n",
       "      <td>5675.00</td>\n",
       "    </tr>\n",
       "    <tr>\n",
       "      <th>1</th>\n",
       "      <td>899609</td>\n",
       "      <td>64392515</td>\n",
       "      <td>84652505</td>\n",
       "      <td>2802.82</td>\n",
       "    </tr>\n",
       "    <tr>\n",
       "      <th>2</th>\n",
       "      <td>23161</td>\n",
       "      <td>69325025</td>\n",
       "      <td>80529805</td>\n",
       "      <td>7603.50</td>\n",
       "    </tr>\n",
       "    <tr>\n",
       "      <th>3</th>\n",
       "      <td>17489</td>\n",
       "      <td>65848055</td>\n",
       "      <td>85109305</td>\n",
       "      <td>2354.89</td>\n",
       "    </tr>\n",
       "    <tr>\n",
       "      <th>4</th>\n",
       "      <td>163219</td>\n",
       "      <td>71311065</td>\n",
       "      <td>62193925</td>\n",
       "      <td>390.00</td>\n",
       "    </tr>\n",
       "    <tr>\n",
       "      <th>...</th>\n",
       "      <td>...</td>\n",
       "      <td>...</td>\n",
       "      <td>...</td>\n",
       "      <td>...</td>\n",
       "    </tr>\n",
       "    <tr>\n",
       "      <th>99049</th>\n",
       "      <td>158785</td>\n",
       "      <td>62202005</td>\n",
       "      <td>81586785</td>\n",
       "      <td>3124.03</td>\n",
       "    </tr>\n",
       "    <tr>\n",
       "      <th>99050</th>\n",
       "      <td>158785</td>\n",
       "      <td>64753575</td>\n",
       "      <td>58865395</td>\n",
       "      <td>393.00</td>\n",
       "    </tr>\n",
       "    <tr>\n",
       "      <th>99051</th>\n",
       "      <td>158785</td>\n",
       "      <td>81025775</td>\n",
       "      <td>86291895</td>\n",
       "      <td>1190.00</td>\n",
       "    </tr>\n",
       "    <tr>\n",
       "      <th>99052</th>\n",
       "      <td>485249</td>\n",
       "      <td>60280545</td>\n",
       "      <td>81660015</td>\n",
       "      <td>39.00</td>\n",
       "    </tr>\n",
       "    <tr>\n",
       "      <th>99053</th>\n",
       "      <td>470235</td>\n",
       "      <td>66217935</td>\n",
       "      <td>80049965</td>\n",
       "      <td>0.00</td>\n",
       "    </tr>\n",
       "  </tbody>\n",
       "</table>\n",
       "<p>99054 rows × 4 columns</p>\n",
       "</div>"
      ]
     },
     "execution_count": 33,
     "metadata": {},
     "output_type": "execute_result"
    }
   ],
   "execution_count": 33
  },
  {
   "metadata": {
    "ExecuteTime": {
     "end_time": "2025-10-14T00:57:04.683529Z",
     "start_time": "2025-10-14T00:57:04.678974Z"
    }
   },
   "cell_type": "code",
   "source": "recommendations_df_copy[recommendations_df_copy['input_buyer_nbr'] == 1345]",
   "id": "ec6cc423bc26819b",
   "outputs": [
    {
     "data": {
      "text/plain": [
       "       input_buyer_nbr                     mbr_email  recommended_lot  \\\n",
       "88524             1345         Langarito48@gmail.com         42079414   \n",
       "88525             1345          saymixauto@gmail.com         60263925   \n",
       "88526             1345        ajotacarsllc@gmail.com         59693655   \n",
       "88527             1345      copelandearl22@gmail.com         64886805   \n",
       "88528             1345      dakitipizzeria@gmail.com         59755285   \n",
       "88529             1345  andreseliasherrera@gmail.com         53993675   \n",
       "\n",
       "       lot_year lot_make_cd grp_model      acv  repair_cost  cosine_similarity  \n",
       "88524      2013        TOYT     CAMRY  14340.0      9371.00           0.764082  \n",
       "88525      2019        HYUN    SONATA  10306.0      9185.41           0.702714  \n",
       "88526      2013        TOYT     CAMRY  11700.0      8244.51           0.693582  \n",
       "88527      2017        HYUN    TUCSON   4940.0         0.00           0.691156  \n",
       "88528      2023        HOND       CRV  23300.0     16861.00           0.678856  \n",
       "88529      2017        HYUN    SONATA   8878.0         0.00           0.669402  "
      ],
      "text/html": [
       "<div>\n",
       "<style scoped>\n",
       "    .dataframe tbody tr th:only-of-type {\n",
       "        vertical-align: middle;\n",
       "    }\n",
       "\n",
       "    .dataframe tbody tr th {\n",
       "        vertical-align: top;\n",
       "    }\n",
       "\n",
       "    .dataframe thead th {\n",
       "        text-align: right;\n",
       "    }\n",
       "</style>\n",
       "<table border=\"1\" class=\"dataframe\">\n",
       "  <thead>\n",
       "    <tr style=\"text-align: right;\">\n",
       "      <th></th>\n",
       "      <th>input_buyer_nbr</th>\n",
       "      <th>mbr_email</th>\n",
       "      <th>recommended_lot</th>\n",
       "      <th>lot_year</th>\n",
       "      <th>lot_make_cd</th>\n",
       "      <th>grp_model</th>\n",
       "      <th>acv</th>\n",
       "      <th>repair_cost</th>\n",
       "      <th>cosine_similarity</th>\n",
       "    </tr>\n",
       "  </thead>\n",
       "  <tbody>\n",
       "    <tr>\n",
       "      <th>88524</th>\n",
       "      <td>1345</td>\n",
       "      <td>Langarito48@gmail.com</td>\n",
       "      <td>42079414</td>\n",
       "      <td>2013</td>\n",
       "      <td>TOYT</td>\n",
       "      <td>CAMRY</td>\n",
       "      <td>14340.0</td>\n",
       "      <td>9371.00</td>\n",
       "      <td>0.764082</td>\n",
       "    </tr>\n",
       "    <tr>\n",
       "      <th>88525</th>\n",
       "      <td>1345</td>\n",
       "      <td>saymixauto@gmail.com</td>\n",
       "      <td>60263925</td>\n",
       "      <td>2019</td>\n",
       "      <td>HYUN</td>\n",
       "      <td>SONATA</td>\n",
       "      <td>10306.0</td>\n",
       "      <td>9185.41</td>\n",
       "      <td>0.702714</td>\n",
       "    </tr>\n",
       "    <tr>\n",
       "      <th>88526</th>\n",
       "      <td>1345</td>\n",
       "      <td>ajotacarsllc@gmail.com</td>\n",
       "      <td>59693655</td>\n",
       "      <td>2013</td>\n",
       "      <td>TOYT</td>\n",
       "      <td>CAMRY</td>\n",
       "      <td>11700.0</td>\n",
       "      <td>8244.51</td>\n",
       "      <td>0.693582</td>\n",
       "    </tr>\n",
       "    <tr>\n",
       "      <th>88527</th>\n",
       "      <td>1345</td>\n",
       "      <td>copelandearl22@gmail.com</td>\n",
       "      <td>64886805</td>\n",
       "      <td>2017</td>\n",
       "      <td>HYUN</td>\n",
       "      <td>TUCSON</td>\n",
       "      <td>4940.0</td>\n",
       "      <td>0.00</td>\n",
       "      <td>0.691156</td>\n",
       "    </tr>\n",
       "    <tr>\n",
       "      <th>88528</th>\n",
       "      <td>1345</td>\n",
       "      <td>dakitipizzeria@gmail.com</td>\n",
       "      <td>59755285</td>\n",
       "      <td>2023</td>\n",
       "      <td>HOND</td>\n",
       "      <td>CRV</td>\n",
       "      <td>23300.0</td>\n",
       "      <td>16861.00</td>\n",
       "      <td>0.678856</td>\n",
       "    </tr>\n",
       "    <tr>\n",
       "      <th>88529</th>\n",
       "      <td>1345</td>\n",
       "      <td>andreseliasherrera@gmail.com</td>\n",
       "      <td>53993675</td>\n",
       "      <td>2017</td>\n",
       "      <td>HYUN</td>\n",
       "      <td>SONATA</td>\n",
       "      <td>8878.0</td>\n",
       "      <td>0.00</td>\n",
       "      <td>0.669402</td>\n",
       "    </tr>\n",
       "  </tbody>\n",
       "</table>\n",
       "</div>"
      ]
     },
     "execution_count": 34,
     "metadata": {},
     "output_type": "execute_result"
    }
   ],
   "execution_count": 34
  },
  {
   "metadata": {
    "ExecuteTime": {
     "end_time": "2025-10-14T01:04:29.878709Z",
     "start_time": "2025-10-14T01:04:29.873704Z"
    }
   },
   "cell_type": "code",
   "source": "recommended_upcoming_df_gt6[recommended_upcoming_df_gt6['input_buyer_nbr'] == 1345]",
   "id": "91c053d84945fa88",
   "outputs": [
    {
     "data": {
      "text/plain": [
       "       input_buyer_nbr  original_lot  recommended_lot  manhattan_distance\n",
       "88522             1345      42079414         49286015             2637.87\n",
       "88523             1345      59693655         68848965             1025.65\n",
       "88524             1345      59755285         80655715             2552.04\n",
       "88526             1345      60263925         80168505             1060.00\n",
       "88527             1345      64886805         81440465             1495.00\n",
       "88530             1345      53993675         83754195              627.26"
      ],
      "text/html": [
       "<div>\n",
       "<style scoped>\n",
       "    .dataframe tbody tr th:only-of-type {\n",
       "        vertical-align: middle;\n",
       "    }\n",
       "\n",
       "    .dataframe tbody tr th {\n",
       "        vertical-align: top;\n",
       "    }\n",
       "\n",
       "    .dataframe thead th {\n",
       "        text-align: right;\n",
       "    }\n",
       "</style>\n",
       "<table border=\"1\" class=\"dataframe\">\n",
       "  <thead>\n",
       "    <tr style=\"text-align: right;\">\n",
       "      <th></th>\n",
       "      <th>input_buyer_nbr</th>\n",
       "      <th>original_lot</th>\n",
       "      <th>recommended_lot</th>\n",
       "      <th>manhattan_distance</th>\n",
       "    </tr>\n",
       "  </thead>\n",
       "  <tbody>\n",
       "    <tr>\n",
       "      <th>88522</th>\n",
       "      <td>1345</td>\n",
       "      <td>42079414</td>\n",
       "      <td>49286015</td>\n",
       "      <td>2637.87</td>\n",
       "    </tr>\n",
       "    <tr>\n",
       "      <th>88523</th>\n",
       "      <td>1345</td>\n",
       "      <td>59693655</td>\n",
       "      <td>68848965</td>\n",
       "      <td>1025.65</td>\n",
       "    </tr>\n",
       "    <tr>\n",
       "      <th>88524</th>\n",
       "      <td>1345</td>\n",
       "      <td>59755285</td>\n",
       "      <td>80655715</td>\n",
       "      <td>2552.04</td>\n",
       "    </tr>\n",
       "    <tr>\n",
       "      <th>88526</th>\n",
       "      <td>1345</td>\n",
       "      <td>60263925</td>\n",
       "      <td>80168505</td>\n",
       "      <td>1060.00</td>\n",
       "    </tr>\n",
       "    <tr>\n",
       "      <th>88527</th>\n",
       "      <td>1345</td>\n",
       "      <td>64886805</td>\n",
       "      <td>81440465</td>\n",
       "      <td>1495.00</td>\n",
       "    </tr>\n",
       "    <tr>\n",
       "      <th>88530</th>\n",
       "      <td>1345</td>\n",
       "      <td>53993675</td>\n",
       "      <td>83754195</td>\n",
       "      <td>627.26</td>\n",
       "    </tr>\n",
       "  </tbody>\n",
       "</table>\n",
       "</div>"
      ]
     },
     "execution_count": 36,
     "metadata": {},
     "output_type": "execute_result"
    }
   ],
   "execution_count": 36
  },
  {
   "metadata": {
    "ExecuteTime": {
     "end_time": "2025-10-13T15:27:28.394984Z",
     "start_time": "2025-10-13T15:27:28.391762Z"
    }
   },
   "cell_type": "code",
   "source": "recommended_upcoming_df_gt6.isnull().sum()",
   "id": "2a2cddcaf637762a",
   "outputs": [
    {
     "data": {
      "text/plain": [
       "input_buyer_nbr       0\n",
       "original_lot          0\n",
       "recommended_lot       0\n",
       "manhattan_distance    0\n",
       "dtype: int64"
      ]
     },
     "execution_count": 251,
     "metadata": {},
     "output_type": "execute_result"
    }
   ],
   "execution_count": 251
  },
  {
   "metadata": {
    "ExecuteTime": {
     "end_time": "2025-10-13T15:27:29.653115Z",
     "start_time": "2025-10-13T15:27:29.650201Z"
    }
   },
   "cell_type": "code",
   "source": "recommended_upcoming_df_gt6['input_buyer_nbr'].nunique()",
   "id": "40d65fcd49f7ccaa",
   "outputs": [
    {
     "data": {
      "text/plain": [
       "16509"
      ]
     },
     "execution_count": 252,
     "metadata": {},
     "output_type": "execute_result"
    }
   ],
   "execution_count": 252
  },
  {
   "metadata": {
    "ExecuteTime": {
     "end_time": "2025-10-10T20:10:21.033724Z",
     "start_time": "2025-10-10T20:10:02.924639Z"
    }
   },
   "cell_type": "code",
   "source": "recommended_upcoming_df_gt6.to_excel(\"data/processed/recommended_CF_test.xlsx\", index=False)",
   "id": "f379673ece654ed4",
   "outputs": [],
   "execution_count": 197
  },
  {
   "metadata": {},
   "cell_type": "code",
   "outputs": [],
   "execution_count": null,
   "source": "",
   "id": "b65f0e2428659bb9"
  },
  {
   "metadata": {},
   "cell_type": "markdown",
   "source": "#### Reco for holdout",
   "id": "5c0ae72e5febf17f"
  },
  {
   "metadata": {
    "ExecuteTime": {
     "end_time": "2025-10-13T15:52:07.052226Z",
     "start_time": "2025-10-13T15:52:05.940119Z"
    }
   },
   "cell_type": "code",
   "source": [
    "data_high_holdout = pd.read_csv(\"data/interim/data_high_holdout.csv\")\n",
    "data_high_holdout.head()"
   ],
   "id": "14117a40f627d1bc",
   "outputs": [
    {
     "data": {
      "text/plain": [
       "       mbr_lic_type mbr_state   lot_nbr  buyer_nbr  \\\n",
       "0            Dealer        OH  69207575      18268   \n",
       "1  General Business        CA  69213575     211748   \n",
       "2            Dealer        AR  56624205     268100   \n",
       "3          Consumer        TN  81646595     307354   \n",
       "4          Consumer        MN  58811955     735050   \n",
       "\n",
       "                                           mbr_email  max_bid      inv_dt  \\\n",
       "0                              gmcautosale@gmail.com   2500.0  2025-09-23   \n",
       "1                           ghafar_mushtaq@yahoo.com   3950.0  2025-08-28   \n",
       "2                         SKDAUTOMOTIVELLC@GMAIL.COM   2650.0  2025-07-14   \n",
       "3  307354cprt_dmmy_MASTERBDR_774468_214128@copart...   1600.0  2025-10-01   \n",
       "4  735050cprt_dmmy_MASTERBDR_271083_492777@copart...   1550.0  2025-09-02   \n",
       "\n",
       "   lot_year lot_make_cd  grp_model      acv  repair_cost  \\\n",
       "0      2016        NISS     MAXIMA   9756.0      5215.90   \n",
       "1      2018        VOLK        GTI  22351.0     13044.91   \n",
       "2      2018        ACUR        MDX  21525.0     18404.81   \n",
       "3      2016        HOND        FIT  13499.0     14670.57   \n",
       "4      2020        FORD  ALL OTHER  14624.0     17972.56   \n",
       "\n",
       "   total_unique_buyers_on_that_lot  total_unique_lots_bid_by_buyers  \n",
       "0                                5                              244  \n",
       "1                                3                              506  \n",
       "2                               11                              367  \n",
       "3                                3                            45200  \n",
       "4                                3                              383  "
      ],
      "text/html": [
       "<div>\n",
       "<style scoped>\n",
       "    .dataframe tbody tr th:only-of-type {\n",
       "        vertical-align: middle;\n",
       "    }\n",
       "\n",
       "    .dataframe tbody tr th {\n",
       "        vertical-align: top;\n",
       "    }\n",
       "\n",
       "    .dataframe thead th {\n",
       "        text-align: right;\n",
       "    }\n",
       "</style>\n",
       "<table border=\"1\" class=\"dataframe\">\n",
       "  <thead>\n",
       "    <tr style=\"text-align: right;\">\n",
       "      <th></th>\n",
       "      <th>mbr_lic_type</th>\n",
       "      <th>mbr_state</th>\n",
       "      <th>lot_nbr</th>\n",
       "      <th>buyer_nbr</th>\n",
       "      <th>mbr_email</th>\n",
       "      <th>max_bid</th>\n",
       "      <th>inv_dt</th>\n",
       "      <th>lot_year</th>\n",
       "      <th>lot_make_cd</th>\n",
       "      <th>grp_model</th>\n",
       "      <th>acv</th>\n",
       "      <th>repair_cost</th>\n",
       "      <th>total_unique_buyers_on_that_lot</th>\n",
       "      <th>total_unique_lots_bid_by_buyers</th>\n",
       "    </tr>\n",
       "  </thead>\n",
       "  <tbody>\n",
       "    <tr>\n",
       "      <th>0</th>\n",
       "      <td>Dealer</td>\n",
       "      <td>OH</td>\n",
       "      <td>69207575</td>\n",
       "      <td>18268</td>\n",
       "      <td>gmcautosale@gmail.com</td>\n",
       "      <td>2500.0</td>\n",
       "      <td>2025-09-23</td>\n",
       "      <td>2016</td>\n",
       "      <td>NISS</td>\n",
       "      <td>MAXIMA</td>\n",
       "      <td>9756.0</td>\n",
       "      <td>5215.90</td>\n",
       "      <td>5</td>\n",
       "      <td>244</td>\n",
       "    </tr>\n",
       "    <tr>\n",
       "      <th>1</th>\n",
       "      <td>General Business</td>\n",
       "      <td>CA</td>\n",
       "      <td>69213575</td>\n",
       "      <td>211748</td>\n",
       "      <td>ghafar_mushtaq@yahoo.com</td>\n",
       "      <td>3950.0</td>\n",
       "      <td>2025-08-28</td>\n",
       "      <td>2018</td>\n",
       "      <td>VOLK</td>\n",
       "      <td>GTI</td>\n",
       "      <td>22351.0</td>\n",
       "      <td>13044.91</td>\n",
       "      <td>3</td>\n",
       "      <td>506</td>\n",
       "    </tr>\n",
       "    <tr>\n",
       "      <th>2</th>\n",
       "      <td>Dealer</td>\n",
       "      <td>AR</td>\n",
       "      <td>56624205</td>\n",
       "      <td>268100</td>\n",
       "      <td>SKDAUTOMOTIVELLC@GMAIL.COM</td>\n",
       "      <td>2650.0</td>\n",
       "      <td>2025-07-14</td>\n",
       "      <td>2018</td>\n",
       "      <td>ACUR</td>\n",
       "      <td>MDX</td>\n",
       "      <td>21525.0</td>\n",
       "      <td>18404.81</td>\n",
       "      <td>11</td>\n",
       "      <td>367</td>\n",
       "    </tr>\n",
       "    <tr>\n",
       "      <th>3</th>\n",
       "      <td>Consumer</td>\n",
       "      <td>TN</td>\n",
       "      <td>81646595</td>\n",
       "      <td>307354</td>\n",
       "      <td>307354cprt_dmmy_MASTERBDR_774468_214128@copart...</td>\n",
       "      <td>1600.0</td>\n",
       "      <td>2025-10-01</td>\n",
       "      <td>2016</td>\n",
       "      <td>HOND</td>\n",
       "      <td>FIT</td>\n",
       "      <td>13499.0</td>\n",
       "      <td>14670.57</td>\n",
       "      <td>3</td>\n",
       "      <td>45200</td>\n",
       "    </tr>\n",
       "    <tr>\n",
       "      <th>4</th>\n",
       "      <td>Consumer</td>\n",
       "      <td>MN</td>\n",
       "      <td>58811955</td>\n",
       "      <td>735050</td>\n",
       "      <td>735050cprt_dmmy_MASTERBDR_271083_492777@copart...</td>\n",
       "      <td>1550.0</td>\n",
       "      <td>2025-09-02</td>\n",
       "      <td>2020</td>\n",
       "      <td>FORD</td>\n",
       "      <td>ALL OTHER</td>\n",
       "      <td>14624.0</td>\n",
       "      <td>17972.56</td>\n",
       "      <td>3</td>\n",
       "      <td>383</td>\n",
       "    </tr>\n",
       "  </tbody>\n",
       "</table>\n",
       "</div>"
      ]
     },
     "execution_count": 253,
     "metadata": {},
     "output_type": "execute_result"
    }
   ],
   "execution_count": 253
  },
  {
   "metadata": {
    "ExecuteTime": {
     "end_time": "2025-10-13T15:52:08.032318Z",
     "start_time": "2025-10-13T15:52:08.025644Z"
    }
   },
   "cell_type": "code",
   "source": "data_high_holdout['buyer_nbr'].nunique()",
   "id": "3a338c97d6298e60",
   "outputs": [
    {
     "data": {
      "text/plain": [
       "16733"
      ]
     },
     "execution_count": 254,
     "metadata": {},
     "output_type": "execute_result"
    }
   ],
   "execution_count": 254
  },
  {
   "metadata": {
    "ExecuteTime": {
     "end_time": "2025-10-13T15:52:12.259827Z",
     "start_time": "2025-10-13T15:52:12.099673Z"
    }
   },
   "cell_type": "code",
   "source": "data_high_holdout.isnull().sum()",
   "id": "5cd01cc0e2854c0f",
   "outputs": [
    {
     "data": {
      "text/plain": [
       "mbr_lic_type                       0\n",
       "mbr_state                          0\n",
       "lot_nbr                            0\n",
       "buyer_nbr                          0\n",
       "mbr_email                          0\n",
       "max_bid                            0\n",
       "inv_dt                             0\n",
       "lot_year                           0\n",
       "lot_make_cd                        0\n",
       "grp_model                          0\n",
       "acv                                0\n",
       "repair_cost                        0\n",
       "total_unique_buyers_on_that_lot    0\n",
       "total_unique_lots_bid_by_buyers    0\n",
       "dtype: int64"
      ]
     },
     "execution_count": 255,
     "metadata": {},
     "output_type": "execute_result"
    }
   ],
   "execution_count": 255
  },
  {
   "metadata": {
    "ExecuteTime": {
     "end_time": "2025-10-13T15:52:13.591657Z",
     "start_time": "2025-10-13T15:52:13.560439Z"
    }
   },
   "cell_type": "code",
   "source": [
    "### To include only popular lots\n",
    "#data_high_holdout = data_high_holdout[(data_high_holdout['total_unique_buyers_on_that_lot']>=10)]\n",
    "print(data_high_holdout['buyer_nbr'].nunique())\n",
    "print(data_high_holdout['lot_nbr'].nunique())"
   ],
   "id": "91c572508daa8325",
   "outputs": [
    {
     "name": "stdout",
     "output_type": "stream",
     "text": [
      "16733\n",
      "677540\n"
     ]
    }
   ],
   "execution_count": 256
  },
  {
   "metadata": {
    "ExecuteTime": {
     "end_time": "2025-10-13T15:52:17.103804Z",
     "start_time": "2025-10-13T15:52:16.814988Z"
    }
   },
   "cell_type": "code",
   "source": [
    "### CSR matrix\n",
    "\n",
    "from scipy.sparse import csr_matrix\n",
    "from sklearn.preprocessing import LabelEncoder\n",
    "\n",
    "buyer_encoder = LabelEncoder()\n",
    "lot_encoder = LabelEncoder()\n",
    "\n",
    "buyer_ids = buyer_encoder.fit_transform(data_high_holdout['buyer_nbr'])\n",
    "lot_ids = lot_encoder.fit_transform(data_high_holdout['lot_nbr'])\n",
    "\n",
    "# Max bid values for matrix\n",
    "max_bid_values = data_high_holdout['max_bid'].fillna(0).astype(float)\n",
    "\n",
    "# Create CSR matrix (buyers as rows, lots as columns)\n",
    "n_buyers = len(buyer_encoder.classes_)\n",
    "n_lots = len(lot_encoder.classes_)\n",
    "\n",
    "buyer_lot_max_bid_sparse = csr_matrix(\n",
    "    (max_bid_values, (buyer_ids, lot_ids)),\n",
    "    shape=(n_buyers, n_lots)\n",
    ")\n",
    "\n",
    "print(buyer_lot_max_bid_sparse.shape)"
   ],
   "id": "ae14e3ae16d7ee61",
   "outputs": [
    {
     "name": "stdout",
     "output_type": "stream",
     "text": [
      "(16733, 677540)\n"
     ]
    }
   ],
   "execution_count": 257
  },
  {
   "metadata": {
    "ExecuteTime": {
     "end_time": "2025-10-13T15:52:39.035333Z",
     "start_time": "2025-10-13T15:52:21.902979Z"
    }
   },
   "cell_type": "code",
   "source": [
    "als_model = AlternatingLeastSquares(\n",
    "    factors=32,         # Embedding dimension\n",
    "    regularization=0.5, # Controls overfitting\n",
    "    iterations=30,      # Number of ALS training iterations\n",
    "    use_gpu=False       # Set to True if you want to use GPU\n",
    ")\n",
    "\n",
    "# ALS expects (items x users), so transpose\n",
    "# Implicit also assumes higher values = higher confidence\n",
    "als_model.fit(buyer_lot_max_bid_sparse)"
   ],
   "id": "e88532ec39be4ff3",
   "outputs": [
    {
     "name": "stderr",
     "output_type": "stream",
     "text": [
      "100%|██████████| 30/30 [00:17<00:00,  1.76it/s]\n"
     ]
    }
   ],
   "execution_count": 258
  },
  {
   "metadata": {
    "ExecuteTime": {
     "end_time": "2025-10-13T15:52:59.963384Z",
     "start_time": "2025-10-13T15:52:59.954017Z"
    }
   },
   "cell_type": "code",
   "source": [
    "import faiss\n",
    "import numpy as np\n",
    "\n",
    "# Step 1: Normalize buyer embeddings\n",
    "buyer_embeddings = als_model.user_factors.astype('float32')  # shape (n_buyers, dim)\n",
    "lot_embeddings = als_model.item_factors.astype('float32')  # shape: (n_lots, dim)\n",
    "\n",
    "# Step 2: Normalize both embeddings for cosine similarity\n",
    "faiss.normalize_L2(buyer_embeddings)  # in-place normalization\n",
    "faiss.normalize_L2(lot_embeddings)    # normalize lots too!\n",
    "\n",
    "# Step 2: Create FAISS index (cosine similarity is L2 on normalized vectors)\n",
    "faiss_index = faiss.IndexFlatIP(buyer_embeddings.shape[1])  # IP = inner product\n",
    "faiss_index.add(buyer_embeddings)  # Add all buyer vectors to index"
   ],
   "id": "7f790c2760d8400b",
   "outputs": [],
   "execution_count": 259
  },
  {
   "metadata": {
    "ExecuteTime": {
     "end_time": "2025-10-13T15:53:09.725179Z",
     "start_time": "2025-10-13T15:53:09.721842Z"
    }
   },
   "cell_type": "code",
   "source": [
    "def get_similar_buyers_faiss(input_buyer_id, top_k=5):\n",
    "    if input_buyer_id not in buyer_encoder.classes_:\n",
    "        raise ValueError(\"Buyer not in training data\")\n",
    "\n",
    "    internal_buyer_id = buyer_encoder.transform([input_buyer_id])[0]\n",
    "\n",
    "    # Step 1: Get embedding of input buyer\n",
    "    query_vec = als_model.user_factors[internal_buyer_id].astype('float32').reshape(1, -1)\n",
    "    faiss.normalize_L2(query_vec)  # normalize for cosine\n",
    "\n",
    "    # Step 2: Search FAISS index\n",
    "    distances, indices = faiss_index.search(query_vec, top_k + 1)  # +1 to exclude self\n",
    "    similar_ids = indices[0]\n",
    "\n",
    "    # Step 3: Remove the buyer themselves if present\n",
    "    similar_ids = [i for i in similar_ids if i != internal_buyer_id][:top_k]\n",
    "\n",
    "    # Decode to original buyer_nbrs\n",
    "    similar_buyers = buyer_encoder.inverse_transform(similar_ids)\n",
    "\n",
    "    return similar_buyers\n"
   ],
   "id": "98649379f4fc9721",
   "outputs": [],
   "execution_count": 260
  },
  {
   "metadata": {
    "ExecuteTime": {
     "end_time": "2025-10-13T15:53:29.127950Z",
     "start_time": "2025-10-13T15:53:29.123630Z"
    }
   },
   "cell_type": "code",
   "source": [
    "import numpy as np\n",
    "import pandas as pd\n",
    "\n",
    "def recommend_lots_cosine_from_similar_buyers(input_buyer_id, top_k_buyers=5, top_k_lots=6):\n",
    "    # Step 1: Get similar buyers\n",
    "    similar_buyers = get_similar_buyers_faiss(input_buyer_id, top_k=top_k_buyers)\n",
    "\n",
    "    # Step 2: Get lots interacted by similar buyers\n",
    "    sim_buyer_lots = data_high_holdout[data_high_holdout['buyer_nbr'].isin(similar_buyers)]\n",
    "    candidate_lot_ids = sim_buyer_lots['lot_nbr'].unique()\n",
    "\n",
    "    # Step 3: Remove lots already interacted by the input buyer\n",
    "    input_buyer_lot_ids = data_high_holdout[data_high_holdout['buyer_nbr'] == input_buyer_id]['lot_nbr'].unique()\n",
    "    candidate_lot_ids = list(set(candidate_lot_ids) - set(input_buyer_lot_ids))\n",
    "\n",
    "    if not candidate_lot_ids:\n",
    "        return pd.DataFrame()  # No candidates to recommend\n",
    "\n",
    "   # Step 4: Get buyer and lot embeddings (already normalized)\n",
    "    input_buyer_idx = buyer_encoder.transform([input_buyer_id])[0]\n",
    "    buyer_vec = buyer_embeddings[input_buyer_idx].reshape(1, -1)\n",
    "    lot_indices = lot_encoder.transform(candidate_lot_ids)\n",
    "    lot_vecs = lot_embeddings[lot_indices]\n",
    "\n",
    "    # Step 5: Cosine similarity = dot product of normalized vectors\n",
    "    cosine_scores = np.dot(lot_vecs, buyer_vec.T).flatten()\n",
    "\n",
    "    # Step 6: Select top N lots with highest cosine score\n",
    "    top_indices = np.argsort(-cosine_scores)[:top_k_lots]\n",
    "    top_lot_ids = [candidate_lot_ids[i] for i in top_indices]\n",
    "    top_scores = cosine_scores[top_indices]\n",
    "\n",
    "    # Step 7: Build output\n",
    "    top_rows = []\n",
    "    for lot_id, score in zip(top_lot_ids, top_scores):\n",
    "        row = data_high_holdout[data_high_holdout['lot_nbr'] == lot_id].iloc[0]\n",
    "        top_rows.append({\n",
    "            'input_buyer_nbr': input_buyer_id,\n",
    "            'recommended_lot': lot_id,\n",
    "            'lot_year': row['lot_year'],\n",
    "            'lot_make_cd': row['lot_make_cd'],\n",
    "            'grp_model': row['grp_model'],\n",
    "            'acv': row['acv'],\n",
    "            'repair_cost': row['repair_cost'],\n",
    "            'cosine_similarity': score\n",
    "        })\n",
    "\n",
    "    return pd.DataFrame(top_rows)"
   ],
   "id": "97d09fb5215db2ff",
   "outputs": [],
   "execution_count": 261
  },
  {
   "metadata": {
    "ExecuteTime": {
     "end_time": "2025-10-13T16:00:57.718376Z",
     "start_time": "2025-10-13T15:53:31.199455Z"
    }
   },
   "cell_type": "code",
   "source": [
    "from tqdm import tqdm\n",
    "\n",
    "all_buyers = data_high_holdout['buyer_nbr'].unique()\n",
    "all_recos = []\n",
    "\n",
    "for buyer in tqdm(all_buyers):\n",
    "    try:\n",
    "        df = recommend_lots_cosine_from_similar_buyers(buyer)\n",
    "        all_recos.append(df)\n",
    "    except Exception as e:\n",
    "        print(f\"⚠️ Error for buyer {buyer}: {e}\")\n",
    "\n",
    "recommendations_df = pd.concat(all_recos, ignore_index=True)"
   ],
   "id": "c60269aa6faa9013",
   "outputs": [
    {
     "name": "stderr",
     "output_type": "stream",
     "text": [
      "100%|██████████| 16733/16733 [07:26<00:00, 37.50it/s]\n"
     ]
    }
   ],
   "execution_count": 262
  },
  {
   "metadata": {
    "ExecuteTime": {
     "end_time": "2025-10-13T16:01:02.933019Z",
     "start_time": "2025-10-13T16:01:02.924733Z"
    }
   },
   "cell_type": "code",
   "source": "recommendations_df.isnull().sum()",
   "id": "c70025cb2c9fb279",
   "outputs": [
    {
     "data": {
      "text/plain": [
       "input_buyer_nbr      0\n",
       "recommended_lot      0\n",
       "lot_year             0\n",
       "lot_make_cd          0\n",
       "grp_model            0\n",
       "acv                  0\n",
       "repair_cost          0\n",
       "cosine_similarity    0\n",
       "dtype: int64"
      ]
     },
     "execution_count": 263,
     "metadata": {},
     "output_type": "execute_result"
    }
   ],
   "execution_count": 263
  },
  {
   "metadata": {
    "ExecuteTime": {
     "end_time": "2025-10-13T16:01:03.506837Z",
     "start_time": "2025-10-13T16:01:03.504366Z"
    }
   },
   "cell_type": "code",
   "source": "recommendations_df['input_buyer_nbr'].nunique()",
   "id": "86e60987c528b61a",
   "outputs": [
    {
     "data": {
      "text/plain": [
       "16733"
      ]
     },
     "execution_count": 264,
     "metadata": {},
     "output_type": "execute_result"
    }
   ],
   "execution_count": 264
  },
  {
   "metadata": {
    "ExecuteTime": {
     "end_time": "2025-10-13T16:01:09.610760Z",
     "start_time": "2025-10-13T16:01:09.607459Z"
    }
   },
   "cell_type": "code",
   "source": "recommendations_df_copy = recommendations_df.copy()",
   "id": "58981552d6a526e5",
   "outputs": [],
   "execution_count": 265
  },
  {
   "metadata": {
    "ExecuteTime": {
     "end_time": "2025-10-13T16:03:09.838529Z",
     "start_time": "2025-10-13T16:03:09.766131Z"
    }
   },
   "cell_type": "code",
   "source": "recommendations_df_copy['input_buyer_nbr'].nunique()",
   "id": "827f5dd64e9fd470",
   "outputs": [
    {
     "data": {
      "text/plain": [
       "16733"
      ]
     },
     "execution_count": 268,
     "metadata": {},
     "output_type": "execute_result"
    }
   ],
   "execution_count": 268
  },
  {
   "metadata": {
    "ExecuteTime": {
     "end_time": "2025-10-13T16:09:21.947987Z",
     "start_time": "2025-10-13T16:04:14.983233Z"
    }
   },
   "cell_type": "code",
   "source": "recommended_upcoming_df_gt6_holdout = refine_recommendations_parallel(recommendations_df_copy, data2, max_workers=6)\n",
   "id": "be893f0f0269a6c",
   "outputs": [
    {
     "name": "stderr",
     "output_type": "stream",
     "text": [
      "Refining recos: 100%|██████████| 100398/100398 [05:03<00:00, 330.56it/s]\n"
     ]
    }
   ],
   "execution_count": 269
  },
  {
   "metadata": {
    "ExecuteTime": {
     "end_time": "2025-10-13T16:09:44.044691Z",
     "start_time": "2025-10-13T16:09:44.041335Z"
    }
   },
   "cell_type": "code",
   "source": "recommended_upcoming_df_gt6_holdout['input_buyer_nbr'].nunique()",
   "id": "9a0edb98bf3cb788",
   "outputs": [
    {
     "data": {
      "text/plain": [
       "16733"
      ]
     },
     "execution_count": 270,
     "metadata": {},
     "output_type": "execute_result"
    }
   ],
   "execution_count": 270
  },
  {
   "metadata": {
    "ExecuteTime": {
     "end_time": "2025-10-13T16:09:52.364421Z",
     "start_time": "2025-10-13T16:09:49.986165Z"
    }
   },
   "cell_type": "code",
   "source": "recommended_upcoming_df_gt6_holdout.to_excel('data/would_have/data_high_holdout_reco.xlsx', index=False)",
   "id": "18b570c4b198188d",
   "outputs": [],
   "execution_count": 271
  },
  {
   "metadata": {
    "ExecuteTime": {
     "end_time": "2025-10-13T21:05:39.473805Z",
     "start_time": "2025-10-13T21:05:38.167696Z"
    }
   },
   "cell_type": "code",
   "source": [
    "import pandas as pd\n",
    "abc = pd.read_excel('data/would_have/data_high_holdout_reco.xlsx')"
   ],
   "id": "aa1840bcbd29a002",
   "outputs": [],
   "execution_count": 4
  },
  {
   "metadata": {
    "ExecuteTime": {
     "end_time": "2025-10-13T21:05:49.486875Z",
     "start_time": "2025-10-13T21:05:49.483093Z"
    }
   },
   "cell_type": "code",
   "source": "abc[abc['input_buyer_nbr']==874]",
   "id": "13ffd8291fad0b51",
   "outputs": [
    {
     "data": {
      "text/plain": [
       "       input_buyer_nbr  original_lot  recommended_lot  manhattan_distance\n",
       "51611              874      48946665         55721435                 0.0\n",
       "51612              874      68091495         67211035               489.0\n",
       "51613              874      70177315         71881705              1758.0\n",
       "51614              874      71475165         81166115               102.0\n",
       "51616              874      70313225         84945365                65.0\n",
       "51620              874      71310865         81430785                 0.0"
      ],
      "text/html": [
       "<div>\n",
       "<style scoped>\n",
       "    .dataframe tbody tr th:only-of-type {\n",
       "        vertical-align: middle;\n",
       "    }\n",
       "\n",
       "    .dataframe tbody tr th {\n",
       "        vertical-align: top;\n",
       "    }\n",
       "\n",
       "    .dataframe thead th {\n",
       "        text-align: right;\n",
       "    }\n",
       "</style>\n",
       "<table border=\"1\" class=\"dataframe\">\n",
       "  <thead>\n",
       "    <tr style=\"text-align: right;\">\n",
       "      <th></th>\n",
       "      <th>input_buyer_nbr</th>\n",
       "      <th>original_lot</th>\n",
       "      <th>recommended_lot</th>\n",
       "      <th>manhattan_distance</th>\n",
       "    </tr>\n",
       "  </thead>\n",
       "  <tbody>\n",
       "    <tr>\n",
       "      <th>51611</th>\n",
       "      <td>874</td>\n",
       "      <td>48946665</td>\n",
       "      <td>55721435</td>\n",
       "      <td>0.0</td>\n",
       "    </tr>\n",
       "    <tr>\n",
       "      <th>51612</th>\n",
       "      <td>874</td>\n",
       "      <td>68091495</td>\n",
       "      <td>67211035</td>\n",
       "      <td>489.0</td>\n",
       "    </tr>\n",
       "    <tr>\n",
       "      <th>51613</th>\n",
       "      <td>874</td>\n",
       "      <td>70177315</td>\n",
       "      <td>71881705</td>\n",
       "      <td>1758.0</td>\n",
       "    </tr>\n",
       "    <tr>\n",
       "      <th>51614</th>\n",
       "      <td>874</td>\n",
       "      <td>71475165</td>\n",
       "      <td>81166115</td>\n",
       "      <td>102.0</td>\n",
       "    </tr>\n",
       "    <tr>\n",
       "      <th>51616</th>\n",
       "      <td>874</td>\n",
       "      <td>70313225</td>\n",
       "      <td>84945365</td>\n",
       "      <td>65.0</td>\n",
       "    </tr>\n",
       "    <tr>\n",
       "      <th>51620</th>\n",
       "      <td>874</td>\n",
       "      <td>71310865</td>\n",
       "      <td>81430785</td>\n",
       "      <td>0.0</td>\n",
       "    </tr>\n",
       "  </tbody>\n",
       "</table>\n",
       "</div>"
      ]
     },
     "execution_count": 6,
     "metadata": {},
     "output_type": "execute_result"
    }
   ],
   "execution_count": 6
  },
  {
   "metadata": {},
   "cell_type": "code",
   "outputs": [],
   "execution_count": null,
   "source": "",
   "id": "b31b0afea7364d3c"
  }
 ],
 "metadata": {
  "kernelspec": {
   "display_name": "Python 3",
   "language": "python",
   "name": "python3"
  },
  "language_info": {
   "codemirror_mode": {
    "name": "ipython",
    "version": 2
   },
   "file_extension": ".py",
   "mimetype": "text/x-python",
   "name": "python",
   "nbconvert_exporter": "python",
   "pygments_lexer": "ipython2",
   "version": "2.7.6"
  }
 },
 "nbformat": 4,
 "nbformat_minor": 5
}

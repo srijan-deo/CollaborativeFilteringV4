{
 "cells": [
  {
   "metadata": {
    "ExecuteTime": {
     "end_time": "2025-10-30T16:40:50.449795Z",
     "start_time": "2025-10-30T16:40:50.408134Z"
    }
   },
   "cell_type": "code",
   "source": [
    "import numpy as np\n",
    "from tqdm import tqdm\n",
    "from concurrent.futures import ThreadPoolExecutor, as_completed"
   ],
   "id": "a1dc9b8dcdd27f46",
   "outputs": [],
   "execution_count": 1
  },
  {
   "cell_type": "code",
   "id": "initial_id",
   "metadata": {
    "collapsed": true,
    "ExecuteTime": {
     "end_time": "2025-10-30T16:40:50.916278Z",
     "start_time": "2025-10-30T16:40:50.689614Z"
    }
   },
   "source": [
    "import pandas as pd\n",
    "popular_lots = pd.read_csv('../data/processed/popular_lots.csv')"
   ],
   "outputs": [],
   "execution_count": 2
  },
  {
   "metadata": {
    "ExecuteTime": {
     "end_time": "2025-10-30T16:40:53.716829Z",
     "start_time": "2025-10-30T16:40:53.702458Z"
    }
   },
   "cell_type": "code",
   "source": [
    "import numpy as np\n",
    "import pandas as pd\n",
    "from concurrent.futures import ProcessPoolExecutor, as_completed\n",
    "from collections import defaultdict\n",
    "from tqdm import tqdm\n",
    "\n",
    "def build_future_dict(df):\n",
    "    gb = df.groupby(['lot_make_cd', 'grp_model'])\n",
    "    return {k: v.reset_index(drop=True) for k, v in gb}\n",
    "\n",
    "def find_best_match(row_dict, future_dict, fallback_arr, fallback_idx):\n",
    "    make, model = row_dict['lot_make_cd'], row_dict['grp_model']\n",
    "    acv, repair = row_dict['median_acv'], row_dict['median_repair_cost']\n",
    "\n",
    "    match_df = future_dict.get((make, model), None)\n",
    "\n",
    "    if match_df is not None and len(match_df) > 0:\n",
    "        acv_arr = match_df['acv'].values\n",
    "        repair_arr = match_df['repair_cost'].values\n",
    "        dist = np.abs(acv_arr - acv) + np.abs(repair_arr - repair)\n",
    "        i = dist.argmin()\n",
    "        selected = match_df.iloc[i]\n",
    "        distance_value = dist[i]\n",
    "        fallback_reason = \"YMM match\"\n",
    "    else:\n",
    "        dist = np.abs(fallback_arr[:,0] - acv) + np.abs(fallback_arr[:,1] - repair)\n",
    "        i = dist.argmin()\n",
    "        selected = fallback_idx.iloc[i]\n",
    "        distance_value = dist[i]\n",
    "        fallback_reason = \"ACV+Repair fallback\"\n",
    "\n",
    "    return {\n",
    "        'mbr_nbr': row_dict['mbr_nbr'],\n",
    "        'recommended_lot_nbr': selected['lot_nbr'],\n",
    "        'distance': distance_value,\n",
    "        'fallback_reason': fallback_reason\n",
    "    }\n",
    "\n",
    "def match_recommendations_to_future_lots_fast(final_recommendations, future_lots, workers=10):\n",
    "    future_filtered = future_lots[['lot_nbr','lot_make_cd','grp_model','acv','repair_cost']].copy()\n",
    "    future_filtered['acv'] = future_filtered['acv'].astype(np.float32)\n",
    "    future_filtered['repair_cost'] = future_filtered['repair_cost'].astype(np.float32)\n",
    "\n",
    "    future_dict = build_future_dict(future_filtered)\n",
    "\n",
    "    fallback_arr = future_filtered[['acv','repair_cost']].values\n",
    "    fallback_idx = future_filtered\n",
    "\n",
    "    results = []\n",
    "\n",
    "    with ProcessPoolExecutor(max_workers=workers) as executor:\n",
    "        futures = [\n",
    "            executor.submit(find_best_match, row, future_dict, fallback_arr, fallback_idx)\n",
    "            for row in final_recommendations.to_dict('records')\n",
    "        ]\n",
    "        for f in tqdm(as_completed(futures), total=len(futures)):\n",
    "            results.append(f.result())\n",
    "\n",
    "    return pd.DataFrame(results)\n"
   ],
   "id": "8a2b0cbbeca3029c",
   "outputs": [],
   "execution_count": 3
  },
  {
   "metadata": {
    "ExecuteTime": {
     "end_time": "2025-10-30T16:40:54.264892Z",
     "start_time": "2025-10-30T16:40:54.257546Z"
    }
   },
   "cell_type": "code",
   "source": "popular_lots",
   "id": "ac4782788b9275fa",
   "outputs": [
    {
     "data": {
      "text/plain": [
       "           buyer_type mbr_state lot_make_cd  grp_model  cnt  median_acv  \\\n",
       "0            Consumer        AK         JEP    COMPASS    1    16089.00   \n",
       "1            Consumer        AK        CHEV    EQUINOX    1    14942.00   \n",
       "2            Consumer        AK        HOND  RIDGELINE    1    33517.00   \n",
       "3            Consumer        AK        NISS      ROGUE    1    14197.89   \n",
       "4            Consumer        AK         JEP   RENEGADE    1    13625.00   \n",
       "..                ...       ...         ...        ...  ...         ...   \n",
       "918  General Business        TX        NISS      VERSA    1    14552.00   \n",
       "919  General Business        VA        TOYT    COROLLA    3    16431.00   \n",
       "920  General Business        WA        CHRY   PACIFICA    1    17982.00   \n",
       "921  General Business        WA        HOND        FIT    1    14224.00   \n",
       "922  General Business        WY        TOYT    COROLLA    1    16219.00   \n",
       "\n",
       "     median_plug_lot_acv  median_repair_cost  model_rank  rank  rank_clean  \n",
       "0                12825.0            17984.54           1     1           1  \n",
       "1                16325.0            14463.44           1     2           2  \n",
       "2                35600.0            31893.54           1     3           3  \n",
       "3                14325.0            14197.89           1     4           4  \n",
       "4                13625.0                0.00           1     5           5  \n",
       "..                   ...                 ...         ...   ...         ...  \n",
       "918              14550.0             7337.38           1     6           6  \n",
       "919              16950.0            16376.31           1     1           1  \n",
       "920              25050.0            15576.33           1     1           1  \n",
       "921              14300.0            18035.98           1     2           2  \n",
       "922              12050.0             9389.33           1     1           1  \n",
       "\n",
       "[923 rows x 11 columns]"
      ],
      "text/html": [
       "<div>\n",
       "<style scoped>\n",
       "    .dataframe tbody tr th:only-of-type {\n",
       "        vertical-align: middle;\n",
       "    }\n",
       "\n",
       "    .dataframe tbody tr th {\n",
       "        vertical-align: top;\n",
       "    }\n",
       "\n",
       "    .dataframe thead th {\n",
       "        text-align: right;\n",
       "    }\n",
       "</style>\n",
       "<table border=\"1\" class=\"dataframe\">\n",
       "  <thead>\n",
       "    <tr style=\"text-align: right;\">\n",
       "      <th></th>\n",
       "      <th>buyer_type</th>\n",
       "      <th>mbr_state</th>\n",
       "      <th>lot_make_cd</th>\n",
       "      <th>grp_model</th>\n",
       "      <th>cnt</th>\n",
       "      <th>median_acv</th>\n",
       "      <th>median_plug_lot_acv</th>\n",
       "      <th>median_repair_cost</th>\n",
       "      <th>model_rank</th>\n",
       "      <th>rank</th>\n",
       "      <th>rank_clean</th>\n",
       "    </tr>\n",
       "  </thead>\n",
       "  <tbody>\n",
       "    <tr>\n",
       "      <th>0</th>\n",
       "      <td>Consumer</td>\n",
       "      <td>AK</td>\n",
       "      <td>JEP</td>\n",
       "      <td>COMPASS</td>\n",
       "      <td>1</td>\n",
       "      <td>16089.00</td>\n",
       "      <td>12825.0</td>\n",
       "      <td>17984.54</td>\n",
       "      <td>1</td>\n",
       "      <td>1</td>\n",
       "      <td>1</td>\n",
       "    </tr>\n",
       "    <tr>\n",
       "      <th>1</th>\n",
       "      <td>Consumer</td>\n",
       "      <td>AK</td>\n",
       "      <td>CHEV</td>\n",
       "      <td>EQUINOX</td>\n",
       "      <td>1</td>\n",
       "      <td>14942.00</td>\n",
       "      <td>16325.0</td>\n",
       "      <td>14463.44</td>\n",
       "      <td>1</td>\n",
       "      <td>2</td>\n",
       "      <td>2</td>\n",
       "    </tr>\n",
       "    <tr>\n",
       "      <th>2</th>\n",
       "      <td>Consumer</td>\n",
       "      <td>AK</td>\n",
       "      <td>HOND</td>\n",
       "      <td>RIDGELINE</td>\n",
       "      <td>1</td>\n",
       "      <td>33517.00</td>\n",
       "      <td>35600.0</td>\n",
       "      <td>31893.54</td>\n",
       "      <td>1</td>\n",
       "      <td>3</td>\n",
       "      <td>3</td>\n",
       "    </tr>\n",
       "    <tr>\n",
       "      <th>3</th>\n",
       "      <td>Consumer</td>\n",
       "      <td>AK</td>\n",
       "      <td>NISS</td>\n",
       "      <td>ROGUE</td>\n",
       "      <td>1</td>\n",
       "      <td>14197.89</td>\n",
       "      <td>14325.0</td>\n",
       "      <td>14197.89</td>\n",
       "      <td>1</td>\n",
       "      <td>4</td>\n",
       "      <td>4</td>\n",
       "    </tr>\n",
       "    <tr>\n",
       "      <th>4</th>\n",
       "      <td>Consumer</td>\n",
       "      <td>AK</td>\n",
       "      <td>JEP</td>\n",
       "      <td>RENEGADE</td>\n",
       "      <td>1</td>\n",
       "      <td>13625.00</td>\n",
       "      <td>13625.0</td>\n",
       "      <td>0.00</td>\n",
       "      <td>1</td>\n",
       "      <td>5</td>\n",
       "      <td>5</td>\n",
       "    </tr>\n",
       "    <tr>\n",
       "      <th>...</th>\n",
       "      <td>...</td>\n",
       "      <td>...</td>\n",
       "      <td>...</td>\n",
       "      <td>...</td>\n",
       "      <td>...</td>\n",
       "      <td>...</td>\n",
       "      <td>...</td>\n",
       "      <td>...</td>\n",
       "      <td>...</td>\n",
       "      <td>...</td>\n",
       "      <td>...</td>\n",
       "    </tr>\n",
       "    <tr>\n",
       "      <th>918</th>\n",
       "      <td>General Business</td>\n",
       "      <td>TX</td>\n",
       "      <td>NISS</td>\n",
       "      <td>VERSA</td>\n",
       "      <td>1</td>\n",
       "      <td>14552.00</td>\n",
       "      <td>14550.0</td>\n",
       "      <td>7337.38</td>\n",
       "      <td>1</td>\n",
       "      <td>6</td>\n",
       "      <td>6</td>\n",
       "    </tr>\n",
       "    <tr>\n",
       "      <th>919</th>\n",
       "      <td>General Business</td>\n",
       "      <td>VA</td>\n",
       "      <td>TOYT</td>\n",
       "      <td>COROLLA</td>\n",
       "      <td>3</td>\n",
       "      <td>16431.00</td>\n",
       "      <td>16950.0</td>\n",
       "      <td>16376.31</td>\n",
       "      <td>1</td>\n",
       "      <td>1</td>\n",
       "      <td>1</td>\n",
       "    </tr>\n",
       "    <tr>\n",
       "      <th>920</th>\n",
       "      <td>General Business</td>\n",
       "      <td>WA</td>\n",
       "      <td>CHRY</td>\n",
       "      <td>PACIFICA</td>\n",
       "      <td>1</td>\n",
       "      <td>17982.00</td>\n",
       "      <td>25050.0</td>\n",
       "      <td>15576.33</td>\n",
       "      <td>1</td>\n",
       "      <td>1</td>\n",
       "      <td>1</td>\n",
       "    </tr>\n",
       "    <tr>\n",
       "      <th>921</th>\n",
       "      <td>General Business</td>\n",
       "      <td>WA</td>\n",
       "      <td>HOND</td>\n",
       "      <td>FIT</td>\n",
       "      <td>1</td>\n",
       "      <td>14224.00</td>\n",
       "      <td>14300.0</td>\n",
       "      <td>18035.98</td>\n",
       "      <td>1</td>\n",
       "      <td>2</td>\n",
       "      <td>2</td>\n",
       "    </tr>\n",
       "    <tr>\n",
       "      <th>922</th>\n",
       "      <td>General Business</td>\n",
       "      <td>WY</td>\n",
       "      <td>TOYT</td>\n",
       "      <td>COROLLA</td>\n",
       "      <td>1</td>\n",
       "      <td>16219.00</td>\n",
       "      <td>12050.0</td>\n",
       "      <td>9389.33</td>\n",
       "      <td>1</td>\n",
       "      <td>1</td>\n",
       "      <td>1</td>\n",
       "    </tr>\n",
       "  </tbody>\n",
       "</table>\n",
       "<p>923 rows × 11 columns</p>\n",
       "</div>"
      ]
     },
     "execution_count": 4,
     "metadata": {},
     "output_type": "execute_result"
    }
   ],
   "execution_count": 4
  },
  {
   "metadata": {
    "ExecuteTime": {
     "end_time": "2025-10-30T16:40:55.521762Z",
     "start_time": "2025-10-30T16:40:55.518630Z"
    }
   },
   "cell_type": "code",
   "source": "popular_lots['buyer_type'].value_counts()",
   "id": "53361b59fcf2312f",
   "outputs": [
    {
     "data": {
      "text/plain": [
       "buyer_type\n",
       "Dealer              274\n",
       "Consumer            247\n",
       "Dismantler          240\n",
       "Export               90\n",
       "General Business     72\n",
       "Name: count, dtype: int64"
      ]
     },
     "execution_count": 5,
     "metadata": {},
     "output_type": "execute_result"
    }
   ],
   "execution_count": 5
  },
  {
   "metadata": {
    "ExecuteTime": {
     "end_time": "2025-10-30T16:41:02.676283Z",
     "start_time": "2025-10-30T16:41:02.636843Z"
    }
   },
   "cell_type": "code",
   "source": "nonactive_buyers_test = pd.read_csv('../data/split/nonactive_test.csv')",
   "id": "7da774c4731fac03",
   "outputs": [],
   "execution_count": 8
  },
  {
   "metadata": {
    "ExecuteTime": {
     "end_time": "2025-10-30T16:41:03.763230Z",
     "start_time": "2025-10-30T16:41:03.758165Z"
    }
   },
   "cell_type": "code",
   "source": "nonactive_buyers_test['mbr_nbr'].nunique()",
   "id": "a4e2bae581b790e",
   "outputs": [
    {
     "data": {
      "text/plain": [
       "98100"
      ]
     },
     "execution_count": 9,
     "metadata": {},
     "output_type": "execute_result"
    }
   ],
   "execution_count": 9
  },
  {
   "metadata": {
    "ExecuteTime": {
     "end_time": "2025-10-30T16:41:13.844597Z",
     "start_time": "2025-10-30T16:41:13.839647Z"
    }
   },
   "cell_type": "code",
   "source": [
    "def generate_final_recommendations(data, popular_lots_top6):\n",
    "\n",
    "    if 'mbr_lic_type' in data.columns:\n",
    "        data = data.rename(columns={'mbr_lic_type': 'buyer_type'})\n",
    "\n",
    "    if 'buyer_nbr' in data.columns:\n",
    "        data = data.rename(columns={'buyer_nbr': 'mbr_nbr'})\n",
    "\n",
    "    if 'acv' in data.columns:\n",
    "        data = data.rename(columns={'acv': 'median_acv'})\n",
    "\n",
    "    if 'repair_cost' in data.columns:\n",
    "        data = data.rename(columns={'repair_cost': 'median_repair_cost'})\n",
    "\n",
    "    # Step 1: Merge based on buyer_type and mbr_state\n",
    "\n",
    "    merged = data.merge(\n",
    "        popular_lots_top6,\n",
    "        on=['buyer_type', 'mbr_state'],\n",
    "        how='inner'\n",
    "    )\n",
    "\n",
    "    # Step 2: Format initial recommendations\n",
    "    initial_recommendations = merged[[\n",
    "        'mbr_nbr', 'mbr_email', 'buyer_type', 'mbr_state',\n",
    "        'lot_make_cd', 'grp_model', 'rank', 'rank_clean',\n",
    "        'median_acv', 'median_repair_cost'\n",
    "    ]]\n",
    "\n",
    "    final_reco_list = []\n",
    "    processed_buyers = set()\n",
    "\n",
    "    # Step 3: For buyers with initial matches\n",
    "    for mbr_nbr, group in initial_recommendations.groupby('mbr_nbr'):\n",
    "        buyer_type = group['buyer_type'].iloc[0]\n",
    "        mbr_email = group['mbr_email'].iloc[0]\n",
    "        mbr_state = group['mbr_state'].iloc[0]\n",
    "\n",
    "        recos = group.sort_values('rank_clean').to_dict('records')\n",
    "        processed_buyers.add(mbr_nbr)\n",
    "\n",
    "        if len(recos) < 6:\n",
    "            needed = 6 - len(recos)\n",
    "\n",
    "            fallback_pool = (\n",
    "                popular_lots_top6[popular_lots_top6['buyer_type'] == buyer_type]\n",
    "                .sort_values('rank_clean')\n",
    "            )\n",
    "\n",
    "            already_recoed = {(r['lot_make_cd'], r['grp_model']) for r in recos}\n",
    "\n",
    "            for _, row in fallback_pool.iterrows():\n",
    "                key = (row['lot_make_cd'], row['grp_model'])\n",
    "                if key in already_recoed:\n",
    "                    continue\n",
    "\n",
    "                recos.append({\n",
    "                    'mbr_nbr': mbr_nbr,\n",
    "                    'mbr_email': mbr_email,\n",
    "                    'buyer_type': buyer_type,\n",
    "                    'mbr_state': mbr_state,\n",
    "                    'lot_make_cd': row['lot_make_cd'],\n",
    "                    'grp_model': row['grp_model'],\n",
    "                    'rank': row.get('rank'),\n",
    "                    'rank_clean': row.get('rank_clean'),\n",
    "                    'median_acv': row.get('median_acv'),\n",
    "                    'median_repair_cost': row.get('median_repair_cost')\n",
    "                })\n",
    "\n",
    "                already_recoed.add(key)\n",
    "                if len(recos) == 6:\n",
    "                    break\n",
    "\n",
    "        final_reco_list.extend(recos)\n",
    "\n",
    "    # Step 4: Handle buyers with no initial match\n",
    "    missing_mbrs = set(data['mbr_nbr'].unique()) - processed_buyers\n",
    "    fallback_missing = data[data['mbr_nbr'].isin(missing_mbrs)]\n",
    "\n",
    "    for _, row in fallback_missing.iterrows():\n",
    "        mbr_nbr = row['mbr_nbr']\n",
    "        mbr_email = row['mbr_email']\n",
    "        buyer_type = row['buyer_type']\n",
    "        mbr_state = row['mbr_state']\n",
    "\n",
    "        fallback_pool = (\n",
    "            popular_lots_top6[popular_lots_top6['buyer_type'] == buyer_type]\n",
    "            .sort_values('cnt', ascending=False)\n",
    "            .drop_duplicates(subset=['lot_make_cd', 'grp_model'])\n",
    "            .head(6)\n",
    "        )\n",
    "\n",
    "        for _, lot in fallback_pool.iterrows():\n",
    "            final_reco_list.append({\n",
    "                'mbr_nbr': mbr_nbr,\n",
    "                'mbr_email': mbr_email,\n",
    "                'buyer_type': buyer_type,\n",
    "                'mbr_state': mbr_state,\n",
    "                'lot_make_cd': lot['lot_make_cd'],\n",
    "                'grp_model': lot['grp_model'],\n",
    "                'rank': lot.get('rank'),\n",
    "                'rank_clean': lot.get('rank_clean'),\n",
    "                'median_acv': lot.get('median_acv'),\n",
    "                'median_repair_cost': lot.get('median_repair_cost')\n",
    "            })\n",
    "\n",
    "    # Step 5: Return final DataFrame\n",
    "    return pd.DataFrame(final_reco_list).sort_values(by=['mbr_nbr', 'rank_clean'])\n"
   ],
   "id": "d9aae92aab5bc102",
   "outputs": [],
   "execution_count": 10
  },
  {
   "metadata": {
    "ExecuteTime": {
     "end_time": "2025-10-30T16:41:43.482312Z",
     "start_time": "2025-10-30T16:41:16.021916Z"
    }
   },
   "cell_type": "code",
   "source": "nonactive_buyers_test_past_reco = generate_final_recommendations(nonactive_buyers_test, popular_lots)",
   "id": "8cc27a674a64921d",
   "outputs": [],
   "execution_count": 11
  },
  {
   "metadata": {
    "ExecuteTime": {
     "end_time": "2025-10-30T16:41:44.743200Z",
     "start_time": "2025-10-30T16:41:44.708091Z"
    }
   },
   "cell_type": "code",
   "source": "nonactive_buyers_holdout = pd.read_csv('../data/split/nonactive_holdout.csv')",
   "id": "811c2147c333ad01",
   "outputs": [],
   "execution_count": 12
  },
  {
   "metadata": {
    "ExecuteTime": {
     "end_time": "2025-10-30T16:42:15.902466Z",
     "start_time": "2025-10-30T16:41:48.437417Z"
    }
   },
   "cell_type": "code",
   "source": "nonactive_buyers_holdout_past_reco = generate_final_recommendations(nonactive_buyers_holdout, popular_lots)",
   "id": "5cd48c10cf022a0a",
   "outputs": [],
   "execution_count": 13
  },
  {
   "metadata": {
    "ExecuteTime": {
     "end_time": "2025-10-30T16:42:22.525766Z",
     "start_time": "2025-10-30T16:42:21.416502Z"
    }
   },
   "cell_type": "code",
   "source": [
    "## cf_holdout\n",
    "cf_holdout = pd.read_csv('../data/split/cf_holdout.csv')\n",
    "cf_holdout = cf_holdout[['mbr_lic_type','mbr_state','buyer_nbr','mbr_email']]\n",
    "cf_holdout = cf_holdout.drop_duplicates(subset=['buyer_nbr'])\n",
    "cf_holdout_past_reco = generate_final_recommendations(cf_holdout, popular_lots)\n"
   ],
   "id": "a66664f9d2a7fe19",
   "outputs": [],
   "execution_count": 14
  },
  {
   "metadata": {
    "ExecuteTime": {
     "end_time": "2025-10-30T16:42:27.011067Z",
     "start_time": "2025-10-30T16:42:23.900516Z"
    }
   },
   "cell_type": "code",
   "source": [
    "## cf_holdout\n",
    "one_to_one_holdout = pd.read_csv('../data/split/one_to_one_holdout.csv')\n",
    "one_to_one_holdout = one_to_one_holdout[['mbr_lic_type','mbr_state','buyer_nbr','mbr_email']]\n",
    "one_to_one_holdout = one_to_one_holdout.drop_duplicates(subset=['buyer_nbr'])\n",
    "one_to_one_holdout_past_reco = generate_final_recommendations(one_to_one_holdout, popular_lots)\n"
   ],
   "id": "486fdb5561f9d891",
   "outputs": [],
   "execution_count": 15
  },
  {
   "metadata": {
    "ExecuteTime": {
     "end_time": "2025-10-27T15:59:59.059598Z",
     "start_time": "2025-10-27T15:59:59.057856Z"
    }
   },
   "cell_type": "code",
   "source": "",
   "id": "d6d02e82de2cdef4",
   "outputs": [],
   "execution_count": null
  },
  {
   "metadata": {
    "ExecuteTime": {
     "end_time": "2025-10-30T16:42:29.703556Z",
     "start_time": "2025-10-30T16:42:29.680323Z"
    }
   },
   "cell_type": "code",
   "source": "upcoming_lots = pd.read_csv('../data/processed/upcoming_lots.csv')\n",
   "id": "7a8c0fee439fe80b",
   "outputs": [],
   "execution_count": 16
  },
  {
   "metadata": {
    "ExecuteTime": {
     "end_time": "2025-10-30T16:42:30.706434Z",
     "start_time": "2025-10-30T16:42:30.703459Z"
    }
   },
   "cell_type": "code",
   "source": [
    "import pandas as pd\n",
    "import numpy as np\n",
    "from collections import defaultdict\n",
    "from tqdm import tqdm\n",
    "\n",
    "def match_recommendations_fast(final_recommendations, future_lots):\n",
    "    # Build lookup for YMM exact matches\n",
    "    future_groups = {\n",
    "        k: v.reset_index(drop=True)\n",
    "        for k, v in future_lots.groupby([\"lot_make_cd\", \"grp_model\"])\n",
    "    }\n",
    "\n",
    "    # Pre-store full arrays for fallback\n",
    "    fallback_df = future_lots.reset_index(drop=True)\n",
    "    fallback_vals = fallback_df[['acv','repair_cost']].values.astype(np.float32)\n",
    "\n",
    "    results = []\n",
    "\n",
    "    for _, row in tqdm(final_recommendations.iterrows(), total=len(final_recommendations)):\n",
    "        make = row['lot_make_cd']\n",
    "        model = row['grp_model']\n",
    "        acv = row['median_acv']\n",
    "        repair = row['median_repair_cost']\n",
    "\n",
    "        # Step 1: Try fast group lookup\n",
    "        match_df = future_groups.get((make, model), None)\n",
    "\n",
    "        if match_df is not None and len(match_df) > 0:\n",
    "            arr = match_df[['acv','repair_cost']].values.astype(np.float32)\n",
    "            dist = np.abs(arr[:,0] - acv) + np.abs(arr[:,1] - repair)\n",
    "            i = dist.argmin()\n",
    "            selected = match_df.iloc[i]\n",
    "            fallback_reason = \"YMM\"\n",
    "        else:\n",
    "            # 🔥 Only compute fallback if YMM missing\n",
    "            dist = np.abs(fallback_vals[:,0] - acv) + np.abs(fallback_vals[:,1] - repair)\n",
    "            i = dist.argmin()\n",
    "            selected = fallback_df.iloc[i]\n",
    "            fallback_reason = \"Global\"\n",
    "\n",
    "        results.append({\n",
    "            \"mbr_nbr\": row['mbr_nbr'],\n",
    "            \"recommended_lot_nbr\": selected[\"lot_nbr\"],\n",
    "            \"distance\": float(dist[i]),\n",
    "            \"fallback_reason\": fallback_reason\n",
    "        })\n",
    "\n",
    "    return pd.DataFrame(results)\n"
   ],
   "id": "f02658cd54488b21",
   "outputs": [],
   "execution_count": 17
  },
  {
   "metadata": {
    "ExecuteTime": {
     "end_time": "2025-10-30T16:43:34.162597Z",
     "start_time": "2025-10-30T16:42:32.152096Z"
    }
   },
   "cell_type": "code",
   "source": "nonactive_buyers_test_reco = match_recommendations_fast(nonactive_buyers_test_past_reco, upcoming_lots)",
   "id": "4c165178a0975c51",
   "outputs": [
    {
     "name": "stderr",
     "output_type": "stream",
     "text": [
      "100%|██████████| 588600/588600 [01:01<00:00, 9536.38it/s]\n"
     ]
    }
   ],
   "execution_count": 18
  },
  {
   "metadata": {
    "ExecuteTime": {
     "end_time": "2025-10-30T16:43:35.346093Z",
     "start_time": "2025-10-30T16:43:35.341338Z"
    }
   },
   "cell_type": "code",
   "source": "nonactive_buyers_test_reco['mbr_nbr'].nunique()",
   "id": "7bb9c965152177c1",
   "outputs": [
    {
     "data": {
      "text/plain": [
       "98100"
      ]
     },
     "execution_count": 19,
     "metadata": {},
     "output_type": "execute_result"
    }
   ],
   "execution_count": 19
  },
  {
   "metadata": {
    "ExecuteTime": {
     "end_time": "2025-10-30T16:44:18.367093Z",
     "start_time": "2025-10-30T16:44:04.489341Z"
    }
   },
   "cell_type": "code",
   "source": "nonactive_buyers_test_reco.to_excel('../data/results/nonactive_test_reco.xlsx',index=False)",
   "id": "c0d8a2c325c00b8f",
   "outputs": [],
   "execution_count": 21
  },
  {
   "metadata": {
    "ExecuteTime": {
     "end_time": "2025-10-30T16:45:22.250683Z",
     "start_time": "2025-10-30T16:44:20.820070Z"
    }
   },
   "cell_type": "code",
   "source": "nonactive_buyers_holdout_reco = match_recommendations_fast(nonactive_buyers_holdout_past_reco, upcoming_lots)",
   "id": "4546f13cbfde445",
   "outputs": [
    {
     "name": "stderr",
     "output_type": "stream",
     "text": [
      "100%|██████████| 589872/589872 [01:01<00:00, 9645.30it/s]\n"
     ]
    }
   ],
   "execution_count": 22
  },
  {
   "metadata": {
    "ExecuteTime": {
     "end_time": "2025-10-30T16:46:00.554048Z",
     "start_time": "2025-10-30T16:45:46.720689Z"
    }
   },
   "cell_type": "code",
   "source": "nonactive_buyers_holdout_reco.to_excel('../data/results/nonactive_holdout_reco.xlsx',index=False)",
   "id": "68859f53833e697",
   "outputs": [],
   "execution_count": 24
  },
  {
   "metadata": {
    "ExecuteTime": {
     "end_time": "2025-10-30T16:46:04.187997Z",
     "start_time": "2025-10-30T16:46:01.817228Z"
    }
   },
   "cell_type": "code",
   "source": "cf_holdout_reco = match_recommendations_fast(cf_holdout_past_reco,upcoming_lots)",
   "id": "7fa694f6d98c948f",
   "outputs": [
    {
     "name": "stderr",
     "output_type": "stream",
     "text": [
      "100%|██████████| 22164/22164 [00:02<00:00, 9475.15it/s]\n"
     ]
    }
   ],
   "execution_count": 25
  },
  {
   "metadata": {
    "ExecuteTime": {
     "end_time": "2025-10-30T16:46:15.099882Z",
     "start_time": "2025-10-30T16:46:07.985397Z"
    }
   },
   "cell_type": "code",
   "source": "one_to_one_holdout_reco = match_recommendations_fast(one_to_one_holdout_past_reco, upcoming_lots)",
   "id": "66b54b9972f033d7",
   "outputs": [
    {
     "name": "stderr",
     "output_type": "stream",
     "text": [
      "100%|██████████| 67548/67548 [00:07<00:00, 9562.47it/s]\n"
     ]
    }
   ],
   "execution_count": 26
  },
  {
   "metadata": {
    "ExecuteTime": {
     "end_time": "2025-10-30T16:46:18.333068Z",
     "start_time": "2025-10-30T16:46:16.018859Z"
    }
   },
   "cell_type": "code",
   "source": [
    "cf_holdout_reco.to_excel('../data/results/cf_holdout_reco.xlsx', index = False)\n",
    "one_to_one_holdout_reco.to_excel('../data/results/onetoone_holdout_reco.xlsx', index = False)\n"
   ],
   "id": "afbb596a751cfa05",
   "outputs": [],
   "execution_count": 27
  },
  {
   "metadata": {},
   "cell_type": "code",
   "outputs": [],
   "execution_count": null,
   "source": "",
   "id": "d0d159cff74b64f7"
  },
  {
   "metadata": {
    "ExecuteTime": {
     "end_time": "2025-10-22T21:49:20.058115Z",
     "start_time": "2025-10-22T21:49:19.971736Z"
    }
   },
   "cell_type": "code",
   "source": [
    "import pandas as pd\n",
    "import numpy as np\n",
    "from concurrent.futures import ThreadPoolExecutor, as_completed\n",
    "from tqdm import tqdm\n",
    "\n",
    "def match_recommendations_to_future_lots_parallel(final_recommendations, upcoming_lots, max_workers=12):\n",
    "    future_filtered = upcoming_lots[['lot_nbr', 'lot_make_cd', 'grp_model', 'acv', 'repair_cost']].copy()\n",
    "    results = []\n",
    "\n",
    "    def process_row(row):\n",
    "        buyer_nbr = row['mbr_nbr']\n",
    "        make = row['lot_make_cd']\n",
    "        model = row['grp_model']\n",
    "        acv = row['median_acv']\n",
    "        repair = row['median_repair_cost']\n",
    "\n",
    "        matching_lots = future_filtered[\n",
    "            (future_filtered['lot_make_cd'] == make) &\n",
    "            (future_filtered['grp_model'] == model)\n",
    "        ]\n",
    "\n",
    "        if not matching_lots.empty:\n",
    "            distances = np.abs(matching_lots['acv'] - acv) + np.abs(matching_lots['repair_cost'] - repair)\n",
    "            min_idx = distances.idxmin()\n",
    "            best_lot = matching_lots.loc[min_idx]\n",
    "            distance_value = distances[min_idx]\n",
    "        else:\n",
    "            distances = np.abs(future_filtered['acv'] - acv) + np.abs(future_filtered['repair_cost'] - repair)\n",
    "            min_idx = distances.idxmin()\n",
    "            best_lot = future_filtered.loc[min_idx]\n",
    "            distance_value = distances[min_idx]\n",
    "\n",
    "        return {\n",
    "            'mbr_nbr': buyer_nbr,\n",
    "            'lot_make_cd': make,\n",
    "            'grp_model': model,\n",
    "            'recommended_lot_nbr': best_lot['lot_nbr'],\n",
    "            'matched_lot_make_cd': best_lot['lot_make_cd'],\n",
    "            'matched_grp_model': best_lot['grp_model'],\n",
    "            'distance': distance_value\n",
    "        }\n",
    "\n",
    "    with ThreadPoolExecutor(max_workers=max_workers) as executor:\n",
    "        futures = [executor.submit(process_row, row) for _, row in final_recommendations.iterrows()]\n",
    "        for future in tqdm(as_completed(futures), total=len(futures)):\n",
    "            results.append(future.result())\n",
    "\n",
    "    return pd.DataFrame(results)"
   ],
   "id": "d68e4a0c5b6aa15a",
   "outputs": [],
   "execution_count": 178
  },
  {
   "metadata": {
    "ExecuteTime": {
     "end_time": "2025-10-23T15:01:12.507053Z",
     "start_time": "2025-10-23T15:01:12.479136Z"
    }
   },
   "cell_type": "code",
   "source": "nonactive_holdout = pd.read_csv('data/split/nonactive_holdout.csv')",
   "id": "bba66192826d2ad2",
   "outputs": [],
   "execution_count": 192
  },
  {
   "metadata": {
    "ExecuteTime": {
     "end_time": "2025-10-22T21:50:08.726624Z",
     "start_time": "2025-10-22T21:49:35.486885Z"
    }
   },
   "cell_type": "code",
   "source": "nonactive_holdout_past_reco = generate_final_recommendations(nonactive_buyers_holdout, popular_lots)",
   "id": "bacedde8bd06647b",
   "outputs": [],
   "execution_count": 180
  },
  {
   "metadata": {
    "ExecuteTime": {
     "end_time": "2025-10-22T21:48:51.624436Z",
     "start_time": "2025-10-22T21:48:07.435506Z"
    }
   },
   "cell_type": "code",
   "source": "nonactive_holdout_reco = match_recommendations_to_future_lots_parallel(nonactive_holdout_past_reco, upcoming_lots, max_workers=12)\n",
   "id": "174a97115c1f45bc",
   "outputs": [
    {
     "name": "stderr",
     "output_type": "stream",
     "text": [
      "  4%|▍         | 17270/436482 [00:27<11:19, 617.23it/s]\n"
     ]
    },
    {
     "ename": "KeyboardInterrupt",
     "evalue": "",
     "output_type": "error",
     "traceback": [
      "\u001B[31m---------------------------------------------------------------------------\u001B[39m",
      "\u001B[31mKeyboardInterrupt\u001B[39m                         Traceback (most recent call last)",
      "\u001B[36mCell\u001B[39m\u001B[36m \u001B[39m\u001B[32mIn[176]\u001B[39m\u001B[32m, line 45\u001B[39m, in \u001B[36mmatch_recommendations_to_future_lots_parallel\u001B[39m\u001B[34m(final_recommendations, upcoming_lots, max_workers)\u001B[39m\n\u001B[32m     44\u001B[39m futures = [executor.submit(process_row, row) \u001B[38;5;28;01mfor\u001B[39;00m _, row \u001B[38;5;129;01min\u001B[39;00m final_recommendations.iterrows()]\n\u001B[32m---> \u001B[39m\u001B[32m45\u001B[39m \u001B[43m\u001B[49m\u001B[38;5;28;43;01mfor\u001B[39;49;00m\u001B[43m \u001B[49m\u001B[43mfuture\u001B[49m\u001B[43m \u001B[49m\u001B[38;5;129;43;01min\u001B[39;49;00m\u001B[43m \u001B[49m\u001B[43mtqdm\u001B[49m\u001B[43m(\u001B[49m\u001B[43mas_completed\u001B[49m\u001B[43m(\u001B[49m\u001B[43mfutures\u001B[49m\u001B[43m)\u001B[49m\u001B[43m,\u001B[49m\u001B[43m \u001B[49m\u001B[43mtotal\u001B[49m\u001B[43m=\u001B[49m\u001B[38;5;28;43mlen\u001B[39;49m\u001B[43m(\u001B[49m\u001B[43mfutures\u001B[49m\u001B[43m)\u001B[49m\u001B[43m)\u001B[49m\u001B[43m:\u001B[49m\n\u001B[32m     46\u001B[39m \u001B[43m    \u001B[49m\u001B[43mresults\u001B[49m\u001B[43m.\u001B[49m\u001B[43mappend\u001B[49m\u001B[43m(\u001B[49m\u001B[43mfuture\u001B[49m\u001B[43m.\u001B[49m\u001B[43mresult\u001B[49m\u001B[43m(\u001B[49m\u001B[43m)\u001B[49m\u001B[43m)\u001B[49m\n",
      "\u001B[36mFile \u001B[39m\u001B[32m/Library/Frameworks/Python.framework/Versions/3.13/lib/python3.13/site-packages/tqdm/std.py:1191\u001B[39m, in \u001B[36mtqdm.__iter__\u001B[39m\u001B[34m(self)\u001B[39m\n\u001B[32m   1190\u001B[39m \u001B[38;5;28;01mif\u001B[39;00m dt >= mininterval \u001B[38;5;129;01mand\u001B[39;00m cur_t >= min_start_t:\n\u001B[32m-> \u001B[39m\u001B[32m1191\u001B[39m     \u001B[38;5;28;43mself\u001B[39;49m\u001B[43m.\u001B[49m\u001B[43mupdate\u001B[49m\u001B[43m(\u001B[49m\u001B[43mn\u001B[49m\u001B[43m \u001B[49m\u001B[43m-\u001B[49m\u001B[43m \u001B[49m\u001B[43mlast_print_n\u001B[49m\u001B[43m)\u001B[49m\n\u001B[32m   1192\u001B[39m     last_print_n = \u001B[38;5;28mself\u001B[39m.last_print_n\n",
      "\u001B[36mFile \u001B[39m\u001B[32m/Library/Frameworks/Python.framework/Versions/3.13/lib/python3.13/site-packages/tqdm/std.py:1242\u001B[39m, in \u001B[36mtqdm.update\u001B[39m\u001B[34m(self, n)\u001B[39m\n\u001B[32m   1241\u001B[39m     \u001B[38;5;28mself\u001B[39m._ema_dt(dt)\n\u001B[32m-> \u001B[39m\u001B[32m1242\u001B[39m \u001B[38;5;28;43mself\u001B[39;49m\u001B[43m.\u001B[49m\u001B[43mrefresh\u001B[49m\u001B[43m(\u001B[49m\u001B[43mlock_args\u001B[49m\u001B[43m=\u001B[49m\u001B[38;5;28;43mself\u001B[39;49m\u001B[43m.\u001B[49m\u001B[43mlock_args\u001B[49m\u001B[43m)\u001B[49m\n\u001B[32m   1243\u001B[39m \u001B[38;5;28;01mif\u001B[39;00m \u001B[38;5;28mself\u001B[39m.dynamic_miniters:\n\u001B[32m   1244\u001B[39m     \u001B[38;5;66;03m# If no `miniters` was specified, adjust automatically to the\u001B[39;00m\n\u001B[32m   1245\u001B[39m     \u001B[38;5;66;03m# maximum iteration rate seen so far between two prints.\u001B[39;00m\n\u001B[32m   1246\u001B[39m     \u001B[38;5;66;03m# e.g.: After running `tqdm.update(5)`, subsequent\u001B[39;00m\n\u001B[32m   1247\u001B[39m     \u001B[38;5;66;03m# calls to `tqdm.update()` will only cause an update after\u001B[39;00m\n\u001B[32m   1248\u001B[39m     \u001B[38;5;66;03m# at least 5 more iterations.\u001B[39;00m\n",
      "\u001B[36mFile \u001B[39m\u001B[32m/Library/Frameworks/Python.framework/Versions/3.13/lib/python3.13/site-packages/tqdm/std.py:1347\u001B[39m, in \u001B[36mtqdm.refresh\u001B[39m\u001B[34m(self, nolock, lock_args)\u001B[39m\n\u001B[32m   1346\u001B[39m         \u001B[38;5;28mself\u001B[39m._lock.acquire()\n\u001B[32m-> \u001B[39m\u001B[32m1347\u001B[39m \u001B[38;5;28;43mself\u001B[39;49m\u001B[43m.\u001B[49m\u001B[43mdisplay\u001B[49m\u001B[43m(\u001B[49m\u001B[43m)\u001B[49m\n\u001B[32m   1348\u001B[39m \u001B[38;5;28;01mif\u001B[39;00m \u001B[38;5;129;01mnot\u001B[39;00m nolock:\n",
      "\u001B[36mFile \u001B[39m\u001B[32m/Library/Frameworks/Python.framework/Versions/3.13/lib/python3.13/site-packages/tqdm/std.py:1495\u001B[39m, in \u001B[36mtqdm.display\u001B[39m\u001B[34m(self, msg, pos)\u001B[39m\n\u001B[32m   1494\u001B[39m     \u001B[38;5;28mself\u001B[39m.moveto(pos)\n\u001B[32m-> \u001B[39m\u001B[32m1495\u001B[39m \u001B[38;5;28;43mself\u001B[39;49m\u001B[43m.\u001B[49m\u001B[43msp\u001B[49m\u001B[43m(\u001B[49m\u001B[38;5;28;43mself\u001B[39;49m\u001B[43m.\u001B[49m\u001B[34;43m__str__\u001B[39;49m\u001B[43m(\u001B[49m\u001B[43m)\u001B[49m\u001B[43m \u001B[49m\u001B[38;5;28;43;01mif\u001B[39;49;00m\u001B[43m \u001B[49m\u001B[43mmsg\u001B[49m\u001B[43m \u001B[49m\u001B[38;5;129;43;01mis\u001B[39;49;00m\u001B[43m \u001B[49m\u001B[38;5;28;43;01mNone\u001B[39;49;00m\u001B[43m \u001B[49m\u001B[38;5;28;43;01melse\u001B[39;49;00m\u001B[43m \u001B[49m\u001B[43mmsg\u001B[49m\u001B[43m)\u001B[49m\n\u001B[32m   1496\u001B[39m \u001B[38;5;28;01mif\u001B[39;00m pos:\n",
      "\u001B[36mFile \u001B[39m\u001B[32m/Library/Frameworks/Python.framework/Versions/3.13/lib/python3.13/site-packages/tqdm/std.py:459\u001B[39m, in \u001B[36mtqdm.status_printer.<locals>.print_status\u001B[39m\u001B[34m(s)\u001B[39m\n\u001B[32m    458\u001B[39m len_s = disp_len(s)\n\u001B[32m--> \u001B[39m\u001B[32m459\u001B[39m \u001B[43mfp_write\u001B[49m\u001B[43m(\u001B[49m\u001B[33;43m'\u001B[39;49m\u001B[38;5;130;43;01m\\r\u001B[39;49;00m\u001B[33;43m'\u001B[39;49m\u001B[43m \u001B[49m\u001B[43m+\u001B[49m\u001B[43m \u001B[49m\u001B[43ms\u001B[49m\u001B[43m \u001B[49m\u001B[43m+\u001B[49m\u001B[43m \u001B[49m\u001B[43m(\u001B[49m\u001B[33;43m'\u001B[39;49m\u001B[33;43m \u001B[39;49m\u001B[33;43m'\u001B[39;49m\u001B[43m \u001B[49m\u001B[43m*\u001B[49m\u001B[43m \u001B[49m\u001B[38;5;28;43mmax\u001B[39;49m\u001B[43m(\u001B[49m\u001B[43mlast_len\u001B[49m\u001B[43m[\u001B[49m\u001B[32;43m0\u001B[39;49m\u001B[43m]\u001B[49m\u001B[43m \u001B[49m\u001B[43m-\u001B[49m\u001B[43m \u001B[49m\u001B[43mlen_s\u001B[49m\u001B[43m,\u001B[49m\u001B[43m \u001B[49m\u001B[32;43m0\u001B[39;49m\u001B[43m)\u001B[49m\u001B[43m)\u001B[49m\u001B[43m)\u001B[49m\n\u001B[32m    460\u001B[39m last_len[\u001B[32m0\u001B[39m] = len_s\n",
      "\u001B[36mFile \u001B[39m\u001B[32m/Library/Frameworks/Python.framework/Versions/3.13/lib/python3.13/site-packages/tqdm/std.py:453\u001B[39m, in \u001B[36mtqdm.status_printer.<locals>.fp_write\u001B[39m\u001B[34m(s)\u001B[39m\n\u001B[32m    452\u001B[39m fp.write(\u001B[38;5;28mstr\u001B[39m(s))\n\u001B[32m--> \u001B[39m\u001B[32m453\u001B[39m \u001B[43mfp_flush\u001B[49m\u001B[43m(\u001B[49m\u001B[43m)\u001B[49m\n",
      "\u001B[36mFile \u001B[39m\u001B[32m/Library/Frameworks/Python.framework/Versions/3.13/lib/python3.13/site-packages/tqdm/utils.py:196\u001B[39m, in \u001B[36mDisableOnWriteError.disable_on_exception.<locals>.inner\u001B[39m\u001B[34m(*args, **kwargs)\u001B[39m\n\u001B[32m    195\u001B[39m \u001B[38;5;28;01mtry\u001B[39;00m:\n\u001B[32m--> \u001B[39m\u001B[32m196\u001B[39m     \u001B[38;5;28;01mreturn\u001B[39;00m \u001B[43mfunc\u001B[49m\u001B[43m(\u001B[49m\u001B[43m*\u001B[49m\u001B[43margs\u001B[49m\u001B[43m,\u001B[49m\u001B[43m \u001B[49m\u001B[43m*\u001B[49m\u001B[43m*\u001B[49m\u001B[43mkwargs\u001B[49m\u001B[43m)\u001B[49m\n\u001B[32m    197\u001B[39m \u001B[38;5;28;01mexcept\u001B[39;00m \u001B[38;5;167;01mOSError\u001B[39;00m \u001B[38;5;28;01mas\u001B[39;00m e:\n",
      "\u001B[36mFile \u001B[39m\u001B[32m/Library/Frameworks/Python.framework/Versions/3.13/lib/python3.13/site-packages/ipykernel/iostream.py:604\u001B[39m, in \u001B[36mOutStream.flush\u001B[39m\u001B[34m(self)\u001B[39m\n\u001B[32m    597\u001B[39m \u001B[38;5;28;01mif\u001B[39;00m (\n\u001B[32m    598\u001B[39m     \u001B[38;5;28mself\u001B[39m.pub_thread\n\u001B[32m    599\u001B[39m     \u001B[38;5;129;01mand\u001B[39;00m \u001B[38;5;28mself\u001B[39m.pub_thread.thread \u001B[38;5;129;01mis\u001B[39;00m \u001B[38;5;129;01mnot\u001B[39;00m \u001B[38;5;28;01mNone\u001B[39;00m\n\u001B[32m   (...)\u001B[39m\u001B[32m    602\u001B[39m ):\n\u001B[32m    603\u001B[39m     \u001B[38;5;66;03m# request flush on the background thread\u001B[39;00m\n\u001B[32m--> \u001B[39m\u001B[32m604\u001B[39m     \u001B[38;5;28;43mself\u001B[39;49m\u001B[43m.\u001B[49m\u001B[43mpub_thread\u001B[49m\u001B[43m.\u001B[49m\u001B[43mschedule\u001B[49m\u001B[43m(\u001B[49m\u001B[38;5;28;43mself\u001B[39;49m\u001B[43m.\u001B[49m\u001B[43m_flush\u001B[49m\u001B[43m)\u001B[49m\n\u001B[32m    605\u001B[39m     \u001B[38;5;66;03m# wait for flush to actually get through, if we can.\u001B[39;00m\n",
      "\u001B[36mFile \u001B[39m\u001B[32m/Library/Frameworks/Python.framework/Versions/3.13/lib/python3.13/site-packages/ipykernel/iostream.py:267\u001B[39m, in \u001B[36mIOPubThread.schedule\u001B[39m\u001B[34m(self, f)\u001B[39m\n\u001B[32m    266\u001B[39m     \u001B[38;5;66;03m# wake event thread (message content is ignored)\u001B[39;00m\n\u001B[32m--> \u001B[39m\u001B[32m267\u001B[39m     \u001B[38;5;28;43mself\u001B[39;49m\u001B[43m.\u001B[49m\u001B[43m_event_pipe\u001B[49m\u001B[43m.\u001B[49m\u001B[43msend\u001B[49m\u001B[43m(\u001B[49m\u001B[33;43mb\u001B[39;49m\u001B[33;43m\"\u001B[39;49m\u001B[33;43m\"\u001B[39;49m\u001B[43m)\u001B[49m\n\u001B[32m    268\u001B[39m \u001B[38;5;28;01melse\u001B[39;00m:\n",
      "\u001B[36mFile \u001B[39m\u001B[32m/Library/Frameworks/Python.framework/Versions/3.13/lib/python3.13/site-packages/zmq/sugar/socket.py:698\u001B[39m, in \u001B[36mSocket.send\u001B[39m\u001B[34m(self, data, flags, copy, track, routing_id, group)\u001B[39m\n\u001B[32m    697\u001B[39m     data.group = group\n\u001B[32m--> \u001B[39m\u001B[32m698\u001B[39m \u001B[38;5;28;01mreturn\u001B[39;00m \u001B[38;5;28;43msuper\u001B[39;49m\u001B[43m(\u001B[49m\u001B[43m)\u001B[49m\u001B[43m.\u001B[49m\u001B[43msend\u001B[49m\u001B[43m(\u001B[49m\u001B[43mdata\u001B[49m\u001B[43m,\u001B[49m\u001B[43m \u001B[49m\u001B[43mflags\u001B[49m\u001B[43m=\u001B[49m\u001B[43mflags\u001B[49m\u001B[43m,\u001B[49m\u001B[43m \u001B[49m\u001B[43mcopy\u001B[49m\u001B[43m=\u001B[49m\u001B[43mcopy\u001B[49m\u001B[43m,\u001B[49m\u001B[43m \u001B[49m\u001B[43mtrack\u001B[49m\u001B[43m=\u001B[49m\u001B[43mtrack\u001B[49m\u001B[43m)\u001B[49m\n",
      "\u001B[36mFile \u001B[39m\u001B[32m_zmq.py:1081\u001B[39m, in \u001B[36mzmq.backend.cython._zmq.Socket.send\u001B[39m\u001B[34m()\u001B[39m\n",
      "\u001B[36mFile \u001B[39m\u001B[32m_zmq.py:1129\u001B[39m, in \u001B[36mzmq.backend.cython._zmq.Socket.send\u001B[39m\u001B[34m()\u001B[39m\n",
      "\u001B[36mFile \u001B[39m\u001B[32m_zmq.py:1397\u001B[39m, in \u001B[36mzmq.backend.cython._zmq._send_copy\u001B[39m\u001B[34m()\u001B[39m\n",
      "\u001B[36mFile \u001B[39m\u001B[32m_zmq.py:169\u001B[39m, in \u001B[36mzmq.backend.cython._zmq._check_rc\u001B[39m\u001B[34m()\u001B[39m\n",
      "\u001B[31mKeyboardInterrupt\u001B[39m: ",
      "\nDuring handling of the above exception, another exception occurred:\n",
      "\u001B[31mKeyboardInterrupt\u001B[39m                         Traceback (most recent call last)",
      "\u001B[36mCell\u001B[39m\u001B[36m \u001B[39m\u001B[32mIn[177]\u001B[39m\u001B[32m, line 1\u001B[39m\n\u001B[32m----> \u001B[39m\u001B[32m1\u001B[39m nonactive_holdout_reco = \u001B[43mmatch_recommendations_to_future_lots_parallel\u001B[49m\u001B[43m(\u001B[49m\u001B[43mnonactive_holdout_past_reco\u001B[49m\u001B[43m,\u001B[49m\u001B[43m \u001B[49m\u001B[43mupcoming_lots\u001B[49m\u001B[43m,\u001B[49m\u001B[43m \u001B[49m\u001B[43mmax_workers\u001B[49m\u001B[43m=\u001B[49m\u001B[32;43m12\u001B[39;49m\u001B[43m)\u001B[49m\n",
      "\u001B[36mCell\u001B[39m\u001B[36m \u001B[39m\u001B[32mIn[176]\u001B[39m\u001B[32m, line 43\u001B[39m, in \u001B[36mmatch_recommendations_to_future_lots_parallel\u001B[39m\u001B[34m(final_recommendations, upcoming_lots, max_workers)\u001B[39m\n\u001B[32m     31\u001B[39m         distance_value = distances[min_idx]\n\u001B[32m     33\u001B[39m     \u001B[38;5;28;01mreturn\u001B[39;00m {\n\u001B[32m     34\u001B[39m         \u001B[33m'\u001B[39m\u001B[33mmbr_nbr\u001B[39m\u001B[33m'\u001B[39m: buyer_nbr,\n\u001B[32m     35\u001B[39m         \u001B[33m'\u001B[39m\u001B[33mlot_make_cd\u001B[39m\u001B[33m'\u001B[39m: make,\n\u001B[32m   (...)\u001B[39m\u001B[32m     40\u001B[39m         \u001B[33m'\u001B[39m\u001B[33mdistance\u001B[39m\u001B[33m'\u001B[39m: distance_value\n\u001B[32m     41\u001B[39m     }\n\u001B[32m---> \u001B[39m\u001B[32m43\u001B[39m \u001B[38;5;28;01mwith\u001B[39;00m ThreadPoolExecutor(max_workers=max_workers) \u001B[38;5;28;01mas\u001B[39;00m executor:\n\u001B[32m     44\u001B[39m     futures = [executor.submit(process_row, row) \u001B[38;5;28;01mfor\u001B[39;00m _, row \u001B[38;5;129;01min\u001B[39;00m final_recommendations.iterrows()]\n\u001B[32m     45\u001B[39m     \u001B[38;5;28;01mfor\u001B[39;00m future \u001B[38;5;129;01min\u001B[39;00m tqdm(as_completed(futures), total=\u001B[38;5;28mlen\u001B[39m(futures)):\n",
      "\u001B[36mFile \u001B[39m\u001B[32m/Library/Frameworks/Python.framework/Versions/3.13/lib/python3.13/concurrent/futures/_base.py:647\u001B[39m, in \u001B[36mExecutor.__exit__\u001B[39m\u001B[34m(self, exc_type, exc_val, exc_tb)\u001B[39m\n\u001B[32m    646\u001B[39m \u001B[38;5;28;01mdef\u001B[39;00m\u001B[38;5;250m \u001B[39m\u001B[34m__exit__\u001B[39m(\u001B[38;5;28mself\u001B[39m, exc_type, exc_val, exc_tb):\n\u001B[32m--> \u001B[39m\u001B[32m647\u001B[39m     \u001B[38;5;28;43mself\u001B[39;49m\u001B[43m.\u001B[49m\u001B[43mshutdown\u001B[49m\u001B[43m(\u001B[49m\u001B[43mwait\u001B[49m\u001B[43m=\u001B[49m\u001B[38;5;28;43;01mTrue\u001B[39;49;00m\u001B[43m)\u001B[49m\n\u001B[32m    648\u001B[39m     \u001B[38;5;28;01mreturn\u001B[39;00m \u001B[38;5;28;01mFalse\u001B[39;00m\n",
      "\u001B[36mFile \u001B[39m\u001B[32m/Library/Frameworks/Python.framework/Versions/3.13/lib/python3.13/concurrent/futures/thread.py:238\u001B[39m, in \u001B[36mThreadPoolExecutor.shutdown\u001B[39m\u001B[34m(self, wait, cancel_futures)\u001B[39m\n\u001B[32m    236\u001B[39m \u001B[38;5;28;01mif\u001B[39;00m wait:\n\u001B[32m    237\u001B[39m     \u001B[38;5;28;01mfor\u001B[39;00m t \u001B[38;5;129;01min\u001B[39;00m \u001B[38;5;28mself\u001B[39m._threads:\n\u001B[32m--> \u001B[39m\u001B[32m238\u001B[39m         \u001B[43mt\u001B[49m\u001B[43m.\u001B[49m\u001B[43mjoin\u001B[49m\u001B[43m(\u001B[49m\u001B[43m)\u001B[49m\n",
      "\u001B[36mFile \u001B[39m\u001B[32m/Library/Frameworks/Python.framework/Versions/3.13/lib/python3.13/threading.py:1092\u001B[39m, in \u001B[36mThread.join\u001B[39m\u001B[34m(self, timeout)\u001B[39m\n\u001B[32m   1089\u001B[39m \u001B[38;5;28;01mif\u001B[39;00m timeout \u001B[38;5;129;01mis\u001B[39;00m \u001B[38;5;129;01mnot\u001B[39;00m \u001B[38;5;28;01mNone\u001B[39;00m:\n\u001B[32m   1090\u001B[39m     timeout = \u001B[38;5;28mmax\u001B[39m(timeout, \u001B[32m0\u001B[39m)\n\u001B[32m-> \u001B[39m\u001B[32m1092\u001B[39m \u001B[38;5;28;43mself\u001B[39;49m\u001B[43m.\u001B[49m\u001B[43m_handle\u001B[49m\u001B[43m.\u001B[49m\u001B[43mjoin\u001B[49m\u001B[43m(\u001B[49m\u001B[43mtimeout\u001B[49m\u001B[43m)\u001B[49m\n",
      "\u001B[31mKeyboardInterrupt\u001B[39m: "
     ]
    }
   ],
   "execution_count": 177
  },
  {
   "metadata": {
    "ExecuteTime": {
     "end_time": "2025-10-23T15:07:51.909902Z",
     "start_time": "2025-10-23T15:07:51.907025Z"
    }
   },
   "cell_type": "code",
   "source": "nonactive_holdout.head()",
   "id": "64b100740b1d30e9",
   "outputs": [
    {
     "data": {
      "text/plain": [
       "  buyer_type mbr_state  mbr_nbr                 mbr_email\n",
       "0   Consumer        NH   252896      cmcgrath09@gmail.com\n",
       "1   Consumer        DE   727700      dorzetshrt@yahoo.com\n",
       "2   Consumer        SD   596008          mhayenga@nvc.net\n",
       "3     Dealer        ND   235198     jimm@riverwoodrvs.com\n",
       "4   Consumer        AK   783812  ywjpheejyaj101@gmail.com"
      ],
      "text/html": [
       "<div>\n",
       "<style scoped>\n",
       "    .dataframe tbody tr th:only-of-type {\n",
       "        vertical-align: middle;\n",
       "    }\n",
       "\n",
       "    .dataframe tbody tr th {\n",
       "        vertical-align: top;\n",
       "    }\n",
       "\n",
       "    .dataframe thead th {\n",
       "        text-align: right;\n",
       "    }\n",
       "</style>\n",
       "<table border=\"1\" class=\"dataframe\">\n",
       "  <thead>\n",
       "    <tr style=\"text-align: right;\">\n",
       "      <th></th>\n",
       "      <th>buyer_type</th>\n",
       "      <th>mbr_state</th>\n",
       "      <th>mbr_nbr</th>\n",
       "      <th>mbr_email</th>\n",
       "    </tr>\n",
       "  </thead>\n",
       "  <tbody>\n",
       "    <tr>\n",
       "      <th>0</th>\n",
       "      <td>Consumer</td>\n",
       "      <td>NH</td>\n",
       "      <td>252896</td>\n",
       "      <td>cmcgrath09@gmail.com</td>\n",
       "    </tr>\n",
       "    <tr>\n",
       "      <th>1</th>\n",
       "      <td>Consumer</td>\n",
       "      <td>DE</td>\n",
       "      <td>727700</td>\n",
       "      <td>dorzetshrt@yahoo.com</td>\n",
       "    </tr>\n",
       "    <tr>\n",
       "      <th>2</th>\n",
       "      <td>Consumer</td>\n",
       "      <td>SD</td>\n",
       "      <td>596008</td>\n",
       "      <td>mhayenga@nvc.net</td>\n",
       "    </tr>\n",
       "    <tr>\n",
       "      <th>3</th>\n",
       "      <td>Dealer</td>\n",
       "      <td>ND</td>\n",
       "      <td>235198</td>\n",
       "      <td>jimm@riverwoodrvs.com</td>\n",
       "    </tr>\n",
       "    <tr>\n",
       "      <th>4</th>\n",
       "      <td>Consumer</td>\n",
       "      <td>AK</td>\n",
       "      <td>783812</td>\n",
       "      <td>ywjpheejyaj101@gmail.com</td>\n",
       "    </tr>\n",
       "  </tbody>\n",
       "</table>\n",
       "</div>"
      ]
     },
     "execution_count": 195,
     "metadata": {},
     "output_type": "execute_result"
    }
   ],
   "execution_count": 195
  },
  {
   "metadata": {
    "ExecuteTime": {
     "end_time": "2025-10-23T15:07:57.091818Z",
     "start_time": "2025-10-23T15:07:57.087960Z"
    }
   },
   "cell_type": "code",
   "source": "nonactive_holdout_past_reco.head()",
   "id": "cb2b1608bc00d85",
   "outputs": [
    {
     "data": {
      "text/plain": [
       "   mbr_nbr                  mbr_email buyer_type mbr_state lot_make_cd  \\\n",
       "0        4  godwinomoosagie@ymail.com   Consumer        NY        TESL   \n",
       "1        4  godwinomoosagie@ymail.com   Consumer        NY        FORD   \n",
       "2        4  godwinomoosagie@ymail.com   Consumer        NY        TESL   \n",
       "3        4  godwinomoosagie@ymail.com   Consumer        NY        TOYT   \n",
       "4        4  godwinomoosagie@ymail.com   Consumer        NY        VOLK   \n",
       "\n",
       "  grp_model  rank  rank_clean  median_acv  median_repair_cost  \n",
       "0   MODEL 3     1           1    23368.00            21130.38  \n",
       "1    ESCAPE     2           2    14014.00             8420.92  \n",
       "2   MODEL Y     3           3    30119.00            21993.42  \n",
       "3      RAV4     4           4    21719.36            14052.00  \n",
       "4    TIGUAN     5           5    14197.86            10210.00  "
      ],
      "text/html": [
       "<div>\n",
       "<style scoped>\n",
       "    .dataframe tbody tr th:only-of-type {\n",
       "        vertical-align: middle;\n",
       "    }\n",
       "\n",
       "    .dataframe tbody tr th {\n",
       "        vertical-align: top;\n",
       "    }\n",
       "\n",
       "    .dataframe thead th {\n",
       "        text-align: right;\n",
       "    }\n",
       "</style>\n",
       "<table border=\"1\" class=\"dataframe\">\n",
       "  <thead>\n",
       "    <tr style=\"text-align: right;\">\n",
       "      <th></th>\n",
       "      <th>mbr_nbr</th>\n",
       "      <th>mbr_email</th>\n",
       "      <th>buyer_type</th>\n",
       "      <th>mbr_state</th>\n",
       "      <th>lot_make_cd</th>\n",
       "      <th>grp_model</th>\n",
       "      <th>rank</th>\n",
       "      <th>rank_clean</th>\n",
       "      <th>median_acv</th>\n",
       "      <th>median_repair_cost</th>\n",
       "    </tr>\n",
       "  </thead>\n",
       "  <tbody>\n",
       "    <tr>\n",
       "      <th>0</th>\n",
       "      <td>4</td>\n",
       "      <td>godwinomoosagie@ymail.com</td>\n",
       "      <td>Consumer</td>\n",
       "      <td>NY</td>\n",
       "      <td>TESL</td>\n",
       "      <td>MODEL 3</td>\n",
       "      <td>1</td>\n",
       "      <td>1</td>\n",
       "      <td>23368.00</td>\n",
       "      <td>21130.38</td>\n",
       "    </tr>\n",
       "    <tr>\n",
       "      <th>1</th>\n",
       "      <td>4</td>\n",
       "      <td>godwinomoosagie@ymail.com</td>\n",
       "      <td>Consumer</td>\n",
       "      <td>NY</td>\n",
       "      <td>FORD</td>\n",
       "      <td>ESCAPE</td>\n",
       "      <td>2</td>\n",
       "      <td>2</td>\n",
       "      <td>14014.00</td>\n",
       "      <td>8420.92</td>\n",
       "    </tr>\n",
       "    <tr>\n",
       "      <th>2</th>\n",
       "      <td>4</td>\n",
       "      <td>godwinomoosagie@ymail.com</td>\n",
       "      <td>Consumer</td>\n",
       "      <td>NY</td>\n",
       "      <td>TESL</td>\n",
       "      <td>MODEL Y</td>\n",
       "      <td>3</td>\n",
       "      <td>3</td>\n",
       "      <td>30119.00</td>\n",
       "      <td>21993.42</td>\n",
       "    </tr>\n",
       "    <tr>\n",
       "      <th>3</th>\n",
       "      <td>4</td>\n",
       "      <td>godwinomoosagie@ymail.com</td>\n",
       "      <td>Consumer</td>\n",
       "      <td>NY</td>\n",
       "      <td>TOYT</td>\n",
       "      <td>RAV4</td>\n",
       "      <td>4</td>\n",
       "      <td>4</td>\n",
       "      <td>21719.36</td>\n",
       "      <td>14052.00</td>\n",
       "    </tr>\n",
       "    <tr>\n",
       "      <th>4</th>\n",
       "      <td>4</td>\n",
       "      <td>godwinomoosagie@ymail.com</td>\n",
       "      <td>Consumer</td>\n",
       "      <td>NY</td>\n",
       "      <td>VOLK</td>\n",
       "      <td>TIGUAN</td>\n",
       "      <td>5</td>\n",
       "      <td>5</td>\n",
       "      <td>14197.86</td>\n",
       "      <td>10210.00</td>\n",
       "    </tr>\n",
       "  </tbody>\n",
       "</table>\n",
       "</div>"
      ]
     },
     "execution_count": 196,
     "metadata": {},
     "output_type": "execute_result"
    }
   ],
   "execution_count": 196
  },
  {
   "metadata": {
    "ExecuteTime": {
     "end_time": "2025-10-23T15:10:20.404593Z",
     "start_time": "2025-10-23T15:10:19.351398Z"
    }
   },
   "cell_type": "code",
   "source": [
    "cf_holdout = pd.read_csv(\"data/split/CollaborativeFiltering_holdout.csv\")\n",
    "cf_holdout.head()"
   ],
   "id": "1f57e796f914f6",
   "outputs": [
    {
     "data": {
      "text/plain": [
       "  mbr_lic_type mbr_state   lot_nbr  buyer_nbr                    mbr_email  \\\n",
       "0       Dealer        NV  62520895     835040         cncauto775@gmail.com   \n",
       "1       Dealer        NV  80901305     260760           olea8086@gmail.com   \n",
       "2   Dismantler        RI  65463145     617140  copart.617140@picknpull.com   \n",
       "3   Dismantler        RI  68813285     794584  northendtowing101@yahoo.com   \n",
       "4     Consumer        MT  61917475     574298         chuck.raup@yahoo.com   \n",
       "\n",
       "   max_bid      inv_dt  lot_year lot_make_cd grp_model       acv  \\\n",
       "0   1950.0  2025-07-31      2015         BMW        X1   9778.00   \n",
       "1   3250.0  2025-10-08      2017        ACUR       MDX  16297.00   \n",
       "2    500.0  2025-09-03      2002        DODG  RAM 2500   7000.00   \n",
       "3    400.0  2025-09-17      2015        CHRY   MINIVAN   5965.00   \n",
       "4    600.0  2025-09-24      2018        HYUN      KONA  13028.92   \n",
       "\n",
       "   plug_lot_acv  repair_cost  total_unique_buyers_on_that_lot  \\\n",
       "0        6525.0         0.00                                5   \n",
       "1       16025.0     11752.67                                5   \n",
       "2           0.0         0.00                                5   \n",
       "3        7150.0      8133.38                                5   \n",
       "4       12150.0         0.00                                3   \n",
       "\n",
       "   total_unique_lots_bid_by_buyers  \n",
       "0                              332  \n",
       "1                              223  \n",
       "2                              211  \n",
       "3                             1617  \n",
       "4                               16  "
      ],
      "text/html": [
       "<div>\n",
       "<style scoped>\n",
       "    .dataframe tbody tr th:only-of-type {\n",
       "        vertical-align: middle;\n",
       "    }\n",
       "\n",
       "    .dataframe tbody tr th {\n",
       "        vertical-align: top;\n",
       "    }\n",
       "\n",
       "    .dataframe thead th {\n",
       "        text-align: right;\n",
       "    }\n",
       "</style>\n",
       "<table border=\"1\" class=\"dataframe\">\n",
       "  <thead>\n",
       "    <tr style=\"text-align: right;\">\n",
       "      <th></th>\n",
       "      <th>mbr_lic_type</th>\n",
       "      <th>mbr_state</th>\n",
       "      <th>lot_nbr</th>\n",
       "      <th>buyer_nbr</th>\n",
       "      <th>mbr_email</th>\n",
       "      <th>max_bid</th>\n",
       "      <th>inv_dt</th>\n",
       "      <th>lot_year</th>\n",
       "      <th>lot_make_cd</th>\n",
       "      <th>grp_model</th>\n",
       "      <th>acv</th>\n",
       "      <th>plug_lot_acv</th>\n",
       "      <th>repair_cost</th>\n",
       "      <th>total_unique_buyers_on_that_lot</th>\n",
       "      <th>total_unique_lots_bid_by_buyers</th>\n",
       "    </tr>\n",
       "  </thead>\n",
       "  <tbody>\n",
       "    <tr>\n",
       "      <th>0</th>\n",
       "      <td>Dealer</td>\n",
       "      <td>NV</td>\n",
       "      <td>62520895</td>\n",
       "      <td>835040</td>\n",
       "      <td>cncauto775@gmail.com</td>\n",
       "      <td>1950.0</td>\n",
       "      <td>2025-07-31</td>\n",
       "      <td>2015</td>\n",
       "      <td>BMW</td>\n",
       "      <td>X1</td>\n",
       "      <td>9778.00</td>\n",
       "      <td>6525.0</td>\n",
       "      <td>0.00</td>\n",
       "      <td>5</td>\n",
       "      <td>332</td>\n",
       "    </tr>\n",
       "    <tr>\n",
       "      <th>1</th>\n",
       "      <td>Dealer</td>\n",
       "      <td>NV</td>\n",
       "      <td>80901305</td>\n",
       "      <td>260760</td>\n",
       "      <td>olea8086@gmail.com</td>\n",
       "      <td>3250.0</td>\n",
       "      <td>2025-10-08</td>\n",
       "      <td>2017</td>\n",
       "      <td>ACUR</td>\n",
       "      <td>MDX</td>\n",
       "      <td>16297.00</td>\n",
       "      <td>16025.0</td>\n",
       "      <td>11752.67</td>\n",
       "      <td>5</td>\n",
       "      <td>223</td>\n",
       "    </tr>\n",
       "    <tr>\n",
       "      <th>2</th>\n",
       "      <td>Dismantler</td>\n",
       "      <td>RI</td>\n",
       "      <td>65463145</td>\n",
       "      <td>617140</td>\n",
       "      <td>copart.617140@picknpull.com</td>\n",
       "      <td>500.0</td>\n",
       "      <td>2025-09-03</td>\n",
       "      <td>2002</td>\n",
       "      <td>DODG</td>\n",
       "      <td>RAM 2500</td>\n",
       "      <td>7000.00</td>\n",
       "      <td>0.0</td>\n",
       "      <td>0.00</td>\n",
       "      <td>5</td>\n",
       "      <td>211</td>\n",
       "    </tr>\n",
       "    <tr>\n",
       "      <th>3</th>\n",
       "      <td>Dismantler</td>\n",
       "      <td>RI</td>\n",
       "      <td>68813285</td>\n",
       "      <td>794584</td>\n",
       "      <td>northendtowing101@yahoo.com</td>\n",
       "      <td>400.0</td>\n",
       "      <td>2025-09-17</td>\n",
       "      <td>2015</td>\n",
       "      <td>CHRY</td>\n",
       "      <td>MINIVAN</td>\n",
       "      <td>5965.00</td>\n",
       "      <td>7150.0</td>\n",
       "      <td>8133.38</td>\n",
       "      <td>5</td>\n",
       "      <td>1617</td>\n",
       "    </tr>\n",
       "    <tr>\n",
       "      <th>4</th>\n",
       "      <td>Consumer</td>\n",
       "      <td>MT</td>\n",
       "      <td>61917475</td>\n",
       "      <td>574298</td>\n",
       "      <td>chuck.raup@yahoo.com</td>\n",
       "      <td>600.0</td>\n",
       "      <td>2025-09-24</td>\n",
       "      <td>2018</td>\n",
       "      <td>HYUN</td>\n",
       "      <td>KONA</td>\n",
       "      <td>13028.92</td>\n",
       "      <td>12150.0</td>\n",
       "      <td>0.00</td>\n",
       "      <td>3</td>\n",
       "      <td>16</td>\n",
       "    </tr>\n",
       "  </tbody>\n",
       "</table>\n",
       "</div>"
      ]
     },
     "execution_count": 197,
     "metadata": {},
     "output_type": "execute_result"
    }
   ],
   "execution_count": 197
  },
  {
   "metadata": {
    "ExecuteTime": {
     "end_time": "2025-10-23T15:15:42.393491Z",
     "start_time": "2025-10-23T15:15:42.391460Z"
    }
   },
   "cell_type": "code",
   "source": "cf_holdout = cf_holdout[['mbr_lic_type','buyer_nbr','mbr_state','mbr_email']].head(5000)",
   "id": "d18de89dd271496",
   "outputs": [],
   "execution_count": 203
  },
  {
   "metadata": {
    "ExecuteTime": {
     "end_time": "2025-10-24T03:05:27.168424Z",
     "start_time": "2025-10-24T03:05:27.094594Z"
    }
   },
   "cell_type": "code",
   "source": "cf_holdout[cf_holdout['buyer_nbr']==9484]",
   "id": "72924c864e20f7a6",
   "outputs": [
    {
     "ename": "NameError",
     "evalue": "name 'cf_holdout' is not defined",
     "output_type": "error",
     "traceback": [
      "\u001B[31m---------------------------------------------------------------------------\u001B[39m",
      "\u001B[31mNameError\u001B[39m                                 Traceback (most recent call last)",
      "\u001B[36mCell\u001B[39m\u001B[36m \u001B[39m\u001B[32mIn[1]\u001B[39m\u001B[32m, line 1\u001B[39m\n\u001B[32m----> \u001B[39m\u001B[32m1\u001B[39m \u001B[43mcf_holdout\u001B[49m[cf_holdout[\u001B[33m'\u001B[39m\u001B[33mbuyer_nbr\u001B[39m\u001B[33m'\u001B[39m]==\u001B[32m9484\u001B[39m]\n",
      "\u001B[31mNameError\u001B[39m: name 'cf_holdout' is not defined"
     ]
    }
   ],
   "execution_count": 1
  },
  {
   "metadata": {
    "ExecuteTime": {
     "end_time": "2025-10-23T15:16:12.269994Z",
     "start_time": "2025-10-23T15:15:43.090820Z"
    }
   },
   "cell_type": "code",
   "source": "cf_holdout_past_reco = generate_final_recommendations(cf_holdout, popular_lots)",
   "id": "98f02792fa3e2963",
   "outputs": [],
   "execution_count": 204
  },
  {
   "metadata": {},
   "cell_type": "code",
   "outputs": [],
   "execution_count": null,
   "source": "cf_holdout_past_reco",
   "id": "ba1e3d41cc9652f4"
  }
 ],
 "metadata": {
  "kernelspec": {
   "display_name": "Python 3",
   "language": "python",
   "name": "python3"
  },
  "language_info": {
   "codemirror_mode": {
    "name": "ipython",
    "version": 2
   },
   "file_extension": ".py",
   "mimetype": "text/x-python",
   "name": "python",
   "nbconvert_exporter": "python",
   "pygments_lexer": "ipython2",
   "version": "2.7.6"
  }
 },
 "nbformat": 4,
 "nbformat_minor": 5
}

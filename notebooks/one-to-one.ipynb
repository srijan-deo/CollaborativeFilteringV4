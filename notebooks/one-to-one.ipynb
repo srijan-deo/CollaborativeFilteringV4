{
 "cells": [
  {
   "cell_type": "code",
   "id": "initial_id",
   "metadata": {
    "collapsed": true,
    "ExecuteTime": {
     "end_time": "2025-10-27T15:34:53.099969Z",
     "start_time": "2025-10-27T15:34:52.358050Z"
    }
   },
   "source": [
    "import os\n",
    "import numpy as np\n",
    "import pandas as pd\n",
    "from sklearn.metrics.pairwise import manhattan_distances\n",
    "from concurrent.futures import ThreadPoolExecutor, as_completed\n",
    "from tqdm import tqdm"
   ],
   "outputs": [],
   "execution_count": 1
  },
  {
   "metadata": {
    "ExecuteTime": {
     "end_time": "2025-10-27T15:34:55.233719Z",
     "start_time": "2025-10-27T15:34:55.181499Z"
    }
   },
   "cell_type": "code",
   "source": [
    "one_to_one_test = pd.read_csv('../data/split/one_to_one_test.csv')\n",
    "\n",
    "print(one_to_one_test['buyer_nbr'].nunique())\n",
    "print(one_to_one_test['lot_nbr'].nunique())"
   ],
   "id": "d3e56d23498af7ee",
   "outputs": [
    {
     "name": "stdout",
     "output_type": "stream",
     "text": [
      "23702\n",
      "47591\n"
     ]
    }
   ],
   "execution_count": 2
  },
  {
   "metadata": {
    "ExecuteTime": {
     "end_time": "2025-10-27T15:35:00.457926Z",
     "start_time": "2025-10-27T15:35:00.429317Z"
    }
   },
   "cell_type": "code",
   "source": "upcoming_lots = pd.read_csv(\"../data/processed/upcoming_lots.csv\")",
   "id": "fe7ba0651d4159ea",
   "outputs": [],
   "execution_count": 3
  },
  {
   "metadata": {
    "ExecuteTime": {
     "end_time": "2025-10-27T15:35:01.726132Z",
     "start_time": "2025-10-27T15:35:01.718765Z"
    }
   },
   "cell_type": "code",
   "source": [
    "def recommend_lots_for_buyer(buyer_id, buyer_lots_df, upcoming_df, top_k=6):\n",
    "    results = []\n",
    "    used_lots = set()\n",
    "\n",
    "    # Step 1: Loop over each lot the buyer has seen\n",
    "    for _, row in buyer_lots_df.iterrows():\n",
    "        acv, repair = row['acv'], row['repair_cost']\n",
    "        year, make, model = row['lot_year'], row['lot_make_cd'], row['grp_model']\n",
    "        input_vec = np.array([[acv, repair]])\n",
    "\n",
    "        ymm_candidates = upcoming_df[\n",
    "            (upcoming_df['lot_year'] == year) &\n",
    "            (upcoming_df['lot_make_cd'] == make) &\n",
    "            (upcoming_df['grp_model'] == model)\n",
    "        ][['lot_nbr', 'acv', 'repair_cost']].dropna()\n",
    "\n",
    "        if ymm_candidates.empty:\n",
    "            ymm_candidates = upcoming_df[['lot_nbr', 'acv', 'repair_cost']].dropna()\n",
    "\n",
    "        ymm_candidates = ymm_candidates[~ymm_candidates['lot_nbr'].isin(used_lots)]\n",
    "        if ymm_candidates.empty:\n",
    "            continue\n",
    "\n",
    "        ymm_candidates = ymm_candidates.copy()\n",
    "        ymm_candidates['manhattan_dist'] = manhattan_distances(\n",
    "            ymm_candidates[['acv', 'repair_cost']].values, input_vec\n",
    "        ).flatten()\n",
    "\n",
    "        best_match = ymm_candidates.sort_values('manhattan_dist').iloc[0]\n",
    "\n",
    "        results.append({\n",
    "            'input_buyer_nbr': buyer_id,\n",
    "            'original_lot': int(row['recommended_lot']),\n",
    "            'recommended_lot': int(best_match['lot_nbr']),\n",
    "            'manhattan_distance': float(best_match['manhattan_dist']),\n",
    "            'source': 'Step 1 - YMM/Manhattan'\n",
    "        })\n",
    "        used_lots.add(int(best_match['lot_nbr']))\n",
    "\n",
    "    # Step 2: Recent YMM\n",
    "    if len(results) < top_k:\n",
    "        most_recent = buyer_lots_df.sort_values('inv_dt', ascending=False).iloc[0]\n",
    "        acv, repair = most_recent['acv'], most_recent['repair_cost']\n",
    "        year, make, model = most_recent['lot_year'], most_recent['lot_make_cd'], most_recent['grp_model']\n",
    "        input_vec = np.array([[acv, repair]])\n",
    "\n",
    "        ymm_candidates = upcoming_df[\n",
    "            (upcoming_df['lot_year'] == year) &\n",
    "            (upcoming_df['lot_make_cd'] == make) &\n",
    "            (upcoming_df['grp_model'] == model)\n",
    "        ][['lot_nbr', 'acv', 'repair_cost']].dropna()\n",
    "\n",
    "        ymm_candidates = ymm_candidates[~ymm_candidates['lot_nbr'].isin(used_lots)]\n",
    "        if not ymm_candidates.empty:\n",
    "            ymm_candidates = ymm_candidates.copy()\n",
    "            ymm_candidates['manhattan_dist'] = manhattan_distances(\n",
    "                ymm_candidates[['acv', 'repair_cost']].values, input_vec\n",
    "            ).flatten()\n",
    "\n",
    "            for _, r in ymm_candidates.sort_values('manhattan_dist').iterrows():\n",
    "                results.append({\n",
    "                    'input_buyer_nbr': buyer_id,\n",
    "                    'original_lot': int(most_recent['recommended_lot']),\n",
    "                    'recommended_lot': int(r['lot_nbr']),\n",
    "                    'manhattan_distance': float(r['manhattan_dist']),\n",
    "                    'source': 'Step 2 - Recent YMM/Manhattan'\n",
    "                })\n",
    "                used_lots.add(int(r['lot_nbr']))\n",
    "                if len(results) >= top_k:\n",
    "                    break\n",
    "\n",
    "    # Step 3: Make-level fallback\n",
    "    if len(results) < top_k:\n",
    "        make = most_recent['lot_make_cd']\n",
    "        input_vec = np.array([[acv, repair]])\n",
    "\n",
    "        make_candidates = upcoming_df[\n",
    "            (upcoming_df['lot_make_cd'] == make)\n",
    "        ][['lot_nbr', 'acv', 'repair_cost']].dropna()\n",
    "        make_candidates = make_candidates[~make_candidates['lot_nbr'].isin(used_lots)]\n",
    "\n",
    "        if not make_candidates.empty:\n",
    "            make_candidates = make_candidates.copy()\n",
    "            make_candidates['manhattan_dist'] = manhattan_distances(\n",
    "                make_candidates[['acv', 'repair_cost']].values, input_vec).flatten()\n",
    "\n",
    "            for _, r in make_candidates.sort_values('manhattan_dist').iterrows():\n",
    "                results.append({\n",
    "                    'input_buyer_nbr': buyer_id,\n",
    "                    'original_lot': int(most_recent['recommended_lot']),\n",
    "                    'recommended_lot': int(r['lot_nbr']),\n",
    "                    'manhattan_distance': float(r['manhattan_dist']),\n",
    "                    'source': 'Step 3 - Global Make/Manhattan'\n",
    "                })\n",
    "                used_lots.add(int(r['lot_nbr']))\n",
    "                if len(results) >= top_k:\n",
    "                    break\n",
    "\n",
    "    # Step 4: Global fallback\n",
    "    if len(results) < top_k:\n",
    "        input_vec = np.array([[acv, repair]])\n",
    "        global_candidates = upcoming_df[['lot_nbr', 'acv', 'repair_cost']].dropna()\n",
    "        global_candidates = global_candidates[~global_candidates['lot_nbr'].isin(used_lots)]\n",
    "\n",
    "        if not global_candidates.empty:\n",
    "            global_candidates = global_candidates.copy()\n",
    "            global_candidates['manhattan_dist'] = manhattan_distances(\n",
    "                global_candidates[['acv', 'repair_cost']].values, input_vec\n",
    "            ).flatten()\n",
    "\n",
    "            for _, r in global_candidates.sort_values('manhattan_dist').iterrows():\n",
    "                results.append({\n",
    "                    'input_buyer_nbr': buyer_id,\n",
    "                    'original_lot': int(most_recent['recommended_lot']),\n",
    "                    'recommended_lot': int(r['lot_nbr']),\n",
    "                    'manhattan_distance': float(r['manhattan_dist']),\n",
    "                    'source': 'Step 4 - Global Fallback Manhattan'\n",
    "                })\n",
    "                used_lots.add(int(r['lot_nbr']))\n",
    "                if len(results) >= top_k:\n",
    "                    break\n",
    "    return results\n"
   ],
   "id": "bf0f47009cb2b3b5",
   "outputs": [],
   "execution_count": 4
  },
  {
   "metadata": {
    "ExecuteTime": {
     "end_time": "2025-10-27T15:35:03.266796Z",
     "start_time": "2025-10-27T15:35:03.263765Z"
    }
   },
   "cell_type": "code",
   "source": [
    "def refine_recommendations_parallel_per_buyer(reco_df, upcoming_df, max_workers=4):\n",
    "    # 🛠 Rename buyer_nbr and lot_nbr to match expected inputs\n",
    "    reco_df.columns = reco_df.columns.str.strip().str.lower()\n",
    "\n",
    "    reco_df = reco_df.rename(columns={\n",
    "        'buyer_nbr': 'input_buyer_nbr',\n",
    "        'lot_nbr': 'recommended_lot'\n",
    "    })\n",
    "\n",
    "    results = []\n",
    "    futures = []\n",
    "    grouped = list(reco_df.groupby('input_buyer_nbr'))\n",
    "\n",
    "    with ThreadPoolExecutor(max_workers=max_workers) as executor:\n",
    "        for buyer_id, group_df in grouped:\n",
    "            futures.append(executor.submit(recommend_lots_for_buyer, buyer_id, group_df, upcoming_df))\n",
    "\n",
    "        for f in tqdm(as_completed(futures), total=len(futures), desc=\"Refining recos\"):\n",
    "            try:\n",
    "                results.extend(f.result())\n",
    "            except Exception as e:\n",
    "                print(f\"⚠️ Skipped buyer due to error: {e}\")\n",
    "\n",
    "    return pd.DataFrame(results)"
   ],
   "id": "646ccd12b1514e18",
   "outputs": [],
   "execution_count": 5
  },
  {
   "metadata": {
    "ExecuteTime": {
     "end_time": "2025-10-27T15:38:20.307762Z",
     "start_time": "2025-10-27T15:35:11.266128Z"
    }
   },
   "cell_type": "code",
   "source": "one_to_one_test_reco = refine_recommendations_parallel_per_buyer(one_to_one_test, upcoming_lots, max_workers=8)",
   "id": "1b38313bb390d0f4",
   "outputs": [
    {
     "name": "stderr",
     "output_type": "stream",
     "text": [
      "Refining recos: 100%|██████████| 23702/23702 [03:08<00:00, 125.82it/s]\n"
     ]
    }
   ],
   "execution_count": 6
  },
  {
   "metadata": {
    "ExecuteTime": {
     "end_time": "2025-10-27T15:38:23.284030Z",
     "start_time": "2025-10-27T15:38:23.277150Z"
    }
   },
   "cell_type": "code",
   "source": "one_to_one_test_reco",
   "id": "b0a59b2ec0debd50",
   "outputs": [
    {
     "data": {
      "text/plain": [
       "        input_buyer_nbr  original_lot  recommended_lot  manhattan_distance  \\\n",
       "0                   467      70378335         63457395             2337.33   \n",
       "1                   467      70720935         82109425             2204.37   \n",
       "2                   467      68690975         87224095             6533.15   \n",
       "3                   467      70378335         81966165             3798.55   \n",
       "4                   467      70378335         81230315             4287.50   \n",
       "...                 ...           ...              ...                 ...   \n",
       "142207           988383      68906855         80529235             2443.00   \n",
       "142208           988383      66651015         65450105              232.33   \n",
       "142209           988383      69319655         67687855             1593.79   \n",
       "142210           988383      59697224         68573555           217996.92   \n",
       "142211           988383      59697224         43380195            24058.19   \n",
       "\n",
       "                                    source  \n",
       "0                   Step 1 - YMM/Manhattan  \n",
       "1                   Step 1 - YMM/Manhattan  \n",
       "2                   Step 1 - YMM/Manhattan  \n",
       "3            Step 2 - Recent YMM/Manhattan  \n",
       "4            Step 2 - Recent YMM/Manhattan  \n",
       "...                                    ...  \n",
       "142207              Step 1 - YMM/Manhattan  \n",
       "142208              Step 1 - YMM/Manhattan  \n",
       "142209              Step 1 - YMM/Manhattan  \n",
       "142210      Step 3 - Global Make/Manhattan  \n",
       "142211  Step 4 - Global Fallback Manhattan  \n",
       "\n",
       "[142212 rows x 5 columns]"
      ],
      "text/html": [
       "<div>\n",
       "<style scoped>\n",
       "    .dataframe tbody tr th:only-of-type {\n",
       "        vertical-align: middle;\n",
       "    }\n",
       "\n",
       "    .dataframe tbody tr th {\n",
       "        vertical-align: top;\n",
       "    }\n",
       "\n",
       "    .dataframe thead th {\n",
       "        text-align: right;\n",
       "    }\n",
       "</style>\n",
       "<table border=\"1\" class=\"dataframe\">\n",
       "  <thead>\n",
       "    <tr style=\"text-align: right;\">\n",
       "      <th></th>\n",
       "      <th>input_buyer_nbr</th>\n",
       "      <th>original_lot</th>\n",
       "      <th>recommended_lot</th>\n",
       "      <th>manhattan_distance</th>\n",
       "      <th>source</th>\n",
       "    </tr>\n",
       "  </thead>\n",
       "  <tbody>\n",
       "    <tr>\n",
       "      <th>0</th>\n",
       "      <td>467</td>\n",
       "      <td>70378335</td>\n",
       "      <td>63457395</td>\n",
       "      <td>2337.33</td>\n",
       "      <td>Step 1 - YMM/Manhattan</td>\n",
       "    </tr>\n",
       "    <tr>\n",
       "      <th>1</th>\n",
       "      <td>467</td>\n",
       "      <td>70720935</td>\n",
       "      <td>82109425</td>\n",
       "      <td>2204.37</td>\n",
       "      <td>Step 1 - YMM/Manhattan</td>\n",
       "    </tr>\n",
       "    <tr>\n",
       "      <th>2</th>\n",
       "      <td>467</td>\n",
       "      <td>68690975</td>\n",
       "      <td>87224095</td>\n",
       "      <td>6533.15</td>\n",
       "      <td>Step 1 - YMM/Manhattan</td>\n",
       "    </tr>\n",
       "    <tr>\n",
       "      <th>3</th>\n",
       "      <td>467</td>\n",
       "      <td>70378335</td>\n",
       "      <td>81966165</td>\n",
       "      <td>3798.55</td>\n",
       "      <td>Step 2 - Recent YMM/Manhattan</td>\n",
       "    </tr>\n",
       "    <tr>\n",
       "      <th>4</th>\n",
       "      <td>467</td>\n",
       "      <td>70378335</td>\n",
       "      <td>81230315</td>\n",
       "      <td>4287.50</td>\n",
       "      <td>Step 2 - Recent YMM/Manhattan</td>\n",
       "    </tr>\n",
       "    <tr>\n",
       "      <th>...</th>\n",
       "      <td>...</td>\n",
       "      <td>...</td>\n",
       "      <td>...</td>\n",
       "      <td>...</td>\n",
       "      <td>...</td>\n",
       "    </tr>\n",
       "    <tr>\n",
       "      <th>142207</th>\n",
       "      <td>988383</td>\n",
       "      <td>68906855</td>\n",
       "      <td>80529235</td>\n",
       "      <td>2443.00</td>\n",
       "      <td>Step 1 - YMM/Manhattan</td>\n",
       "    </tr>\n",
       "    <tr>\n",
       "      <th>142208</th>\n",
       "      <td>988383</td>\n",
       "      <td>66651015</td>\n",
       "      <td>65450105</td>\n",
       "      <td>232.33</td>\n",
       "      <td>Step 1 - YMM/Manhattan</td>\n",
       "    </tr>\n",
       "    <tr>\n",
       "      <th>142209</th>\n",
       "      <td>988383</td>\n",
       "      <td>69319655</td>\n",
       "      <td>67687855</td>\n",
       "      <td>1593.79</td>\n",
       "      <td>Step 1 - YMM/Manhattan</td>\n",
       "    </tr>\n",
       "    <tr>\n",
       "      <th>142210</th>\n",
       "      <td>988383</td>\n",
       "      <td>59697224</td>\n",
       "      <td>68573555</td>\n",
       "      <td>217996.92</td>\n",
       "      <td>Step 3 - Global Make/Manhattan</td>\n",
       "    </tr>\n",
       "    <tr>\n",
       "      <th>142211</th>\n",
       "      <td>988383</td>\n",
       "      <td>59697224</td>\n",
       "      <td>43380195</td>\n",
       "      <td>24058.19</td>\n",
       "      <td>Step 4 - Global Fallback Manhattan</td>\n",
       "    </tr>\n",
       "  </tbody>\n",
       "</table>\n",
       "<p>142212 rows × 5 columns</p>\n",
       "</div>"
      ]
     },
     "execution_count": 7,
     "metadata": {},
     "output_type": "execute_result"
    }
   ],
   "execution_count": 7
  },
  {
   "metadata": {
    "ExecuteTime": {
     "end_time": "2025-10-27T15:38:24.762745Z",
     "start_time": "2025-10-27T15:38:24.758198Z"
    }
   },
   "cell_type": "code",
   "source": "one_to_one_test_reco['input_buyer_nbr'].nunique()",
   "id": "4e75a68fe75d9aba",
   "outputs": [
    {
     "data": {
      "text/plain": [
       "23702"
      ]
     },
     "execution_count": 8,
     "metadata": {},
     "output_type": "execute_result"
    }
   ],
   "execution_count": 8
  },
  {
   "metadata": {
    "ExecuteTime": {
     "end_time": "2025-10-27T15:38:33.780773Z",
     "start_time": "2025-10-27T15:38:29.610747Z"
    }
   },
   "cell_type": "code",
   "source": "one_to_one_test_reco.to_excel('../data/results/onetoone_test_reco.xlsx',index=False)",
   "id": "c9bd29467986677e",
   "outputs": [],
   "execution_count": 9
  },
  {
   "metadata": {
    "ExecuteTime": {
     "end_time": "2025-10-27T15:40:32.637910Z",
     "start_time": "2025-10-27T15:40:32.585517Z"
    }
   },
   "cell_type": "code",
   "source": [
    "one_to_one_holdout = pd.read_csv('../data/split/one_to_one_holdout.csv')\n",
    "\n",
    "print(one_to_one_holdout['buyer_nbr'].nunique())\n",
    "print(one_to_one_holdout['lot_nbr'].nunique())"
   ],
   "id": "b62d21f40336b42f",
   "outputs": [
    {
     "name": "stdout",
     "output_type": "stream",
     "text": [
      "23876\n",
      "47539\n"
     ]
    }
   ],
   "execution_count": 11
  },
  {
   "metadata": {
    "ExecuteTime": {
     "end_time": "2025-10-27T15:43:46.311548Z",
     "start_time": "2025-10-27T15:40:33.361333Z"
    }
   },
   "cell_type": "code",
   "source": "one_to_one_holdout_reco = refine_recommendations_parallel_per_buyer(one_to_one_holdout, upcoming_lots, max_workers=8)",
   "id": "8d9f9805654b0b00",
   "outputs": [
    {
     "name": "stderr",
     "output_type": "stream",
     "text": [
      "Refining recos: 100%|██████████| 23876/23876 [03:12<00:00, 124.22it/s]\n"
     ]
    }
   ],
   "execution_count": 12
  },
  {
   "metadata": {
    "ExecuteTime": {
     "end_time": "2025-10-27T15:43:51.271129Z",
     "start_time": "2025-10-27T15:43:51.266403Z"
    }
   },
   "cell_type": "code",
   "source": "one_to_one_holdout_reco",
   "id": "a64ab5653ace75ce",
   "outputs": [
    {
     "data": {
      "text/plain": [
       "        input_buyer_nbr  original_lot  recommended_lot  manhattan_distance  \\\n",
       "0                   144      63028865         82602225             3562.18   \n",
       "1                   144      61231425         86861125             1459.57   \n",
       "2                   144      80797995         80825505             1020.66   \n",
       "3                   144      85478845         87279265             1629.00   \n",
       "4                   144      63028865         87252715             6122.78   \n",
       "...                 ...           ...              ...                 ...   \n",
       "143251           995336      69071085         83840965                0.00   \n",
       "143252           995336      63008385         85560105             3300.00   \n",
       "143253           995336      69071085         87478795                0.00   \n",
       "143254           995336      69071085         89813695                0.00   \n",
       "143255           995336      69071085         84699705                0.00   \n",
       "\n",
       "                                source  \n",
       "0               Step 1 - YMM/Manhattan  \n",
       "1               Step 1 - YMM/Manhattan  \n",
       "2               Step 1 - YMM/Manhattan  \n",
       "3               Step 1 - YMM/Manhattan  \n",
       "4        Step 2 - Recent YMM/Manhattan  \n",
       "...                                ...  \n",
       "143251          Step 1 - YMM/Manhattan  \n",
       "143252          Step 1 - YMM/Manhattan  \n",
       "143253  Step 3 - Global Make/Manhattan  \n",
       "143254  Step 3 - Global Make/Manhattan  \n",
       "143255  Step 3 - Global Make/Manhattan  \n",
       "\n",
       "[143256 rows x 5 columns]"
      ],
      "text/html": [
       "<div>\n",
       "<style scoped>\n",
       "    .dataframe tbody tr th:only-of-type {\n",
       "        vertical-align: middle;\n",
       "    }\n",
       "\n",
       "    .dataframe tbody tr th {\n",
       "        vertical-align: top;\n",
       "    }\n",
       "\n",
       "    .dataframe thead th {\n",
       "        text-align: right;\n",
       "    }\n",
       "</style>\n",
       "<table border=\"1\" class=\"dataframe\">\n",
       "  <thead>\n",
       "    <tr style=\"text-align: right;\">\n",
       "      <th></th>\n",
       "      <th>input_buyer_nbr</th>\n",
       "      <th>original_lot</th>\n",
       "      <th>recommended_lot</th>\n",
       "      <th>manhattan_distance</th>\n",
       "      <th>source</th>\n",
       "    </tr>\n",
       "  </thead>\n",
       "  <tbody>\n",
       "    <tr>\n",
       "      <th>0</th>\n",
       "      <td>144</td>\n",
       "      <td>63028865</td>\n",
       "      <td>82602225</td>\n",
       "      <td>3562.18</td>\n",
       "      <td>Step 1 - YMM/Manhattan</td>\n",
       "    </tr>\n",
       "    <tr>\n",
       "      <th>1</th>\n",
       "      <td>144</td>\n",
       "      <td>61231425</td>\n",
       "      <td>86861125</td>\n",
       "      <td>1459.57</td>\n",
       "      <td>Step 1 - YMM/Manhattan</td>\n",
       "    </tr>\n",
       "    <tr>\n",
       "      <th>2</th>\n",
       "      <td>144</td>\n",
       "      <td>80797995</td>\n",
       "      <td>80825505</td>\n",
       "      <td>1020.66</td>\n",
       "      <td>Step 1 - YMM/Manhattan</td>\n",
       "    </tr>\n",
       "    <tr>\n",
       "      <th>3</th>\n",
       "      <td>144</td>\n",
       "      <td>85478845</td>\n",
       "      <td>87279265</td>\n",
       "      <td>1629.00</td>\n",
       "      <td>Step 1 - YMM/Manhattan</td>\n",
       "    </tr>\n",
       "    <tr>\n",
       "      <th>4</th>\n",
       "      <td>144</td>\n",
       "      <td>63028865</td>\n",
       "      <td>87252715</td>\n",
       "      <td>6122.78</td>\n",
       "      <td>Step 2 - Recent YMM/Manhattan</td>\n",
       "    </tr>\n",
       "    <tr>\n",
       "      <th>...</th>\n",
       "      <td>...</td>\n",
       "      <td>...</td>\n",
       "      <td>...</td>\n",
       "      <td>...</td>\n",
       "      <td>...</td>\n",
       "    </tr>\n",
       "    <tr>\n",
       "      <th>143251</th>\n",
       "      <td>995336</td>\n",
       "      <td>69071085</td>\n",
       "      <td>83840965</td>\n",
       "      <td>0.00</td>\n",
       "      <td>Step 1 - YMM/Manhattan</td>\n",
       "    </tr>\n",
       "    <tr>\n",
       "      <th>143252</th>\n",
       "      <td>995336</td>\n",
       "      <td>63008385</td>\n",
       "      <td>85560105</td>\n",
       "      <td>3300.00</td>\n",
       "      <td>Step 1 - YMM/Manhattan</td>\n",
       "    </tr>\n",
       "    <tr>\n",
       "      <th>143253</th>\n",
       "      <td>995336</td>\n",
       "      <td>69071085</td>\n",
       "      <td>87478795</td>\n",
       "      <td>0.00</td>\n",
       "      <td>Step 3 - Global Make/Manhattan</td>\n",
       "    </tr>\n",
       "    <tr>\n",
       "      <th>143254</th>\n",
       "      <td>995336</td>\n",
       "      <td>69071085</td>\n",
       "      <td>89813695</td>\n",
       "      <td>0.00</td>\n",
       "      <td>Step 3 - Global Make/Manhattan</td>\n",
       "    </tr>\n",
       "    <tr>\n",
       "      <th>143255</th>\n",
       "      <td>995336</td>\n",
       "      <td>69071085</td>\n",
       "      <td>84699705</td>\n",
       "      <td>0.00</td>\n",
       "      <td>Step 3 - Global Make/Manhattan</td>\n",
       "    </tr>\n",
       "  </tbody>\n",
       "</table>\n",
       "<p>143256 rows × 5 columns</p>\n",
       "</div>"
      ]
     },
     "execution_count": 13,
     "metadata": {},
     "output_type": "execute_result"
    }
   ],
   "execution_count": 13
  },
  {
   "metadata": {
    "ExecuteTime": {
     "end_time": "2025-10-27T15:43:58.705364Z",
     "start_time": "2025-10-27T15:43:58.700800Z"
    }
   },
   "cell_type": "code",
   "source": "one_to_one_holdout_reco['input_buyer_nbr'].nunique()",
   "id": "a05671c8b1e48a2b",
   "outputs": [
    {
     "data": {
      "text/plain": [
       "23876"
      ]
     },
     "execution_count": 14,
     "metadata": {},
     "output_type": "execute_result"
    }
   ],
   "execution_count": 14
  },
  {
   "metadata": {
    "ExecuteTime": {
     "end_time": "2025-10-27T15:44:20.550097Z",
     "start_time": "2025-10-27T15:44:16.459746Z"
    }
   },
   "cell_type": "code",
   "source": "one_to_one_holdout_reco.to_excel('../data/results/onetoone_holdout_would_have_reco.xlsx',index=False)",
   "id": "81bccfc86ef7e395",
   "outputs": [],
   "execution_count": 15
  },
  {
   "metadata": {
    "ExecuteTime": {
     "end_time": "2025-10-27T15:44:30.642558Z",
     "start_time": "2025-10-27T15:44:26.765369Z"
    }
   },
   "cell_type": "code",
   "source": [
    "cf_test = pd.read_excel('../data/past_reco/cf_test_reco.xlsx')\n",
    "\n",
    "print(cf_test['input_buyer_nbr'].nunique())\n",
    "print(cf_test['recommended_lot'].nunique())"
   ],
   "id": "1f47e6bd082c846c",
   "outputs": [
    {
     "name": "stdout",
     "output_type": "stream",
     "text": [
      "16486\n",
      "58256\n"
     ]
    }
   ],
   "execution_count": 16
  },
  {
   "metadata": {
    "ExecuteTime": {
     "end_time": "2025-10-27T15:48:17.602032Z",
     "start_time": "2025-10-27T15:44:37.392541Z"
    }
   },
   "cell_type": "code",
   "source": "cf_test_reco = refine_recommendations_parallel_per_buyer(cf_test, upcoming_lots, max_workers=8)",
   "id": "1627d74107245d63",
   "outputs": [
    {
     "name": "stderr",
     "output_type": "stream",
     "text": [
      "Refining recos: 100%|██████████| 16486/16486 [03:39<00:00, 75.06it/s]\n"
     ]
    }
   ],
   "execution_count": 17
  },
  {
   "metadata": {
    "ExecuteTime": {
     "end_time": "2025-10-27T15:49:41.564500Z",
     "start_time": "2025-10-27T15:49:41.560898Z"
    }
   },
   "cell_type": "code",
   "source": "cf_test_reco['input_buyer_nbr'].nunique()",
   "id": "dd87a801feedeeda",
   "outputs": [
    {
     "data": {
      "text/plain": [
       "16486"
      ]
     },
     "execution_count": 18,
     "metadata": {},
     "output_type": "execute_result"
    }
   ],
   "execution_count": 18
  },
  {
   "metadata": {
    "ExecuteTime": {
     "end_time": "2025-10-27T15:49:50.182820Z",
     "start_time": "2025-10-27T15:49:47.387331Z"
    }
   },
   "cell_type": "code",
   "source": "cf_test_reco.to_excel('../data/results/cf_test_reco.xlsx',index=False)",
   "id": "1713560392071041",
   "outputs": [],
   "execution_count": 19
  },
  {
   "metadata": {
    "ExecuteTime": {
     "end_time": "2025-10-27T15:49:58.179389Z",
     "start_time": "2025-10-27T15:49:54.360754Z"
    }
   },
   "cell_type": "code",
   "source": [
    "cf_holdout_would_have = pd.read_excel('../data/past_reco/cf_holdout_would_have_reco.xlsx')\n",
    "\n",
    "print(cf_holdout_would_have['input_buyer_nbr'].nunique())\n",
    "print(cf_holdout_would_have['recommended_lot'].nunique())"
   ],
   "id": "f7c4e4a4a22a232c",
   "outputs": [
    {
     "name": "stdout",
     "output_type": "stream",
     "text": [
      "16693\n",
      "59019\n"
     ]
    }
   ],
   "execution_count": 20
  },
  {
   "metadata": {
    "ExecuteTime": {
     "end_time": "2025-10-27T15:53:46.775678Z",
     "start_time": "2025-10-27T15:50:03.402567Z"
    }
   },
   "cell_type": "code",
   "source": "cf_holdout_would_have_reco = refine_recommendations_parallel_per_buyer(cf_holdout_would_have, upcoming_lots, max_workers=8)",
   "id": "efab70ecad23dc6",
   "outputs": [
    {
     "name": "stderr",
     "output_type": "stream",
     "text": [
      "Refining recos: 100%|██████████| 16693/16693 [03:42<00:00, 74.90it/s]\n"
     ]
    }
   ],
   "execution_count": 21
  },
  {
   "metadata": {
    "ExecuteTime": {
     "end_time": "2025-10-27T15:57:45.073840Z",
     "start_time": "2025-10-27T15:57:45.068831Z"
    }
   },
   "cell_type": "code",
   "source": "cf_holdout_would_have['input_buyer_nbr'].nunique()",
   "id": "e8de5db126d23eb",
   "outputs": [
    {
     "data": {
      "text/plain": [
       "16693"
      ]
     },
     "execution_count": 22,
     "metadata": {},
     "output_type": "execute_result"
    }
   ],
   "execution_count": 22
  },
  {
   "metadata": {
    "ExecuteTime": {
     "end_time": "2025-10-27T15:58:05.417778Z",
     "start_time": "2025-10-27T15:57:58.978861Z"
    }
   },
   "cell_type": "code",
   "source": "cf_holdout_would_have.to_excel('../data/results/cf_holdout_would_have_reco.xlsx',index=False)",
   "id": "4b3ab1932ff9dffc",
   "outputs": [],
   "execution_count": 23
  },
  {
   "metadata": {},
   "cell_type": "code",
   "outputs": [],
   "execution_count": null,
   "source": "",
   "id": "6413aa42b9983f04"
  },
  {
   "metadata": {},
   "cell_type": "code",
   "outputs": [],
   "execution_count": null,
   "source": "",
   "id": "c7fca92e777ba661"
  },
  {
   "metadata": {
    "ExecuteTime": {
     "end_time": "2025-10-20T16:04:19.960549Z",
     "start_time": "2025-10-20T16:04:19.954017Z"
    }
   },
   "cell_type": "code",
   "source": [
    "data_low_test = data_low_test[['buyer_nbr','mbr_email','lot_nbr', 'lot_year', 'lot_make_cd', 'grp_model', 'acv', 'repair_cost', 'inv_dt']]\n",
    "data_low_test"
   ],
   "id": "6e154147cf092013",
   "outputs": [
    {
     "data": {
      "text/plain": [
       "       buyer_nbr                       mbr_email   lot_nbr  lot_year  \\\n",
       "0         845199            jdpcdp7280@gmail.com  64241495      2016   \n",
       "1         440309            koci.besim@gmail.com  71565645      2010   \n",
       "2          78097  windyvalleyfarmmatt@icloud.com  62702845      2020   \n",
       "3         511537        damianjames309@gmail.com  65201845      2011   \n",
       "4         471975               nidopod@gmail.com  55886865      2016   \n",
       "...          ...                             ...       ...       ...   \n",
       "57609      37727          djackson.aui@gmail.com  56553155      2019   \n",
       "57610      45301        masonmollman@hotmail.com  64722285      2004   \n",
       "57611     633103             babys4444@gmail.com  61585715      2015   \n",
       "57612     870563      CSTOKES@NETWORKFACTORY.COM  60593265      2014   \n",
       "57613     550155     Timothy.collins26@yahoo.com  62109885      2019   \n",
       "\n",
       "      lot_make_cd  grp_model       acv  repair_cost      inv_dt  \n",
       "0            CHEV   CORVETTE  35661.00     30000.00  2025-10-01  \n",
       "1            SUBA    IMPREZA   8892.77      7119.03  2025-09-30  \n",
       "2             RAM  PROMASTER  15120.00      1975.00  2025-08-08  \n",
       "3            TOYT    COROLLA   4214.00      3986.00  2025-08-04  \n",
       "4            FORD       F250  22855.00     12639.11  2025-08-13  \n",
       "...           ...        ...       ...          ...         ...  \n",
       "57609         JEP   WRANGLER  26515.00     17993.23  2025-07-28  \n",
       "57610         JEP   WRANGLER      0.00         0.00  2025-09-25  \n",
       "57611         JEP   WRANGLER  20939.00     13405.12  2025-09-02  \n",
       "57612         JEP   WRANGLER  12865.00         0.00  2025-07-24  \n",
       "57613         JEP   WRANGLER  34579.00     30398.58  2025-07-30  \n",
       "\n",
       "[57614 rows x 9 columns]"
      ],
      "text/html": [
       "<div>\n",
       "<style scoped>\n",
       "    .dataframe tbody tr th:only-of-type {\n",
       "        vertical-align: middle;\n",
       "    }\n",
       "\n",
       "    .dataframe tbody tr th {\n",
       "        vertical-align: top;\n",
       "    }\n",
       "\n",
       "    .dataframe thead th {\n",
       "        text-align: right;\n",
       "    }\n",
       "</style>\n",
       "<table border=\"1\" class=\"dataframe\">\n",
       "  <thead>\n",
       "    <tr style=\"text-align: right;\">\n",
       "      <th></th>\n",
       "      <th>buyer_nbr</th>\n",
       "      <th>mbr_email</th>\n",
       "      <th>lot_nbr</th>\n",
       "      <th>lot_year</th>\n",
       "      <th>lot_make_cd</th>\n",
       "      <th>grp_model</th>\n",
       "      <th>acv</th>\n",
       "      <th>repair_cost</th>\n",
       "      <th>inv_dt</th>\n",
       "    </tr>\n",
       "  </thead>\n",
       "  <tbody>\n",
       "    <tr>\n",
       "      <th>0</th>\n",
       "      <td>845199</td>\n",
       "      <td>jdpcdp7280@gmail.com</td>\n",
       "      <td>64241495</td>\n",
       "      <td>2016</td>\n",
       "      <td>CHEV</td>\n",
       "      <td>CORVETTE</td>\n",
       "      <td>35661.00</td>\n",
       "      <td>30000.00</td>\n",
       "      <td>2025-10-01</td>\n",
       "    </tr>\n",
       "    <tr>\n",
       "      <th>1</th>\n",
       "      <td>440309</td>\n",
       "      <td>koci.besim@gmail.com</td>\n",
       "      <td>71565645</td>\n",
       "      <td>2010</td>\n",
       "      <td>SUBA</td>\n",
       "      <td>IMPREZA</td>\n",
       "      <td>8892.77</td>\n",
       "      <td>7119.03</td>\n",
       "      <td>2025-09-30</td>\n",
       "    </tr>\n",
       "    <tr>\n",
       "      <th>2</th>\n",
       "      <td>78097</td>\n",
       "      <td>windyvalleyfarmmatt@icloud.com</td>\n",
       "      <td>62702845</td>\n",
       "      <td>2020</td>\n",
       "      <td>RAM</td>\n",
       "      <td>PROMASTER</td>\n",
       "      <td>15120.00</td>\n",
       "      <td>1975.00</td>\n",
       "      <td>2025-08-08</td>\n",
       "    </tr>\n",
       "    <tr>\n",
       "      <th>3</th>\n",
       "      <td>511537</td>\n",
       "      <td>damianjames309@gmail.com</td>\n",
       "      <td>65201845</td>\n",
       "      <td>2011</td>\n",
       "      <td>TOYT</td>\n",
       "      <td>COROLLA</td>\n",
       "      <td>4214.00</td>\n",
       "      <td>3986.00</td>\n",
       "      <td>2025-08-04</td>\n",
       "    </tr>\n",
       "    <tr>\n",
       "      <th>4</th>\n",
       "      <td>471975</td>\n",
       "      <td>nidopod@gmail.com</td>\n",
       "      <td>55886865</td>\n",
       "      <td>2016</td>\n",
       "      <td>FORD</td>\n",
       "      <td>F250</td>\n",
       "      <td>22855.00</td>\n",
       "      <td>12639.11</td>\n",
       "      <td>2025-08-13</td>\n",
       "    </tr>\n",
       "    <tr>\n",
       "      <th>...</th>\n",
       "      <td>...</td>\n",
       "      <td>...</td>\n",
       "      <td>...</td>\n",
       "      <td>...</td>\n",
       "      <td>...</td>\n",
       "      <td>...</td>\n",
       "      <td>...</td>\n",
       "      <td>...</td>\n",
       "      <td>...</td>\n",
       "    </tr>\n",
       "    <tr>\n",
       "      <th>57609</th>\n",
       "      <td>37727</td>\n",
       "      <td>djackson.aui@gmail.com</td>\n",
       "      <td>56553155</td>\n",
       "      <td>2019</td>\n",
       "      <td>JEP</td>\n",
       "      <td>WRANGLER</td>\n",
       "      <td>26515.00</td>\n",
       "      <td>17993.23</td>\n",
       "      <td>2025-07-28</td>\n",
       "    </tr>\n",
       "    <tr>\n",
       "      <th>57610</th>\n",
       "      <td>45301</td>\n",
       "      <td>masonmollman@hotmail.com</td>\n",
       "      <td>64722285</td>\n",
       "      <td>2004</td>\n",
       "      <td>JEP</td>\n",
       "      <td>WRANGLER</td>\n",
       "      <td>0.00</td>\n",
       "      <td>0.00</td>\n",
       "      <td>2025-09-25</td>\n",
       "    </tr>\n",
       "    <tr>\n",
       "      <th>57611</th>\n",
       "      <td>633103</td>\n",
       "      <td>babys4444@gmail.com</td>\n",
       "      <td>61585715</td>\n",
       "      <td>2015</td>\n",
       "      <td>JEP</td>\n",
       "      <td>WRANGLER</td>\n",
       "      <td>20939.00</td>\n",
       "      <td>13405.12</td>\n",
       "      <td>2025-09-02</td>\n",
       "    </tr>\n",
       "    <tr>\n",
       "      <th>57612</th>\n",
       "      <td>870563</td>\n",
       "      <td>CSTOKES@NETWORKFACTORY.COM</td>\n",
       "      <td>60593265</td>\n",
       "      <td>2014</td>\n",
       "      <td>JEP</td>\n",
       "      <td>WRANGLER</td>\n",
       "      <td>12865.00</td>\n",
       "      <td>0.00</td>\n",
       "      <td>2025-07-24</td>\n",
       "    </tr>\n",
       "    <tr>\n",
       "      <th>57613</th>\n",
       "      <td>550155</td>\n",
       "      <td>Timothy.collins26@yahoo.com</td>\n",
       "      <td>62109885</td>\n",
       "      <td>2019</td>\n",
       "      <td>JEP</td>\n",
       "      <td>WRANGLER</td>\n",
       "      <td>34579.00</td>\n",
       "      <td>30398.58</td>\n",
       "      <td>2025-07-30</td>\n",
       "    </tr>\n",
       "  </tbody>\n",
       "</table>\n",
       "<p>57614 rows × 9 columns</p>\n",
       "</div>"
      ]
     },
     "execution_count": 6,
     "metadata": {},
     "output_type": "execute_result"
    }
   ],
   "execution_count": 6
  },
  {
   "metadata": {
    "ExecuteTime": {
     "end_time": "2025-10-20T16:04:24.792480Z",
     "start_time": "2025-10-20T16:04:24.790147Z"
    }
   },
   "cell_type": "code",
   "source": [
    "data_low_test.rename(columns={\n",
    "    'buyer_nbr': 'input_buyer_nbr',\n",
    "    'lot_nbr': 'recommended_lot'\n",
    "}, inplace=True)"
   ],
   "id": "453d8d9084e8b115",
   "outputs": [
    {
     "name": "stderr",
     "output_type": "stream",
     "text": [
      "/var/folders/jj/1fql_rw17h10wm_w98gwx9wm0000gq/T/ipykernel_28723/1835412636.py:1: SettingWithCopyWarning: \n",
      "A value is trying to be set on a copy of a slice from a DataFrame\n",
      "\n",
      "See the caveats in the documentation: https://pandas.pydata.org/pandas-docs/stable/user_guide/indexing.html#returning-a-view-versus-a-copy\n",
      "  data_low_test.rename(columns={\n"
     ]
    }
   ],
   "execution_count": 7
  },
  {
   "metadata": {
    "ExecuteTime": {
     "end_time": "2025-10-20T16:04:28.213484Z",
     "start_time": "2025-10-20T16:04:28.193930Z"
    }
   },
   "cell_type": "code",
   "source": "data2 = pd.read_csv('data/interim/future_lots.csv')",
   "id": "662568df8df706b3",
   "outputs": [],
   "execution_count": 8
  },
  {
   "metadata": {
    "ExecuteTime": {
     "end_time": "2025-10-20T16:04:32.445137Z",
     "start_time": "2025-10-20T16:04:32.435872Z"
    }
   },
   "cell_type": "code",
   "source": "data2.isnull().sum()",
   "id": "95e30e8434ecd299",
   "outputs": [
    {
     "data": {
      "text/plain": [
       "lot_nbr             0\n",
       "lot_year            0\n",
       "lot_make_cd         0\n",
       "grp_model           0\n",
       "damage_type_desc    0\n",
       "repair_cost         0\n",
       "acv                 0\n",
       "plug_lot_acv        0\n",
       "auc_dt              0\n",
       "proquote_amt        0\n",
       "dtype: int64"
      ]
     },
     "execution_count": 9,
     "metadata": {},
     "output_type": "execute_result"
    }
   ],
   "execution_count": 9
  },
  {
   "metadata": {
    "ExecuteTime": {
     "end_time": "2025-10-20T16:04:38.026374Z",
     "start_time": "2025-10-20T16:04:38.018841Z"
    }
   },
   "cell_type": "code",
   "source": [
    "def recommend_lots_for_buyer(buyer_id, buyer_lots_df, upcoming_df, top_k=6):\n",
    "    from sklearn.metrics.pairwise import manhattan_distances\n",
    "    import numpy as np\n",
    "    import pandas as pd\n",
    "\n",
    "    results = []\n",
    "    used_lots = set()\n",
    "\n",
    "    # ------------------------\n",
    "    # STEP 1: One-to-one exact YMM + fallback\n",
    "    # ------------------------\n",
    "    for _, row in buyer_lots_df.iterrows():\n",
    "        acv, repair = row['acv'], row['repair_cost']\n",
    "        year, make, model = row['lot_year'], row['lot_make_cd'], row['grp_model']\n",
    "        input_vec = np.array([[acv, repair]])\n",
    "\n",
    "        ymm_candidates = upcoming_df[\n",
    "            (upcoming_df['lot_year'] == year) &\n",
    "            (upcoming_df['lot_make_cd'] == make) &\n",
    "            (upcoming_df['grp_model'] == model)\n",
    "        ][['lot_nbr', 'acv', 'repair_cost']].dropna()\n",
    "\n",
    "        if ymm_candidates.empty:\n",
    "            ymm_candidates = upcoming_df[['lot_nbr', 'acv', 'repair_cost']].dropna()\n",
    "\n",
    "        ymm_candidates = ymm_candidates[~ymm_candidates['lot_nbr'].isin(used_lots)]\n",
    "        if ymm_candidates.empty:\n",
    "            continue\n",
    "\n",
    "        ymm_candidates['manhattan_dist'] = manhattan_distances(\n",
    "            ymm_candidates[['acv', 'repair_cost']].values, input_vec\n",
    "        ).flatten()\n",
    "\n",
    "        best_match = ymm_candidates.sort_values('manhattan_dist').iloc[0]\n",
    "\n",
    "        results.append({\n",
    "            'input_buyer_nbr': buyer_id,\n",
    "            'original_lot': int(row['recommended_lot']),\n",
    "            'recommended_lot': int(best_match['lot_nbr']),\n",
    "            'manhattan_distance': float(best_match['manhattan_dist']),\n",
    "            'source': 'Step 1 - YMM/Manhattan'\n",
    "        })\n",
    "        used_lots.add(int(best_match['lot_nbr']))\n",
    "\n",
    "    # ------------------------\n",
    "    # STEP 2: Try YMM on most recent interacted lot\n",
    "    # ------------------------\n",
    "    if len(results) < top_k:\n",
    "        most_recent = buyer_lots_df.sort_values('inv_dt', ascending=False).iloc[0]\n",
    "        acv, repair = most_recent['acv'], most_recent['repair_cost']\n",
    "        year, make, model = most_recent['lot_year'], most_recent['lot_make_cd'], most_recent['grp_model']\n",
    "        input_vec = np.array([[acv, repair]])\n",
    "\n",
    "        ymm_candidates = upcoming_df[\n",
    "            (upcoming_df['lot_year'] == year) &\n",
    "            (upcoming_df['lot_make_cd'] == make) &\n",
    "            (upcoming_df['grp_model'] == model)\n",
    "        ][['lot_nbr', 'acv', 'repair_cost']].dropna()\n",
    "\n",
    "        ymm_candidates = ymm_candidates[~ymm_candidates['lot_nbr'].isin(used_lots)]\n",
    "\n",
    "        if not ymm_candidates.empty:\n",
    "            ymm_candidates['manhattan_dist'] = manhattan_distances(\n",
    "                ymm_candidates[['acv', 'repair_cost']].values, input_vec\n",
    "            ).flatten()\n",
    "\n",
    "            for _, r in ymm_candidates.sort_values('manhattan_dist').iterrows():\n",
    "                results.append({\n",
    "                    'input_buyer_nbr': buyer_id,\n",
    "                    'original_lot': int(most_recent['recommended_lot']),\n",
    "                    'recommended_lot': int(r['lot_nbr']),\n",
    "                    'manhattan_distance': float(r['manhattan_dist']),\n",
    "                    'source': 'Step 2 - Recent YMM/Manhattan'\n",
    "                })\n",
    "                used_lots.add(int(r['lot_nbr']))\n",
    "                if len(results) >= top_k:\n",
    "                    break\n",
    "\n",
    "    # ------------------------\n",
    "    # STEP 3: Global MAKE match on most recent lot\n",
    "    # ------------------------\n",
    "    if len(results) < top_k:\n",
    "        acv, repair = most_recent['acv'], most_recent['repair_cost']\n",
    "        make = most_recent['lot_make_cd']\n",
    "        input_vec = np.array([[acv, repair]])\n",
    "\n",
    "        make_candidates = upcoming_df[\n",
    "            (upcoming_df['lot_make_cd'] == make)\n",
    "        ][['lot_nbr', 'acv', 'repair_cost']].dropna()\n",
    "\n",
    "        make_candidates = make_candidates[~make_candidates['lot_nbr'].isin(used_lots)]\n",
    "\n",
    "        if not make_candidates.empty:\n",
    "            make_candidates['manhattan_dist'] = manhattan_distances(\n",
    "                make_candidates[['acv', 'repair_cost']].values, input_vec\n",
    "            ).flatten()\n",
    "\n",
    "            for _, r in make_candidates.sort_values('manhattan_dist').iterrows():\n",
    "                results.append({\n",
    "                    'input_buyer_nbr': buyer_id,\n",
    "                    'original_lot': int(most_recent['recommended_lot']),\n",
    "                    'recommended_lot': int(r['lot_nbr']),\n",
    "                    'manhattan_distance': float(r['manhattan_dist']),\n",
    "                    'source': 'Step 3 - Global Make/Manhattan'\n",
    "                })\n",
    "                used_lots.add(int(r['lot_nbr']))\n",
    "                if len(results) >= top_k:\n",
    "                    break\n",
    "\n",
    "    # ------------------------\n",
    "    # STEP 4: Global fallback - No filters at all\n",
    "    # ------------------------\n",
    "    if len(results) < top_k:\n",
    "        acv, repair = most_recent['acv'], most_recent['repair_cost']\n",
    "        input_vec = np.array([[acv, repair]])\n",
    "\n",
    "        global_candidates = upcoming_df[['lot_nbr', 'acv', 'repair_cost']].dropna()\n",
    "        global_candidates = global_candidates[~global_candidates['lot_nbr'].isin(used_lots)]\n",
    "\n",
    "        if not global_candidates.empty:\n",
    "            global_candidates['manhattan_dist'] = manhattan_distances(\n",
    "                global_candidates[['acv', 'repair_cost']].values, input_vec\n",
    "            ).flatten()\n",
    "\n",
    "            for _, r in global_candidates.sort_values('manhattan_dist').iterrows():\n",
    "                results.append({\n",
    "                    'input_buyer_nbr': buyer_id,\n",
    "                    'original_lot': int(most_recent['recommended_lot']),\n",
    "                    'recommended_lot': int(r['lot_nbr']),\n",
    "                    'manhattan_distance': float(r['manhattan_dist']),\n",
    "                    'source': 'Step 4 - Global Fallback Manhattan'\n",
    "                })\n",
    "                used_lots.add(int(r['lot_nbr']))\n",
    "                if len(results) >= top_k:\n",
    "                    break\n",
    "\n",
    "    return results\n"
   ],
   "id": "73649bac22d754a7",
   "outputs": [],
   "execution_count": 10
  },
  {
   "metadata": {
    "ExecuteTime": {
     "end_time": "2025-10-20T16:04:45.229299Z",
     "start_time": "2025-10-20T16:04:45.226380Z"
    }
   },
   "cell_type": "code",
   "source": [
    "def refine_recommendations_parallel_per_buyer(reco_df, data2_df, max_workers=4):\n",
    "    from concurrent.futures import ThreadPoolExecutor, as_completed\n",
    "    from tqdm import tqdm\n",
    "\n",
    "    results = []\n",
    "    futures = []\n",
    "\n",
    "    grouped = list(reco_df.groupby('input_buyer_nbr'))\n",
    "\n",
    "    with ThreadPoolExecutor(max_workers=max_workers) as executor:\n",
    "        for buyer_id, group_df in grouped:\n",
    "            futures.append(executor.submit(recommend_lots_for_buyer, buyer_id, group_df, data2_df))\n",
    "\n",
    "        for f in tqdm(as_completed(futures), total=len(futures), desc=\"Refining recos\"):\n",
    "            try:\n",
    "                results.extend(f.result())  # each result is a list of 6 recos\n",
    "            except Exception as e:\n",
    "                print(f\"⚠️ Skipped buyer due to error: {e}\")\n",
    "\n",
    "    return pd.DataFrame(results)"
   ],
   "id": "ae534f0d4de83917",
   "outputs": [],
   "execution_count": 11
  },
  {
   "metadata": {
    "ExecuteTime": {
     "end_time": "2025-10-20T16:04:47.173526Z",
     "start_time": "2025-10-20T16:04:47.171840Z"
    }
   },
   "cell_type": "code",
   "source": "",
   "id": "da3f3660a02f2ee9",
   "outputs": [],
   "execution_count": null
  },
  {
   "metadata": {
    "ExecuteTime": {
     "end_time": "2025-10-20T16:08:23.507059Z",
     "start_time": "2025-10-20T16:04:48.682930Z"
    }
   },
   "cell_type": "code",
   "source": [
    "# final input:\n",
    "# - data_low_test → contains columns: input_buyer_nbr, recommended_lot, acv, repair_cost, lot_year, lot_make_cd, grp_model, inv_dt\n",
    "# - future_lots → upcoming inventory to match against\n",
    "\n",
    "recommended_upcoming_df_lt6 = refine_recommendations_parallel_per_buyer(data_low_test, data2, max_workers=8)\n"
   ],
   "id": "3a0ce9ad4c93cbba",
   "outputs": [
    {
     "name": "stderr",
     "output_type": "stream",
     "text": [
      "Refining recos: 100%|██████████| 23684/23684 [03:34<00:00, 110.55it/s]\n"
     ]
    }
   ],
   "execution_count": 12
  },
  {
   "metadata": {
    "ExecuteTime": {
     "end_time": "2025-10-20T16:08:26.769265Z",
     "start_time": "2025-10-20T16:08:26.763907Z"
    }
   },
   "cell_type": "code",
   "source": "recommended_upcoming_df_lt6.isnull().sum()",
   "id": "825ddb58d0a4d6fa",
   "outputs": [
    {
     "data": {
      "text/plain": [
       "input_buyer_nbr       0\n",
       "original_lot          0\n",
       "recommended_lot       0\n",
       "manhattan_distance    0\n",
       "source                0\n",
       "dtype: int64"
      ]
     },
     "execution_count": 13,
     "metadata": {},
     "output_type": "execute_result"
    }
   ],
   "execution_count": 13
  },
  {
   "metadata": {
    "ExecuteTime": {
     "end_time": "2025-10-20T16:08:31.857162Z",
     "start_time": "2025-10-20T16:08:31.854213Z"
    }
   },
   "cell_type": "code",
   "source": "recommended_upcoming_df_lt6['input_buyer_nbr'].nunique()",
   "id": "9620ec508b9a868a",
   "outputs": [
    {
     "data": {
      "text/plain": [
       "23684"
      ]
     },
     "execution_count": 14,
     "metadata": {},
     "output_type": "execute_result"
    }
   ],
   "execution_count": 14
  },
  {
   "metadata": {
    "ExecuteTime": {
     "end_time": "2025-10-20T16:08:41.487006Z",
     "start_time": "2025-10-20T16:08:37.260211Z"
    }
   },
   "cell_type": "code",
   "source": "recommended_upcoming_df_lt6.to_excel('data/processed/recommended_onetoone_test.xlsx', index=False)",
   "id": "6ee54898493e7b8d",
   "outputs": [],
   "execution_count": 15
  },
  {
   "metadata": {
    "ExecuteTime": {
     "end_time": "2025-10-13T15:32:37.159872Z",
     "start_time": "2025-10-13T15:32:37.158023Z"
    }
   },
   "cell_type": "code",
   "source": "",
   "id": "14327d8ed0ef0949",
   "outputs": [],
   "execution_count": null
  },
  {
   "metadata": {},
   "cell_type": "markdown",
   "source": "",
   "id": "313aea5533516cd2"
  },
  {
   "metadata": {},
   "cell_type": "markdown",
   "source": "### Reco for holdout",
   "id": "e9cce0994da7697d"
  },
  {
   "metadata": {
    "ExecuteTime": {
     "end_time": "2025-10-20T16:08:42.500968Z",
     "start_time": "2025-10-20T16:08:42.437346Z"
    }
   },
   "cell_type": "code",
   "source": [
    "data_low_holdout = pd.read_csv('data/interim/data_low_holdout.csv')\n",
    "data_low_holdout.head()"
   ],
   "id": "e100e8703f14a00a",
   "outputs": [
    {
     "data": {
      "text/plain": [
       "  mbr_lic_type mbr_state   lot_nbr  buyer_nbr  \\\n",
       "0       Dealer        VT  57688775      64494   \n",
       "1     Consumer        PR  63809825     767398   \n",
       "2     Consumer        HI  60894405     299872   \n",
       "3     Consumer        SD  51295585     690560   \n",
       "4     Consumer        MT  47185205     141040   \n",
       "\n",
       "                                mbr_email  max_bid      inv_dt  lot_year  \\\n",
       "0  mountainviewautosalesservice@gmail.com   6600.0  2025-07-24      2015   \n",
       "1                 abdiel.xaviel@gmail.com    300.0  2025-09-19      2025   \n",
       "2                    piginaloha@gmail.com   2400.0  2025-09-23      2020   \n",
       "3               michiel.steyn55@gmail.com    425.0  2025-09-19      2016   \n",
       "4               pandaman101crew@gmail.com    225.0  2025-09-02      2013   \n",
       "\n",
       "  lot_make_cd   grp_model      acv  plug_lot_acv  repair_cost  \\\n",
       "0        SUBA    FORESTER  16445.0       11175.0     11579.00   \n",
       "1        NISS    FRONTIER  38408.0           0.0     24984.93   \n",
       "2        SUBA     OUTBACK  22060.0       21175.0     15573.23   \n",
       "3        FORD  EXPEDITION  10613.0       17825.0     14889.60   \n",
       "4        CHEV   SILVERADO  11164.0       14500.0      5881.12   \n",
       "\n",
       "   total_unique_buyers_on_that_lot  total_unique_lots_bid_by_buyers  \n",
       "0                                6                                5  \n",
       "1                               20                                3  \n",
       "2                                7                                3  \n",
       "3                               13                                1  \n",
       "4                               12                                1  "
      ],
      "text/html": [
       "<div>\n",
       "<style scoped>\n",
       "    .dataframe tbody tr th:only-of-type {\n",
       "        vertical-align: middle;\n",
       "    }\n",
       "\n",
       "    .dataframe tbody tr th {\n",
       "        vertical-align: top;\n",
       "    }\n",
       "\n",
       "    .dataframe thead th {\n",
       "        text-align: right;\n",
       "    }\n",
       "</style>\n",
       "<table border=\"1\" class=\"dataframe\">\n",
       "  <thead>\n",
       "    <tr style=\"text-align: right;\">\n",
       "      <th></th>\n",
       "      <th>mbr_lic_type</th>\n",
       "      <th>mbr_state</th>\n",
       "      <th>lot_nbr</th>\n",
       "      <th>buyer_nbr</th>\n",
       "      <th>mbr_email</th>\n",
       "      <th>max_bid</th>\n",
       "      <th>inv_dt</th>\n",
       "      <th>lot_year</th>\n",
       "      <th>lot_make_cd</th>\n",
       "      <th>grp_model</th>\n",
       "      <th>acv</th>\n",
       "      <th>plug_lot_acv</th>\n",
       "      <th>repair_cost</th>\n",
       "      <th>total_unique_buyers_on_that_lot</th>\n",
       "      <th>total_unique_lots_bid_by_buyers</th>\n",
       "    </tr>\n",
       "  </thead>\n",
       "  <tbody>\n",
       "    <tr>\n",
       "      <th>0</th>\n",
       "      <td>Dealer</td>\n",
       "      <td>VT</td>\n",
       "      <td>57688775</td>\n",
       "      <td>64494</td>\n",
       "      <td>mountainviewautosalesservice@gmail.com</td>\n",
       "      <td>6600.0</td>\n",
       "      <td>2025-07-24</td>\n",
       "      <td>2015</td>\n",
       "      <td>SUBA</td>\n",
       "      <td>FORESTER</td>\n",
       "      <td>16445.0</td>\n",
       "      <td>11175.0</td>\n",
       "      <td>11579.00</td>\n",
       "      <td>6</td>\n",
       "      <td>5</td>\n",
       "    </tr>\n",
       "    <tr>\n",
       "      <th>1</th>\n",
       "      <td>Consumer</td>\n",
       "      <td>PR</td>\n",
       "      <td>63809825</td>\n",
       "      <td>767398</td>\n",
       "      <td>abdiel.xaviel@gmail.com</td>\n",
       "      <td>300.0</td>\n",
       "      <td>2025-09-19</td>\n",
       "      <td>2025</td>\n",
       "      <td>NISS</td>\n",
       "      <td>FRONTIER</td>\n",
       "      <td>38408.0</td>\n",
       "      <td>0.0</td>\n",
       "      <td>24984.93</td>\n",
       "      <td>20</td>\n",
       "      <td>3</td>\n",
       "    </tr>\n",
       "    <tr>\n",
       "      <th>2</th>\n",
       "      <td>Consumer</td>\n",
       "      <td>HI</td>\n",
       "      <td>60894405</td>\n",
       "      <td>299872</td>\n",
       "      <td>piginaloha@gmail.com</td>\n",
       "      <td>2400.0</td>\n",
       "      <td>2025-09-23</td>\n",
       "      <td>2020</td>\n",
       "      <td>SUBA</td>\n",
       "      <td>OUTBACK</td>\n",
       "      <td>22060.0</td>\n",
       "      <td>21175.0</td>\n",
       "      <td>15573.23</td>\n",
       "      <td>7</td>\n",
       "      <td>3</td>\n",
       "    </tr>\n",
       "    <tr>\n",
       "      <th>3</th>\n",
       "      <td>Consumer</td>\n",
       "      <td>SD</td>\n",
       "      <td>51295585</td>\n",
       "      <td>690560</td>\n",
       "      <td>michiel.steyn55@gmail.com</td>\n",
       "      <td>425.0</td>\n",
       "      <td>2025-09-19</td>\n",
       "      <td>2016</td>\n",
       "      <td>FORD</td>\n",
       "      <td>EXPEDITION</td>\n",
       "      <td>10613.0</td>\n",
       "      <td>17825.0</td>\n",
       "      <td>14889.60</td>\n",
       "      <td>13</td>\n",
       "      <td>1</td>\n",
       "    </tr>\n",
       "    <tr>\n",
       "      <th>4</th>\n",
       "      <td>Consumer</td>\n",
       "      <td>MT</td>\n",
       "      <td>47185205</td>\n",
       "      <td>141040</td>\n",
       "      <td>pandaman101crew@gmail.com</td>\n",
       "      <td>225.0</td>\n",
       "      <td>2025-09-02</td>\n",
       "      <td>2013</td>\n",
       "      <td>CHEV</td>\n",
       "      <td>SILVERADO</td>\n",
       "      <td>11164.0</td>\n",
       "      <td>14500.0</td>\n",
       "      <td>5881.12</td>\n",
       "      <td>12</td>\n",
       "      <td>1</td>\n",
       "    </tr>\n",
       "  </tbody>\n",
       "</table>\n",
       "</div>"
      ]
     },
     "execution_count": 16,
     "metadata": {},
     "output_type": "execute_result"
    }
   ],
   "execution_count": 16
  },
  {
   "metadata": {
    "ExecuteTime": {
     "end_time": "2025-10-20T16:08:44.723109Z",
     "start_time": "2025-10-20T16:08:44.720111Z"
    }
   },
   "cell_type": "code",
   "source": "data_low_holdout['buyer_nbr'].nunique()",
   "id": "18d6e052c297d6b4",
   "outputs": [
    {
     "data": {
      "text/plain": [
       "23810"
      ]
     },
     "execution_count": 17,
     "metadata": {},
     "output_type": "execute_result"
    }
   ],
   "execution_count": 17
  },
  {
   "metadata": {
    "ExecuteTime": {
     "end_time": "2025-10-20T16:08:46.531171Z",
     "start_time": "2025-10-20T16:08:46.522228Z"
    }
   },
   "cell_type": "code",
   "source": "data_low_holdout.isnull().sum()",
   "id": "cf8790fd2efc0176",
   "outputs": [
    {
     "data": {
      "text/plain": [
       "mbr_lic_type                       0\n",
       "mbr_state                          0\n",
       "lot_nbr                            0\n",
       "buyer_nbr                          0\n",
       "mbr_email                          0\n",
       "max_bid                            0\n",
       "inv_dt                             0\n",
       "lot_year                           0\n",
       "lot_make_cd                        0\n",
       "grp_model                          0\n",
       "acv                                0\n",
       "plug_lot_acv                       0\n",
       "repair_cost                        0\n",
       "total_unique_buyers_on_that_lot    0\n",
       "total_unique_lots_bid_by_buyers    0\n",
       "dtype: int64"
      ]
     },
     "execution_count": 18,
     "metadata": {},
     "output_type": "execute_result"
    }
   ],
   "execution_count": 18
  },
  {
   "metadata": {
    "ExecuteTime": {
     "end_time": "2025-10-20T16:08:49.991426Z",
     "start_time": "2025-10-20T16:08:49.986036Z"
    }
   },
   "cell_type": "code",
   "source": [
    "data_low_holdout = data_low_holdout[['buyer_nbr','mbr_email','lot_nbr', 'lot_year', 'lot_make_cd', 'grp_model', 'acv', 'repair_cost', 'inv_dt']]\n",
    "data_low_holdout"
   ],
   "id": "ecfe7f2dc8ffc28",
   "outputs": [
    {
     "data": {
      "text/plain": [
       "       buyer_nbr                                          mbr_email   lot_nbr  \\\n",
       "0          64494             mountainviewautosalesservice@gmail.com  57688775   \n",
       "1         767398                            abdiel.xaviel@gmail.com  63809825   \n",
       "2         299872                               piginaloha@gmail.com  60894405   \n",
       "3         690560                          michiel.steyn55@gmail.com  51295585   \n",
       "4         141040                          pandaman101crew@gmail.com  47185205   \n",
       "...          ...                                                ...       ...   \n",
       "58069     156970                               ajones3656@gmail.com  54426285   \n",
       "58070     770546  770546cprt_dmmy_BROKERBDR_307147_30901@copart.com  61507695   \n",
       "58071     227838                            Eduarsoto2092@gmail.com  65616315   \n",
       "58072     828732                                joeawyatt@gmail.com  82098545   \n",
       "58073     384414                              shaffer1213@gmail.com  62886645   \n",
       "\n",
       "       lot_year lot_make_cd   grp_model      acv  repair_cost      inv_dt  \n",
       "0          2015        SUBA    FORESTER  16445.0     11579.00  2025-07-24  \n",
       "1          2025        NISS    FRONTIER  38408.0     24984.93  2025-09-19  \n",
       "2          2020        SUBA     OUTBACK  22060.0     15573.23  2025-09-23  \n",
       "3          2016        FORD  EXPEDITION  10613.0     14889.60  2025-09-19  \n",
       "4          2013        CHEV   SILVERADO  11164.0      5881.12  2025-09-02  \n",
       "...         ...         ...         ...      ...          ...         ...  \n",
       "58069      2011         JEP    WRANGLER  11269.0     11269.00  2025-08-07  \n",
       "58070      2023         JEP    WRANGLER  31052.0     10714.65  2025-07-28  \n",
       "58071      2016         JEP    WRANGLER  17550.0         0.00  2025-09-11  \n",
       "58072      2020         JEP    WRANGLER  32833.0     18604.98  2025-10-13  \n",
       "58073      2013         JEP    WRANGLER  15578.0      8073.00  2025-08-06  \n",
       "\n",
       "[58074 rows x 9 columns]"
      ],
      "text/html": [
       "<div>\n",
       "<style scoped>\n",
       "    .dataframe tbody tr th:only-of-type {\n",
       "        vertical-align: middle;\n",
       "    }\n",
       "\n",
       "    .dataframe tbody tr th {\n",
       "        vertical-align: top;\n",
       "    }\n",
       "\n",
       "    .dataframe thead th {\n",
       "        text-align: right;\n",
       "    }\n",
       "</style>\n",
       "<table border=\"1\" class=\"dataframe\">\n",
       "  <thead>\n",
       "    <tr style=\"text-align: right;\">\n",
       "      <th></th>\n",
       "      <th>buyer_nbr</th>\n",
       "      <th>mbr_email</th>\n",
       "      <th>lot_nbr</th>\n",
       "      <th>lot_year</th>\n",
       "      <th>lot_make_cd</th>\n",
       "      <th>grp_model</th>\n",
       "      <th>acv</th>\n",
       "      <th>repair_cost</th>\n",
       "      <th>inv_dt</th>\n",
       "    </tr>\n",
       "  </thead>\n",
       "  <tbody>\n",
       "    <tr>\n",
       "      <th>0</th>\n",
       "      <td>64494</td>\n",
       "      <td>mountainviewautosalesservice@gmail.com</td>\n",
       "      <td>57688775</td>\n",
       "      <td>2015</td>\n",
       "      <td>SUBA</td>\n",
       "      <td>FORESTER</td>\n",
       "      <td>16445.0</td>\n",
       "      <td>11579.00</td>\n",
       "      <td>2025-07-24</td>\n",
       "    </tr>\n",
       "    <tr>\n",
       "      <th>1</th>\n",
       "      <td>767398</td>\n",
       "      <td>abdiel.xaviel@gmail.com</td>\n",
       "      <td>63809825</td>\n",
       "      <td>2025</td>\n",
       "      <td>NISS</td>\n",
       "      <td>FRONTIER</td>\n",
       "      <td>38408.0</td>\n",
       "      <td>24984.93</td>\n",
       "      <td>2025-09-19</td>\n",
       "    </tr>\n",
       "    <tr>\n",
       "      <th>2</th>\n",
       "      <td>299872</td>\n",
       "      <td>piginaloha@gmail.com</td>\n",
       "      <td>60894405</td>\n",
       "      <td>2020</td>\n",
       "      <td>SUBA</td>\n",
       "      <td>OUTBACK</td>\n",
       "      <td>22060.0</td>\n",
       "      <td>15573.23</td>\n",
       "      <td>2025-09-23</td>\n",
       "    </tr>\n",
       "    <tr>\n",
       "      <th>3</th>\n",
       "      <td>690560</td>\n",
       "      <td>michiel.steyn55@gmail.com</td>\n",
       "      <td>51295585</td>\n",
       "      <td>2016</td>\n",
       "      <td>FORD</td>\n",
       "      <td>EXPEDITION</td>\n",
       "      <td>10613.0</td>\n",
       "      <td>14889.60</td>\n",
       "      <td>2025-09-19</td>\n",
       "    </tr>\n",
       "    <tr>\n",
       "      <th>4</th>\n",
       "      <td>141040</td>\n",
       "      <td>pandaman101crew@gmail.com</td>\n",
       "      <td>47185205</td>\n",
       "      <td>2013</td>\n",
       "      <td>CHEV</td>\n",
       "      <td>SILVERADO</td>\n",
       "      <td>11164.0</td>\n",
       "      <td>5881.12</td>\n",
       "      <td>2025-09-02</td>\n",
       "    </tr>\n",
       "    <tr>\n",
       "      <th>...</th>\n",
       "      <td>...</td>\n",
       "      <td>...</td>\n",
       "      <td>...</td>\n",
       "      <td>...</td>\n",
       "      <td>...</td>\n",
       "      <td>...</td>\n",
       "      <td>...</td>\n",
       "      <td>...</td>\n",
       "      <td>...</td>\n",
       "    </tr>\n",
       "    <tr>\n",
       "      <th>58069</th>\n",
       "      <td>156970</td>\n",
       "      <td>ajones3656@gmail.com</td>\n",
       "      <td>54426285</td>\n",
       "      <td>2011</td>\n",
       "      <td>JEP</td>\n",
       "      <td>WRANGLER</td>\n",
       "      <td>11269.0</td>\n",
       "      <td>11269.00</td>\n",
       "      <td>2025-08-07</td>\n",
       "    </tr>\n",
       "    <tr>\n",
       "      <th>58070</th>\n",
       "      <td>770546</td>\n",
       "      <td>770546cprt_dmmy_BROKERBDR_307147_30901@copart.com</td>\n",
       "      <td>61507695</td>\n",
       "      <td>2023</td>\n",
       "      <td>JEP</td>\n",
       "      <td>WRANGLER</td>\n",
       "      <td>31052.0</td>\n",
       "      <td>10714.65</td>\n",
       "      <td>2025-07-28</td>\n",
       "    </tr>\n",
       "    <tr>\n",
       "      <th>58071</th>\n",
       "      <td>227838</td>\n",
       "      <td>Eduarsoto2092@gmail.com</td>\n",
       "      <td>65616315</td>\n",
       "      <td>2016</td>\n",
       "      <td>JEP</td>\n",
       "      <td>WRANGLER</td>\n",
       "      <td>17550.0</td>\n",
       "      <td>0.00</td>\n",
       "      <td>2025-09-11</td>\n",
       "    </tr>\n",
       "    <tr>\n",
       "      <th>58072</th>\n",
       "      <td>828732</td>\n",
       "      <td>joeawyatt@gmail.com</td>\n",
       "      <td>82098545</td>\n",
       "      <td>2020</td>\n",
       "      <td>JEP</td>\n",
       "      <td>WRANGLER</td>\n",
       "      <td>32833.0</td>\n",
       "      <td>18604.98</td>\n",
       "      <td>2025-10-13</td>\n",
       "    </tr>\n",
       "    <tr>\n",
       "      <th>58073</th>\n",
       "      <td>384414</td>\n",
       "      <td>shaffer1213@gmail.com</td>\n",
       "      <td>62886645</td>\n",
       "      <td>2013</td>\n",
       "      <td>JEP</td>\n",
       "      <td>WRANGLER</td>\n",
       "      <td>15578.0</td>\n",
       "      <td>8073.00</td>\n",
       "      <td>2025-08-06</td>\n",
       "    </tr>\n",
       "  </tbody>\n",
       "</table>\n",
       "<p>58074 rows × 9 columns</p>\n",
       "</div>"
      ]
     },
     "execution_count": 19,
     "metadata": {},
     "output_type": "execute_result"
    }
   ],
   "execution_count": 19
  },
  {
   "metadata": {
    "ExecuteTime": {
     "end_time": "2025-10-20T16:08:52.733610Z",
     "start_time": "2025-10-20T16:08:52.730237Z"
    }
   },
   "cell_type": "code",
   "source": [
    "data_low_holdout.rename(columns={\n",
    "    'buyer_nbr': 'input_buyer_nbr',\n",
    "    'lot_nbr': 'recommended_lot'\n",
    "}, inplace=True)"
   ],
   "id": "36a2b232c02ede97",
   "outputs": [],
   "execution_count": 20
  },
  {
   "metadata": {
    "ExecuteTime": {
     "end_time": "2025-10-20T16:12:40.909136Z",
     "start_time": "2025-10-20T16:08:56.578129Z"
    }
   },
   "cell_type": "code",
   "source": "recommended_upcoming_df_lt6_holdout = refine_recommendations_parallel_per_buyer(data_low_holdout, data2, max_workers=8)\n",
   "id": "9bfa9f7ae1547fca",
   "outputs": [
    {
     "name": "stderr",
     "output_type": "stream",
     "text": [
      "Refining recos: 100%|██████████| 23810/23810 [03:43<00:00, 106.51it/s]\n"
     ]
    }
   ],
   "execution_count": 21
  },
  {
   "metadata": {},
   "cell_type": "code",
   "outputs": [],
   "execution_count": null,
   "source": "",
   "id": "1e021e427e2a6225"
  },
  {
   "metadata": {
    "ExecuteTime": {
     "end_time": "2025-10-20T16:12:50.704920Z",
     "start_time": "2025-10-20T16:12:46.366392Z"
    }
   },
   "cell_type": "code",
   "source": "recommended_upcoming_df_lt6_holdout.to_excel('data/would_have/recommended_onetoone_holdout.xlsx', index=False)",
   "id": "57b84530145284cc",
   "outputs": [],
   "execution_count": 22
  },
  {
   "metadata": {
    "ExecuteTime": {
     "end_time": "2025-10-20T16:12:51.618502Z",
     "start_time": "2025-10-20T16:12:51.615788Z"
    }
   },
   "cell_type": "code",
   "source": "recommended_upcoming_df_lt6_holdout['input_buyer_nbr'].nunique()",
   "id": "4940c800aeaed1b4",
   "outputs": [
    {
     "data": {
      "text/plain": [
       "23810"
      ]
     },
     "execution_count": 23,
     "metadata": {},
     "output_type": "execute_result"
    }
   ],
   "execution_count": 23
  },
  {
   "metadata": {},
   "cell_type": "code",
   "outputs": [],
   "execution_count": null,
   "source": "",
   "id": "eeafc55259ebd231"
  }
 ],
 "metadata": {
  "kernelspec": {
   "display_name": "Python 3",
   "language": "python",
   "name": "python3"
  },
  "language_info": {
   "codemirror_mode": {
    "name": "ipython",
    "version": 2
   },
   "file_extension": ".py",
   "mimetype": "text/x-python",
   "name": "python",
   "nbconvert_exporter": "python",
   "pygments_lexer": "ipython2",
   "version": "2.7.6"
  }
 },
 "nbformat": 4,
 "nbformat_minor": 5
}

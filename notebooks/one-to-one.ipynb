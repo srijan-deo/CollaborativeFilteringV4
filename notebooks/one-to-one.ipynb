{
 "cells": [
  {
   "cell_type": "code",
   "id": "initial_id",
   "metadata": {
    "collapsed": true,
    "ExecuteTime": {
     "end_time": "2025-10-30T16:34:38.709717Z",
     "start_time": "2025-10-30T16:34:37.897240Z"
    }
   },
   "source": [
    "import os\n",
    "import numpy as np\n",
    "import pandas as pd\n",
    "from sklearn.metrics.pairwise import manhattan_distances\n",
    "from concurrent.futures import ThreadPoolExecutor, as_completed\n",
    "from tqdm import tqdm"
   ],
   "outputs": [],
   "execution_count": 1
  },
  {
   "metadata": {
    "ExecuteTime": {
     "end_time": "2025-10-30T16:34:39.288544Z",
     "start_time": "2025-10-30T16:34:39.265956Z"
    }
   },
   "cell_type": "code",
   "source": [
    "one_to_one_test = pd.read_csv('../data/split/one_to_one_test.csv')\n",
    "\n",
    "print(one_to_one_test['buyer_nbr'].nunique())\n",
    "print(one_to_one_test['lot_nbr'].nunique())"
   ],
   "id": "d3e56d23498af7ee",
   "outputs": [
    {
     "name": "stdout",
     "output_type": "stream",
     "text": [
      "11250\n",
      "15163\n"
     ]
    }
   ],
   "execution_count": 2
  },
  {
   "metadata": {
    "ExecuteTime": {
     "end_time": "2025-10-30T16:34:45.494897Z",
     "start_time": "2025-10-30T16:34:45.473096Z"
    }
   },
   "cell_type": "code",
   "source": "upcoming_lots = pd.read_csv(\"../data/processed/upcoming_lots.csv\")",
   "id": "fe7ba0651d4159ea",
   "outputs": [],
   "execution_count": 3
  },
  {
   "metadata": {
    "ExecuteTime": {
     "end_time": "2025-10-30T16:34:46.562162Z",
     "start_time": "2025-10-30T16:34:46.556518Z"
    }
   },
   "cell_type": "code",
   "source": [
    "def recommend_lots_for_buyer(buyer_id, buyer_lots_df, upcoming_df, top_k=6):\n",
    "    results = []\n",
    "    used_lots = set()\n",
    "\n",
    "    # Step 1: Loop over each lot the buyer has seen\n",
    "    for _, row in buyer_lots_df.iterrows():\n",
    "        acv, repair = row['acv'], row['repair_cost']\n",
    "        year, make, model = row['lot_year'], row['lot_make_cd'], row['grp_model']\n",
    "        input_vec = np.array([[acv, repair]])\n",
    "\n",
    "        ymm_candidates = upcoming_df[\n",
    "            (upcoming_df['lot_year'] == year) &\n",
    "            (upcoming_df['lot_make_cd'] == make) &\n",
    "            (upcoming_df['grp_model'] == model)\n",
    "        ][['lot_nbr', 'acv', 'repair_cost']].dropna()\n",
    "\n",
    "        if ymm_candidates.empty:\n",
    "            ymm_candidates = upcoming_df[['lot_nbr', 'acv', 'repair_cost']].dropna()\n",
    "\n",
    "        ymm_candidates = ymm_candidates[~ymm_candidates['lot_nbr'].isin(used_lots)]\n",
    "        if ymm_candidates.empty:\n",
    "            continue\n",
    "\n",
    "        ymm_candidates = ymm_candidates.copy()\n",
    "        ymm_candidates['manhattan_dist'] = manhattan_distances(\n",
    "            ymm_candidates[['acv', 'repair_cost']].values, input_vec\n",
    "        ).flatten()\n",
    "\n",
    "        best_match = ymm_candidates.sort_values('manhattan_dist').iloc[0]\n",
    "\n",
    "        results.append({\n",
    "            'input_buyer_nbr': buyer_id,\n",
    "            'original_lot': int(row['recommended_lot']),\n",
    "            'recommended_lot': int(best_match['lot_nbr']),\n",
    "            'manhattan_distance': float(best_match['manhattan_dist']),\n",
    "            'source': 'Step 1 - YMM/Manhattan'\n",
    "        })\n",
    "        used_lots.add(int(best_match['lot_nbr']))\n",
    "\n",
    "    # Step 2: Recent YMM\n",
    "    if len(results) < top_k:\n",
    "        most_recent = buyer_lots_df.sort_values('inv_dt', ascending=False).iloc[0]\n",
    "        acv, repair = most_recent['acv'], most_recent['repair_cost']\n",
    "        year, make, model = most_recent['lot_year'], most_recent['lot_make_cd'], most_recent['grp_model']\n",
    "        input_vec = np.array([[acv, repair]])\n",
    "\n",
    "        ymm_candidates = upcoming_df[\n",
    "            (upcoming_df['lot_year'] == year) &\n",
    "            (upcoming_df['lot_make_cd'] == make) &\n",
    "            (upcoming_df['grp_model'] == model)\n",
    "        ][['lot_nbr', 'acv', 'repair_cost']].dropna()\n",
    "\n",
    "        ymm_candidates = ymm_candidates[~ymm_candidates['lot_nbr'].isin(used_lots)]\n",
    "        if not ymm_candidates.empty:\n",
    "            ymm_candidates = ymm_candidates.copy()\n",
    "            ymm_candidates['manhattan_dist'] = manhattan_distances(\n",
    "                ymm_candidates[['acv', 'repair_cost']].values, input_vec\n",
    "            ).flatten()\n",
    "\n",
    "            for _, r in ymm_candidates.sort_values('manhattan_dist').iterrows():\n",
    "                results.append({\n",
    "                    'input_buyer_nbr': buyer_id,\n",
    "                    'original_lot': int(most_recent['recommended_lot']),\n",
    "                    'recommended_lot': int(r['lot_nbr']),\n",
    "                    'manhattan_distance': float(r['manhattan_dist']),\n",
    "                    'source': 'Step 2 - Recent YMM/Manhattan'\n",
    "                })\n",
    "                used_lots.add(int(r['lot_nbr']))\n",
    "                if len(results) >= top_k:\n",
    "                    break\n",
    "\n",
    "    # Step 3: Make-level fallback\n",
    "    if len(results) < top_k:\n",
    "        make = most_recent['lot_make_cd']\n",
    "        input_vec = np.array([[acv, repair]])\n",
    "\n",
    "        make_candidates = upcoming_df[\n",
    "            (upcoming_df['lot_make_cd'] == make)\n",
    "        ][['lot_nbr', 'acv', 'repair_cost']].dropna()\n",
    "        make_candidates = make_candidates[~make_candidates['lot_nbr'].isin(used_lots)]\n",
    "\n",
    "        if not make_candidates.empty:\n",
    "            make_candidates = make_candidates.copy()\n",
    "            make_candidates['manhattan_dist'] = manhattan_distances(\n",
    "                make_candidates[['acv', 'repair_cost']].values, input_vec).flatten()\n",
    "\n",
    "            for _, r in make_candidates.sort_values('manhattan_dist').iterrows():\n",
    "                results.append({\n",
    "                    'input_buyer_nbr': buyer_id,\n",
    "                    'original_lot': int(most_recent['recommended_lot']),\n",
    "                    'recommended_lot': int(r['lot_nbr']),\n",
    "                    'manhattan_distance': float(r['manhattan_dist']),\n",
    "                    'source': 'Step 3 - Global Make/Manhattan'\n",
    "                })\n",
    "                used_lots.add(int(r['lot_nbr']))\n",
    "                if len(results) >= top_k:\n",
    "                    break\n",
    "\n",
    "    # Step 4: Global fallback\n",
    "    if len(results) < top_k:\n",
    "        input_vec = np.array([[acv, repair]])\n",
    "        global_candidates = upcoming_df[['lot_nbr', 'acv', 'repair_cost']].dropna()\n",
    "        global_candidates = global_candidates[~global_candidates['lot_nbr'].isin(used_lots)]\n",
    "\n",
    "        if not global_candidates.empty:\n",
    "            global_candidates = global_candidates.copy()\n",
    "            global_candidates['manhattan_dist'] = manhattan_distances(\n",
    "                global_candidates[['acv', 'repair_cost']].values, input_vec\n",
    "            ).flatten()\n",
    "\n",
    "            for _, r in global_candidates.sort_values('manhattan_dist').iterrows():\n",
    "                results.append({\n",
    "                    'input_buyer_nbr': buyer_id,\n",
    "                    'original_lot': int(most_recent['recommended_lot']),\n",
    "                    'recommended_lot': int(r['lot_nbr']),\n",
    "                    'manhattan_distance': float(r['manhattan_dist']),\n",
    "                    'source': 'Step 4 - Global Fallback Manhattan'\n",
    "                })\n",
    "                used_lots.add(int(r['lot_nbr']))\n",
    "                if len(results) >= top_k:\n",
    "                    break\n",
    "    return results\n"
   ],
   "id": "bf0f47009cb2b3b5",
   "outputs": [],
   "execution_count": 4
  },
  {
   "metadata": {
    "ExecuteTime": {
     "end_time": "2025-10-30T16:34:47.595281Z",
     "start_time": "2025-10-30T16:34:47.592899Z"
    }
   },
   "cell_type": "code",
   "source": [
    "def refine_recommendations_parallel_per_buyer(reco_df, upcoming_df, max_workers=4):\n",
    "    # 🛠 Rename buyer_nbr and lot_nbr to match expected inputs\n",
    "    reco_df.columns = reco_df.columns.str.strip().str.lower()\n",
    "\n",
    "    reco_df = reco_df.rename(columns={\n",
    "        'buyer_nbr': 'input_buyer_nbr',\n",
    "        'lot_nbr': 'recommended_lot'\n",
    "    })\n",
    "\n",
    "    results = []\n",
    "    futures = []\n",
    "    grouped = list(reco_df.groupby('input_buyer_nbr'))\n",
    "\n",
    "    with ThreadPoolExecutor(max_workers=max_workers) as executor:\n",
    "        for buyer_id, group_df in grouped:\n",
    "            futures.append(executor.submit(recommend_lots_for_buyer, buyer_id, group_df, upcoming_df))\n",
    "\n",
    "        for f in tqdm(as_completed(futures), total=len(futures), desc=\"Refining recos\"):\n",
    "            try:\n",
    "                results.extend(f.result())\n",
    "            except Exception as e:\n",
    "                print(f\"⚠️ Skipped buyer due to error: {e}\")\n",
    "\n",
    "    return pd.DataFrame(results)"
   ],
   "id": "646ccd12b1514e18",
   "outputs": [],
   "execution_count": 5
  },
  {
   "metadata": {
    "ExecuteTime": {
     "end_time": "2025-10-30T16:36:17.939922Z",
     "start_time": "2025-10-30T16:34:49.545688Z"
    }
   },
   "cell_type": "code",
   "source": "one_to_one_test_reco = refine_recommendations_parallel_per_buyer(one_to_one_test, upcoming_lots, max_workers=8)",
   "id": "1b38313bb390d0f4",
   "outputs": [
    {
     "name": "stderr",
     "output_type": "stream",
     "text": [
      "Refining recos: 100%|██████████| 11250/11250 [01:28<00:00, 127.80it/s]\n"
     ]
    }
   ],
   "execution_count": 6
  },
  {
   "metadata": {
    "ExecuteTime": {
     "end_time": "2025-10-30T16:36:23.872168Z",
     "start_time": "2025-10-30T16:36:23.864701Z"
    }
   },
   "cell_type": "code",
   "source": "one_to_one_test_reco",
   "id": "b0a59b2ec0debd50",
   "outputs": [
    {
     "data": {
      "text/plain": [
       "       input_buyer_nbr  original_lot  recommended_lot  manhattan_distance  \\\n",
       "0                  617      84271655         71233705             1573.62   \n",
       "1                  617      84271655         72042405             2388.24   \n",
       "2                  617      84271655         77395814             2518.52   \n",
       "3                  617      84271655         85086145             3016.27   \n",
       "4                  617      84271655         83852145             3412.52   \n",
       "...                ...           ...              ...                 ...   \n",
       "67495           984099      65579335         80752685              150.00   \n",
       "67496           984099      69138305         80088025            11055.00   \n",
       "67497           984099      64254235         62076005               25.00   \n",
       "67498           984099      68469665         69436705            26762.00   \n",
       "67499           984099      69138305         54486255            83656.59   \n",
       "\n",
       "                               source  \n",
       "0              Step 1 - YMM/Manhattan  \n",
       "1       Step 2 - Recent YMM/Manhattan  \n",
       "2       Step 2 - Recent YMM/Manhattan  \n",
       "3       Step 2 - Recent YMM/Manhattan  \n",
       "4       Step 2 - Recent YMM/Manhattan  \n",
       "...                               ...  \n",
       "67495          Step 1 - YMM/Manhattan  \n",
       "67496          Step 1 - YMM/Manhattan  \n",
       "67497          Step 1 - YMM/Manhattan  \n",
       "67498          Step 1 - YMM/Manhattan  \n",
       "67499  Step 3 - Global Make/Manhattan  \n",
       "\n",
       "[67500 rows x 5 columns]"
      ],
      "text/html": [
       "<div>\n",
       "<style scoped>\n",
       "    .dataframe tbody tr th:only-of-type {\n",
       "        vertical-align: middle;\n",
       "    }\n",
       "\n",
       "    .dataframe tbody tr th {\n",
       "        vertical-align: top;\n",
       "    }\n",
       "\n",
       "    .dataframe thead th {\n",
       "        text-align: right;\n",
       "    }\n",
       "</style>\n",
       "<table border=\"1\" class=\"dataframe\">\n",
       "  <thead>\n",
       "    <tr style=\"text-align: right;\">\n",
       "      <th></th>\n",
       "      <th>input_buyer_nbr</th>\n",
       "      <th>original_lot</th>\n",
       "      <th>recommended_lot</th>\n",
       "      <th>manhattan_distance</th>\n",
       "      <th>source</th>\n",
       "    </tr>\n",
       "  </thead>\n",
       "  <tbody>\n",
       "    <tr>\n",
       "      <th>0</th>\n",
       "      <td>617</td>\n",
       "      <td>84271655</td>\n",
       "      <td>71233705</td>\n",
       "      <td>1573.62</td>\n",
       "      <td>Step 1 - YMM/Manhattan</td>\n",
       "    </tr>\n",
       "    <tr>\n",
       "      <th>1</th>\n",
       "      <td>617</td>\n",
       "      <td>84271655</td>\n",
       "      <td>72042405</td>\n",
       "      <td>2388.24</td>\n",
       "      <td>Step 2 - Recent YMM/Manhattan</td>\n",
       "    </tr>\n",
       "    <tr>\n",
       "      <th>2</th>\n",
       "      <td>617</td>\n",
       "      <td>84271655</td>\n",
       "      <td>77395814</td>\n",
       "      <td>2518.52</td>\n",
       "      <td>Step 2 - Recent YMM/Manhattan</td>\n",
       "    </tr>\n",
       "    <tr>\n",
       "      <th>3</th>\n",
       "      <td>617</td>\n",
       "      <td>84271655</td>\n",
       "      <td>85086145</td>\n",
       "      <td>3016.27</td>\n",
       "      <td>Step 2 - Recent YMM/Manhattan</td>\n",
       "    </tr>\n",
       "    <tr>\n",
       "      <th>4</th>\n",
       "      <td>617</td>\n",
       "      <td>84271655</td>\n",
       "      <td>83852145</td>\n",
       "      <td>3412.52</td>\n",
       "      <td>Step 2 - Recent YMM/Manhattan</td>\n",
       "    </tr>\n",
       "    <tr>\n",
       "      <th>...</th>\n",
       "      <td>...</td>\n",
       "      <td>...</td>\n",
       "      <td>...</td>\n",
       "      <td>...</td>\n",
       "      <td>...</td>\n",
       "    </tr>\n",
       "    <tr>\n",
       "      <th>67495</th>\n",
       "      <td>984099</td>\n",
       "      <td>65579335</td>\n",
       "      <td>80752685</td>\n",
       "      <td>150.00</td>\n",
       "      <td>Step 1 - YMM/Manhattan</td>\n",
       "    </tr>\n",
       "    <tr>\n",
       "      <th>67496</th>\n",
       "      <td>984099</td>\n",
       "      <td>69138305</td>\n",
       "      <td>80088025</td>\n",
       "      <td>11055.00</td>\n",
       "      <td>Step 1 - YMM/Manhattan</td>\n",
       "    </tr>\n",
       "    <tr>\n",
       "      <th>67497</th>\n",
       "      <td>984099</td>\n",
       "      <td>64254235</td>\n",
       "      <td>62076005</td>\n",
       "      <td>25.00</td>\n",
       "      <td>Step 1 - YMM/Manhattan</td>\n",
       "    </tr>\n",
       "    <tr>\n",
       "      <th>67498</th>\n",
       "      <td>984099</td>\n",
       "      <td>68469665</td>\n",
       "      <td>69436705</td>\n",
       "      <td>26762.00</td>\n",
       "      <td>Step 1 - YMM/Manhattan</td>\n",
       "    </tr>\n",
       "    <tr>\n",
       "      <th>67499</th>\n",
       "      <td>984099</td>\n",
       "      <td>69138305</td>\n",
       "      <td>54486255</td>\n",
       "      <td>83656.59</td>\n",
       "      <td>Step 3 - Global Make/Manhattan</td>\n",
       "    </tr>\n",
       "  </tbody>\n",
       "</table>\n",
       "<p>67500 rows × 5 columns</p>\n",
       "</div>"
      ]
     },
     "execution_count": 7,
     "metadata": {},
     "output_type": "execute_result"
    }
   ],
   "execution_count": 7
  },
  {
   "metadata": {
    "ExecuteTime": {
     "end_time": "2025-10-30T16:36:26.530708Z",
     "start_time": "2025-10-30T16:36:26.527807Z"
    }
   },
   "cell_type": "code",
   "source": "one_to_one_test_reco['input_buyer_nbr'].nunique()",
   "id": "4e75a68fe75d9aba",
   "outputs": [
    {
     "data": {
      "text/plain": [
       "11250"
      ]
     },
     "execution_count": 8,
     "metadata": {},
     "output_type": "execute_result"
    }
   ],
   "execution_count": 8
  },
  {
   "metadata": {
    "ExecuteTime": {
     "end_time": "2025-10-30T16:36:42.726707Z",
     "start_time": "2025-10-30T16:36:40.716096Z"
    }
   },
   "cell_type": "code",
   "source": "one_to_one_test_reco.to_excel('../data/results/onetoone_test_reco.xlsx',index=False)",
   "id": "c9bd29467986677e",
   "outputs": [],
   "execution_count": 9
  },
  {
   "metadata": {
    "ExecuteTime": {
     "end_time": "2025-10-30T16:36:45.898210Z",
     "start_time": "2025-10-30T16:36:45.871292Z"
    }
   },
   "cell_type": "code",
   "source": [
    "one_to_one_holdout = pd.read_csv('../data/split/one_to_one_holdout.csv')\n",
    "\n",
    "print(one_to_one_holdout['buyer_nbr'].nunique())\n",
    "print(one_to_one_holdout['lot_nbr'].nunique())"
   ],
   "id": "b62d21f40336b42f",
   "outputs": [
    {
     "name": "stdout",
     "output_type": "stream",
     "text": [
      "11258\n",
      "15245\n"
     ]
    }
   ],
   "execution_count": 10
  },
  {
   "metadata": {
    "ExecuteTime": {
     "end_time": "2025-10-30T16:38:18.256522Z",
     "start_time": "2025-10-30T16:36:48.415354Z"
    }
   },
   "cell_type": "code",
   "source": "one_to_one_holdout_reco = refine_recommendations_parallel_per_buyer(one_to_one_holdout, upcoming_lots, max_workers=8)",
   "id": "8d9f9805654b0b00",
   "outputs": [
    {
     "name": "stderr",
     "output_type": "stream",
     "text": [
      "Refining recos: 100%|██████████| 11258/11258 [01:29<00:00, 125.89it/s]\n"
     ]
    }
   ],
   "execution_count": 11
  },
  {
   "metadata": {
    "ExecuteTime": {
     "end_time": "2025-10-30T16:38:18.840119Z",
     "start_time": "2025-10-30T16:38:18.836688Z"
    }
   },
   "cell_type": "code",
   "source": "one_to_one_holdout_reco",
   "id": "a64ab5653ace75ce",
   "outputs": [
    {
     "data": {
      "text/plain": [
       "       input_buyer_nbr  original_lot  recommended_lot  manhattan_distance  \\\n",
       "0                  406      80269295         72069185             2042.68   \n",
       "1                  406      86244445         41840135             2007.78   \n",
       "2                  406      80269295         85140265             2541.12   \n",
       "3                  406      80269295         71862725             3938.41   \n",
       "4                  406      80269295         68831635             4013.00   \n",
       "...                ...           ...              ...                 ...   \n",
       "67543           988440      81375995         63988545             4136.75   \n",
       "67544           988440      71806915         85835015             2412.41   \n",
       "67545           988440      70291305         80278775              666.00   \n",
       "67546           988440      85287725         68333575              410.00   \n",
       "67547           988440      85287725         70698185             1113.42   \n",
       "\n",
       "                               source  \n",
       "0              Step 1 - YMM/Manhattan  \n",
       "1              Step 1 - YMM/Manhattan  \n",
       "2       Step 2 - Recent YMM/Manhattan  \n",
       "3       Step 2 - Recent YMM/Manhattan  \n",
       "4       Step 2 - Recent YMM/Manhattan  \n",
       "...                               ...  \n",
       "67543          Step 1 - YMM/Manhattan  \n",
       "67544          Step 1 - YMM/Manhattan  \n",
       "67545          Step 1 - YMM/Manhattan  \n",
       "67546  Step 3 - Global Make/Manhattan  \n",
       "67547  Step 3 - Global Make/Manhattan  \n",
       "\n",
       "[67548 rows x 5 columns]"
      ],
      "text/html": [
       "<div>\n",
       "<style scoped>\n",
       "    .dataframe tbody tr th:only-of-type {\n",
       "        vertical-align: middle;\n",
       "    }\n",
       "\n",
       "    .dataframe tbody tr th {\n",
       "        vertical-align: top;\n",
       "    }\n",
       "\n",
       "    .dataframe thead th {\n",
       "        text-align: right;\n",
       "    }\n",
       "</style>\n",
       "<table border=\"1\" class=\"dataframe\">\n",
       "  <thead>\n",
       "    <tr style=\"text-align: right;\">\n",
       "      <th></th>\n",
       "      <th>input_buyer_nbr</th>\n",
       "      <th>original_lot</th>\n",
       "      <th>recommended_lot</th>\n",
       "      <th>manhattan_distance</th>\n",
       "      <th>source</th>\n",
       "    </tr>\n",
       "  </thead>\n",
       "  <tbody>\n",
       "    <tr>\n",
       "      <th>0</th>\n",
       "      <td>406</td>\n",
       "      <td>80269295</td>\n",
       "      <td>72069185</td>\n",
       "      <td>2042.68</td>\n",
       "      <td>Step 1 - YMM/Manhattan</td>\n",
       "    </tr>\n",
       "    <tr>\n",
       "      <th>1</th>\n",
       "      <td>406</td>\n",
       "      <td>86244445</td>\n",
       "      <td>41840135</td>\n",
       "      <td>2007.78</td>\n",
       "      <td>Step 1 - YMM/Manhattan</td>\n",
       "    </tr>\n",
       "    <tr>\n",
       "      <th>2</th>\n",
       "      <td>406</td>\n",
       "      <td>80269295</td>\n",
       "      <td>85140265</td>\n",
       "      <td>2541.12</td>\n",
       "      <td>Step 2 - Recent YMM/Manhattan</td>\n",
       "    </tr>\n",
       "    <tr>\n",
       "      <th>3</th>\n",
       "      <td>406</td>\n",
       "      <td>80269295</td>\n",
       "      <td>71862725</td>\n",
       "      <td>3938.41</td>\n",
       "      <td>Step 2 - Recent YMM/Manhattan</td>\n",
       "    </tr>\n",
       "    <tr>\n",
       "      <th>4</th>\n",
       "      <td>406</td>\n",
       "      <td>80269295</td>\n",
       "      <td>68831635</td>\n",
       "      <td>4013.00</td>\n",
       "      <td>Step 2 - Recent YMM/Manhattan</td>\n",
       "    </tr>\n",
       "    <tr>\n",
       "      <th>...</th>\n",
       "      <td>...</td>\n",
       "      <td>...</td>\n",
       "      <td>...</td>\n",
       "      <td>...</td>\n",
       "      <td>...</td>\n",
       "    </tr>\n",
       "    <tr>\n",
       "      <th>67543</th>\n",
       "      <td>988440</td>\n",
       "      <td>81375995</td>\n",
       "      <td>63988545</td>\n",
       "      <td>4136.75</td>\n",
       "      <td>Step 1 - YMM/Manhattan</td>\n",
       "    </tr>\n",
       "    <tr>\n",
       "      <th>67544</th>\n",
       "      <td>988440</td>\n",
       "      <td>71806915</td>\n",
       "      <td>85835015</td>\n",
       "      <td>2412.41</td>\n",
       "      <td>Step 1 - YMM/Manhattan</td>\n",
       "    </tr>\n",
       "    <tr>\n",
       "      <th>67545</th>\n",
       "      <td>988440</td>\n",
       "      <td>70291305</td>\n",
       "      <td>80278775</td>\n",
       "      <td>666.00</td>\n",
       "      <td>Step 1 - YMM/Manhattan</td>\n",
       "    </tr>\n",
       "    <tr>\n",
       "      <th>67546</th>\n",
       "      <td>988440</td>\n",
       "      <td>85287725</td>\n",
       "      <td>68333575</td>\n",
       "      <td>410.00</td>\n",
       "      <td>Step 3 - Global Make/Manhattan</td>\n",
       "    </tr>\n",
       "    <tr>\n",
       "      <th>67547</th>\n",
       "      <td>988440</td>\n",
       "      <td>85287725</td>\n",
       "      <td>70698185</td>\n",
       "      <td>1113.42</td>\n",
       "      <td>Step 3 - Global Make/Manhattan</td>\n",
       "    </tr>\n",
       "  </tbody>\n",
       "</table>\n",
       "<p>67548 rows × 5 columns</p>\n",
       "</div>"
      ]
     },
     "execution_count": 12,
     "metadata": {},
     "output_type": "execute_result"
    }
   ],
   "execution_count": 12
  },
  {
   "metadata": {
    "ExecuteTime": {
     "end_time": "2025-10-30T16:38:20.649384Z",
     "start_time": "2025-10-30T16:38:20.645255Z"
    }
   },
   "cell_type": "code",
   "source": "one_to_one_holdout_reco['input_buyer_nbr'].nunique()",
   "id": "a05671c8b1e48a2b",
   "outputs": [
    {
     "data": {
      "text/plain": [
       "11258"
      ]
     },
     "execution_count": 13,
     "metadata": {},
     "output_type": "execute_result"
    }
   ],
   "execution_count": 13
  },
  {
   "metadata": {
    "ExecuteTime": {
     "end_time": "2025-10-30T16:38:23.710182Z",
     "start_time": "2025-10-30T16:38:21.780003Z"
    }
   },
   "cell_type": "code",
   "source": "one_to_one_holdout_reco.to_excel('../data/results/onetoone_holdout_would_have_reco.xlsx',index=False)",
   "id": "81bccfc86ef7e395",
   "outputs": [],
   "execution_count": 14
  },
  {
   "metadata": {
    "ExecuteTime": {
     "end_time": "2025-10-30T16:38:25.771158Z",
     "start_time": "2025-10-30T16:38:24.860872Z"
    }
   },
   "cell_type": "code",
   "source": [
    "cf_test = pd.read_excel('../data/past_reco/cf_test_reco.xlsx')\n",
    "\n",
    "print(cf_test['input_buyer_nbr'].nunique())\n",
    "print(cf_test['recommended_lot'].nunique())"
   ],
   "id": "1f47e6bd082c846c",
   "outputs": [
    {
     "name": "stdout",
     "output_type": "stream",
     "text": [
      "3618\n",
      "12820\n"
     ]
    }
   ],
   "execution_count": 15
  },
  {
   "metadata": {
    "ExecuteTime": {
     "end_time": "2025-10-30T16:39:20.727510Z",
     "start_time": "2025-10-30T16:38:27.974522Z"
    }
   },
   "cell_type": "code",
   "source": "cf_test_reco = refine_recommendations_parallel_per_buyer(cf_test, upcoming_lots, max_workers=8)",
   "id": "1627d74107245d63",
   "outputs": [
    {
     "name": "stderr",
     "output_type": "stream",
     "text": [
      "Refining recos: 100%|██████████| 3618/3618 [00:52<00:00, 68.77it/s]\n"
     ]
    }
   ],
   "execution_count": 16
  },
  {
   "metadata": {
    "ExecuteTime": {
     "end_time": "2025-10-30T16:39:22.041755Z",
     "start_time": "2025-10-30T16:39:22.039140Z"
    }
   },
   "cell_type": "code",
   "source": "cf_test_reco['input_buyer_nbr'].nunique()",
   "id": "dd87a801feedeeda",
   "outputs": [
    {
     "data": {
      "text/plain": [
       "3618"
      ]
     },
     "execution_count": 17,
     "metadata": {},
     "output_type": "execute_result"
    }
   ],
   "execution_count": 17
  },
  {
   "metadata": {
    "ExecuteTime": {
     "end_time": "2025-10-30T16:39:31.071786Z",
     "start_time": "2025-10-30T16:39:30.445858Z"
    }
   },
   "cell_type": "code",
   "source": "cf_test_reco.to_excel('../data/results/cf_test_reco.xlsx',index=False)",
   "id": "1713560392071041",
   "outputs": [],
   "execution_count": 18
  },
  {
   "metadata": {
    "ExecuteTime": {
     "end_time": "2025-10-30T16:39:33.258424Z",
     "start_time": "2025-10-30T16:39:32.354303Z"
    }
   },
   "cell_type": "code",
   "source": [
    "cf_holdout_would_have = pd.read_excel('../data/past_reco/cf_holdout_would_have_reco.xlsx')\n",
    "\n",
    "print(cf_holdout_would_have['input_buyer_nbr'].nunique())\n",
    "print(cf_holdout_would_have['recommended_lot'].nunique())"
   ],
   "id": "f7c4e4a4a22a232c",
   "outputs": [
    {
     "name": "stdout",
     "output_type": "stream",
     "text": [
      "3694\n",
      "12566\n"
     ]
    }
   ],
   "execution_count": 19
  },
  {
   "metadata": {
    "ExecuteTime": {
     "end_time": "2025-10-30T16:40:28.762760Z",
     "start_time": "2025-10-30T16:39:33.803763Z"
    }
   },
   "cell_type": "code",
   "source": "cf_holdout_would_have_reco = refine_recommendations_parallel_per_buyer(cf_holdout_would_have, upcoming_lots, max_workers=8)",
   "id": "efab70ecad23dc6",
   "outputs": [
    {
     "name": "stderr",
     "output_type": "stream",
     "text": [
      "Refining recos: 100%|██████████| 3694/3694 [00:54<00:00, 67.42it/s]\n"
     ]
    }
   ],
   "execution_count": 20
  },
  {
   "metadata": {
    "ExecuteTime": {
     "end_time": "2025-10-30T16:40:30.911443Z",
     "start_time": "2025-10-30T16:40:30.908728Z"
    }
   },
   "cell_type": "code",
   "source": "cf_holdout_would_have['input_buyer_nbr'].nunique()",
   "id": "e8de5db126d23eb",
   "outputs": [
    {
     "data": {
      "text/plain": [
       "3694"
      ]
     },
     "execution_count": 21,
     "metadata": {},
     "output_type": "execute_result"
    }
   ],
   "execution_count": 21
  },
  {
   "metadata": {
    "ExecuteTime": {
     "end_time": "2025-10-30T16:40:35.879778Z",
     "start_time": "2025-10-30T16:40:34.605092Z"
    }
   },
   "cell_type": "code",
   "source": "cf_holdout_would_have.to_excel('../data/results/cf_holdout_would_have_reco.xlsx',index=False)",
   "id": "4b3ab1932ff9dffc",
   "outputs": [],
   "execution_count": 22
  },
  {
   "metadata": {},
   "cell_type": "code",
   "outputs": [],
   "execution_count": null,
   "source": "",
   "id": "6413aa42b9983f04"
  },
  {
   "metadata": {},
   "cell_type": "markdown",
   "source": "",
   "id": "313aea5533516cd2"
  }
 ],
 "metadata": {
  "kernelspec": {
   "display_name": "Python 3",
   "language": "python",
   "name": "python3"
  },
  "language_info": {
   "codemirror_mode": {
    "name": "ipython",
    "version": 2
   },
   "file_extension": ".py",
   "mimetype": "text/x-python",
   "name": "python",
   "nbconvert_exporter": "python",
   "pygments_lexer": "ipython2",
   "version": "2.7.6"
  }
 },
 "nbformat": 4,
 "nbformat_minor": 5
}
